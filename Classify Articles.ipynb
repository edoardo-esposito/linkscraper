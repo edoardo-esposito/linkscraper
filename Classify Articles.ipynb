{
 "cells": [
  {
   "cell_type": "code",
   "execution_count": 1,
   "metadata": {},
   "outputs": [],
   "source": [
    "import pandas as pd\n",
    "import numpy as np\n",
    "import json\n",
    "import nltk\n",
    "import re\n",
    "import csv\n",
    "import matplotlib.pyplot as plt\n",
    "import seaborn as sns\n",
    "from tqdm import tqdm\n",
    "from sklearn.feature_extraction.text import TfidfVectorizer\n",
    "from sklearn.model_selection import train_test_split"
   ]
  },
  {
   "cell_type": "code",
   "execution_count": 2,
   "metadata": {},
   "outputs": [],
   "source": [
    "%matplotlib inline\n",
    "pd.set_option('display.max_colwidth', 300)"
   ]
  },
  {
   "cell_type": "code",
   "execution_count": 3,
   "metadata": {},
   "outputs": [],
   "source": [
    "meta = pd.read_excel(\"test_articoli.xlsx\", encoding=\"utf8\", error_bad_lines=False)\n",
    "meta = meta.replace(np.nan, '', regex=True)"
   ]
  },
  {
   "cell_type": "code",
   "execution_count": 4,
   "metadata": {},
   "outputs": [
    {
     "data": {
      "text/html": [
       "<div>\n",
       "<style scoped>\n",
       "    .dataframe tbody tr th:only-of-type {\n",
       "        vertical-align: middle;\n",
       "    }\n",
       "\n",
       "    .dataframe tbody tr th {\n",
       "        vertical-align: top;\n",
       "    }\n",
       "\n",
       "    .dataframe thead th {\n",
       "        text-align: right;\n",
       "    }\n",
       "</style>\n",
       "<table border=\"1\" class=\"dataframe\">\n",
       "  <thead>\n",
       "    <tr style=\"text-align: right;\">\n",
       "      <th></th>\n",
       "      <th>ID</th>\n",
       "      <th>Titolo</th>\n",
       "      <th>Url</th>\n",
       "      <th>Data</th>\n",
       "      <th>Abstract</th>\n",
       "      <th>Fonte</th>\n",
       "      <th>Tecnologia 1</th>\n",
       "      <th>Tecnologia 2</th>\n",
       "      <th>Tecnologia 3</th>\n",
       "      <th>Tech Building Block 1</th>\n",
       "      <th>...</th>\n",
       "      <th>Tech Building Block 3</th>\n",
       "      <th>Tech Cluster 1</th>\n",
       "      <th>Tech Cluster 2</th>\n",
       "      <th>Tech Cluster 3</th>\n",
       "      <th>Application 1</th>\n",
       "      <th>Application 2</th>\n",
       "      <th>Application 3</th>\n",
       "      <th>Trend 1</th>\n",
       "      <th>Trend 2</th>\n",
       "      <th>Trend 3</th>\n",
       "    </tr>\n",
       "  </thead>\n",
       "  <tbody>\n",
       "    <tr>\n",
       "      <th>0</th>\n",
       "      <td>655dde2aeba917a7ca29388dbc3d77cb</td>\n",
       "      <td>A Colorado Neighborhood Runs on a Self-Reliant, Clean Energy Grid</td>\n",
       "      <td>https://futurism.com/colorado-neighborhood-built-clean-energy-grid</td>\n",
       "      <td></td>\n",
       "      <td></td>\n",
       "      <td>Futurism</td>\n",
       "      <td>Renewable Energies</td>\n",
       "      <td>Biofactories</td>\n",
       "      <td></td>\n",
       "      <td>Biofuels</td>\n",
       "      <td>...</td>\n",
       "      <td></td>\n",
       "      <td>Technologies for smart communities</td>\n",
       "      <td>Technologies for environment</td>\n",
       "      <td></td>\n",
       "      <td>Advaced Batteries</td>\n",
       "      <td>Environment &amp; Energy Systems</td>\n",
       "      <td></td>\n",
       "      <td>Low Emissions</td>\n",
       "      <td>Smart Grids</td>\n",
       "      <td>Electrification</td>\n",
       "    </tr>\n",
       "    <tr>\n",
       "      <th>1</th>\n",
       "      <td>ec86361327808e44cb6ede901b8ae718</td>\n",
       "      <td>A New Hole Is Forming in the Ozone Layer Over the Arctic</td>\n",
       "      <td>https://futurism.com/hole-ozone-layer-arctic</td>\n",
       "      <td></td>\n",
       "      <td></td>\n",
       "      <td>Futurism</td>\n",
       "      <td>Renewable Energies</td>\n",
       "      <td></td>\n",
       "      <td></td>\n",
       "      <td>Biofuels</td>\n",
       "      <td>...</td>\n",
       "      <td></td>\n",
       "      <td>Technologies for environment</td>\n",
       "      <td></td>\n",
       "      <td></td>\n",
       "      <td>Carbon Removal Solutions</td>\n",
       "      <td></td>\n",
       "      <td></td>\n",
       "      <td>Low Emissions</td>\n",
       "      <td></td>\n",
       "      <td></td>\n",
       "    </tr>\n",
       "    <tr>\n",
       "      <th>2</th>\n",
       "      <td>5d1bc3bb303e8f80391489b304283930</td>\n",
       "      <td>Physicists Are Crashing Matter into Antimatter to Hunt a New Boson</td>\n",
       "      <td>https://futurism.com/physicists-crashing-matter-antimatter-hunt-new-boson</td>\n",
       "      <td></td>\n",
       "      <td>After a year of experimentation at Japan?s SuperKEKB particle accelerator, physicists say they?re getting close to finding a theorized but yet-undiscovered elementary particle. But their findings, published in the journal Physical Review Letters, have vastly tightened scientists ? understanding ...</td>\n",
       "      <td>Futurism</td>\n",
       "      <td>Nuclear Technologies</td>\n",
       "      <td></td>\n",
       "      <td></td>\n",
       "      <td></td>\n",
       "      <td>...</td>\n",
       "      <td></td>\n",
       "      <td></td>\n",
       "      <td></td>\n",
       "      <td></td>\n",
       "      <td></td>\n",
       "      <td></td>\n",
       "      <td></td>\n",
       "      <td></td>\n",
       "      <td></td>\n",
       "      <td></td>\n",
       "    </tr>\n",
       "    <tr>\n",
       "      <th>3</th>\n",
       "      <td>127d3df10ab14f55bad5689e836f8091</td>\n",
       "      <td>Cybersecurity tactics for the coronavirus pandemic</td>\n",
       "      <td>https://www.mckinsey.com/business-functions/risk/our-insights/cybersecurity-tactics-for-the-coronavirus-pandemic</td>\n",
       "      <td>Fri, 27 Mar 2020</td>\n",
       "      <td></td>\n",
       "      <td>McKinsey Insight</td>\n",
       "      <td></td>\n",
       "      <td></td>\n",
       "      <td></td>\n",
       "      <td></td>\n",
       "      <td>...</td>\n",
       "      <td></td>\n",
       "      <td></td>\n",
       "      <td></td>\n",
       "      <td></td>\n",
       "      <td>Cybersecurity</td>\n",
       "      <td></td>\n",
       "      <td></td>\n",
       "      <td></td>\n",
       "      <td></td>\n",
       "      <td></td>\n",
       "    </tr>\n",
       "    <tr>\n",
       "      <th>4</th>\n",
       "      <td>93d90b35b3c535b81dfb7cce4aadf409</td>\n",
       "      <td>Meeting Japan's Paris Agreement targets\"?more opportunity than cost</td>\n",
       "      <td>https://www.mckinsey.com/business-functions/sustainability/our-insights/meeting-japans-paris-agreement-targets-more-opportunity-than-cost</td>\n",
       "      <td>Fri, 27 Mar 2020</td>\n",
       "      <td>Japan can meet its Paris Agreement targets in 2030 and 2050?but doing so will require carefully calibrating efforts across four sectors : power, industry, transport, and buildings.</td>\n",
       "      <td>McKinsey Insight</td>\n",
       "      <td></td>\n",
       "      <td></td>\n",
       "      <td></td>\n",
       "      <td></td>\n",
       "      <td>...</td>\n",
       "      <td></td>\n",
       "      <td></td>\n",
       "      <td></td>\n",
       "      <td></td>\n",
       "      <td></td>\n",
       "      <td></td>\n",
       "      <td></td>\n",
       "      <td>Low Emissions</td>\n",
       "      <td></td>\n",
       "      <td></td>\n",
       "    </tr>\n",
       "  </tbody>\n",
       "</table>\n",
       "<p>5 rows × 21 columns</p>\n",
       "</div>"
      ],
      "text/plain": [
       "                                 ID  \\\n",
       "0  655dde2aeba917a7ca29388dbc3d77cb   \n",
       "1  ec86361327808e44cb6ede901b8ae718   \n",
       "2  5d1bc3bb303e8f80391489b304283930   \n",
       "3  127d3df10ab14f55bad5689e836f8091   \n",
       "4  93d90b35b3c535b81dfb7cce4aadf409   \n",
       "\n",
       "                                                                Titolo  \\\n",
       "0    A Colorado Neighborhood Runs on a Self-Reliant, Clean Energy Grid   \n",
       "1             A New Hole Is Forming in the Ozone Layer Over the Arctic   \n",
       "2   Physicists Are Crashing Matter into Antimatter to Hunt a New Boson   \n",
       "3                   Cybersecurity tactics for the coronavirus pandemic   \n",
       "4  Meeting Japan's Paris Agreement targets\"?more opportunity than cost   \n",
       "\n",
       "                                                                                                                                         Url  \\\n",
       "0                                                                         https://futurism.com/colorado-neighborhood-built-clean-energy-grid   \n",
       "1                                                                                               https://futurism.com/hole-ozone-layer-arctic   \n",
       "2                                                                  https://futurism.com/physicists-crashing-matter-antimatter-hunt-new-boson   \n",
       "3                           https://www.mckinsey.com/business-functions/risk/our-insights/cybersecurity-tactics-for-the-coronavirus-pandemic   \n",
       "4  https://www.mckinsey.com/business-functions/sustainability/our-insights/meeting-japans-paris-agreement-targets-more-opportunity-than-cost   \n",
       "\n",
       "               Data  \\\n",
       "0                     \n",
       "1                     \n",
       "2                     \n",
       "3  Fri, 27 Mar 2020   \n",
       "4  Fri, 27 Mar 2020   \n",
       "\n",
       "                                                                                                                                                                                                                                                                                                      Abstract  \\\n",
       "0                                                                                                                                                                                                                                                                                                                \n",
       "1                                                                                                                                                                                                                                                                                                                \n",
       "2  After a year of experimentation at Japan?s SuperKEKB particle accelerator, physicists say they?re getting close to finding a theorized but yet-undiscovered elementary particle. But their findings, published in the journal Physical Review Letters, have vastly tightened scientists ? understanding ...   \n",
       "3                                                                                                                                                                                                                                                                                                                \n",
       "4                                                                                                                         Japan can meet its Paris Agreement targets in 2030 and 2050?but doing so will require carefully calibrating efforts across four sectors : power, industry, transport, and buildings.   \n",
       "\n",
       "              Fonte          Tecnologia 1  Tecnologia 2 Tecnologia 3  \\\n",
       "0          Futurism    Renewable Energies  Biofactories                \n",
       "1          Futurism    Renewable Energies                              \n",
       "2          Futurism  Nuclear Technologies                              \n",
       "3  McKinsey Insight                                                    \n",
       "4  McKinsey Insight                                                    \n",
       "\n",
       "  Tech Building Block 1  ... Tech Building Block 3  \\\n",
       "0              Biofuels  ...                         \n",
       "1              Biofuels  ...                         \n",
       "2                        ...                         \n",
       "3                        ...                         \n",
       "4                        ...                         \n",
       "\n",
       "                       Tech Cluster 1                Tech Cluster 2  \\\n",
       "0  Technologies for smart communities  Technologies for environment   \n",
       "1        Technologies for environment                                 \n",
       "2                                                                     \n",
       "3                                                                     \n",
       "4                                                                     \n",
       "\n",
       "  Tech Cluster 3             Application 1                 Application 2  \\\n",
       "0                        Advaced Batteries  Environment & Energy Systems   \n",
       "1                 Carbon Removal Solutions                                 \n",
       "2                                                                          \n",
       "3                            Cybersecurity                                 \n",
       "4                                                                          \n",
       "\n",
       "  Application 3        Trend 1      Trend 2          Trend 3  \n",
       "0                Low Emissions  Smart Grids  Electrification  \n",
       "1                Low Emissions                                \n",
       "2                                                             \n",
       "3                                                             \n",
       "4                Low Emissions                                \n",
       "\n",
       "[5 rows x 21 columns]"
      ]
     },
     "execution_count": 4,
     "metadata": {},
     "output_type": "execute_result"
    }
   ],
   "source": [
    "meta.head()"
   ]
  },
  {
   "cell_type": "code",
   "execution_count": 5,
   "metadata": {},
   "outputs": [
    {
     "data": {
      "text/plain": [
       "55"
      ]
     },
     "execution_count": 5,
     "metadata": {},
     "output_type": "execute_result"
    }
   ],
   "source": [
    "article_id = meta['ID']\n",
    "len(article_id)"
   ]
  },
  {
   "cell_type": "code",
   "execution_count": 6,
   "metadata": {},
   "outputs": [
    {
     "data": {
      "text/plain": [
       "'Renewable Energies'"
      ]
     },
     "execution_count": 6,
     "metadata": {},
     "output_type": "execute_result"
    }
   ],
   "source": [
    "meta['Tecnologia 1'][0]"
   ]
  },
  {
   "cell_type": "code",
   "execution_count": null,
   "metadata": {},
   "outputs": [],
   "source": [
    "#tech1 = []\n",
    "#for i in meta['Tecnologia 1']:\n",
    "#    tech1.append(i)\n",
    "#\n",
    "#tech2 = []\n",
    "#for i in meta['Tecnologia 2']:\n",
    "#    tech2.append(i)\n",
    "#\n",
    "#tech3 = []\n",
    "#for i in meta['Tecnologia 3']:\n",
    "#    tech3.append(i)"
   ]
  },
  {
   "cell_type": "code",
   "execution_count": null,
   "metadata": {},
   "outputs": [],
   "source": [
    "#type(tech1)"
   ]
  },
  {
   "cell_type": "code",
   "execution_count": 7,
   "metadata": {},
   "outputs": [],
   "source": [
    "tech1 = []\n",
    "for i in meta['Tecnologia 1']:\n",
    "    tech1.append(i)\n",
    "#   if len(i): tech1.append(i + ', ')\n",
    "#   else: tech1.append('')\n",
    "\n",
    "#tech2 = []\n",
    "#for i in meta['Tecnologia 2']:\n",
    "#    if len(i): tech2.append(i + ', ')  \n",
    "#    else: tech2.append('')\n",
    "#\n",
    "#tech3 = []\n",
    "#for i in meta['Tecnologia 3']:\n",
    "#    if len(i): tech3.append(i + ', ') \n",
    "#    else: tech3.append('')\n",
    "#        \n",
    "#len(tech1)"
   ]
  },
  {
   "cell_type": "code",
   "execution_count": 8,
   "metadata": {},
   "outputs": [
    {
     "data": {
      "text/plain": [
       "['Renewable Energies']"
      ]
     },
     "execution_count": 8,
     "metadata": {},
     "output_type": "execute_result"
    }
   ],
   "source": [
    "Tech = []\n",
    "for i in range(len(tech1)):\n",
    "    l = []\n",
    "    if len(tech1[i]): l.append(tech1[i])\n",
    "#    if len(tech2[i]): l.append(tech2[i])\n",
    "#    if len(tech3[i]): l.append(tech3[i])\n",
    "    Tech.append(list(l))\n",
    "    \n",
    "Tech[0]"
   ]
  },
  {
   "cell_type": "code",
   "execution_count": 9,
   "metadata": {},
   "outputs": [
    {
     "data": {
      "text/html": [
       "<div>\n",
       "<style scoped>\n",
       "    .dataframe tbody tr th:only-of-type {\n",
       "        vertical-align: middle;\n",
       "    }\n",
       "\n",
       "    .dataframe tbody tr th {\n",
       "        vertical-align: top;\n",
       "    }\n",
       "\n",
       "    .dataframe thead th {\n",
       "        text-align: right;\n",
       "    }\n",
       "</style>\n",
       "<table border=\"1\" class=\"dataframe\">\n",
       "  <thead>\n",
       "    <tr style=\"text-align: right;\">\n",
       "      <th></th>\n",
       "      <th>ID</th>\n",
       "      <th>Tech</th>\n",
       "    </tr>\n",
       "  </thead>\n",
       "  <tbody>\n",
       "    <tr>\n",
       "      <th>0</th>\n",
       "      <td>655dde2aeba917a7ca29388dbc3d77cb</td>\n",
       "      <td>[Renewable Energies]</td>\n",
       "    </tr>\n",
       "    <tr>\n",
       "      <th>1</th>\n",
       "      <td>ec86361327808e44cb6ede901b8ae718</td>\n",
       "      <td>[Renewable Energies]</td>\n",
       "    </tr>\n",
       "    <tr>\n",
       "      <th>2</th>\n",
       "      <td>5d1bc3bb303e8f80391489b304283930</td>\n",
       "      <td>[Nuclear Technologies]</td>\n",
       "    </tr>\n",
       "    <tr>\n",
       "      <th>3</th>\n",
       "      <td>127d3df10ab14f55bad5689e836f8091</td>\n",
       "      <td>[]</td>\n",
       "    </tr>\n",
       "    <tr>\n",
       "      <th>4</th>\n",
       "      <td>93d90b35b3c535b81dfb7cce4aadf409</td>\n",
       "      <td>[]</td>\n",
       "    </tr>\n",
       "  </tbody>\n",
       "</table>\n",
       "</div>"
      ],
      "text/plain": [
       "                                 ID                    Tech\n",
       "0  655dde2aeba917a7ca29388dbc3d77cb    [Renewable Energies]\n",
       "1  ec86361327808e44cb6ede901b8ae718    [Renewable Energies]\n",
       "2  5d1bc3bb303e8f80391489b304283930  [Nuclear Technologies]\n",
       "3  127d3df10ab14f55bad5689e836f8091                      []\n",
       "4  93d90b35b3c535b81dfb7cce4aadf409                      []"
      ]
     },
     "execution_count": 9,
     "metadata": {},
     "output_type": "execute_result"
    }
   ],
   "source": [
    "# Create Tech Dataframe\n",
    "tech = pd.DataFrame({'ID': article_id, 'Tech': Tech})\n",
    "tech.head()"
   ]
  },
  {
   "cell_type": "code",
   "execution_count": null,
   "metadata": {},
   "outputs": [],
   "source": [
    "## create dataframe\n",
    "#tech = pd.DataFrame({'ID': article_id, 'tech1': tech1, 'tech2': tech2,'tech3': tech3})\n",
    "##tech = pd.DataFrame({'tech1': tech1, 'tech2': tech2,'tech3': tech3})\n",
    "#tech.head()"
   ]
  },
  {
   "cell_type": "code",
   "execution_count": null,
   "metadata": {},
   "outputs": [],
   "source": [
    "#cols = ['tech1', 'tech2', 'tech3']\n",
    "#tech['Tech'] = tech[cols].apply(lambda row: ' '.join(row.values.astype(str)), axis=1)\n",
    "#tech = tech.drop(cols, axis=1)\n",
    "#tech.head()"
   ]
  },
  {
   "cell_type": "code",
   "execution_count": 10,
   "metadata": {},
   "outputs": [],
   "source": [
    "articoli = meta[['ID','Titolo','Abstract']]\n",
    "articoli = pd.merge(articoli, tech, on = 'ID')"
   ]
  },
  {
   "cell_type": "code",
   "execution_count": 11,
   "metadata": {},
   "outputs": [
    {
     "data": {
      "text/html": [
       "<div>\n",
       "<style scoped>\n",
       "    .dataframe tbody tr th:only-of-type {\n",
       "        vertical-align: middle;\n",
       "    }\n",
       "\n",
       "    .dataframe tbody tr th {\n",
       "        vertical-align: top;\n",
       "    }\n",
       "\n",
       "    .dataframe thead th {\n",
       "        text-align: right;\n",
       "    }\n",
       "</style>\n",
       "<table border=\"1\" class=\"dataframe\">\n",
       "  <thead>\n",
       "    <tr style=\"text-align: right;\">\n",
       "      <th></th>\n",
       "      <th>ID</th>\n",
       "      <th>Titolo</th>\n",
       "      <th>Abstract</th>\n",
       "      <th>Tech</th>\n",
       "    </tr>\n",
       "  </thead>\n",
       "  <tbody>\n",
       "    <tr>\n",
       "      <th>0</th>\n",
       "      <td>655dde2aeba917a7ca29388dbc3d77cb</td>\n",
       "      <td>A Colorado Neighborhood Runs on a Self-Reliant, Clean Energy Grid</td>\n",
       "      <td></td>\n",
       "      <td>[Renewable Energies]</td>\n",
       "    </tr>\n",
       "    <tr>\n",
       "      <th>1</th>\n",
       "      <td>ec86361327808e44cb6ede901b8ae718</td>\n",
       "      <td>A New Hole Is Forming in the Ozone Layer Over the Arctic</td>\n",
       "      <td></td>\n",
       "      <td>[Renewable Energies]</td>\n",
       "    </tr>\n",
       "    <tr>\n",
       "      <th>2</th>\n",
       "      <td>5d1bc3bb303e8f80391489b304283930</td>\n",
       "      <td>Physicists Are Crashing Matter into Antimatter to Hunt a New Boson</td>\n",
       "      <td>After a year of experimentation at Japan?s SuperKEKB particle accelerator, physicists say they?re getting close to finding a theorized but yet-undiscovered elementary particle. But their findings, published in the journal Physical Review Letters, have vastly tightened scientists ? understanding ...</td>\n",
       "      <td>[Nuclear Technologies]</td>\n",
       "    </tr>\n",
       "    <tr>\n",
       "      <th>3</th>\n",
       "      <td>127d3df10ab14f55bad5689e836f8091</td>\n",
       "      <td>Cybersecurity tactics for the coronavirus pandemic</td>\n",
       "      <td></td>\n",
       "      <td>[]</td>\n",
       "    </tr>\n",
       "    <tr>\n",
       "      <th>4</th>\n",
       "      <td>93d90b35b3c535b81dfb7cce4aadf409</td>\n",
       "      <td>Meeting Japan's Paris Agreement targets\"?more opportunity than cost</td>\n",
       "      <td>Japan can meet its Paris Agreement targets in 2030 and 2050?but doing so will require carefully calibrating efforts across four sectors : power, industry, transport, and buildings.</td>\n",
       "      <td>[]</td>\n",
       "    </tr>\n",
       "  </tbody>\n",
       "</table>\n",
       "</div>"
      ],
      "text/plain": [
       "                                 ID  \\\n",
       "0  655dde2aeba917a7ca29388dbc3d77cb   \n",
       "1  ec86361327808e44cb6ede901b8ae718   \n",
       "2  5d1bc3bb303e8f80391489b304283930   \n",
       "3  127d3df10ab14f55bad5689e836f8091   \n",
       "4  93d90b35b3c535b81dfb7cce4aadf409   \n",
       "\n",
       "                                                                Titolo  \\\n",
       "0    A Colorado Neighborhood Runs on a Self-Reliant, Clean Energy Grid   \n",
       "1             A New Hole Is Forming in the Ozone Layer Over the Arctic   \n",
       "2   Physicists Are Crashing Matter into Antimatter to Hunt a New Boson   \n",
       "3                   Cybersecurity tactics for the coronavirus pandemic   \n",
       "4  Meeting Japan's Paris Agreement targets\"?more opportunity than cost   \n",
       "\n",
       "                                                                                                                                                                                                                                                                                                      Abstract  \\\n",
       "0                                                                                                                                                                                                                                                                                                                \n",
       "1                                                                                                                                                                                                                                                                                                                \n",
       "2  After a year of experimentation at Japan?s SuperKEKB particle accelerator, physicists say they?re getting close to finding a theorized but yet-undiscovered elementary particle. But their findings, published in the journal Physical Review Letters, have vastly tightened scientists ? understanding ...   \n",
       "3                                                                                                                                                                                                                                                                                                                \n",
       "4                                                                                                                         Japan can meet its Paris Agreement targets in 2030 and 2050?but doing so will require carefully calibrating efforts across four sectors : power, industry, transport, and buildings.   \n",
       "\n",
       "                     Tech  \n",
       "0    [Renewable Energies]  \n",
       "1    [Renewable Energies]  \n",
       "2  [Nuclear Technologies]  \n",
       "3                      []  \n",
       "4                      []  "
      ]
     },
     "execution_count": 11,
     "metadata": {},
     "output_type": "execute_result"
    }
   ],
   "source": [
    "articoli.head()"
   ]
  },
  {
   "cell_type": "code",
   "execution_count": 12,
   "metadata": {},
   "outputs": [],
   "source": [
    "# remove samples with no tags\n",
    "articoli['Tech'] = articoli['Tech'].apply(lambda y: '' if len(y)==0 else y)\n",
    "articoli = articoli[~(articoli['Tech'].str.len() == 0)]\n",
    "articoli = articoli[~(articoli['Abstract'].str.len() == 0)]"
   ]
  },
  {
   "cell_type": "code",
   "execution_count": 13,
   "metadata": {},
   "outputs": [
    {
     "data": {
      "text/html": [
       "<div>\n",
       "<style scoped>\n",
       "    .dataframe tbody tr th:only-of-type {\n",
       "        vertical-align: middle;\n",
       "    }\n",
       "\n",
       "    .dataframe tbody tr th {\n",
       "        vertical-align: top;\n",
       "    }\n",
       "\n",
       "    .dataframe thead th {\n",
       "        text-align: right;\n",
       "    }\n",
       "</style>\n",
       "<table border=\"1\" class=\"dataframe\">\n",
       "  <thead>\n",
       "    <tr style=\"text-align: right;\">\n",
       "      <th></th>\n",
       "      <th>ID</th>\n",
       "      <th>Titolo</th>\n",
       "      <th>Abstract</th>\n",
       "      <th>Tech</th>\n",
       "    </tr>\n",
       "  </thead>\n",
       "  <tbody>\n",
       "    <tr>\n",
       "      <th>2</th>\n",
       "      <td>5d1bc3bb303e8f80391489b304283930</td>\n",
       "      <td>Physicists Are Crashing Matter into Antimatter to Hunt a New Boson</td>\n",
       "      <td>After a year of experimentation at Japan?s SuperKEKB particle accelerator, physicists say they?re getting close to finding a theorized but yet-undiscovered elementary particle. But their findings, published in the journal Physical Review Letters, have vastly tightened scientists ? understanding ...</td>\n",
       "      <td>[Nuclear Technologies]</td>\n",
       "    </tr>\n",
       "    <tr>\n",
       "      <th>5</th>\n",
       "      <td>254788edc7fc8f3f71263dcf339de972</td>\n",
       "      <td>A robot has figured out how to use tools</td>\n",
       "      <td>Learning to use tools played a crucial role in the evolution of human intelligence . It may yet prove vital to the emergence of smarter , more capable robots , too. We really want to study that sort of generality , rather than a robot learning to use one tool. The researchers have previously sho...</td>\n",
       "      <td>[Dexterous Robotics]</td>\n",
       "    </tr>\n",
       "    <tr>\n",
       "      <th>6</th>\n",
       "      <td>8959e9eb58488e231ef020ddc6845275</td>\n",
       "      <td>AI's white guy problem isn't going away</td>\n",
       "      <td>The numbers tell the tale of the AI industry's dire lack of diversity. Second , there's a disproportionate focus on \"fixing the pipeline? the idea of increasing the number of candidates from underrepresented groups that flow from schools to industry . This tends to underestimate other systemic d...</td>\n",
       "      <td>[Neural Networks]</td>\n",
       "    </tr>\n",
       "    <tr>\n",
       "      <th>7</th>\n",
       "      <td>e8aa5326c8905804e2165bfbf7364623</td>\n",
       "      <td>Alexa needs a robot body to escape the confines of today's AI</td>\n",
       "      <td>??Alexa , why are n't you smarter ? Prasad explains that Alexa has ways to try to iron out such wrinkles? ? it knows your location and the time of day , and it can access every question you 've ever asked , as well as queries from other people in the same city .</td>\n",
       "      <td>[Brain Computer Interfaces]</td>\n",
       "    </tr>\n",
       "    <tr>\n",
       "      <th>8</th>\n",
       "      <td>4213fba75d8a2c9bca90e7cbd50c0c46</td>\n",
       "      <td>Boston Dynamics buys a better brain for its robots</td>\n",
       "      <td>It is famous for making acrobatic , eerily lifelike , and somewhat accident-prone robots . Its systems allow a robot to figure out for itself where one box ends and another begins ( see ??Self-taught robot is ready to seize a warehouse job? ) .Boston Dynamics recently revealed its latest robot ...</td>\n",
       "      <td>[Dexterous Robotics]</td>\n",
       "    </tr>\n",
       "  </tbody>\n",
       "</table>\n",
       "</div>"
      ],
      "text/plain": [
       "                                 ID  \\\n",
       "2  5d1bc3bb303e8f80391489b304283930   \n",
       "5  254788edc7fc8f3f71263dcf339de972   \n",
       "6  8959e9eb58488e231ef020ddc6845275   \n",
       "7  e8aa5326c8905804e2165bfbf7364623   \n",
       "8  4213fba75d8a2c9bca90e7cbd50c0c46   \n",
       "\n",
       "                                                               Titolo  \\\n",
       "2  Physicists Are Crashing Matter into Antimatter to Hunt a New Boson   \n",
       "5                            A robot has figured out how to use tools   \n",
       "6                             AI's white guy problem isn't going away   \n",
       "7       Alexa needs a robot body to escape the confines of today's AI   \n",
       "8                  Boston Dynamics buys a better brain for its robots   \n",
       "\n",
       "                                                                                                                                                                                                                                                                                                      Abstract  \\\n",
       "2  After a year of experimentation at Japan?s SuperKEKB particle accelerator, physicists say they?re getting close to finding a theorized but yet-undiscovered elementary particle. But their findings, published in the journal Physical Review Letters, have vastly tightened scientists ? understanding ...   \n",
       "5  Learning to use tools played a crucial role in the evolution of human intelligence . It may yet prove vital to the emergence of smarter , more capable robots , too. We really want to study that sort of generality , rather than a robot learning to use one tool. The researchers have previously sho...   \n",
       "6  The numbers tell the tale of the AI industry's dire lack of diversity. Second , there's a disproportionate focus on \"fixing the pipeline? the idea of increasing the number of candidates from underrepresented groups that flow from schools to industry . This tends to underestimate other systemic d...   \n",
       "7                                       ??Alexa , why are n't you smarter ? Prasad explains that Alexa has ways to try to iron out such wrinkles? ? it knows your location and the time of day , and it can access every question you 've ever asked , as well as queries from other people in the same city .   \n",
       "8  It is famous for making acrobatic , eerily lifelike , and somewhat accident-prone robots . Its systems allow a robot to figure out for itself where one box ends and another begins ( see ??Self-taught robot is ready to seize a warehouse job? ) .Boston Dynamics recently revealed its latest robot ...   \n",
       "\n",
       "                          Tech  \n",
       "2       [Nuclear Technologies]  \n",
       "5         [Dexterous Robotics]  \n",
       "6            [Neural Networks]  \n",
       "7  [Brain Computer Interfaces]  \n",
       "8         [Dexterous Robotics]  "
      ]
     },
     "execution_count": 13,
     "metadata": {},
     "output_type": "execute_result"
    }
   ],
   "source": [
    "articoli.head()"
   ]
  },
  {
   "cell_type": "code",
   "execution_count": 14,
   "metadata": {},
   "outputs": [
    {
     "ename": "TypeError",
     "evalue": "unhashable type: 'list'",
     "output_type": "error",
     "traceback": [
      "\u001b[1;31m---------------------------------------------------------------------------\u001b[0m",
      "\u001b[1;31mTypeError\u001b[0m                                 Traceback (most recent call last)",
      "\u001b[1;32mpandas\\_libs\\hashtable_class_helper.pxi\u001b[0m in \u001b[0;36mpandas._libs.hashtable.PyObjectHashTable.map_locations\u001b[1;34m()\u001b[0m\n",
      "\u001b[1;31mTypeError\u001b[0m: unhashable type: 'list'"
     ]
    },
    {
     "name": "stderr",
     "output_type": "stream",
     "text": [
      "Exception ignored in: 'pandas._libs.index.IndexEngine._call_map_locations'\n",
      "Traceback (most recent call last):\n",
      "  File \"pandas\\_libs\\hashtable_class_helper.pxi\", line 1653, in pandas._libs.hashtable.PyObjectHashTable.map_locations\n",
      "TypeError: unhashable type: 'list'\n"
     ]
    },
    {
     "data": {
      "text/html": [
       "<div>\n",
       "<style scoped>\n",
       "    .dataframe tbody tr th:only-of-type {\n",
       "        vertical-align: middle;\n",
       "    }\n",
       "\n",
       "    .dataframe tbody tr th {\n",
       "        vertical-align: top;\n",
       "    }\n",
       "\n",
       "    .dataframe thead th {\n",
       "        text-align: right;\n",
       "    }\n",
       "</style>\n",
       "<table border=\"1\" class=\"dataframe\">\n",
       "  <thead>\n",
       "    <tr style=\"text-align: right;\">\n",
       "      <th></th>\n",
       "      <th>ID</th>\n",
       "      <th>Titolo</th>\n",
       "      <th>Abstract</th>\n",
       "      <th>Tech</th>\n",
       "    </tr>\n",
       "  </thead>\n",
       "  <tbody>\n",
       "    <tr>\n",
       "      <th>count</th>\n",
       "      <td>23</td>\n",
       "      <td>23</td>\n",
       "      <td>23</td>\n",
       "      <td>23</td>\n",
       "    </tr>\n",
       "    <tr>\n",
       "      <th>unique</th>\n",
       "      <td>22</td>\n",
       "      <td>22</td>\n",
       "      <td>22</td>\n",
       "      <td>12</td>\n",
       "    </tr>\n",
       "    <tr>\n",
       "      <th>top</th>\n",
       "      <td>4e4802c45592ed61ba6df847abf4a808</td>\n",
       "      <td>Machine learning is making pesto even more delicious</td>\n",
       "      <td>What makes basil so good ? Similar technology is already being applied in some commercial farms , says Naveen Singla , who leads a data science team focused on crops at Bayer, a German multinational that acquired Monsanto last year . In the open environments it 's still a question how we can clo...</td>\n",
       "      <td>[Dexterous Robotics]</td>\n",
       "    </tr>\n",
       "    <tr>\n",
       "      <th>freq</th>\n",
       "      <td>2</td>\n",
       "      <td>2</td>\n",
       "      <td>2</td>\n",
       "      <td>4</td>\n",
       "    </tr>\n",
       "  </tbody>\n",
       "</table>\n",
       "</div>"
      ],
      "text/plain": [
       "                                      ID  \\\n",
       "count                                 23   \n",
       "unique                                22   \n",
       "top     4e4802c45592ed61ba6df847abf4a808   \n",
       "freq                                   2   \n",
       "\n",
       "                                                      Titolo  \\\n",
       "count                                                     23   \n",
       "unique                                                    22   \n",
       "top     Machine learning is making pesto even more delicious   \n",
       "freq                                                       2   \n",
       "\n",
       "                                                                                                                                                                                                                                                                                                           Abstract  \\\n",
       "count                                                                                                                                                                                                                                                                                                            23   \n",
       "unique                                                                                                                                                                                                                                                                                                           22   \n",
       "top     What makes basil so good ? Similar technology is already being applied in some commercial farms , says Naveen Singla , who leads a data science team focused on crops at Bayer, a German multinational that acquired Monsanto last year . In the open environments it 's still a question how we can clo...   \n",
       "freq                                                                                                                                                                                                                                                                                                              2   \n",
       "\n",
       "                        Tech  \n",
       "count                     23  \n",
       "unique                    12  \n",
       "top     [Dexterous Robotics]  \n",
       "freq                       4  "
      ]
     },
     "execution_count": 14,
     "metadata": {},
     "output_type": "execute_result"
    }
   ],
   "source": [
    "articoli.describe()"
   ]
  },
  {
   "cell_type": "code",
   "execution_count": null,
   "metadata": {},
   "outputs": [],
   "source": []
  },
  {
   "cell_type": "code",
   "execution_count": 15,
   "metadata": {},
   "outputs": [],
   "source": [
    "# function for text cleaning \n",
    "def clean_text(text):\n",
    "    # remove backslash-apostrophe \n",
    "    text = re.sub(\"\\'\", \"\", text) \n",
    "    # remove everything except alphabets \n",
    "    text = re.sub(\"[^a-zA-Z]\",\" \",text) \n",
    "    # remove whitespaces \n",
    "    text = ' '.join(text.split()) \n",
    "    # convert text to lowercase \n",
    "    text = text.lower() \n",
    "    \n",
    "    return text"
   ]
  },
  {
   "cell_type": "code",
   "execution_count": 16,
   "metadata": {},
   "outputs": [
    {
     "data": {
      "text/html": [
       "<div>\n",
       "<style scoped>\n",
       "    .dataframe tbody tr th:only-of-type {\n",
       "        vertical-align: middle;\n",
       "    }\n",
       "\n",
       "    .dataframe tbody tr th {\n",
       "        vertical-align: top;\n",
       "    }\n",
       "\n",
       "    .dataframe thead th {\n",
       "        text-align: right;\n",
       "    }\n",
       "</style>\n",
       "<table border=\"1\" class=\"dataframe\">\n",
       "  <thead>\n",
       "    <tr style=\"text-align: right;\">\n",
       "      <th></th>\n",
       "      <th>ID</th>\n",
       "      <th>Titolo</th>\n",
       "      <th>Abstract</th>\n",
       "      <th>Tech</th>\n",
       "    </tr>\n",
       "  </thead>\n",
       "  <tbody>\n",
       "    <tr>\n",
       "      <th>2</th>\n",
       "      <td>5d1bc3bb303e8f80391489b304283930</td>\n",
       "      <td>Physicists Are Crashing Matter into Antimatter to Hunt a New Boson</td>\n",
       "      <td>after a year of experimentation at japan s superkekb particle accelerator physicists say they re getting close to finding a theorized but yet undiscovered elementary particle but their findings published in the journal physical review letters have vastly tightened scientists understanding of the...</td>\n",
       "      <td>[Nuclear Technologies]</td>\n",
       "    </tr>\n",
       "    <tr>\n",
       "      <th>5</th>\n",
       "      <td>254788edc7fc8f3f71263dcf339de972</td>\n",
       "      <td>A robot has figured out how to use tools</td>\n",
       "      <td>learning to use tools played a crucial role in the evolution of human intelligence it may yet prove vital to the emergence of smarter more capable robots too we really want to study that sort of generality rather than a robot learning to use one tool the researchers have previously shown how a r...</td>\n",
       "      <td>[Dexterous Robotics]</td>\n",
       "    </tr>\n",
       "    <tr>\n",
       "      <th>6</th>\n",
       "      <td>8959e9eb58488e231ef020ddc6845275</td>\n",
       "      <td>AI's white guy problem isn't going away</td>\n",
       "      <td>the numbers tell the tale of the ai industrys dire lack of diversity second theres a disproportionate focus on fixing the pipeline the idea of increasing the number of candidates from underrepresented groups that flow from schools to industry this tends to underestimate other systemic disadvanta...</td>\n",
       "      <td>[Neural Networks]</td>\n",
       "    </tr>\n",
       "    <tr>\n",
       "      <th>7</th>\n",
       "      <td>e8aa5326c8905804e2165bfbf7364623</td>\n",
       "      <td>Alexa needs a robot body to escape the confines of today's AI</td>\n",
       "      <td>alexa why are nt you smarter prasad explains that alexa has ways to try to iron out such wrinkles it knows your location and the time of day and it can access every question you ve ever asked as well as queries from other people in the same city</td>\n",
       "      <td>[Brain Computer Interfaces]</td>\n",
       "    </tr>\n",
       "    <tr>\n",
       "      <th>8</th>\n",
       "      <td>4213fba75d8a2c9bca90e7cbd50c0c46</td>\n",
       "      <td>Boston Dynamics buys a better brain for its robots</td>\n",
       "      <td>it is famous for making acrobatic eerily lifelike and somewhat accident prone robots its systems allow a robot to figure out for itself where one box ends and another begins see self taught robot is ready to seize a warehouse job boston dynamics recently revealed its latest robot a wheeled platf...</td>\n",
       "      <td>[Dexterous Robotics]</td>\n",
       "    </tr>\n",
       "  </tbody>\n",
       "</table>\n",
       "</div>"
      ],
      "text/plain": [
       "                                 ID  \\\n",
       "2  5d1bc3bb303e8f80391489b304283930   \n",
       "5  254788edc7fc8f3f71263dcf339de972   \n",
       "6  8959e9eb58488e231ef020ddc6845275   \n",
       "7  e8aa5326c8905804e2165bfbf7364623   \n",
       "8  4213fba75d8a2c9bca90e7cbd50c0c46   \n",
       "\n",
       "                                                               Titolo  \\\n",
       "2  Physicists Are Crashing Matter into Antimatter to Hunt a New Boson   \n",
       "5                            A robot has figured out how to use tools   \n",
       "6                             AI's white guy problem isn't going away   \n",
       "7       Alexa needs a robot body to escape the confines of today's AI   \n",
       "8                  Boston Dynamics buys a better brain for its robots   \n",
       "\n",
       "                                                                                                                                                                                                                                                                                                      Abstract  \\\n",
       "2  after a year of experimentation at japan s superkekb particle accelerator physicists say they re getting close to finding a theorized but yet undiscovered elementary particle but their findings published in the journal physical review letters have vastly tightened scientists understanding of the...   \n",
       "5  learning to use tools played a crucial role in the evolution of human intelligence it may yet prove vital to the emergence of smarter more capable robots too we really want to study that sort of generality rather than a robot learning to use one tool the researchers have previously shown how a r...   \n",
       "6  the numbers tell the tale of the ai industrys dire lack of diversity second theres a disproportionate focus on fixing the pipeline the idea of increasing the number of candidates from underrepresented groups that flow from schools to industry this tends to underestimate other systemic disadvanta...   \n",
       "7                                                        alexa why are nt you smarter prasad explains that alexa has ways to try to iron out such wrinkles it knows your location and the time of day and it can access every question you ve ever asked as well as queries from other people in the same city   \n",
       "8  it is famous for making acrobatic eerily lifelike and somewhat accident prone robots its systems allow a robot to figure out for itself where one box ends and another begins see self taught robot is ready to seize a warehouse job boston dynamics recently revealed its latest robot a wheeled platf...   \n",
       "\n",
       "                          Tech  \n",
       "2       [Nuclear Technologies]  \n",
       "5         [Dexterous Robotics]  \n",
       "6            [Neural Networks]  \n",
       "7  [Brain Computer Interfaces]  \n",
       "8         [Dexterous Robotics]  "
      ]
     },
     "execution_count": 16,
     "metadata": {},
     "output_type": "execute_result"
    }
   ],
   "source": [
    "articoli['Abstract'] = articoli['Abstract'].apply(lambda x: clean_text(x))\n",
    "articoli.head()"
   ]
  },
  {
   "cell_type": "code",
   "execution_count": 17,
   "metadata": {},
   "outputs": [
    {
     "data": {
      "text/plain": [
       "['Nuclear Technologies']"
      ]
     },
     "execution_count": 17,
     "metadata": {},
     "output_type": "execute_result"
    }
   ],
   "source": [
    "articoli['Tech'][2]"
   ]
  },
  {
   "cell_type": "code",
   "execution_count": 18,
   "metadata": {},
   "outputs": [
    {
     "data": {
      "image/png": "[encoded data removed]",
      "text/plain": [
       "<Figure size 864x1080 with 1 Axes>"
      ]
     },
     "metadata": {
      "needs_background": "light"
     },
     "output_type": "display_data"
    }
   ],
   "source": [
    "def freq_words(x, terms = 30): \n",
    "  all_words = ' '.join([text for text in x]) \n",
    "  all_words = all_words.split() \n",
    "  fdist = nltk.FreqDist(all_words) \n",
    "  words_df = pd.DataFrame({'word':list(fdist.keys()), 'count':list(fdist.values())}) \n",
    "  \n",
    "  # selecting top 20 most frequent words \n",
    "  d = words_df.nlargest(columns=\"count\", n = terms) \n",
    "  \n",
    "  # visualize words and frequencies\n",
    "  plt.figure(figsize=(12,15)) \n",
    "  ax = sns.barplot(data=d, x= \"count\", y = \"word\") \n",
    "  ax.set(ylabel = 'Word') \n",
    "  plt.show()\n",
    "  \n",
    "# print 100 most frequent words \n",
    "freq_words(articoli['Abstract'], 30)"
   ]
  },
  {
   "cell_type": "code",
   "execution_count": 19,
   "metadata": {},
   "outputs": [
    {
     "name": "stderr",
     "output_type": "stream",
     "text": [
      "[nltk_data] Downloading package stopwords to\n",
      "[nltk_data]     C:\\Users\\edoardo.esposito\\AppData\\Roaming\\nltk_data...\n",
      "[nltk_data]   Package stopwords is already up-to-date!\n"
     ]
    },
    {
     "data": {
      "text/plain": [
       "True"
      ]
     },
     "execution_count": 19,
     "metadata": {},
     "output_type": "execute_result"
    }
   ],
   "source": [
    "nltk.download('stopwords')"
   ]
  },
  {
   "cell_type": "code",
   "execution_count": 20,
   "metadata": {},
   "outputs": [],
   "source": [
    "from nltk.corpus import stopwords\n",
    "stop_words = set(stopwords.words('english'))\n",
    "\n",
    "# function to remove stopwords\n",
    "def remove_stopwords(text):\n",
    "    no_stopword_text = [w for w in text.split() if not w in stop_words]\n",
    "    return ' '.join(no_stopword_text)\n",
    "\n",
    "articoli['Abstract'] = articoli['Abstract'].apply(lambda x: remove_stopwords(x))"
   ]
  },
  {
   "cell_type": "code",
   "execution_count": 21,
   "metadata": {},
   "outputs": [
    {
     "data": {
      "text/plain": [
       "'year experimentation japan superkekb particle accelerator physicists say getting close finding theorized yet undiscovered elementary particle findings published journal physical review letters vastly tightened scientists understanding boson would behave making likely spot future'"
      ]
     },
     "execution_count": 21,
     "metadata": {},
     "output_type": "execute_result"
    }
   ],
   "source": [
    "articoli['Abstract'][2]"
   ]
  },
  {
   "cell_type": "code",
   "execution_count": 22,
   "metadata": {},
   "outputs": [
    {
     "data": {
      "image/png": "[encoded data removed]",
      "text/plain": [
       "<Figure size 864x1080 with 1 Axes>"
      ]
     },
     "metadata": {
      "needs_background": "light"
     },
     "output_type": "display_data"
    }
   ],
   "source": [
    "freq_words(articoli['Abstract'], 30)"
   ]
  },
  {
   "cell_type": "code",
   "execution_count": null,
   "metadata": {},
   "outputs": [],
   "source": [
    "articoli['Tech'].head()"
   ]
  },
  {
   "cell_type": "code",
   "execution_count": null,
   "metadata": {},
   "outputs": [],
   "source": [
    "articoli['Tech'][2]"
   ]
  },
  {
   "cell_type": "code",
   "execution_count": 23,
   "metadata": {},
   "outputs": [
    {
     "data": {
      "text/plain": [
       "MultiLabelBinarizer(classes=None, sparse_output=False)"
      ]
     },
     "execution_count": 23,
     "metadata": {},
     "output_type": "execute_result"
    }
   ],
   "source": [
    "# convert text to features\n",
    "from sklearn.preprocessing import MultiLabelBinarizer\n",
    "\n",
    "multilabel_binarizer = MultiLabelBinarizer()\n",
    "multilabel_binarizer.fit(articoli['Tech'])"
   ]
  },
  {
   "cell_type": "code",
   "execution_count": 24,
   "metadata": {},
   "outputs": [],
   "source": [
    "# transform target variable\n",
    "y = multilabel_binarizer.transform(articoli['Tech'])"
   ]
  },
  {
   "cell_type": "code",
   "execution_count": 25,
   "metadata": {},
   "outputs": [],
   "source": [
    "tfidf_vectorizer = TfidfVectorizer(max_df=0.8, max_features=10000)"
   ]
  },
  {
   "cell_type": "code",
   "execution_count": 26,
   "metadata": {},
   "outputs": [],
   "source": [
    "# split dataset into training and validation set\n",
    "xtrain, xval, ytrain, yval = train_test_split(articoli['Abstract'], y, test_size=0.2, random_state=9)"
   ]
  },
  {
   "cell_type": "code",
   "execution_count": 27,
   "metadata": {},
   "outputs": [
    {
     "data": {
      "text/plain": [
       "24                                    greasy pizza box takeaway coffee cup plastic yogurt pots trash recycled cant really rely image alone tell whats going idea neat humans receive lot feedback touch says harri holopainen zenrobotics company based helsinki finland makes vision based robotic waste sorters\n",
       "22                                                                                recently dazzling morning palm springs california vivienne sze took small stage deliver perhaps nerve racking presentation career szes lab exploring ways designing software better exploits properties existing computer chips\n",
       "10                                                                                                                                        search planets orbiting stars reached industrial scale researchers say dramatically speeds process mining k data even spotted exoplanets experienced astronomers missed\n",
       "6     numbers tell tale ai industrys dire lack diversity second theres disproportionate focus fixing pipeline idea increasing number candidates underrepresented groups flow schools industry tends underestimate systemic disadvantages prevent women minorities staying field harassment unfair compensation...\n",
       "19                                                                                              todays engineers facing dramatic shift happening industries like automotive aerospace electronics paper explores challenges dives real world scenarios industry leaders successfully positively disrupting market\n",
       "Name: Abstract, dtype: object"
      ]
     },
     "execution_count": 27,
     "metadata": {},
     "output_type": "execute_result"
    }
   ],
   "source": [
    "xtrain.head()"
   ]
  },
  {
   "cell_type": "code",
   "execution_count": 28,
   "metadata": {},
   "outputs": [
    {
     "data": {
      "text/plain": [
       "array([[0, 0, 0, 0, 0, 0, 1, 0, 0, 0, 0, 0],\n",
       "       [1, 0, 0, 0, 0, 0, 0, 0, 0, 0, 0, 0],\n",
       "       [0, 0, 0, 0, 0, 0, 0, 0, 0, 0, 1, 0],\n",
       "       [0, 0, 0, 0, 0, 0, 0, 0, 1, 0, 0, 0],\n",
       "       [0, 1, 0, 0, 0, 0, 0, 0, 0, 0, 0, 0],\n",
       "       [0, 0, 0, 0, 0, 0, 0, 0, 1, 0, 0, 0],\n",
       "       [0, 0, 0, 0, 0, 0, 0, 0, 1, 0, 0, 0],\n",
       "       [0, 0, 0, 0, 0, 0, 1, 0, 0, 0, 0, 0],\n",
       "       [0, 0, 0, 0, 0, 0, 0, 0, 1, 0, 0, 0],\n",
       "       [0, 0, 0, 0, 0, 0, 0, 0, 0, 0, 0, 1],\n",
       "       [1, 0, 0, 0, 0, 0, 0, 0, 0, 0, 0, 0],\n",
       "       [0, 0, 0, 0, 0, 0, 0, 0, 0, 1, 0, 0],\n",
       "       [0, 0, 0, 0, 0, 1, 0, 0, 0, 0, 0, 0],\n",
       "       [0, 0, 0, 0, 0, 0, 0, 1, 0, 0, 0, 0],\n",
       "       [1, 0, 0, 0, 0, 0, 0, 0, 0, 0, 0, 0],\n",
       "       [0, 0, 0, 0, 0, 1, 0, 0, 0, 0, 0, 0],\n",
       "       [0, 0, 0, 0, 0, 0, 1, 0, 0, 0, 0, 0],\n",
       "       [0, 0, 0, 1, 0, 0, 0, 0, 0, 0, 0, 0]])"
      ]
     },
     "execution_count": 28,
     "metadata": {},
     "output_type": "execute_result"
    }
   ],
   "source": [
    "ytrain"
   ]
  },
  {
   "cell_type": "code",
   "execution_count": 29,
   "metadata": {},
   "outputs": [],
   "source": [
    "# create TF-IDF features\n",
    "xtrain_tfidf = tfidf_vectorizer.fit_transform(xtrain)\n",
    "xval_tfidf = tfidf_vectorizer.transform(xval)"
   ]
  },
  {
   "cell_type": "code",
   "execution_count": 30,
   "metadata": {},
   "outputs": [],
   "source": [
    "#build prediction model\n",
    "from sklearn.linear_model import LogisticRegression\n",
    "\n",
    "# Binary Relevance\n",
    "from sklearn.multiclass import OneVsRestClassifier\n",
    "\n",
    "# Performance metric\n",
    "from sklearn.metrics import f1_score"
   ]
  },
  {
   "cell_type": "code",
   "execution_count": 31,
   "metadata": {},
   "outputs": [],
   "source": [
    "lr = LogisticRegression()\n",
    "clf = OneVsRestClassifier(lr)"
   ]
  },
  {
   "cell_type": "code",
   "execution_count": 32,
   "metadata": {},
   "outputs": [
    {
     "name": "stderr",
     "output_type": "stream",
     "text": [
      "C:\\Users\\edoardo.esposito\\AppData\\Local\\Continuum\\anaconda3\\lib\\site-packages\\sklearn\\multiclass.py:75: UserWarning: Label not 2 is present in all training examples.\n",
      "  str(classes[c]))\n",
      "C:\\Users\\edoardo.esposito\\AppData\\Local\\Continuum\\anaconda3\\lib\\site-packages\\sklearn\\multiclass.py:75: UserWarning: Label not 4 is present in all training examples.\n",
      "  str(classes[c]))\n"
     ]
    },
    {
     "data": {
      "text/plain": [
       "OneVsRestClassifier(estimator=LogisticRegression(C=1.0, class_weight=None,\n",
       "                                                 dual=False, fit_intercept=True,\n",
       "                                                 intercept_scaling=1,\n",
       "                                                 l1_ratio=None, max_iter=100,\n",
       "                                                 multi_class='auto',\n",
       "                                                 n_jobs=None, penalty='l2',\n",
       "                                                 random_state=None,\n",
       "                                                 solver='lbfgs', tol=0.0001,\n",
       "                                                 verbose=0, warm_start=False),\n",
       "                    n_jobs=None)"
      ]
     },
     "execution_count": 32,
     "metadata": {},
     "output_type": "execute_result"
    }
   ],
   "source": [
    "# fit model on train data\n",
    "clf.fit(xtrain_tfidf, ytrain)"
   ]
  },
  {
   "cell_type": "code",
   "execution_count": 33,
   "metadata": {},
   "outputs": [],
   "source": [
    "# make predictions for validation set\n",
    "y_pred = clf.predict(xval_tfidf)"
   ]
  },
  {
   "cell_type": "code",
   "execution_count": 34,
   "metadata": {},
   "outputs": [
    {
     "data": {
      "text/plain": [
       "array([0, 0, 0, 0, 0, 0, 0, 0, 0, 0, 0, 0])"
      ]
     },
     "execution_count": 34,
     "metadata": {},
     "output_type": "execute_result"
    }
   ],
   "source": [
    "# it is the one-hot encoded form of the unique genre tags. We will have to find a way to convert it into tech tags.\n",
    "y_pred[3]"
   ]
  },
  {
   "cell_type": "code",
   "execution_count": 35,
   "metadata": {},
   "outputs": [
    {
     "data": {
      "text/plain": [
       "()"
      ]
     },
     "execution_count": 35,
     "metadata": {},
     "output_type": "execute_result"
    }
   ],
   "source": [
    "#convert the predicted arrays into movie genre tags\n",
    "multilabel_binarizer.inverse_transform(y_pred)[3]"
   ]
  },
  {
   "cell_type": "code",
   "execution_count": 36,
   "metadata": {},
   "outputs": [
    {
     "data": {
      "text/plain": [
       "0.0"
      ]
     },
     "execution_count": 36,
     "metadata": {},
     "output_type": "execute_result"
    }
   ],
   "source": [
    "# evaluate performance\n",
    "f1_score(yval, y_pred, average=\"micro\")"
   ]
  },
  {
   "cell_type": "code",
   "execution_count": 37,
   "metadata": {},
   "outputs": [],
   "source": [
    "# predict probabilities\n",
    "y_pred_prob = clf.predict_proba(xval_tfidf)"
   ]
  },
  {
   "cell_type": "code",
   "execution_count": 38,
   "metadata": {},
   "outputs": [],
   "source": [
    "t = 0.3 # threshold value\n",
    "y_pred_new = (y_pred_prob >= t).astype(int)"
   ]
  },
  {
   "cell_type": "code",
   "execution_count": 39,
   "metadata": {},
   "outputs": [
    {
     "data": {
      "text/plain": [
       "0.0"
      ]
     },
     "execution_count": 39,
     "metadata": {},
     "output_type": "execute_result"
    }
   ],
   "source": [
    "# evaluate performance\n",
    "f1_score(yval, y_pred_new, average=\"micro\")"
   ]
  },
  {
   "cell_type": "code",
   "execution_count": 40,
   "metadata": {},
   "outputs": [],
   "source": [
    "def infer_tags(q):\n",
    "    q = clean_text(q)\n",
    "    q = remove_stopwords(q)\n",
    "    q_vec = tfidf_vectorizer.transform([q])\n",
    "    q_pred = clf.predict(q_vec)\n",
    "    return multilabel_binarizer.inverse_transform(q_pred)"
   ]
  },
  {
   "cell_type": "code",
   "execution_count": 41,
   "metadata": {},
   "outputs": [
    {
     "name": "stdout",
     "output_type": "stream",
     "text": [
      "Article:  last wednesday us lawmakers introduced new bill represents one countrys first major efforts regulate ai though us alone endeavor uk france australia others recently drafted passed legislation hold tech companies accountable algorithms country unique opportunity shape ais global impact home silicon valley \n",
      "Predicted tech:  [()]\n",
      "Actual tech:  ['Big Data'] \n",
      "\n",
      "Article:  alexa nt smarter prasad explains alexa ways try iron wrinkles knows location time day access every question ever asked well queries people city \n",
      "Predicted tech:  [()]\n",
      "Actual tech:  ['Brain Computer Interfaces'] \n",
      "\n",
      "Article:  businesses nonprofits finding novel ways employ artificial intelligence developing world using tools improve agriculture yields infant health care entrepreneur earnings according speakers mit technology review emtech digital conference san francisco tuesday solomon assefa oversees ibm research labs kenya south africa said company using ai accurately predict crop yields specific regions based shifting weather patterns soil moisture conditions \n",
      "Predicted tech:  [()]\n",
      "Actual tech:  ['AI Chips'] \n",
      "\n",
      "Article:  last wednesday us lawmakers introduced new bill represents one countrys first major efforts regulate ai though us alone endeavor uk france australia others recently drafted passed legislation hold tech companies accountable algorithms country unique opportunity shape ais global impact home silicon valley \n",
      "Predicted tech:  [()]\n",
      "Actual tech:  ['Big Data'] \n",
      "\n",
      "Article:  last wednesday us lawmakers introduced new bill represents one countrys first major efforts regulate ai though us alone endeavor uk france australia others recently drafted passed legislation hold tech companies accountable algorithms country unique opportunity shape ais global impact home silicon valley \n",
      "Predicted tech:  [()]\n",
      "Actual tech:  ['Big Data'] \n",
      "\n"
     ]
    }
   ],
   "source": [
    "for i in range(5): \n",
    "  k = xval.sample(1).index[0]\n",
    "  print(\"Article: \", articoli['Abstract'][k], \"\\nPredicted tech: \", infer_tags(xval[k])), print(\"Actual tech: \",articoli['Tech'][k], \"\\n\")"
   ]
  },
  {
   "cell_type": "code",
   "execution_count": null,
   "metadata": {},
   "outputs": [],
   "source": []
  }
 ],
 "metadata": {
  "kernelspec": {
   "display_name": "Python 3",
   "language": "python",
   "name": "python3"
  },
  "language_info": {
   "codemirror_mode": {
    "name": "ipython",
    "version": 3
   },
   "file_extension": ".py",
   "mimetype": "text/x-python",
   "name": "python",
   "nbconvert_exporter": "python",
   "pygments_lexer": "ipython3",
   "version": "3.7.1"
  }
 },
 "nbformat": 4,
 "nbformat_minor": 4
}
