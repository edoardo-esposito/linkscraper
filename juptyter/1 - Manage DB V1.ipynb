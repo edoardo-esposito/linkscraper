{
 "cells": [
  {
   "cell_type": "code",
   "execution_count": 1,
   "metadata": {},
   "outputs": [],
   "source": [
    "import pandas as pd\n",
    "import numpy as np\n",
    "import json\n",
    "import nltk\n",
    "import re\n",
    "import csv\n",
    "import matplotlib.pyplot as plt\n",
    "import seaborn as sns\n",
    "from tqdm import tqdm\n",
    "from datetime import datetime\n",
    "from sklearn.feature_extraction.text import TfidfVectorizer\n",
    "from sklearn.model_selection import train_test_split\n",
    "import datetime"
   ]
  },
  {
   "cell_type": "code",
   "execution_count": 2,
   "metadata": {},
   "outputs": [],
   "source": [
    "%matplotlib inline\n",
    "pd.set_option('display.max_colwidth', 300)"
   ]
  },
  {
   "cell_type": "markdown",
   "metadata": {
    "colab_type": "text",
    "id": "-27LekL_lqVR"
   },
   "source": [
    "## Load and clean data"
   ]
  },
  {
   "cell_type": "code",
   "execution_count": 3,
   "metadata": {},
   "outputs": [],
   "source": [
    "meta = pd.read_excel(\"../DB Articoli V4.xlsx\", encoding=\"utf8\", \n",
    "                     error_bad_lines=False)\n",
    "#, dtype={'Data': datetime}\n",
    "meta = meta.replace(np.nan, '', regex=True)"
   ]
  },
  {
   "cell_type": "code",
   "execution_count": 4,
   "metadata": {},
   "outputs": [
    {
     "name": "stdout",
     "output_type": "stream",
     "text": [
      "Numero totale di articoli: 2138\n"
     ]
    }
   ],
   "source": [
    "article_id = meta['ID']\n",
    "print (\"Numero totale di articoli: %d\" % len(article_id))"
   ]
  },
  {
   "cell_type": "code",
   "execution_count": 5,
   "metadata": {},
   "outputs": [],
   "source": [
    "meta['Data'] = pd.to_datetime(meta['Data'])"
   ]
  },
  {
   "cell_type": "code",
   "execution_count": 6,
   "metadata": {},
   "outputs": [
    {
     "data": {
      "text/plain": [
       "'Decarbonization & Transition to Renewable & New Sources of Energy'"
      ]
     },
     "execution_count": 6,
     "metadata": {},
     "output_type": "execute_result"
    }
   ],
   "source": [
    "trend1 = []\n",
    "for i in meta['Trend 1']:\n",
    "    trend1.append(i)\n",
    "\n",
    "Trend = []\n",
    "for i in range(len(article_id)):\n",
    "    l = []\n",
    "    if len(trend1[i]): l.append(trend1[i])\n",
    "\n",
    "    Trend.append(', '.join(map(str, list(l)))) \n",
    "    \n",
    "Trend[0]"
   ]
  },
  {
   "cell_type": "code",
   "execution_count": 7,
   "metadata": {},
   "outputs": [
    {
     "data": {
      "text/html": [
       "<div>\n",
       "<style scoped>\n",
       "    .dataframe tbody tr th:only-of-type {\n",
       "        vertical-align: middle;\n",
       "    }\n",
       "\n",
       "    .dataframe tbody tr th {\n",
       "        vertical-align: top;\n",
       "    }\n",
       "\n",
       "    .dataframe thead th {\n",
       "        text-align: right;\n",
       "    }\n",
       "</style>\n",
       "<table border=\"1\" class=\"dataframe\">\n",
       "  <thead>\n",
       "    <tr style=\"text-align: right;\">\n",
       "      <th></th>\n",
       "      <th>ID</th>\n",
       "      <th>Trend</th>\n",
       "    </tr>\n",
       "  </thead>\n",
       "  <tbody>\n",
       "    <tr>\n",
       "      <th>0</th>\n",
       "      <td>2b62c9c3c72cdf9219cde304910ba6f1</td>\n",
       "      <td>Decarbonization &amp; Transition to Renewable &amp; New Sources of Energy</td>\n",
       "    </tr>\n",
       "    <tr>\n",
       "      <th>1</th>\n",
       "      <td>fc904ef82779aaa9114df97e8284102a</td>\n",
       "      <td>Open Innovation</td>\n",
       "    </tr>\n",
       "    <tr>\n",
       "      <th>2</th>\n",
       "      <td>39c4b22ec26c42bb7d362fd29640af33</td>\n",
       "      <td>Exponential Medicine &amp; Digital Health</td>\n",
       "    </tr>\n",
       "    <tr>\n",
       "      <th>3</th>\n",
       "      <td>9ebbc6b5ee19c55075ae8d971a9efeff</td>\n",
       "      <td>Rapid Urbanization and Smart Cities</td>\n",
       "    </tr>\n",
       "    <tr>\n",
       "      <th>4</th>\n",
       "      <td>f86f243a8dcef8cc2e88c5e76cd0fdee</td>\n",
       "      <td>Open Innovation</td>\n",
       "    </tr>\n",
       "  </tbody>\n",
       "</table>\n",
       "</div>"
      ],
      "text/plain": [
       "                                 ID  \\\n",
       "0  2b62c9c3c72cdf9219cde304910ba6f1   \n",
       "1  fc904ef82779aaa9114df97e8284102a   \n",
       "2  39c4b22ec26c42bb7d362fd29640af33   \n",
       "3  9ebbc6b5ee19c55075ae8d971a9efeff   \n",
       "4  f86f243a8dcef8cc2e88c5e76cd0fdee   \n",
       "\n",
       "                                                               Trend  \n",
       "0  Decarbonization & Transition to Renewable & New Sources of Energy  \n",
       "1                                                    Open Innovation  \n",
       "2                              Exponential Medicine & Digital Health  \n",
       "3                                Rapid Urbanization and Smart Cities  \n",
       "4                                                    Open Innovation  "
      ]
     },
     "execution_count": 7,
     "metadata": {},
     "output_type": "execute_result"
    }
   ],
   "source": [
    "# Create Tech Dataframe\n",
    "trend = pd.DataFrame({'ID': article_id, 'Trend': Trend})\n",
    "trend.head()"
   ]
  },
  {
   "cell_type": "code",
   "execution_count": 8,
   "metadata": {},
   "outputs": [],
   "source": [
    "articoli = meta[['ID','Titolo', 'Data', 'Testo']]\n",
    "articoli = pd.merge(articoli, trend, on = 'ID')"
   ]
  },
  {
   "cell_type": "code",
   "execution_count": 9,
   "metadata": {},
   "outputs": [],
   "source": [
    "# remove samples with no tags\n",
    "articoli['Trend'] = articoli['Trend'].apply(lambda y: '' if len(y)==0 else y)\n",
    "articoli = articoli[~(articoli['Trend'].str.len() == 0)]\n",
    "articoli = articoli[~(articoli['Testo'].str.len() == 0)]\n",
    "articoli = articoli.dropna(subset=['Data'])"
   ]
  },
  {
   "cell_type": "code",
   "execution_count": 10,
   "metadata": {},
   "outputs": [
    {
     "name": "stdout",
     "output_type": "stream",
     "text": [
      "Numero totale di articoli: 2170\n"
     ]
    }
   ],
   "source": [
    "len(articoli)\n",
    "print (\"Numero totale di articoli: %d\" % len(articoli))"
   ]
  },
  {
   "cell_type": "code",
   "execution_count": 11,
   "metadata": {},
   "outputs": [],
   "source": [
    "# function for text cleaning \n",
    "def clean_text(text):\n",
    "    # remove backslash-apostrophe \n",
    "    text = re.sub(\"\\'\", \"\", text)\n",
    "    text = re.sub(r'[?|!|\\'|\"|#]',r'',text)\n",
    "    text = re.sub(r'[.|,|)|(|\\|/]',r' ',text)\n",
    "    # remove everything except alphabets \n",
    "    text = re.sub(\"[^a-zA-Z]\",\" \",text) \n",
    "    \n",
    "    text = text.replace(\"\\n\",\" \")\n",
    "    \n",
    "    # remove whitespaces \n",
    "    text = ' '.join(text.split()) \n",
    "    # convert text to lowercase \n",
    "    text = text.lower() \n",
    "    \n",
    "    return text"
   ]
  },
  {
   "cell_type": "code",
   "execution_count": 12,
   "metadata": {},
   "outputs": [],
   "source": [
    "articoli['Clean_Titolo'] = articoli['Titolo'].apply(lambda x: clean_text(x))\n",
    "articoli['Clean_Testo'] = articoli['Testo'].apply(lambda x: clean_text(x))"
   ]
  },
  {
   "cell_type": "code",
   "execution_count": 13,
   "metadata": {},
   "outputs": [
    {
     "name": "stdout",
     "output_type": "stream",
     "text": [
      "Numero totale di articoli: 2170\n"
     ]
    }
   ],
   "source": [
    "print (\"Numero totale di articoli: %d\" % len(articoli))"
   ]
  },
  {
   "cell_type": "code",
   "execution_count": 14,
   "metadata": {},
   "outputs": [],
   "source": [
    "#articoli.head()\n",
    "#articoli.sample(5, random_state=0)"
   ]
  },
  {
   "cell_type": "markdown",
   "metadata": {
    "colab_type": "text",
    "id": "-27LekL_lqVR"
   },
   "source": [
    "## Remove stopwords from data"
   ]
  },
  {
   "cell_type": "code",
   "execution_count": 15,
   "metadata": {},
   "outputs": [],
   "source": [
    "from nltk.corpus import stopwords\n",
    "\n",
    "stop_words = nltk.corpus.stopwords.words('english')\n",
    "my_stopwords = ['also','said', 'one', 'may', 'polls', 'sorry', 'like', 'use', 'many', 'make', 'could', \n",
    "                'even', 'says', 'new', 'us', 'would', 'time', 'companies', 'moment', 'way', 'using', 'two',\n",
    "               'across', 'well', 'world', 'first', 'system', 'million', 'systems', 'including', 'example', 'year', \n",
    "                'based', 'googletagcmdpushfunction', 'th']\n",
    "stop_words.extend(my_stopwords)"
   ]
  },
  {
   "cell_type": "code",
   "execution_count": 16,
   "metadata": {},
   "outputs": [],
   "source": [
    "# function to remove stopwords\n",
    "def remove_stopwords(text):\n",
    "    no_stopword_text = [w for w in text.split() if not w in stop_words]\n",
    "    return ' '.join(no_stopword_text)"
   ]
  },
  {
   "cell_type": "code",
   "execution_count": 17,
   "metadata": {},
   "outputs": [],
   "source": [
    "articoli['Clean_Titolo'] = articoli['Clean_Titolo'].apply(lambda x: remove_stopwords(x))\n",
    "articoli['Clean_Testo'] = articoli['Clean_Testo'].apply(lambda x: remove_stopwords(x))"
   ]
  },
  {
   "cell_type": "code",
   "execution_count": 18,
   "metadata": {},
   "outputs": [],
   "source": [
    "articoli['Txt'] = articoli['Clean_Titolo'] + \" \" + articoli['Clean_Testo']\n",
    "del(articoli['Clean_Titolo'])\n",
    "del(articoli['Clean_Testo'])"
   ]
  },
  {
   "cell_type": "markdown",
   "metadata": {
    "colab_type": "text",
    "id": "-27LekL_lqVR"
   },
   "source": [
    "## Feature Engineering"
   ]
  },
  {
   "cell_type": "code",
   "execution_count": 19,
   "metadata": {},
   "outputs": [],
   "source": [
    "def extract_date(df,column):\n",
    "    df[\"Anno\"] = df[column].apply(lambda x: x.year)\n",
    "    df[\"Mese\"] = df[column].apply(lambda x: x.month)\n",
    "    df[\"Day\"] = df[column].apply(lambda x: x.day)\n",
    "    \n",
    "extract_date(articoli, \"Data\")"
   ]
  },
  {
   "cell_type": "code",
   "execution_count": 20,
   "metadata": {},
   "outputs": [],
   "source": [
    "def extract_week_number(df, column):\n",
    "    df[\"Week\"] = df[column].apply(lambda x: datetime.date(int(x.year), int(x.month), int(x.day)).strftime(\"%V\"))\n",
    "    #datetime.date(articoli['Data'][0].year, articoli['Data'][0].month , articoli['Data'][0].day).strftime(\"%V\")\n",
    "    \n",
    "extract_week_number(articoli, \"Data\")"
   ]
  },
  {
   "cell_type": "code",
   "execution_count": 21,
   "metadata": {},
   "outputs": [],
   "source": [
    "#articoli.head()"
   ]
  },
  {
   "cell_type": "markdown",
   "metadata": {
    "colab_type": "text",
    "id": "-27LekL_lqVR"
   },
   "source": [
    "## Extract keywords for each row"
   ]
  },
  {
   "cell_type": "code",
   "execution_count": 22,
   "metadata": {},
   "outputs": [],
   "source": [
    "from sklearn.feature_extraction.text import CountVectorizer\n",
    "import re\n",
    "## Remove stopwords from data\n",
    "corpus = articoli['Txt']\n",
    "cv=CountVectorizer(max_df=0.8,stop_words=stop_words, max_features=10000, ngram_range=(1,3))\n",
    "X=cv.fit_transform(corpus)"
   ]
  },
  {
   "cell_type": "code",
   "execution_count": 23,
   "metadata": {},
   "outputs": [],
   "source": [
    "#https://medium.com/analytics-vidhya/automated-keyword-extraction-from-articles-using-nlp-bfd864f41b34\n",
    "from sklearn.feature_extraction.text import TfidfTransformer\n",
    " \n",
    "tfidf_transformer=TfidfTransformer(smooth_idf=True,use_idf=True)\n",
    "tfidf_transformer.fit(X)\n",
    "\n",
    "# get feature names\n",
    "feature_names=cv.get_feature_names()"
   ]
  },
  {
   "cell_type": "code",
   "execution_count": 24,
   "metadata": {},
   "outputs": [],
   "source": [
    "#Function for sorting tf_idf in descending order\n",
    "from scipy.sparse import coo_matrix\n",
    "def sort_coo(coo_matrix):\n",
    "    tuples = zip(coo_matrix.col, coo_matrix.data)\n",
    "    return sorted(tuples, key=lambda x: (x[1], x[0]), reverse=True)\n",
    " \n",
    "def extract_topn_from_vector(feature_names, sorted_items, topn=10):\n",
    "    \"\"\"get the feature names and tf-idf score of top n items\"\"\"\n",
    "    \n",
    "    #use only topn items from vector\n",
    "    sorted_items = sorted_items[:topn]\n",
    " \n",
    "    score_vals = []\n",
    "    feature_vals = []\n",
    "    \n",
    "    # word index and corresponding tf-idf score\n",
    "    for idx, score in sorted_items:\n",
    "        \n",
    "        #keep track of feature name and its corresponding score\n",
    "        score_vals.append(round(score, 3))\n",
    "        feature_vals.append(feature_names[idx])\n",
    " \n",
    "    #create a tuples of feature,score\n",
    "    #results = zip(feature_vals,score_vals)\n",
    "    results= {}\n",
    "    for idx in range(len(feature_vals)):\n",
    "        results[feature_vals[idx]]=score_vals[idx]\n",
    "    \n",
    "    return results"
   ]
  },
  {
   "cell_type": "code",
   "execution_count": 25,
   "metadata": {},
   "outputs": [],
   "source": [
    "def extract_keys_for_row(doc, n):  \n",
    "    #generate tf-idf for the given document\n",
    "    tf_idf_vector=tfidf_transformer.transform(cv.transform([doc]))\n",
    "\n",
    "    #sort the tf-idf vectors by descending order of scores\n",
    "    sorted_items=sort_coo(tf_idf_vector.tocoo())\n",
    "    \n",
    "    #extract only the top n\n",
    "    keywords=extract_topn_from_vector(feature_names,sorted_items, n)\n",
    "    \n",
    "    kw = []\n",
    "    for k in keywords:\n",
    "        kw.append(k)\n",
    "        \n",
    "    return \", \".join(kw)\n",
    "        \n",
    "#extract_keys_for_row(articoli['Txt'][1], 25)"
   ]
  },
  {
   "cell_type": "code",
   "execution_count": 26,
   "metadata": {},
   "outputs": [],
   "source": [
    "# TODO man mano che aumentano gli articoli sarà sempre più lungo: vanno estratti in un file separato\n",
    "articoli['Keywords'] = articoli['Txt'].apply(lambda x: extract_keys_for_row(x,25))"
   ]
  },
  {
   "cell_type": "code",
   "execution_count": 27,
   "metadata": {},
   "outputs": [],
   "source": [
    "#articoli.head()"
   ]
  },
  {
   "cell_type": "code",
   "execution_count": 28,
   "metadata": {},
   "outputs": [
    {
     "name": "stdout",
     "output_type": "stream",
     "text": [
      "articoli senza keyword: 0\n"
     ]
    }
   ],
   "source": [
    "print (\"articoli senza keyword: %d\" % articoli['Keywords'].isnull().values.sum())"
   ]
  },
  {
   "cell_type": "markdown",
   "metadata": {
    "colab_type": "text",
    "id": "-27LekL_lqVR"
   },
   "source": [
    "## Apply tags to keywords"
   ]
  },
  {
   "cell_type": "code",
   "execution_count": 29,
   "metadata": {},
   "outputs": [],
   "source": [
    "tags = pd.read_excel(\"Keywords to Tags V4.xlsx\", encoding=\"utf8\", error_bad_lines=False)\n",
    "tags = tags.replace(np.nan, '', regex=True)\n",
    "del(tags['Tag 1'])\n",
    "del(tags['Tag 2'])\n",
    "del(tags['Tag 3'])"
   ]
  },
  {
   "cell_type": "code",
   "execution_count": 30,
   "metadata": {},
   "outputs": [],
   "source": [
    "tags = tags[~(tags['Tags'].str.len() == 0)]"
   ]
  },
  {
   "cell_type": "code",
   "execution_count": 31,
   "metadata": {},
   "outputs": [
    {
     "data": {
      "text/html": [
       "<div>\n",
       "<style scoped>\n",
       "    .dataframe tbody tr th:only-of-type {\n",
       "        vertical-align: middle;\n",
       "    }\n",
       "\n",
       "    .dataframe tbody tr th {\n",
       "        vertical-align: top;\n",
       "    }\n",
       "\n",
       "    .dataframe thead th {\n",
       "        text-align: right;\n",
       "    }\n",
       "</style>\n",
       "<table border=\"1\" class=\"dataframe\">\n",
       "  <thead>\n",
       "    <tr style=\"text-align: right;\">\n",
       "      <th></th>\n",
       "      <th>Words</th>\n",
       "      <th>Tags</th>\n",
       "    </tr>\n",
       "  </thead>\n",
       "  <tbody>\n",
       "    <tr>\n",
       "      <th>count</th>\n",
       "      <td>925</td>\n",
       "      <td>925</td>\n",
       "    </tr>\n",
       "    <tr>\n",
       "      <th>unique</th>\n",
       "      <td>922</td>\n",
       "      <td>380</td>\n",
       "    </tr>\n",
       "    <tr>\n",
       "      <th>top</th>\n",
       "      <td>ios</td>\n",
       "      <td>Vertical: Finance, Tag: Venture Capital</td>\n",
       "    </tr>\n",
       "    <tr>\n",
       "      <th>freq</th>\n",
       "      <td>2</td>\n",
       "      <td>37</td>\n",
       "    </tr>\n",
       "  </tbody>\n",
       "</table>\n",
       "</div>"
      ],
      "text/plain": [
       "       Words                                     Tags\n",
       "count    925                                      925\n",
       "unique   922                                      380\n",
       "top      ios  Vertical: Finance, Tag: Venture Capital\n",
       "freq       2                                       37"
      ]
     },
     "execution_count": 31,
     "metadata": {},
     "output_type": "execute_result"
    }
   ],
   "source": [
    "tags.describe()"
   ]
  },
  {
   "cell_type": "code",
   "execution_count": 32,
   "metadata": {
    "scrolled": true
   },
   "outputs": [
    {
     "data": {
      "text/html": [
       "<div>\n",
       "<style scoped>\n",
       "    .dataframe tbody tr th:only-of-type {\n",
       "        vertical-align: middle;\n",
       "    }\n",
       "\n",
       "    .dataframe tbody tr th {\n",
       "        vertical-align: top;\n",
       "    }\n",
       "\n",
       "    .dataframe thead th {\n",
       "        text-align: right;\n",
       "    }\n",
       "</style>\n",
       "<table border=\"1\" class=\"dataframe\">\n",
       "  <thead>\n",
       "    <tr style=\"text-align: right;\">\n",
       "      <th></th>\n",
       "      <th>ID</th>\n",
       "      <th>Keywords</th>\n",
       "    </tr>\n",
       "  </thead>\n",
       "  <tbody>\n",
       "    <tr>\n",
       "      <th>0</th>\n",
       "      <td>2b62c9c3c72cdf9219cde304910ba6f1</td>\n",
       "      <td>battery, flexible, thin film, ipi, thin, film, charge, technology, strategic planning, fast, flex, korean, wearables, fabric, find, networking, session, suitable, please, freedom, internet things, newly, enterprises, military, singapore</td>\n",
       "    </tr>\n",
       "    <tr>\n",
       "      <th>1</th>\n",
       "      <td>fc904ef82779aaa9114df97e8284102a</td>\n",
       "      <td>start ups, ups, start, innovation, ipi, product development, experts, product, technical, development, challenges, flex, grapple, journeys, district, particularly important, open innovation, smooth, market, industry, shorter, session, lee, engaging, pain</td>\n",
       "    </tr>\n",
       "    <tr>\n",
       "      <th>2</th>\n",
       "      <td>39c4b22ec26c42bb7d362fd29640af33</td>\n",
       "      <td>prostate, invasive, fertility, non invasive, cancer, test, non, tests, accurate, arteries, cancer cells, method, female, device, diagnose, detect, medical, flow, positioned, phases, patients, woman, besides, fluid, cells</td>\n",
       "    </tr>\n",
       "    <tr>\n",
       "      <th>3</th>\n",
       "      <td>9ebbc6b5ee19c55075ae8d971a9efeff</td>\n",
       "      <td>singapore, collaboration, smart, programme, building, ipi, business, solutions, participants, hub, event, innovative, technologies, robotics, successful, innovative solutions, yet another, appreciate, assembled, technology, returned, look forward, debut, pitch, advisor</td>\n",
       "    </tr>\n",
       "    <tr>\n",
       "      <th>4</th>\n",
       "      <td>f86f243a8dcef8cc2e88c5e76cd0fdee</td>\n",
       "      <td>workshop, technology transfer, transfer, technology, ipi, director, participants, held, dont, sze, office, goh, lin, licensing, dr, holistic, intellectual property, exercises, deputy, commented, ip, academia, programme, valuation, know</td>\n",
       "    </tr>\n",
       "  </tbody>\n",
       "</table>\n",
       "</div>"
      ],
      "text/plain": [
       "                                 ID  \\\n",
       "0  2b62c9c3c72cdf9219cde304910ba6f1   \n",
       "1  fc904ef82779aaa9114df97e8284102a   \n",
       "2  39c4b22ec26c42bb7d362fd29640af33   \n",
       "3  9ebbc6b5ee19c55075ae8d971a9efeff   \n",
       "4  f86f243a8dcef8cc2e88c5e76cd0fdee   \n",
       "\n",
       "                                                                                                                                                                                                                                                                        Keywords  \n",
       "0                                   battery, flexible, thin film, ipi, thin, film, charge, technology, strategic planning, fast, flex, korean, wearables, fabric, find, networking, session, suitable, please, freedom, internet things, newly, enterprises, military, singapore  \n",
       "1                 start ups, ups, start, innovation, ipi, product development, experts, product, technical, development, challenges, flex, grapple, journeys, district, particularly important, open innovation, smooth, market, industry, shorter, session, lee, engaging, pain  \n",
       "2                                                   prostate, invasive, fertility, non invasive, cancer, test, non, tests, accurate, arteries, cancer cells, method, female, device, diagnose, detect, medical, flow, positioned, phases, patients, woman, besides, fluid, cells  \n",
       "3  singapore, collaboration, smart, programme, building, ipi, business, solutions, participants, hub, event, innovative, technologies, robotics, successful, innovative solutions, yet another, appreciate, assembled, technology, returned, look forward, debut, pitch, advisor  \n",
       "4                                    workshop, technology transfer, transfer, technology, ipi, director, participants, held, dont, sze, office, goh, lin, licensing, dr, holistic, intellectual property, exercises, deputy, commented, ip, academia, programme, valuation, know  "
      ]
     },
     "execution_count": 32,
     "metadata": {},
     "output_type": "execute_result"
    }
   ],
   "source": [
    "keywords = articoli[['ID','Keywords']]\n",
    "keywords.head()"
   ]
  },
  {
   "cell_type": "code",
   "execution_count": 33,
   "metadata": {},
   "outputs": [],
   "source": [
    "words = pd.concat([pd.Series(row['ID'], row['Keywords'].split(', ')) \n",
    "           for _, row in keywords.iterrows()]).reset_index().rename(columns={\"index\": \"Words\", 0: \"ID\"})\n",
    "words.sort_values(by=['Words'], inplace=True)"
   ]
  },
  {
   "cell_type": "code",
   "execution_count": 34,
   "metadata": {},
   "outputs": [
    {
     "data": {
      "text/html": [
       "<div>\n",
       "<style scoped>\n",
       "    .dataframe tbody tr th:only-of-type {\n",
       "        vertical-align: middle;\n",
       "    }\n",
       "\n",
       "    .dataframe tbody tr th {\n",
       "        vertical-align: top;\n",
       "    }\n",
       "\n",
       "    .dataframe thead th {\n",
       "        text-align: right;\n",
       "    }\n",
       "</style>\n",
       "<table border=\"1\" class=\"dataframe\">\n",
       "  <thead>\n",
       "    <tr style=\"text-align: right;\">\n",
       "      <th></th>\n",
       "      <th>Words</th>\n",
       "      <th>ID</th>\n",
       "    </tr>\n",
       "  </thead>\n",
       "  <tbody>\n",
       "    <tr>\n",
       "      <th>count</th>\n",
       "      <td>53788</td>\n",
       "      <td>53788</td>\n",
       "    </tr>\n",
       "    <tr>\n",
       "      <th>unique</th>\n",
       "      <td>8603</td>\n",
       "      <td>2118</td>\n",
       "    </tr>\n",
       "    <tr>\n",
       "      <th>top</th>\n",
       "      <td>ai</td>\n",
       "      <td>d707d1d5310c1151cc2cd04b1931c234</td>\n",
       "    </tr>\n",
       "    <tr>\n",
       "      <th>freq</th>\n",
       "      <td>243</td>\n",
       "      <td>100</td>\n",
       "    </tr>\n",
       "  </tbody>\n",
       "</table>\n",
       "</div>"
      ],
      "text/plain": [
       "        Words                                ID\n",
       "count   53788                             53788\n",
       "unique   8603                              2118\n",
       "top        ai  d707d1d5310c1151cc2cd04b1931c234\n",
       "freq      243                               100"
      ]
     },
     "execution_count": 34,
     "metadata": {},
     "output_type": "execute_result"
    }
   ],
   "source": [
    "words.describe()\n",
    "#words.to_csv('prova.csv', sep=\";\")"
   ]
  },
  {
   "cell_type": "code",
   "execution_count": 35,
   "metadata": {},
   "outputs": [],
   "source": [
    "res = tags.merge(words, on=\"Words\", how='left')"
   ]
  },
  {
   "cell_type": "code",
   "execution_count": 36,
   "metadata": {},
   "outputs": [
    {
     "data": {
      "text/html": [
       "<div>\n",
       "<style scoped>\n",
       "    .dataframe tbody tr th:only-of-type {\n",
       "        vertical-align: middle;\n",
       "    }\n",
       "\n",
       "    .dataframe tbody tr th {\n",
       "        vertical-align: top;\n",
       "    }\n",
       "\n",
       "    .dataframe thead th {\n",
       "        text-align: right;\n",
       "    }\n",
       "</style>\n",
       "<table border=\"1\" class=\"dataframe\">\n",
       "  <thead>\n",
       "    <tr style=\"text-align: right;\">\n",
       "      <th></th>\n",
       "      <th>Words</th>\n",
       "      <th>Tags</th>\n",
       "      <th>ID</th>\n",
       "    </tr>\n",
       "  </thead>\n",
       "  <tbody>\n",
       "    <tr>\n",
       "      <th>0</th>\n",
       "      <td>aarogya setu</td>\n",
       "      <td>Tech: Mobile app, Tag: Development, Application: Contact Tracing</td>\n",
       "      <td>NaN</td>\n",
       "    </tr>\n",
       "    <tr>\n",
       "      <th>1</th>\n",
       "      <td>academic</td>\n",
       "      <td>Vertical: University</td>\n",
       "      <td>c22099e985da4914f7e1381fbb3472bb</td>\n",
       "    </tr>\n",
       "    <tr>\n",
       "      <th>2</th>\n",
       "      <td>academic</td>\n",
       "      <td>Vertical: University</td>\n",
       "      <td>cf4a502cbc3be4bf184002d5db67ac81</td>\n",
       "    </tr>\n",
       "    <tr>\n",
       "      <th>3</th>\n",
       "      <td>academic</td>\n",
       "      <td>Vertical: University</td>\n",
       "      <td>036811f34226f83b8533276668044a4c</td>\n",
       "    </tr>\n",
       "    <tr>\n",
       "      <th>4</th>\n",
       "      <td>academic</td>\n",
       "      <td>Vertical: University</td>\n",
       "      <td>c3867e2ca29ffade71f104301bf2a743</td>\n",
       "    </tr>\n",
       "  </tbody>\n",
       "</table>\n",
       "</div>"
      ],
      "text/plain": [
       "          Words  \\\n",
       "0  aarogya setu   \n",
       "1      academic   \n",
       "2      academic   \n",
       "3      academic   \n",
       "4      academic   \n",
       "\n",
       "                                                               Tags  \\\n",
       "0  Tech: Mobile app, Tag: Development, Application: Contact Tracing   \n",
       "1                                              Vertical: University   \n",
       "2                                              Vertical: University   \n",
       "3                                              Vertical: University   \n",
       "4                                              Vertical: University   \n",
       "\n",
       "                                 ID  \n",
       "0                               NaN  \n",
       "1  c22099e985da4914f7e1381fbb3472bb  \n",
       "2  cf4a502cbc3be4bf184002d5db67ac81  \n",
       "3  036811f34226f83b8533276668044a4c  \n",
       "4  c3867e2ca29ffade71f104301bf2a743  "
      ]
     },
     "execution_count": 36,
     "metadata": {},
     "output_type": "execute_result"
    }
   ],
   "source": [
    "res.head()\n",
    "#res.to_csv('prova.csv', sep=\";\")"
   ]
  },
  {
   "cell_type": "code",
   "execution_count": 37,
   "metadata": {},
   "outputs": [],
   "source": [
    "res = res.groupby('ID').agg(lambda x: x.tolist()).rename({'Tags': 'ComputedTags'}, axis=1)"
   ]
  },
  {
   "cell_type": "code",
   "execution_count": 38,
   "metadata": {},
   "outputs": [
    {
     "data": {
      "text/plain": [
       "'Vertical: Technology, Company: Apple, Vertical: Banking'"
      ]
     },
     "execution_count": 38,
     "metadata": {},
     "output_type": "execute_result"
    }
   ],
   "source": [
    "def list_to_csv(text):\n",
    "    str_list = \", \" . join(text)\n",
    "\n",
    "    str_list = str_list.split(\", \")\n",
    "    str_list = list(map(str.strip, str_list))\n",
    "    str_list = list(filter(None, str_list))\n",
    "    str_list = list(set(str_list))\n",
    "    str_list = \", \" . join(str_list)\n",
    "    \n",
    "    return str_list\n",
    "    \n",
    "list_to_csv(res['ComputedTags'][1])"
   ]
  },
  {
   "cell_type": "code",
   "execution_count": 39,
   "metadata": {},
   "outputs": [],
   "source": [
    "res['ComputedTags'] = res['ComputedTags'].apply(lambda x: list_to_csv(x))"
   ]
  },
  {
   "cell_type": "code",
   "execution_count": 40,
   "metadata": {},
   "outputs": [
    {
     "data": {
      "text/html": [
       "<div>\n",
       "<style scoped>\n",
       "    .dataframe tbody tr th:only-of-type {\n",
       "        vertical-align: middle;\n",
       "    }\n",
       "\n",
       "    .dataframe tbody tr th {\n",
       "        vertical-align: top;\n",
       "    }\n",
       "\n",
       "    .dataframe thead th {\n",
       "        text-align: right;\n",
       "    }\n",
       "</style>\n",
       "<table border=\"1\" class=\"dataframe\">\n",
       "  <thead>\n",
       "    <tr style=\"text-align: right;\">\n",
       "      <th></th>\n",
       "      <th>Words</th>\n",
       "      <th>ComputedTags</th>\n",
       "    </tr>\n",
       "    <tr>\n",
       "      <th>ID</th>\n",
       "      <th></th>\n",
       "      <th></th>\n",
       "    </tr>\n",
       "  </thead>\n",
       "  <tbody>\n",
       "    <tr>\n",
       "      <th>0041230019f3679d60b2900af083d41d</th>\n",
       "      <td>[astronomers, black hole, european]</td>\n",
       "      <td>Tag: Black Swan, Vertical: Space, Location: Europe</td>\n",
       "    </tr>\n",
       "    <tr>\n",
       "      <th>0058547b6941eb5d98ce49d5ec448d00</th>\n",
       "      <td>[apple, banks]</td>\n",
       "      <td>Vertical: Technology, Company: Apple, Vertical: Banking</td>\n",
       "    </tr>\n",
       "    <tr>\n",
       "      <th>005b6d185b27aa2b15483734fac9c657</th>\n",
       "      <td>[america, clean power, energy, financing, renewable, renewable, renewable energy, renewable energy, solar, solar energy, solar powered, truck]</td>\n",
       "      <td>Application: Renewables, Vertical: Energy &amp; Utility, Tag: Solar, Location: North America, Tag: Green Power, Vertical: Transportation, Vertical: Finance</td>\n",
       "    </tr>\n",
       "    <tr>\n",
       "      <th>008add2b66153dfd0512bf8611f3b815</th>\n",
       "      <td>[remote working]</td>\n",
       "      <td>Application: Smart Working</td>\n",
       "    </tr>\n",
       "    <tr>\n",
       "      <th>00b4785a7e2de5a5df9b6ee9adba52e7</th>\n",
       "      <td>[florida, global warming, tesla]</td>\n",
       "      <td>Location: Florida, Vertical: Automotive, Company: Tesla, Tag: Global Warming</td>\n",
       "    </tr>\n",
       "  </tbody>\n",
       "</table>\n",
       "</div>"
      ],
      "text/plain": [
       "                                                                                                                                                                           Words  \\\n",
       "ID                                                                                                                                                                                 \n",
       "0041230019f3679d60b2900af083d41d                                                                                                             [astronomers, black hole, european]   \n",
       "0058547b6941eb5d98ce49d5ec448d00                                                                                                                                  [apple, banks]   \n",
       "005b6d185b27aa2b15483734fac9c657  [america, clean power, energy, financing, renewable, renewable, renewable energy, renewable energy, solar, solar energy, solar powered, truck]   \n",
       "008add2b66153dfd0512bf8611f3b815                                                                                                                                [remote working]   \n",
       "00b4785a7e2de5a5df9b6ee9adba52e7                                                                                                                [florida, global warming, tesla]   \n",
       "\n",
       "                                                                                                                                                                             ComputedTags  \n",
       "ID                                                                                                                                                                                         \n",
       "0041230019f3679d60b2900af083d41d                                                                                                       Tag: Black Swan, Vertical: Space, Location: Europe  \n",
       "0058547b6941eb5d98ce49d5ec448d00                                                                                                  Vertical: Technology, Company: Apple, Vertical: Banking  \n",
       "005b6d185b27aa2b15483734fac9c657  Application: Renewables, Vertical: Energy & Utility, Tag: Solar, Location: North America, Tag: Green Power, Vertical: Transportation, Vertical: Finance  \n",
       "008add2b66153dfd0512bf8611f3b815                                                                                                                               Application: Smart Working  \n",
       "00b4785a7e2de5a5df9b6ee9adba52e7                                                                             Location: Florida, Vertical: Automotive, Company: Tesla, Tag: Global Warming  "
      ]
     },
     "execution_count": 40,
     "metadata": {},
     "output_type": "execute_result"
    }
   ],
   "source": [
    "res.head()"
   ]
  },
  {
   "cell_type": "code",
   "execution_count": 41,
   "metadata": {},
   "outputs": [],
   "source": [
    "articoli = articoli.merge(res, on=\"ID\", how='left')\n",
    "articoli = articoli.replace(np.nan, '', regex=True)"
   ]
  },
  {
   "cell_type": "code",
   "execution_count": 42,
   "metadata": {},
   "outputs": [
    {
     "data": {
      "text/html": [
       "<div>\n",
       "<style scoped>\n",
       "    .dataframe tbody tr th:only-of-type {\n",
       "        vertical-align: middle;\n",
       "    }\n",
       "\n",
       "    .dataframe tbody tr th {\n",
       "        vertical-align: top;\n",
       "    }\n",
       "\n",
       "    .dataframe thead th {\n",
       "        text-align: right;\n",
       "    }\n",
       "</style>\n",
       "<table border=\"1\" class=\"dataframe\">\n",
       "  <thead>\n",
       "    <tr style=\"text-align: right;\">\n",
       "      <th></th>\n",
       "      <th>ID</th>\n",
       "      <th>Titolo</th>\n",
       "      <th>Data</th>\n",
       "      <th>Testo</th>\n",
       "      <th>Trend</th>\n",
       "      <th>Txt</th>\n",
       "      <th>Anno</th>\n",
       "      <th>Mese</th>\n",
       "      <th>Day</th>\n",
       "      <th>Week</th>\n",
       "      <th>Keywords</th>\n",
       "      <th>Words</th>\n",
       "      <th>ComputedTags</th>\n",
       "    </tr>\n",
       "  </thead>\n",
       "  <tbody>\n",
       "    <tr>\n",
       "      <th>0</th>\n",
       "      <td>2b62c9c3c72cdf9219cde304910ba6f1</td>\n",
       "      <td>Flexible Thin-film Fast Charge Battery...</td>\n",
       "      <td>2018-12-05</td>\n",
       "      <td>With the rise of Internet of Things and wearables, batteries have taken on new form factors to meet the different market requirements such as power, flexibility and thinness. At a technology roundtable organised by IPI on 27 November 2018, EJ Shin, Strategic Planning Director of Jenax Inc., pres...</td>\n",
       "      <td>Decarbonization &amp; Transition to Renewable &amp; New Sources of Energy</td>\n",
       "      <td>flexible thin film fast charge battery rise internet things wearables batteries taken form factors meet different market requirements power flexibility thinness technology roundtable organised ipi november ej shin strategic planning director jenax inc presented latest flexible thin film fast cha...</td>\n",
       "      <td>2018</td>\n",
       "      <td>12</td>\n",
       "      <td>5</td>\n",
       "      <td>49</td>\n",
       "      <td>battery, flexible, thin film, ipi, thin, film, charge, technology, strategic planning, fast, flex, korean, wearables, fabric, find, networking, session, suitable, please, freedom, internet things, newly, enterprises, military, singapore</td>\n",
       "      <td>[battery, internet things, korean, military, singapore, technology, wearables]</td>\n",
       "      <td>Location: Korea, Location: Singapore, Application: Energy Storage, Tech: Wearables, Tag: Military, Tech: IoT, Tag: Technology, Tech: Batteries</td>\n",
       "    </tr>\n",
       "    <tr>\n",
       "      <th>1</th>\n",
       "      <td>fc904ef82779aaa9114df97e8284102a</td>\n",
       "      <td>Connecting Start-ups to Technical Experts via...</td>\n",
       "      <td>2019-02-01</td>\n",
       "      <td>Start ups grapple with numerous challenges and the path to success is often gruelling. For many technology start ups, product innovation and development are particularly important components to gain a competitive advantage in the market. As part of its efforts to engage the hardware and engineer...</td>\n",
       "      <td>Open Innovation</td>\n",
       "      <td>connecting start ups technical experts via start ups grapple numerous challenges path success often gruelling technology start ups product innovation development particularly important components gain competitive advantage market part efforts engage hardware engineering start ups singapore enhan...</td>\n",
       "      <td>2019</td>\n",
       "      <td>2</td>\n",
       "      <td>1</td>\n",
       "      <td>05</td>\n",
       "      <td>start ups, ups, start, innovation, ipi, product development, experts, product, technical, development, challenges, flex, grapple, journeys, district, particularly important, open innovation, smooth, market, industry, shorter, session, lee, engaging, pain</td>\n",
       "      <td>[development, innovation, product development, start ups]</td>\n",
       "      <td>Tag: Innovation, Tag: Development, Tag: Startup</td>\n",
       "    </tr>\n",
       "  </tbody>\n",
       "</table>\n",
       "</div>"
      ],
      "text/plain": [
       "                                 ID  \\\n",
       "0  2b62c9c3c72cdf9219cde304910ba6f1   \n",
       "1  fc904ef82779aaa9114df97e8284102a   \n",
       "\n",
       "                                             Titolo       Data  \\\n",
       "0         Flexible Thin-film Fast Charge Battery... 2018-12-05   \n",
       "1  Connecting Start-ups to Technical Experts via... 2019-02-01   \n",
       "\n",
       "                                                                                                                                                                                                                                                                                                         Testo  \\\n",
       "0  With the rise of Internet of Things and wearables, batteries have taken on new form factors to meet the different market requirements such as power, flexibility and thinness. At a technology roundtable organised by IPI on 27 November 2018, EJ Shin, Strategic Planning Director of Jenax Inc., pres...   \n",
       "1  Start ups grapple with numerous challenges and the path to success is often gruelling. For many technology start ups, product innovation and development are particularly important components to gain a competitive advantage in the market. As part of its efforts to engage the hardware and engineer...   \n",
       "\n",
       "                                                               Trend  \\\n",
       "0  Decarbonization & Transition to Renewable & New Sources of Energy   \n",
       "1                                                    Open Innovation   \n",
       "\n",
       "                                                                                                                                                                                                                                                                                                           Txt  \\\n",
       "0  flexible thin film fast charge battery rise internet things wearables batteries taken form factors meet different market requirements power flexibility thinness technology roundtable organised ipi november ej shin strategic planning director jenax inc presented latest flexible thin film fast cha...   \n",
       "1  connecting start ups technical experts via start ups grapple numerous challenges path success often gruelling technology start ups product innovation development particularly important components gain competitive advantage market part efforts engage hardware engineering start ups singapore enhan...   \n",
       "\n",
       "   Anno  Mese  Day Week  \\\n",
       "0  2018    12    5   49   \n",
       "1  2019     2    1   05   \n",
       "\n",
       "                                                                                                                                                                                                                                                         Keywords  \\\n",
       "0                    battery, flexible, thin film, ipi, thin, film, charge, technology, strategic planning, fast, flex, korean, wearables, fabric, find, networking, session, suitable, please, freedom, internet things, newly, enterprises, military, singapore   \n",
       "1  start ups, ups, start, innovation, ipi, product development, experts, product, technical, development, challenges, flex, grapple, journeys, district, particularly important, open innovation, smooth, market, industry, shorter, session, lee, engaging, pain   \n",
       "\n",
       "                                                                            Words  \\\n",
       "0  [battery, internet things, korean, military, singapore, technology, wearables]   \n",
       "1                       [development, innovation, product development, start ups]   \n",
       "\n",
       "                                                                                                                                     ComputedTags  \n",
       "0  Location: Korea, Location: Singapore, Application: Energy Storage, Tech: Wearables, Tag: Military, Tech: IoT, Tag: Technology, Tech: Batteries  \n",
       "1                                                                                                 Tag: Innovation, Tag: Development, Tag: Startup  "
      ]
     },
     "execution_count": 42,
     "metadata": {},
     "output_type": "execute_result"
    }
   ],
   "source": [
    "articoli.head(2)"
   ]
  },
  {
   "cell_type": "code",
   "execution_count": 43,
   "metadata": {},
   "outputs": [
    {
     "name": "stdout",
     "output_type": "stream",
     "text": [
      "articoli senza keyword: 0\n"
     ]
    }
   ],
   "source": [
    "print (\"articoli senza keyword: %d\" % articoli['ComputedTags'].isnull().values.sum())"
   ]
  },
  {
   "cell_type": "code",
   "execution_count": 44,
   "metadata": {},
   "outputs": [
    {
     "data": {
      "text/plain": [
       "8"
      ]
     },
     "execution_count": 44,
     "metadata": {},
     "output_type": "execute_result"
    }
   ],
   "source": [
    "def count_tags(tags):\n",
    "    tag_list = tags.split(\",\")\n",
    "    \n",
    "    #deduplica\n",
    "    tag_list = list(map(str.strip, tag_list))\n",
    "    tag_list = list(filter(None, tag_list))\n",
    "    tag_list = list(set(tag_list))\n",
    "    \n",
    "    return (len(tag_list))\n",
    "    \n",
    "count_tags(articoli['ComputedTags'][0])"
   ]
  },
  {
   "cell_type": "code",
   "execution_count": 45,
   "metadata": {},
   "outputs": [],
   "source": [
    "articoli['NumberOfTags'] = articoli['ComputedTags'].apply(lambda x: count_tags(x))"
   ]
  },
  {
   "cell_type": "code",
   "execution_count": 46,
   "metadata": {},
   "outputs": [
    {
     "data": {
      "image/png": "[encoded data removed]",
      "text/plain": [
       "<Figure size 864x432 with 1 Axes>"
      ]
     },
     "metadata": {
      "needs_background": "light"
     },
     "output_type": "display_data"
    }
   ],
   "source": [
    "plt.figure(figsize=(12,6))\n",
    "ax=sns.countplot(articoli[\"NumberOfTags\"])\n",
    "plt.xlabel(\"Numero di tag per articolo\")\n",
    "plt.ylabel(\"Articoli\")\n",
    "plt.show()"
   ]
  },
  {
   "cell_type": "code",
   "execution_count": 47,
   "metadata": {},
   "outputs": [],
   "source": [
    "#articoli.to_csv('prova.csv', sep=\";\")"
   ]
  },
  {
   "cell_type": "markdown",
   "metadata": {
    "colab_type": "text",
    "id": "-27LekL_lqVR"
   },
   "source": [
    "## Split tags in columns"
   ]
  },
  {
   "cell_type": "code",
   "execution_count": 48,
   "metadata": {},
   "outputs": [
    {
     "data": {
      "text/plain": [
       "['Company', 'Tag', 'Vertical', 'Tech', 'Application', 'Location']"
      ]
     },
     "execution_count": 48,
     "metadata": {},
     "output_type": "execute_result"
    }
   ],
   "source": [
    "## Extract keywords for each row\n",
    "def get_tags_types(tags):\n",
    "    tag_types = []\n",
    "    for tag in tags:\n",
    "        t1 = tag.split(\",\")[0]\n",
    "        if len(t1):\n",
    "            t2 = t1.split(\":\")[0]\n",
    "            tag_types.append(t2)\n",
    "            \n",
    "    tag_types = list(map(str.strip, tag_types))\n",
    "    tag_types = list(filter(None, tag_types))\n",
    "    tag_types = list(set(tag_types))\n",
    "    \n",
    "    return tag_types\n",
    "    \n",
    "get_tags_types(articoli['ComputedTags'])"
   ]
  },
  {
   "cell_type": "code",
   "execution_count": 49,
   "metadata": {},
   "outputs": [
    {
     "data": {
      "text/plain": [
       "''"
      ]
     },
     "execution_count": 49,
     "metadata": {},
     "output_type": "execute_result"
    }
   ],
   "source": [
    "def split_tags_in_columns(tags, column):\n",
    "    tag_list = tags.split(\",\")\n",
    "\n",
    "    tag = []\n",
    "    for t in tag_list:\n",
    "        if t.split(\":\")[0].strip() == column:\n",
    "            tag.append(t.split(\":\")[1].strip())\n",
    "            #return t.split(\":\")[1].strip()\n",
    "        \n",
    "    str_tag = \", \" . join(tag)\n",
    "    return str_tag\n",
    "    \n",
    "split_tags_in_columns(articoli['ComputedTags'][4], 'Tech')"
   ]
  },
  {
   "cell_type": "code",
   "execution_count": 50,
   "metadata": {},
   "outputs": [],
   "source": [
    "for tt in get_tags_types(articoli['ComputedTags']):\n",
    "    articoli[tt] = articoli['ComputedTags'].apply(lambda x: split_tags_in_columns(x, tt))"
   ]
  },
  {
   "cell_type": "code",
   "execution_count": 51,
   "metadata": {},
   "outputs": [
    {
     "data": {
      "text/html": [
       "<div>\n",
       "<style scoped>\n",
       "    .dataframe tbody tr th:only-of-type {\n",
       "        vertical-align: middle;\n",
       "    }\n",
       "\n",
       "    .dataframe tbody tr th {\n",
       "        vertical-align: top;\n",
       "    }\n",
       "\n",
       "    .dataframe thead th {\n",
       "        text-align: right;\n",
       "    }\n",
       "</style>\n",
       "<table border=\"1\" class=\"dataframe\">\n",
       "  <thead>\n",
       "    <tr style=\"text-align: right;\">\n",
       "      <th></th>\n",
       "      <th>ID</th>\n",
       "      <th>Titolo</th>\n",
       "      <th>Data</th>\n",
       "      <th>Testo</th>\n",
       "      <th>Trend</th>\n",
       "      <th>Txt</th>\n",
       "      <th>Anno</th>\n",
       "      <th>Mese</th>\n",
       "      <th>Day</th>\n",
       "      <th>Week</th>\n",
       "      <th>Keywords</th>\n",
       "      <th>Words</th>\n",
       "      <th>ComputedTags</th>\n",
       "      <th>NumberOfTags</th>\n",
       "      <th>Company</th>\n",
       "      <th>Tag</th>\n",
       "      <th>Vertical</th>\n",
       "      <th>Tech</th>\n",
       "      <th>Application</th>\n",
       "      <th>Location</th>\n",
       "    </tr>\n",
       "  </thead>\n",
       "  <tbody>\n",
       "    <tr>\n",
       "      <th>0</th>\n",
       "      <td>2b62c9c3c72cdf9219cde304910ba6f1</td>\n",
       "      <td>Flexible Thin-film Fast Charge Battery...</td>\n",
       "      <td>2018-12-05</td>\n",
       "      <td>With the rise of Internet of Things and wearables, batteries have taken on new form factors to meet the different market requirements such as power, flexibility and thinness. At a technology roundtable organised by IPI on 27 November 2018, EJ Shin, Strategic Planning Director of Jenax Inc., pres...</td>\n",
       "      <td>Decarbonization &amp; Transition to Renewable &amp; New Sources of Energy</td>\n",
       "      <td>flexible thin film fast charge battery rise internet things wearables batteries taken form factors meet different market requirements power flexibility thinness technology roundtable organised ipi november ej shin strategic planning director jenax inc presented latest flexible thin film fast cha...</td>\n",
       "      <td>2018</td>\n",
       "      <td>12</td>\n",
       "      <td>5</td>\n",
       "      <td>49</td>\n",
       "      <td>battery, flexible, thin film, ipi, thin, film, charge, technology, strategic planning, fast, flex, korean, wearables, fabric, find, networking, session, suitable, please, freedom, internet things, newly, enterprises, military, singapore</td>\n",
       "      <td>[battery, internet things, korean, military, singapore, technology, wearables]</td>\n",
       "      <td>Location: Korea, Location: Singapore, Application: Energy Storage, Tech: Wearables, Tag: Military, Tech: IoT, Tag: Technology, Tech: Batteries</td>\n",
       "      <td>8</td>\n",
       "      <td></td>\n",
       "      <td>Military, Technology</td>\n",
       "      <td></td>\n",
       "      <td>Wearables, IoT, Batteries</td>\n",
       "      <td>Energy Storage</td>\n",
       "      <td>Korea, Singapore</td>\n",
       "    </tr>\n",
       "  </tbody>\n",
       "</table>\n",
       "</div>"
      ],
      "text/plain": [
       "                                 ID  \\\n",
       "0  2b62c9c3c72cdf9219cde304910ba6f1   \n",
       "\n",
       "                                      Titolo       Data  \\\n",
       "0  Flexible Thin-film Fast Charge Battery... 2018-12-05   \n",
       "\n",
       "                                                                                                                                                                                                                                                                                                         Testo  \\\n",
       "0  With the rise of Internet of Things and wearables, batteries have taken on new form factors to meet the different market requirements such as power, flexibility and thinness. At a technology roundtable organised by IPI on 27 November 2018, EJ Shin, Strategic Planning Director of Jenax Inc., pres...   \n",
       "\n",
       "                                                               Trend  \\\n",
       "0  Decarbonization & Transition to Renewable & New Sources of Energy   \n",
       "\n",
       "                                                                                                                                                                                                                                                                                                           Txt  \\\n",
       "0  flexible thin film fast charge battery rise internet things wearables batteries taken form factors meet different market requirements power flexibility thinness technology roundtable organised ipi november ej shin strategic planning director jenax inc presented latest flexible thin film fast cha...   \n",
       "\n",
       "   Anno  Mese  Day Week  \\\n",
       "0  2018    12    5   49   \n",
       "\n",
       "                                                                                                                                                                                                                                       Keywords  \\\n",
       "0  battery, flexible, thin film, ipi, thin, film, charge, technology, strategic planning, fast, flex, korean, wearables, fabric, find, networking, session, suitable, please, freedom, internet things, newly, enterprises, military, singapore   \n",
       "\n",
       "                                                                            Words  \\\n",
       "0  [battery, internet things, korean, military, singapore, technology, wearables]   \n",
       "\n",
       "                                                                                                                                     ComputedTags  \\\n",
       "0  Location: Korea, Location: Singapore, Application: Energy Storage, Tech: Wearables, Tag: Military, Tech: IoT, Tag: Technology, Tech: Batteries   \n",
       "\n",
       "   NumberOfTags Company                   Tag Vertical  \\\n",
       "0             8          Military, Technology            \n",
       "\n",
       "                        Tech     Application          Location  \n",
       "0  Wearables, IoT, Batteries  Energy Storage  Korea, Singapore  "
      ]
     },
     "execution_count": 51,
     "metadata": {},
     "output_type": "execute_result"
    }
   ],
   "source": [
    "articoli.head(1)"
   ]
  },
  {
   "cell_type": "code",
   "execution_count": 52,
   "metadata": {},
   "outputs": [],
   "source": [
    "#articoli.to_csv('prova.csv', sep=\";\", encoding = \"utf-8\")"
   ]
  },
  {
   "cell_type": "markdown",
   "metadata": {
    "colab_type": "text",
    "id": "-27LekL_lqVR"
   },
   "source": [
    "## Save assets"
   ]
  },
  {
   "cell_type": "code",
   "execution_count": 53,
   "metadata": {},
   "outputs": [],
   "source": [
    "import pickle\n",
    "with open('stop_words', 'wb') as stopwords_dump:\n",
    "    pickle.dump(stop_words, stopwords_dump)"
   ]
  },
  {
   "cell_type": "code",
   "execution_count": 54,
   "metadata": {},
   "outputs": [],
   "source": [
    "output_filename = 'temp/db'\n",
    "articoli.to_csv(output_filename, sep=\";\")"
   ]
  },
  {
   "cell_type": "code",
   "execution_count": null,
   "metadata": {},
   "outputs": [],
   "source": []
  }
 ],
 "metadata": {
  "celltoolbar": "Raw Cell Format",
  "kernelspec": {
   "display_name": "Python 3",
   "language": "python",
   "name": "python3"
  },
  "language_info": {
   "codemirror_mode": {
    "name": "ipython",
    "version": 3
   },
   "file_extension": ".py",
   "mimetype": "text/x-python",
   "name": "python",
   "nbconvert_exporter": "python",
   "pygments_lexer": "ipython3",
   "version": "3.7.7"
  }
 },
 "nbformat": 4,
 "nbformat_minor": 4
}
