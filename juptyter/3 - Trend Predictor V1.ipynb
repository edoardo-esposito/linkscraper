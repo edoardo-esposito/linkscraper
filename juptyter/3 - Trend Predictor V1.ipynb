{
 "cells": [
  {
   "cell_type": "code",
   "execution_count": 2,
   "metadata": {},
   "outputs": [],
   "source": [
    "import pickle\n",
    "import pandas as pd\n",
    "from sklearn.feature_extraction.text import TfidfVectorizer\n",
    "import numpy as np"
   ]
  },
  {
   "cell_type": "code",
   "execution_count": 3,
   "metadata": {},
   "outputs": [],
   "source": [
    "with open('trend_classifier', 'rb') as training_model:\n",
    "    model = pickle.load(training_model)"
   ]
  },
  {
   "cell_type": "code",
   "execution_count": 4,
   "metadata": {},
   "outputs": [],
   "source": [
    "with open('trend_tfidfconverter', 'rb') as training_model:\n",
    "    tfidfconverter = pickle.load(training_model)"
   ]
  },
  {
   "cell_type": "code",
   "execution_count": null,
   "metadata": {},
   "outputs": [],
   "source": [
    "input_filename = '../tobepredicted.csv'\n",
    "\n",
    "meta = pd.read_csv(input_filename, sep=\";\", encoding = \"ISO-8859-1\", header=None, \n",
    "                   names=['ID', 'Titolo', 'Url', 'Data', 'Testo'])"
   ]
  },
  {
   "cell_type": "code",
   "execution_count": 6,
   "metadata": {},
   "outputs": [],
   "source": [
    "input_filename = '../tobepredicted.xlsx'\n",
    "\n",
    "meta = pd.read_excel(input_filename, encoding=\"utf8\", \n",
    "                     error_bad_lines=False)"
   ]
  },
  {
   "cell_type": "code",
   "execution_count": 8,
   "metadata": {
    "scrolled": true
   },
   "outputs": [
    {
     "data": {
      "text/html": [
       "<div>\n",
       "<style scoped>\n",
       "    .dataframe tbody tr th:only-of-type {\n",
       "        vertical-align: middle;\n",
       "    }\n",
       "\n",
       "    .dataframe tbody tr th {\n",
       "        vertical-align: top;\n",
       "    }\n",
       "\n",
       "    .dataframe thead th {\n",
       "        text-align: right;\n",
       "    }\n",
       "</style>\n",
       "<table border=\"1\" class=\"dataframe\">\n",
       "  <thead>\n",
       "    <tr style=\"text-align: right;\">\n",
       "      <th></th>\n",
       "      <th>ID</th>\n",
       "      <th>Titolo</th>\n",
       "      <th>Url</th>\n",
       "      <th>Data</th>\n",
       "      <th>Testo</th>\n",
       "    </tr>\n",
       "  </thead>\n",
       "  <tbody>\n",
       "    <tr>\n",
       "      <th>0</th>\n",
       "      <td>6b6f89f1f782250ae7a764a0b2b51eb7</td>\n",
       "      <td>Coming soon to a 3D printer near you: Plant-ba...</td>\n",
       "      <td>https://www.reuters.com//article/us-tech-food-...</td>\n",
       "      <td>2020-07-01</td>\n",
       "      <td>TEL AVIV ZURICH Reuters Israeli start up Redef...</td>\n",
       "    </tr>\n",
       "    <tr>\n",
       "      <th>1</th>\n",
       "      <td>1ae78191b1f7f901519069e1c737345a</td>\n",
       "      <td>Munich prosecutors search Wirecard HQ, as prob...</td>\n",
       "      <td>https://www.reuters.com//article/us-wirecard-a...</td>\n",
       "      <td>2020-07-01</td>\n",
       "      <td>FILE PHOTO The headquarters of Wirecard AG, an...</td>\n",
       "    </tr>\n",
       "    <tr>\n",
       "      <th>2</th>\n",
       "      <td>2c0a8a803f68fc227b508b98cc18339c</td>\n",
       "      <td>German watchdog defends Wirecard oversight bef...</td>\n",
       "      <td>https://www.reuters.com//article/us-wirecard-a...</td>\n",
       "      <td>2020-07-01</td>\n",
       "      <td>FRANKFURT BERLIN Reuters The head of Germany s...</td>\n",
       "    </tr>\n",
       "    <tr>\n",
       "      <th>3</th>\n",
       "      <td>4e5f5f4b59fa84709cbba9dd1d70cfa0</td>\n",
       "      <td>Deutsche Boerse says software glitch caused tr...</td>\n",
       "      <td>https://www.reuters.com//article/us-germany-st...</td>\n",
       "      <td>2020-07-01</td>\n",
       "      <td>FILE PHOTO The German share price index DAX gr...</td>\n",
       "    </tr>\n",
       "    <tr>\n",
       "      <th>4</th>\n",
       "      <td>163da2da0791e6901a10bedbafb026c6</td>\n",
       "      <td>EU throws new rule book at Google, tech giants...</td>\n",
       "      <td>https://www.reuters.com//article/us-europe-tec...</td>\n",
       "      <td>2020-07-01</td>\n",
       "      <td>Brussels Reuters Exasperated by its failure to...</td>\n",
       "    </tr>\n",
       "  </tbody>\n",
       "</table>\n",
       "</div>"
      ],
      "text/plain": [
       "                                 ID  \\\n",
       "0  6b6f89f1f782250ae7a764a0b2b51eb7   \n",
       "1  1ae78191b1f7f901519069e1c737345a   \n",
       "2  2c0a8a803f68fc227b508b98cc18339c   \n",
       "3  4e5f5f4b59fa84709cbba9dd1d70cfa0   \n",
       "4  163da2da0791e6901a10bedbafb026c6   \n",
       "\n",
       "                                              Titolo  \\\n",
       "0  Coming soon to a 3D printer near you: Plant-ba...   \n",
       "1  Munich prosecutors search Wirecard HQ, as prob...   \n",
       "2  German watchdog defends Wirecard oversight bef...   \n",
       "3  Deutsche Boerse says software glitch caused tr...   \n",
       "4  EU throws new rule book at Google, tech giants...   \n",
       "\n",
       "                                                 Url       Data  \\\n",
       "0  https://www.reuters.com//article/us-tech-food-... 2020-07-01   \n",
       "1  https://www.reuters.com//article/us-wirecard-a... 2020-07-01   \n",
       "2  https://www.reuters.com//article/us-wirecard-a... 2020-07-01   \n",
       "3  https://www.reuters.com//article/us-germany-st... 2020-07-01   \n",
       "4  https://www.reuters.com//article/us-europe-tec... 2020-07-01   \n",
       "\n",
       "                                               Testo  \n",
       "0  TEL AVIV ZURICH Reuters Israeli start up Redef...  \n",
       "1  FILE PHOTO The headquarters of Wirecard AG, an...  \n",
       "2  FRANKFURT BERLIN Reuters The head of Germany s...  \n",
       "3  FILE PHOTO The German share price index DAX gr...  \n",
       "4  Brussels Reuters Exasperated by its failure to...  "
      ]
     },
     "execution_count": 8,
     "metadata": {},
     "output_type": "execute_result"
    }
   ],
   "source": [
    "meta = meta.replace(np.nan, '', regex=True)\n",
    "\n",
    "meta = meta[~(meta['Testo'].str.len() == 0)]\n",
    "meta.head()"
   ]
  },
  {
   "cell_type": "code",
   "execution_count": 9,
   "metadata": {},
   "outputs": [],
   "source": [
    "X = tfidfconverter.transform(meta['Testo']).toarray()\n",
    "predicted_trends = model.predict(X)"
   ]
  },
  {
   "cell_type": "code",
   "execution_count": 11,
   "metadata": {},
   "outputs": [
    {
     "data": {
      "text/html": [
       "<div>\n",
       "<style scoped>\n",
       "    .dataframe tbody tr th:only-of-type {\n",
       "        vertical-align: middle;\n",
       "    }\n",
       "\n",
       "    .dataframe tbody tr th {\n",
       "        vertical-align: top;\n",
       "    }\n",
       "\n",
       "    .dataframe thead th {\n",
       "        text-align: right;\n",
       "    }\n",
       "</style>\n",
       "<table border=\"1\" class=\"dataframe\">\n",
       "  <thead>\n",
       "    <tr style=\"text-align: right;\">\n",
       "      <th></th>\n",
       "      <th>ID</th>\n",
       "      <th>Titolo</th>\n",
       "      <th>Url</th>\n",
       "      <th>Data</th>\n",
       "      <th>Testo</th>\n",
       "      <th>Predicted Trend</th>\n",
       "    </tr>\n",
       "  </thead>\n",
       "  <tbody>\n",
       "    <tr>\n",
       "      <th>0</th>\n",
       "      <td>6b6f89f1f782250ae7a764a0b2b51eb7</td>\n",
       "      <td>Coming soon to a 3D printer near you: Plant-ba...</td>\n",
       "      <td>https://www.reuters.com//article/us-tech-food-...</td>\n",
       "      <td>2020-07-01</td>\n",
       "      <td>TEL AVIV ZURICH Reuters Israeli start up Redef...</td>\n",
       "      <td>New Normal after COVID-19</td>\n",
       "    </tr>\n",
       "    <tr>\n",
       "      <th>1</th>\n",
       "      <td>1ae78191b1f7f901519069e1c737345a</td>\n",
       "      <td>Munich prosecutors search Wirecard HQ, as prob...</td>\n",
       "      <td>https://www.reuters.com//article/us-wirecard-a...</td>\n",
       "      <td>2020-07-01</td>\n",
       "      <td>FILE PHOTO The headquarters of Wirecard AG, an...</td>\n",
       "      <td>Fintech and future of economy</td>\n",
       "    </tr>\n",
       "    <tr>\n",
       "      <th>2</th>\n",
       "      <td>2c0a8a803f68fc227b508b98cc18339c</td>\n",
       "      <td>German watchdog defends Wirecard oversight bef...</td>\n",
       "      <td>https://www.reuters.com//article/us-wirecard-a...</td>\n",
       "      <td>2020-07-01</td>\n",
       "      <td>FRANKFURT BERLIN Reuters The head of Germany s...</td>\n",
       "      <td>Fintech and future of economy</td>\n",
       "    </tr>\n",
       "    <tr>\n",
       "      <th>3</th>\n",
       "      <td>4e5f5f4b59fa84709cbba9dd1d70cfa0</td>\n",
       "      <td>Deutsche Boerse says software glitch caused tr...</td>\n",
       "      <td>https://www.reuters.com//article/us-germany-st...</td>\n",
       "      <td>2020-07-01</td>\n",
       "      <td>FILE PHOTO The German share price index DAX gr...</td>\n",
       "      <td>Restaurants and Future of Food and Beverage</td>\n",
       "    </tr>\n",
       "    <tr>\n",
       "      <th>4</th>\n",
       "      <td>163da2da0791e6901a10bedbafb026c6</td>\n",
       "      <td>EU throws new rule book at Google, tech giants...</td>\n",
       "      <td>https://www.reuters.com//article/us-europe-tec...</td>\n",
       "      <td>2020-07-01</td>\n",
       "      <td>Brussels Reuters Exasperated by its failure to...</td>\n",
       "      <td>Cyber Defense and Fight against Fakes</td>\n",
       "    </tr>\n",
       "  </tbody>\n",
       "</table>\n",
       "</div>"
      ],
      "text/plain": [
       "                                 ID  \\\n",
       "0  6b6f89f1f782250ae7a764a0b2b51eb7   \n",
       "1  1ae78191b1f7f901519069e1c737345a   \n",
       "2  2c0a8a803f68fc227b508b98cc18339c   \n",
       "3  4e5f5f4b59fa84709cbba9dd1d70cfa0   \n",
       "4  163da2da0791e6901a10bedbafb026c6   \n",
       "\n",
       "                                              Titolo  \\\n",
       "0  Coming soon to a 3D printer near you: Plant-ba...   \n",
       "1  Munich prosecutors search Wirecard HQ, as prob...   \n",
       "2  German watchdog defends Wirecard oversight bef...   \n",
       "3  Deutsche Boerse says software glitch caused tr...   \n",
       "4  EU throws new rule book at Google, tech giants...   \n",
       "\n",
       "                                                 Url       Data  \\\n",
       "0  https://www.reuters.com//article/us-tech-food-... 2020-07-01   \n",
       "1  https://www.reuters.com//article/us-wirecard-a... 2020-07-01   \n",
       "2  https://www.reuters.com//article/us-wirecard-a... 2020-07-01   \n",
       "3  https://www.reuters.com//article/us-germany-st... 2020-07-01   \n",
       "4  https://www.reuters.com//article/us-europe-tec... 2020-07-01   \n",
       "\n",
       "                                               Testo  \\\n",
       "0  TEL AVIV ZURICH Reuters Israeli start up Redef...   \n",
       "1  FILE PHOTO The headquarters of Wirecard AG, an...   \n",
       "2  FRANKFURT BERLIN Reuters The head of Germany s...   \n",
       "3  FILE PHOTO The German share price index DAX gr...   \n",
       "4  Brussels Reuters Exasperated by its failure to...   \n",
       "\n",
       "                               Predicted Trend  \n",
       "0                    New Normal after COVID-19  \n",
       "1                Fintech and future of economy  \n",
       "2                Fintech and future of economy  \n",
       "3  Restaurants and Future of Food and Beverage  \n",
       "4        Cyber Defense and Fight against Fakes  "
      ]
     },
     "execution_count": 11,
     "metadata": {},
     "output_type": "execute_result"
    }
   ],
   "source": [
    "p_series = pd.Series(predicted_trends)\n",
    "articoli = pd.concat([meta,p_series], axis=1).rename(columns={0: \"Predicted Trend\"})\n",
    "articoli.head()"
   ]
  },
  {
   "cell_type": "code",
   "execution_count": 14,
   "metadata": {},
   "outputs": [],
   "source": [
    "output_filename = '../prediction.csv'\n",
    "\n",
    "articoli.to_csv(output_filename, sep=\";\", encoding = \"ISO-8859-1\")"
   ]
  },
  {
   "cell_type": "code",
   "execution_count": null,
   "metadata": {},
   "outputs": [],
   "source": []
  },
  {
   "cell_type": "code",
   "execution_count": null,
   "metadata": {},
   "outputs": [],
   "source": []
  },
  {
   "cell_type": "code",
   "execution_count": null,
   "metadata": {},
   "outputs": [],
   "source": []
  }
 ],
 "metadata": {
  "kernelspec": {
   "display_name": "Python 3",
   "language": "python",
   "name": "python3"
  },
  "language_info": {
   "codemirror_mode": {
    "name": "ipython",
    "version": 3
   },
   "file_extension": ".py",
   "mimetype": "text/x-python",
   "name": "python",
   "nbconvert_exporter": "python",
   "pygments_lexer": "ipython3",
   "version": "3.7.7"
  }
 },
 "nbformat": 4,
 "nbformat_minor": 4
}
