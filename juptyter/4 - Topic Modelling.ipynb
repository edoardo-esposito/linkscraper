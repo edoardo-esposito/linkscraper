{
 "cells": [
  {
   "cell_type": "markdown",
   "metadata": {
    "_cell_guid": "7f7382af-cf02-47ac-bcea-7f5f407e28e1",
    "_uuid": "2ee8e2efa2101c1264fff2b8a72f846f9879646c"
   },
   "source": [
    "# Topic Modelling with LSA and LDA\n",
    "In this kernel, two topic modelling algorithms are explored: LSA and LDA. These techniques are applied to the 'A Million News Headlines' dataset, which is a corpus of over one million news article headlines published by the ABC. "
   ]
  },
  {
   "cell_type": "markdown",
   "metadata": {
    "_cell_guid": "81e6c728-92d6-46b6-848f-2124df59fc92",
    "_uuid": "ea84e7b744d0d5701e0019253aa9905718e55d72"
   },
   "source": [
    "## Exploratory Data Analysis\n",
    "As usual, it is prudent to begin with some basic exploratory analysis."
   ]
  },
  {
   "cell_type": "code",
   "execution_count": 6,
   "metadata": {
    "_cell_guid": "b1f10f39-91d4-45f1-b62f-d1f590e50438",
    "_kg_hide-input": false,
    "_kg_hide-output": false,
    "_uuid": "7edd510ba8ac857514e34d6b38c0466d125cffb9"
   },
   "outputs": [
    {
     "data": {
      "text/html": [
       "\n",
       "    <div class=\"bk-root\">\n",
       "        <a href=\"https://bokeh.org\" target=\"_blank\" class=\"bk-logo bk-logo-small bk-logo-notebook\"></a>\n",
       "        <span id=\"1002\">Loading BokehJS ...</span>\n",
       "    </div>"
      ]
     },
     "metadata": {},
     "output_type": "display_data"
    },
    {
     "data": {
      "application/javascript": [
       "\n",
       "(function(root) {\n",
       "  function now() {\n",
       "    return new Date();\n",
       "  }\n",
       "\n",
       "  var force = true;\n",
       "\n",
       "  if (typeof root._bokeh_onload_callbacks === \"undefined\" || force === true) {\n",
       "    root._bokeh_onload_callbacks = [];\n",
       "    root._bokeh_is_loading = undefined;\n",
       "  }\n",
       "\n",
       "  var JS_MIME_TYPE = 'application/javascript';\n",
       "  var HTML_MIME_TYPE = 'text/html';\n",
       "  var EXEC_MIME_TYPE = 'application/vnd.bokehjs_exec.v0+json';\n",
       "  var CLASS_NAME = 'output_bokeh rendered_html';\n",
       "\n",
       "  /**\n",
       "   * Render data to the DOM node\n",
       "   */\n",
       "  function render(props, node) {\n",
       "    var script = document.createElement(\"script\");\n",
       "    node.appendChild(script);\n",
       "  }\n",
       "\n",
       "  /**\n",
       "   * Handle when an output is cleared or removed\n",
       "   */\n",
       "  function handleClearOutput(event, handle) {\n",
       "    var cell = handle.cell;\n",
       "\n",
       "    var id = cell.output_area._bokeh_element_id;\n",
       "    var server_id = cell.output_area._bokeh_server_id;\n",
       "    // Clean up Bokeh references\n",
       "    if (id != null && id in Bokeh.index) {\n",
       "      Bokeh.index[id].model.document.clear();\n",
       "      delete Bokeh.index[id];\n",
       "    }\n",
       "\n",
       "    if (server_id !== undefined) {\n",
       "      // Clean up Bokeh references\n",
       "      var cmd = \"from bokeh.io.state import curstate; print(curstate().uuid_to_server['\" + server_id + \"'].get_sessions()[0].document.roots[0]._id)\";\n",
       "      cell.notebook.kernel.execute(cmd, {\n",
       "        iopub: {\n",
       "          output: function(msg) {\n",
       "            var id = msg.content.text.trim();\n",
       "            if (id in Bokeh.index) {\n",
       "              Bokeh.index[id].model.document.clear();\n",
       "              delete Bokeh.index[id];\n",
       "            }\n",
       "          }\n",
       "        }\n",
       "      });\n",
       "      // Destroy server and session\n",
       "      var cmd = \"import bokeh.io.notebook as ion; ion.destroy_server('\" + server_id + \"')\";\n",
       "      cell.notebook.kernel.execute(cmd);\n",
       "    }\n",
       "  }\n",
       "\n",
       "  /**\n",
       "   * Handle when a new output is added\n",
       "   */\n",
       "  function handleAddOutput(event, handle) {\n",
       "    var output_area = handle.output_area;\n",
       "    var output = handle.output;\n",
       "\n",
       "    // limit handleAddOutput to display_data with EXEC_MIME_TYPE content only\n",
       "    if ((output.output_type != \"display_data\") || (!output.data.hasOwnProperty(EXEC_MIME_TYPE))) {\n",
       "      return\n",
       "    }\n",
       "\n",
       "    var toinsert = output_area.element.find(\".\" + CLASS_NAME.split(' ')[0]);\n",
       "\n",
       "    if (output.metadata[EXEC_MIME_TYPE][\"id\"] !== undefined) {\n",
       "      toinsert[toinsert.length - 1].firstChild.textContent = output.data[JS_MIME_TYPE];\n",
       "      // store reference to embed id on output_area\n",
       "      output_area._bokeh_element_id = output.metadata[EXEC_MIME_TYPE][\"id\"];\n",
       "    }\n",
       "    if (output.metadata[EXEC_MIME_TYPE][\"server_id\"] !== undefined) {\n",
       "      var bk_div = document.createElement(\"div\");\n",
       "      bk_div.innerHTML = output.data[HTML_MIME_TYPE];\n",
       "      var script_attrs = bk_div.children[0].attributes;\n",
       "      for (var i = 0; i < script_attrs.length; i++) {\n",
       "        toinsert[toinsert.length - 1].firstChild.setAttribute(script_attrs[i].name, script_attrs[i].value);\n",
       "        toinsert[toinsert.length - 1].firstChild.textContent = bk_div.children[0].textContent\n",
       "      }\n",
       "      // store reference to server id on output_area\n",
       "      output_area._bokeh_server_id = output.metadata[EXEC_MIME_TYPE][\"server_id\"];\n",
       "    }\n",
       "  }\n",
       "\n",
       "  function register_renderer(events, OutputArea) {\n",
       "\n",
       "    function append_mime(data, metadata, element) {\n",
       "      // create a DOM node to render to\n",
       "      var toinsert = this.create_output_subarea(\n",
       "        metadata,\n",
       "        CLASS_NAME,\n",
       "        EXEC_MIME_TYPE\n",
       "      );\n",
       "      this.keyboard_manager.register_events(toinsert);\n",
       "      // Render to node\n",
       "      var props = {data: data, metadata: metadata[EXEC_MIME_TYPE]};\n",
       "      render(props, toinsert[toinsert.length - 1]);\n",
       "      element.append(toinsert);\n",
       "      return toinsert\n",
       "    }\n",
       "\n",
       "    /* Handle when an output is cleared or removed */\n",
       "    events.on('clear_output.CodeCell', handleClearOutput);\n",
       "    events.on('delete.Cell', handleClearOutput);\n",
       "\n",
       "    /* Handle when a new output is added */\n",
       "    events.on('output_added.OutputArea', handleAddOutput);\n",
       "\n",
       "    /**\n",
       "     * Register the mime type and append_mime function with output_area\n",
       "     */\n",
       "    OutputArea.prototype.register_mime_type(EXEC_MIME_TYPE, append_mime, {\n",
       "      /* Is output safe? */\n",
       "      safe: true,\n",
       "      /* Index of renderer in `output_area.display_order` */\n",
       "      index: 0\n",
       "    });\n",
       "  }\n",
       "\n",
       "  // register the mime type if in Jupyter Notebook environment and previously unregistered\n",
       "  if (root.Jupyter !== undefined) {\n",
       "    var events = require('base/js/events');\n",
       "    var OutputArea = require('notebook/js/outputarea').OutputArea;\n",
       "\n",
       "    if (OutputArea.prototype.mime_types().indexOf(EXEC_MIME_TYPE) == -1) {\n",
       "      register_renderer(events, OutputArea);\n",
       "    }\n",
       "  }\n",
       "\n",
       "  \n",
       "  if (typeof (root._bokeh_timeout) === \"undefined\" || force === true) {\n",
       "    root._bokeh_timeout = Date.now() + 5000;\n",
       "    root._bokeh_failed_load = false;\n",
       "  }\n",
       "\n",
       "  var NB_LOAD_WARNING = {'data': {'text/html':\n",
       "     \"<div style='background-color: #fdd'>\\n\"+\n",
       "     \"<p>\\n\"+\n",
       "     \"BokehJS does not appear to have successfully loaded. If loading BokehJS from CDN, this \\n\"+\n",
       "     \"may be due to a slow or bad network connection. Possible fixes:\\n\"+\n",
       "     \"</p>\\n\"+\n",
       "     \"<ul>\\n\"+\n",
       "     \"<li>re-rerun `output_notebook()` to attempt to load from CDN again, or</li>\\n\"+\n",
       "     \"<li>use INLINE resources instead, as so:</li>\\n\"+\n",
       "     \"</ul>\\n\"+\n",
       "     \"<code>\\n\"+\n",
       "     \"from bokeh.resources import INLINE\\n\"+\n",
       "     \"output_notebook(resources=INLINE)\\n\"+\n",
       "     \"</code>\\n\"+\n",
       "     \"</div>\"}};\n",
       "\n",
       "  function display_loaded() {\n",
       "    var el = document.getElementById(\"1002\");\n",
       "    if (el != null) {\n",
       "      el.textContent = \"BokehJS is loading...\";\n",
       "    }\n",
       "    if (root.Bokeh !== undefined) {\n",
       "      if (el != null) {\n",
       "        el.textContent = \"BokehJS \" + root.Bokeh.version + \" successfully loaded.\";\n",
       "      }\n",
       "    } else if (Date.now() < root._bokeh_timeout) {\n",
       "      setTimeout(display_loaded, 100)\n",
       "    }\n",
       "  }\n",
       "\n",
       "\n",
       "  function run_callbacks() {\n",
       "    try {\n",
       "      root._bokeh_onload_callbacks.forEach(function(callback) {\n",
       "        if (callback != null)\n",
       "          callback();\n",
       "      });\n",
       "    } finally {\n",
       "      delete root._bokeh_onload_callbacks\n",
       "    }\n",
       "    console.debug(\"Bokeh: all callbacks have finished\");\n",
       "  }\n",
       "\n",
       "  function load_libs(css_urls, js_urls, callback) {\n",
       "    if (css_urls == null) css_urls = [];\n",
       "    if (js_urls == null) js_urls = [];\n",
       "\n",
       "    root._bokeh_onload_callbacks.push(callback);\n",
       "    if (root._bokeh_is_loading > 0) {\n",
       "      console.debug(\"Bokeh: BokehJS is being loaded, scheduling callback at\", now());\n",
       "      return null;\n",
       "    }\n",
       "    if (js_urls == null || js_urls.length === 0) {\n",
       "      run_callbacks();\n",
       "      return null;\n",
       "    }\n",
       "    console.debug(\"Bokeh: BokehJS not loaded, scheduling load and callback at\", now());\n",
       "    root._bokeh_is_loading = css_urls.length + js_urls.length;\n",
       "\n",
       "    function on_load() {\n",
       "      root._bokeh_is_loading--;\n",
       "      if (root._bokeh_is_loading === 0) {\n",
       "        console.debug(\"Bokeh: all BokehJS libraries/stylesheets loaded\");\n",
       "        run_callbacks()\n",
       "      }\n",
       "    }\n",
       "\n",
       "    function on_error() {\n",
       "      console.error(\"failed to load \" + url);\n",
       "    }\n",
       "\n",
       "    for (var i = 0; i < css_urls.length; i++) {\n",
       "      var url = css_urls[i];\n",
       "      const element = document.createElement(\"link\");\n",
       "      element.onload = on_load;\n",
       "      element.onerror = on_error;\n",
       "      element.rel = \"stylesheet\";\n",
       "      element.type = \"text/css\";\n",
       "      element.href = url;\n",
       "      console.debug(\"Bokeh: injecting link tag for BokehJS stylesheet: \", url);\n",
       "      document.body.appendChild(element);\n",
       "    }\n",
       "\n",
       "    const hashes = {\"https://cdn.bokeh.org/bokeh/release/bokeh-2.0.2.min.js\": \"ufR9RFnRs6lniiaFvtJziE0YeidtAgBRH6ux2oUItHw5WTvE1zuk9uzhUU/FJXDp\", \"https://cdn.bokeh.org/bokeh/release/bokeh-widgets-2.0.2.min.js\": \"8QM/PGWBT+IssZuRcDcjzwIh1mkOmJSoNMmyYDZbCfXJg3Ap1lEvdVgFuSAwhb/J\", \"https://cdn.bokeh.org/bokeh/release/bokeh-tables-2.0.2.min.js\": \"Jm8cH3Rg0P6UeZhVY5cLy1WzKajUT9KImCY+76hEqrcJt59/d8GPvFHjCkYgnSIn\", \"https://cdn.bokeh.org/bokeh/release/bokeh-gl-2.0.2.min.js\": \"Ozhzj+SI7ywm74aOI/UajcWz+C0NjsPunEVyVIrxzYkB+jA+2tUw8x5xJCbVtK5I\"};\n",
       "\n",
       "    for (var i = 0; i < js_urls.length; i++) {\n",
       "      var url = js_urls[i];\n",
       "      var element = document.createElement('script');\n",
       "      element.onload = on_load;\n",
       "      element.onerror = on_error;\n",
       "      element.async = false;\n",
       "      element.src = url;\n",
       "      if (url in hashes) {\n",
       "        element.crossOrigin = \"anonymous\";\n",
       "        element.integrity = \"sha384-\" + hashes[url];\n",
       "      }\n",
       "      console.debug(\"Bokeh: injecting script tag for BokehJS library: \", url);\n",
       "      document.head.appendChild(element);\n",
       "    }\n",
       "  };\n",
       "\n",
       "  function inject_raw_css(css) {\n",
       "    const element = document.createElement(\"style\");\n",
       "    element.appendChild(document.createTextNode(css));\n",
       "    document.body.appendChild(element);\n",
       "  }\n",
       "\n",
       "  \n",
       "  var js_urls = [\"https://cdn.bokeh.org/bokeh/release/bokeh-2.0.2.min.js\", \"https://cdn.bokeh.org/bokeh/release/bokeh-widgets-2.0.2.min.js\", \"https://cdn.bokeh.org/bokeh/release/bokeh-tables-2.0.2.min.js\", \"https://cdn.bokeh.org/bokeh/release/bokeh-gl-2.0.2.min.js\"];\n",
       "  var css_urls = [];\n",
       "  \n",
       "\n",
       "  var inline_js = [\n",
       "    function(Bokeh) {\n",
       "      Bokeh.set_log_level(\"info\");\n",
       "    },\n",
       "    function(Bokeh) {\n",
       "    \n",
       "    \n",
       "    }\n",
       "  ];\n",
       "\n",
       "  function run_inline_js() {\n",
       "    \n",
       "    if (root.Bokeh !== undefined || force === true) {\n",
       "      \n",
       "    for (var i = 0; i < inline_js.length; i++) {\n",
       "      inline_js[i].call(root, root.Bokeh);\n",
       "    }\n",
       "    if (force === true) {\n",
       "        display_loaded();\n",
       "      }} else if (Date.now() < root._bokeh_timeout) {\n",
       "      setTimeout(run_inline_js, 100);\n",
       "    } else if (!root._bokeh_failed_load) {\n",
       "      console.log(\"Bokeh: BokehJS failed to load within specified timeout.\");\n",
       "      root._bokeh_failed_load = true;\n",
       "    } else if (force !== true) {\n",
       "      var cell = $(document.getElementById(\"1002\")).parents('.cell').data().cell;\n",
       "      cell.output_area.append_execute_result(NB_LOAD_WARNING)\n",
       "    }\n",
       "\n",
       "  }\n",
       "\n",
       "  if (root._bokeh_is_loading === 0) {\n",
       "    console.debug(\"Bokeh: BokehJS loaded, going straight to plotting\");\n",
       "    run_inline_js();\n",
       "  } else {\n",
       "    load_libs(css_urls, js_urls, function() {\n",
       "      console.debug(\"Bokeh: BokehJS plotting callback run at\", now());\n",
       "      run_inline_js();\n",
       "    });\n",
       "  }\n",
       "}(window));"
      ],
      "application/vnd.bokehjs_load.v0+json": "\n(function(root) {\n  function now() {\n    return new Date();\n  }\n\n  var force = true;\n\n  if (typeof root._bokeh_onload_callbacks === \"undefined\" || force === true) {\n    root._bokeh_onload_callbacks = [];\n    root._bokeh_is_loading = undefined;\n  }\n\n  \n\n  \n  if (typeof (root._bokeh_timeout) === \"undefined\" || force === true) {\n    root._bokeh_timeout = Date.now() + 5000;\n    root._bokeh_failed_load = false;\n  }\n\n  var NB_LOAD_WARNING = {'data': {'text/html':\n     \"<div style='background-color: #fdd'>\\n\"+\n     \"<p>\\n\"+\n     \"BokehJS does not appear to have successfully loaded. If loading BokehJS from CDN, this \\n\"+\n     \"may be due to a slow or bad network connection. Possible fixes:\\n\"+\n     \"</p>\\n\"+\n     \"<ul>\\n\"+\n     \"<li>re-rerun `output_notebook()` to attempt to load from CDN again, or</li>\\n\"+\n     \"<li>use INLINE resources instead, as so:</li>\\n\"+\n     \"</ul>\\n\"+\n     \"<code>\\n\"+\n     \"from bokeh.resources import INLINE\\n\"+\n     \"output_notebook(resources=INLINE)\\n\"+\n     \"</code>\\n\"+\n     \"</div>\"}};\n\n  function display_loaded() {\n    var el = document.getElementById(\"1002\");\n    if (el != null) {\n      el.textContent = \"BokehJS is loading...\";\n    }\n    if (root.Bokeh !== undefined) {\n      if (el != null) {\n        el.textContent = \"BokehJS \" + root.Bokeh.version + \" successfully loaded.\";\n      }\n    } else if (Date.now() < root._bokeh_timeout) {\n      setTimeout(display_loaded, 100)\n    }\n  }\n\n\n  function run_callbacks() {\n    try {\n      root._bokeh_onload_callbacks.forEach(function(callback) {\n        if (callback != null)\n          callback();\n      });\n    } finally {\n      delete root._bokeh_onload_callbacks\n    }\n    console.debug(\"Bokeh: all callbacks have finished\");\n  }\n\n  function load_libs(css_urls, js_urls, callback) {\n    if (css_urls == null) css_urls = [];\n    if (js_urls == null) js_urls = [];\n\n    root._bokeh_onload_callbacks.push(callback);\n    if (root._bokeh_is_loading > 0) {\n      console.debug(\"Bokeh: BokehJS is being loaded, scheduling callback at\", now());\n      return null;\n    }\n    if (js_urls == null || js_urls.length === 0) {\n      run_callbacks();\n      return null;\n    }\n    console.debug(\"Bokeh: BokehJS not loaded, scheduling load and callback at\", now());\n    root._bokeh_is_loading = css_urls.length + js_urls.length;\n\n    function on_load() {\n      root._bokeh_is_loading--;\n      if (root._bokeh_is_loading === 0) {\n        console.debug(\"Bokeh: all BokehJS libraries/stylesheets loaded\");\n        run_callbacks()\n      }\n    }\n\n    function on_error() {\n      console.error(\"failed to load \" + url);\n    }\n\n    for (var i = 0; i < css_urls.length; i++) {\n      var url = css_urls[i];\n      const element = document.createElement(\"link\");\n      element.onload = on_load;\n      element.onerror = on_error;\n      element.rel = \"stylesheet\";\n      element.type = \"text/css\";\n      element.href = url;\n      console.debug(\"Bokeh: injecting link tag for BokehJS stylesheet: \", url);\n      document.body.appendChild(element);\n    }\n\n    const hashes = {\"https://cdn.bokeh.org/bokeh/release/bokeh-2.0.2.min.js\": \"ufR9RFnRs6lniiaFvtJziE0YeidtAgBRH6ux2oUItHw5WTvE1zuk9uzhUU/FJXDp\", \"https://cdn.bokeh.org/bokeh/release/bokeh-widgets-2.0.2.min.js\": \"8QM/PGWBT+IssZuRcDcjzwIh1mkOmJSoNMmyYDZbCfXJg3Ap1lEvdVgFuSAwhb/J\", \"https://cdn.bokeh.org/bokeh/release/bokeh-tables-2.0.2.min.js\": \"Jm8cH3Rg0P6UeZhVY5cLy1WzKajUT9KImCY+76hEqrcJt59/d8GPvFHjCkYgnSIn\", \"https://cdn.bokeh.org/bokeh/release/bokeh-gl-2.0.2.min.js\": \"Ozhzj+SI7ywm74aOI/UajcWz+C0NjsPunEVyVIrxzYkB+jA+2tUw8x5xJCbVtK5I\"};\n\n    for (var i = 0; i < js_urls.length; i++) {\n      var url = js_urls[i];\n      var element = document.createElement('script');\n      element.onload = on_load;\n      element.onerror = on_error;\n      element.async = false;\n      element.src = url;\n      if (url in hashes) {\n        element.crossOrigin = \"anonymous\";\n        element.integrity = \"sha384-\" + hashes[url];\n      }\n      console.debug(\"Bokeh: injecting script tag for BokehJS library: \", url);\n      document.head.appendChild(element);\n    }\n  };\n\n  function inject_raw_css(css) {\n    const element = document.createElement(\"style\");\n    element.appendChild(document.createTextNode(css));\n    document.body.appendChild(element);\n  }\n\n  \n  var js_urls = [\"https://cdn.bokeh.org/bokeh/release/bokeh-2.0.2.min.js\", \"https://cdn.bokeh.org/bokeh/release/bokeh-widgets-2.0.2.min.js\", \"https://cdn.bokeh.org/bokeh/release/bokeh-tables-2.0.2.min.js\", \"https://cdn.bokeh.org/bokeh/release/bokeh-gl-2.0.2.min.js\"];\n  var css_urls = [];\n  \n\n  var inline_js = [\n    function(Bokeh) {\n      Bokeh.set_log_level(\"info\");\n    },\n    function(Bokeh) {\n    \n    \n    }\n  ];\n\n  function run_inline_js() {\n    \n    if (root.Bokeh !== undefined || force === true) {\n      \n    for (var i = 0; i < inline_js.length; i++) {\n      inline_js[i].call(root, root.Bokeh);\n    }\n    if (force === true) {\n        display_loaded();\n      }} else if (Date.now() < root._bokeh_timeout) {\n      setTimeout(run_inline_js, 100);\n    } else if (!root._bokeh_failed_load) {\n      console.log(\"Bokeh: BokehJS failed to load within specified timeout.\");\n      root._bokeh_failed_load = true;\n    } else if (force !== true) {\n      var cell = $(document.getElementById(\"1002\")).parents('.cell').data().cell;\n      cell.output_area.append_execute_result(NB_LOAD_WARNING)\n    }\n\n  }\n\n  if (root._bokeh_is_loading === 0) {\n    console.debug(\"Bokeh: BokehJS loaded, going straight to plotting\");\n    run_inline_js();\n  } else {\n    load_libs(css_urls, js_urls, function() {\n      console.debug(\"Bokeh: BokehJS plotting callback run at\", now());\n      run_inline_js();\n    });\n  }\n}(window));"
     },
     "metadata": {},
     "output_type": "display_data"
    }
   ],
   "source": [
    "import numpy as np\n",
    "import pandas as pd\n",
    "from IPython.display import display\n",
    "from tqdm import tqdm\n",
    "from collections import Counter\n",
    "import ast\n",
    "\n",
    "import matplotlib.pyplot as plt\n",
    "import matplotlib.mlab as mlab\n",
    "import seaborn as sb\n",
    "\n",
    "from sklearn.feature_extraction.text import CountVectorizer\n",
    "from textblob import TextBlob\n",
    "import scipy.stats as stats\n",
    "\n",
    "from sklearn.decomposition import TruncatedSVD\n",
    "from sklearn.decomposition import LatentDirichletAllocation\n",
    "from sklearn.manifold import TSNE\n",
    "\n",
    "from bokeh.plotting import figure, output_file, show\n",
    "from bokeh.models import Label\n",
    "from bokeh.io import output_notebook\n",
    "output_notebook()\n",
    "\n",
    "%matplotlib inline"
   ]
  },
  {
   "cell_type": "code",
   "execution_count": 7,
   "metadata": {
    "_uuid": "99df159d8549d11d99e8a349a4a7893812b187f2"
   },
   "outputs": [],
   "source": [
    "datafile = 'temp/db'\n",
    "data = pd.read_csv(datafile, sep=\";\", parse_dates=[3], infer_datetime_format=True)"
   ]
  },
  {
   "cell_type": "code",
   "execution_count": 8,
   "metadata": {},
   "outputs": [
    {
     "data": {
      "text/html": [
       "<div>\n",
       "<style scoped>\n",
       "    .dataframe tbody tr th:only-of-type {\n",
       "        vertical-align: middle;\n",
       "    }\n",
       "\n",
       "    .dataframe tbody tr th {\n",
       "        vertical-align: top;\n",
       "    }\n",
       "\n",
       "    .dataframe thead th {\n",
       "        text-align: right;\n",
       "    }\n",
       "</style>\n",
       "<table border=\"1\" class=\"dataframe\">\n",
       "  <thead>\n",
       "    <tr style=\"text-align: right;\">\n",
       "      <th></th>\n",
       "      <th>publish_date</th>\n",
       "      <th>headline_text</th>\n",
       "    </tr>\n",
       "  </thead>\n",
       "  <tbody>\n",
       "    <tr>\n",
       "      <th>0</th>\n",
       "      <td>2018-12-05</td>\n",
       "      <td>Flexible Thin-film Fast Charge Battery...</td>\n",
       "    </tr>\n",
       "    <tr>\n",
       "      <th>1</th>\n",
       "      <td>2019-02-01</td>\n",
       "      <td>Connecting Start-ups to Technical Experts via...</td>\n",
       "    </tr>\n",
       "    <tr>\n",
       "      <th>2</th>\n",
       "      <td>2019-04-10</td>\n",
       "      <td>Nuts &amp; Bolts — Taking the Sting Out of Medical...</td>\n",
       "    </tr>\n",
       "    <tr>\n",
       "      <th>3</th>\n",
       "      <td>2019-04-11</td>\n",
       "      <td>Singapore-Finland Collaboration in Smart...</td>\n",
       "    </tr>\n",
       "    <tr>\n",
       "      <th>4</th>\n",
       "      <td>2019-04-25</td>\n",
       "      <td>Learning about Technology Transfer in IPI's...</td>\n",
       "    </tr>\n",
       "  </tbody>\n",
       "</table>\n",
       "</div>"
      ],
      "text/plain": [
       "  publish_date                                      headline_text\n",
       "0   2018-12-05          Flexible Thin-film Fast Charge Battery...\n",
       "1   2019-02-01   Connecting Start-ups to Technical Experts via...\n",
       "2   2019-04-10  Nuts & Bolts — Taking the Sting Out of Medical...\n",
       "3   2019-04-11        Singapore-Finland Collaboration in Smart...\n",
       "4   2019-04-25     Learning about Technology Transfer in IPI's..."
      ]
     },
     "execution_count": 8,
     "metadata": {},
     "output_type": "execute_result"
    }
   ],
   "source": [
    "#raw_data = data[['Data', 'Testo']].rename(columns={\"Data\": \"publish_date\", \"Testo\": \"headline_text\"})\n",
    "raw_data = data[['Data', 'Titolo']].rename(columns={\"Data\": \"publish_date\", \"Titolo\": \"headline_text\"})\n",
    "raw_data.head()"
   ]
  },
  {
   "cell_type": "code",
   "execution_count": 9,
   "metadata": {
    "_uuid": "99df159d8549d11d99e8a349a4a7893812b187f2"
   },
   "outputs": [
    {
     "data": {
      "text/html": [
       "<div>\n",
       "<style scoped>\n",
       "    .dataframe tbody tr th:only-of-type {\n",
       "        vertical-align: middle;\n",
       "    }\n",
       "\n",
       "    .dataframe tbody tr th {\n",
       "        vertical-align: top;\n",
       "    }\n",
       "\n",
       "    .dataframe thead th {\n",
       "        text-align: right;\n",
       "    }\n",
       "</style>\n",
       "<table border=\"1\" class=\"dataframe\">\n",
       "  <thead>\n",
       "    <tr style=\"text-align: right;\">\n",
       "      <th></th>\n",
       "      <th>publish_date</th>\n",
       "      <th>headline_text</th>\n",
       "    </tr>\n",
       "  </thead>\n",
       "  <tbody>\n",
       "    <tr>\n",
       "      <th>0</th>\n",
       "      <td>2018-12-05</td>\n",
       "      <td>Flexible Thin-film Fast Charge Battery...</td>\n",
       "    </tr>\n",
       "    <tr>\n",
       "      <th>1</th>\n",
       "      <td>2019-02-01</td>\n",
       "      <td>Connecting Start-ups to Technical Experts via...</td>\n",
       "    </tr>\n",
       "    <tr>\n",
       "      <th>2</th>\n",
       "      <td>2019-04-10</td>\n",
       "      <td>Nuts &amp; Bolts — Taking the Sting Out of Medical...</td>\n",
       "    </tr>\n",
       "    <tr>\n",
       "      <th>3</th>\n",
       "      <td>2019-04-11</td>\n",
       "      <td>Singapore-Finland Collaboration in Smart...</td>\n",
       "    </tr>\n",
       "    <tr>\n",
       "      <th>4</th>\n",
       "      <td>2019-04-25</td>\n",
       "      <td>Learning about Technology Transfer in IPI's...</td>\n",
       "    </tr>\n",
       "  </tbody>\n",
       "</table>\n",
       "</div>"
      ],
      "text/plain": [
       "  publish_date                                      headline_text\n",
       "0   2018-12-05          Flexible Thin-film Fast Charge Battery...\n",
       "1   2019-02-01   Connecting Start-ups to Technical Experts via...\n",
       "2   2019-04-10  Nuts & Bolts — Taking the Sting Out of Medical...\n",
       "3   2019-04-11        Singapore-Finland Collaboration in Smart...\n",
       "4   2019-04-25     Learning about Technology Transfer in IPI's..."
      ]
     },
     "execution_count": 9,
     "metadata": {},
     "output_type": "execute_result"
    }
   ],
   "source": [
    "reindexed_data = raw_data['headline_text']\n",
    "reindexed_data.index = raw_data['publish_date']\n",
    "\n",
    "raw_data.head()"
   ]
  },
  {
   "cell_type": "code",
   "execution_count": 10,
   "metadata": {},
   "outputs": [
    {
     "data": {
      "text/plain": [
       "publish_date\n",
       "2018-12-05            Flexible Thin-film Fast Charge Battery...\n",
       "2019-02-01     Connecting Start-ups to Technical Experts via...\n",
       "2019-04-10    Nuts & Bolts — Taking the Sting Out of Medical...\n",
       "2019-04-11          Singapore-Finland Collaboration in Smart...\n",
       "2019-04-25       Learning about Technology Transfer in IPI's...\n",
       "Name: headline_text, dtype: object"
      ]
     },
     "execution_count": 10,
     "metadata": {},
     "output_type": "execute_result"
    }
   ],
   "source": [
    "reindexed_data.head()"
   ]
  },
  {
   "cell_type": "markdown",
   "metadata": {
    "_cell_guid": "1cdbefb7-9e8e-4a11-9cee-d39f8f16f557",
    "_uuid": "c31f278963d7bdd4c3553ada1fdb6095d50ca658"
   },
   "source": [
    "First we develop a list of the top words used across all one million headlines, giving us a glimpse into the core vocabulary of the source data. Stop words are omitted here to avoid any trivial conjunctions, prepositions, etc."
   ]
  },
  {
   "cell_type": "code",
   "execution_count": 11,
   "metadata": {
    "_cell_guid": "db6ce2f5-1247-4446-90f2-6aa2ba8af168",
    "_kg_hide-input": true,
    "_uuid": "59f4ae5e8e06786fa3ebdec7ec3011645aad3544"
   },
   "outputs": [],
   "source": [
    "# Define helper functions\n",
    "def get_top_n_words(n_top_words, count_vectorizer, text_data):\n",
    "    '''\n",
    "    returns a tuple of the top n words in a sample and their \n",
    "    accompanying counts, given a CountVectorizer object and text sample\n",
    "    '''\n",
    "    vectorized_headlines = count_vectorizer.fit_transform(text_data.values)\n",
    "    vectorized_total = np.sum(vectorized_headlines, axis=0)\n",
    "    word_indices = np.flip(np.argsort(vectorized_total)[0,:], 1)\n",
    "    word_values = np.flip(np.sort(vectorized_total)[0,:],1)\n",
    "    \n",
    "    word_vectors = np.zeros((n_top_words, vectorized_headlines.shape[1]))\n",
    "    for i in range(n_top_words):\n",
    "        word_vectors[i,word_indices[0,i]] = 1\n",
    "\n",
    "    words = [word[0].encode('ascii').decode('utf-8') for \n",
    "             word in count_vectorizer.inverse_transform(word_vectors)]\n",
    "\n",
    "    return (words, word_values[0,:n_top_words].tolist()[0])"
   ]
  },
  {
   "cell_type": "code",
   "execution_count": 12,
   "metadata": {},
   "outputs": [],
   "source": [
    "import pickle\n",
    "with open('stop_words', 'rb') as stopwords_dump:\n",
    "    stop_words = pickle.load(stopwords_dump)"
   ]
  },
  {
   "cell_type": "code",
   "execution_count": 13,
   "metadata": {
    "_cell_guid": "a2701525-298e-4943-8d3e-adad5d0d629d",
    "_uuid": "142e18023411d5c61cbe59a3c08c78c58993cdcc"
   },
   "outputs": [
    {
     "data": {
      "image/png": "[encoded data removed]",
      "text/plain": [
       "<Figure size 1152x576 with 1 Axes>"
      ]
     },
     "metadata": {
      "needs_background": "light"
     },
     "output_type": "display_data"
    }
   ],
   "source": [
    "count_vectorizer = CountVectorizer(stop_words=stop_words)\n",
    "words, word_values = get_top_n_words(n_top_words=15,\n",
    "                                     count_vectorizer=count_vectorizer, \n",
    "                                     text_data=reindexed_data)\n",
    "\n",
    "fig, ax = plt.subplots(figsize=(16,8))\n",
    "ax.bar(range(len(words)), word_values);\n",
    "ax.set_xticks(range(len(words)));\n",
    "ax.set_xticklabels(words, rotation='vertical');\n",
    "ax.set_title('Top words in headlines dataset (excluding stop words)');\n",
    "ax.set_xlabel('Word');\n",
    "ax.set_ylabel('Number of occurences');\n",
    "plt.show()"
   ]
  },
  {
   "cell_type": "markdown",
   "metadata": {
    "_cell_guid": "781d7425-adcb-4642-8685-39722c5f2a4f",
    "_uuid": "a595fd6ead91a95c590d027c155fbc6fe3d800f6"
   },
   "source": [
    "Next we generate a histogram of headline word lengths, and use part-of-speech tagging to understand the types of words used across the corpus. This requires first converting all headline strings to TextBlobs and calling the ```pos_tags``` method on each, yielding a list of tagged words for each headline. A complete list of such word tags is available [here](https://www.clips.uantwerpen.be/pages/MBSP-tags)."
   ]
  },
  {
   "cell_type": "code",
   "execution_count": 14,
   "metadata": {
    "scrolled": true
   },
   "outputs": [
    {
     "name": "stderr",
     "output_type": "stream",
     "text": [
      "[nltk_data] Downloading package averaged_perceptron_tagger to\n",
      "[nltk_data]     C:\\Users\\edoardo.esposito\\AppData\\Roaming\\nltk_data...\n",
      "[nltk_data]   Package averaged_perceptron_tagger is already up-to-\n",
      "[nltk_data]       date!\n"
     ]
    },
    {
     "data": {
      "text/plain": [
       "True"
      ]
     },
     "execution_count": 14,
     "metadata": {},
     "output_type": "execute_result"
    }
   ],
   "source": [
    "import nltk\n",
    "nltk.download('averaged_perceptron_tagger')"
   ]
  },
  {
   "cell_type": "code",
   "execution_count": 15,
   "metadata": {},
   "outputs": [
    {
     "name": "stdout",
     "output_type": "stream",
     "text": [
      "1783\n"
     ]
    }
   ],
   "source": [
    "print(reindexed_data.shape[0])"
   ]
  },
  {
   "cell_type": "code",
   "execution_count": 16,
   "metadata": {},
   "outputs": [
    {
     "data": {
      "text/plain": [
       "'Connecting Start-ups to Technical Experts via...'"
      ]
     },
     "execution_count": 16,
     "metadata": {},
     "output_type": "execute_result"
    }
   ],
   "source": [
    "reindexed_data[1][:100]"
   ]
  },
  {
   "cell_type": "code",
   "execution_count": 17,
   "metadata": {},
   "outputs": [
    {
     "data": {
      "text/plain": [
       "TextBlob(\"Connecting Start-ups to Technical Experts via...\")"
      ]
     },
     "execution_count": 17,
     "metadata": {},
     "output_type": "execute_result"
    }
   ],
   "source": [
    "TextBlob(reindexed_data[1])"
   ]
  },
  {
   "cell_type": "code",
   "execution_count": 18,
   "metadata": {},
   "outputs": [
    {
     "data": {
      "text/plain": [
       "[('Connecting', 'VBG'),\n",
       " ('Start-ups', 'NNP'),\n",
       " ('to', 'TO'),\n",
       " ('Technical', 'NNP'),\n",
       " ('Experts', 'NNP'),\n",
       " ('via', 'IN')]"
      ]
     },
     "execution_count": 18,
     "metadata": {},
     "output_type": "execute_result"
    }
   ],
   "source": [
    "TextBlob(reindexed_data[1]).pos_tags"
   ]
  },
  {
   "cell_type": "code",
   "execution_count": 19,
   "metadata": {},
   "outputs": [
    {
     "name": "stdout",
     "output_type": "stream",
     "text": [
      "Wall time: 5.29 s\n"
     ]
    }
   ],
   "source": [
    "%%time\n",
    "tagged_headlines = [TextBlob(reindexed_data[i]).pos_tags for i in range(reindexed_data.shape[0])]"
   ]
  },
  {
   "cell_type": "code",
   "execution_count": 20,
   "metadata": {
    "_cell_guid": "23505283-086a-4e8d-9a84-39ab490c21b7",
    "_kg_hide-input": true,
    "_uuid": "33bfd02abaf5127477994d0323c2ee316b6e7eda"
   },
   "outputs": [
    {
     "name": "stdout",
     "output_type": "stream",
     "text": [
      "Total number of words:  18786\n",
      "Mean number of words per headline:  10.536174985978688\n"
     ]
    }
   ],
   "source": [
    "tagged_headlines_df = pd.DataFrame({'tags':tagged_headlines})\n",
    "\n",
    "word_counts = [] \n",
    "pos_counts = {}\n",
    "\n",
    "for headline in tagged_headlines_df[u'tags']:\n",
    "    word_counts.append(len(headline))\n",
    "    for tag in headline:\n",
    "        if tag[1] in pos_counts:\n",
    "            pos_counts[tag[1]] += 1\n",
    "        else:\n",
    "            pos_counts[tag[1]] = 1\n",
    "            \n",
    "print('Total number of words: ', np.sum(word_counts))\n",
    "print('Mean number of words per headline: ', np.mean(word_counts))"
   ]
  },
  {
   "cell_type": "code",
   "execution_count": 21,
   "metadata": {
    "_cell_guid": "f8ccacff-5771-4073-ba4a-6ad8bac2785c",
    "_uuid": "fc78480a55051d74b1802bc91aeba366b223fcb0"
   },
   "outputs": [
    {
     "data": {
      "image/png": "[encoded data removed]",
      "text/plain": [
       "<Figure size 1296x576 with 1 Axes>"
      ]
     },
     "metadata": {
      "needs_background": "light"
     },
     "output_type": "display_data"
    }
   ],
   "source": [
    "y = stats.norm.pdf(np.linspace(0,14,50), np.mean(word_counts), np.std(word_counts))\n",
    "\n",
    "fig, ax = plt.subplots(figsize=(18,8))\n",
    "ax.hist(word_counts, bins=range(1,14), density=True);\n",
    "ax.plot(np.linspace(0,14,50), y, 'r--', linewidth=1);\n",
    "ax.set_title('Headline word lengths');\n",
    "ax.set_xticks(range(1,14));\n",
    "ax.set_xlabel('Number of words');\n",
    "plt.show()"
   ]
  },
  {
   "cell_type": "code",
   "execution_count": 22,
   "metadata": {
    "_cell_guid": "1015b36b-8b29-448e-b604-7ed5a7fc001b",
    "_uuid": "be8dd4302afb3e514515ed2b90c2a10d3f71800d"
   },
   "outputs": [
    {
     "data": {
      "image/png": "[encoded data removed]",
      "text/plain": [
       "<Figure size 1296x576 with 1 Axes>"
      ]
     },
     "metadata": {
      "needs_background": "light"
     },
     "output_type": "display_data"
    }
   ],
   "source": [
    "pos_sorted_types = sorted(pos_counts, key=pos_counts.__getitem__, reverse=True)\n",
    "pos_sorted_counts = sorted(pos_counts.values(), reverse=True)\n",
    "\n",
    "fig, ax = plt.subplots(figsize=(18,8))\n",
    "ax.bar(range(len(pos_counts)), pos_sorted_counts);\n",
    "ax.set_xticks(range(len(pos_counts)));\n",
    "ax.set_xticklabels(pos_sorted_types);\n",
    "ax.set_title('Part-of-Speech Tagging for Headlines Corpus');\n",
    "ax.set_xlabel('Type of Word');"
   ]
  },
  {
   "cell_type": "markdown",
   "metadata": {
    "_cell_guid": "9ed2e924-952f-4336-82ad-fa58bc14ada6",
    "_uuid": "e5a182e988cd374a7676ec05b478190cd6631059"
   },
   "source": [
    "By plotting the number of headlines published per day, per month and per year, we can also get a sense of the sample density."
   ]
  },
  {
   "cell_type": "code",
   "execution_count": 17,
   "metadata": {
    "_cell_guid": "25556701-ea73-4a62-9456-d89f01c738b6",
    "_uuid": "2b3abe64f0e4567e508a5fa45057655f2d2fecd5"
   },
   "outputs": [
    {
     "data": {
      "image/png": "[encoded data removed]",
      "text/plain": [
       "<Figure size 1296x1152 with 3 Axes>"
      ]
     },
     "metadata": {
      "needs_background": "light"
     },
     "output_type": "display_data"
    }
   ],
   "source": [
    "monthly_counts = reindexed_data.resample('M').count()\n",
    "yearly_counts = reindexed_data.resample('A').count()\n",
    "daily_counts = reindexed_data.resample('D').count()\n",
    "\n",
    "fig, ax = plt.subplots(3, figsize=(18,16))\n",
    "ax[0].plot(daily_counts);\n",
    "ax[0].set_title('Daily Counts');\n",
    "ax[1].plot(monthly_counts);\n",
    "ax[1].set_title('Monthly Counts');\n",
    "ax[2].plot(yearly_counts);\n",
    "ax[2].set_title('Yearly Counts');\n",
    "plt.show()"
   ]
  },
  {
   "cell_type": "markdown",
   "metadata": {
    "_cell_guid": "1627d53c-a120-4cdb-b2c2-a616865a24d0",
    "_uuid": "c5983d57a8ae630af799b218c196e9e006ddf2f8"
   },
   "source": [
    "## Topic Modelling\n",
    "We now apply a clustering algorithm to the headlines corpus in order to study the topic focus of ABC News, as well as how it has evolved through time. To do so, we first experiment with a small subsample of the dataset in order to determine which of the two potential clustering algorithms is most appropriate – once this has been ascertained, we then scale up to a larger portion of the available data."
   ]
  },
  {
   "cell_type": "markdown",
   "metadata": {
    "_cell_guid": "19b5a00b-e1c1-433a-aa4c-490bdd40b798",
    "_uuid": "0efcc663a7c6a267b0eba42378d902002677d422"
   },
   "source": [
    "### Preprocessing\n",
    "The only preprocessing step required in our case is feature construction, where we take the sample of text headlines and represent them in some tractable feature space. In practice, this simply means converting each string to a numerical vector. This can be done using the ```CountVectorizer``` object from SKLearn, which yields an $n×K$ document-term matrix where $K$ is the number of distinct words  across the $n$ headlines in our sample (less stop words and with a limit of ```max_features```)."
   ]
  },
  {
   "cell_type": "code",
   "execution_count": 23,
   "metadata": {
    "_cell_guid": "59988959-fa66-4c1f-9797-9a5ea3e6927d",
    "_uuid": "46fa661ac2dbb94d28fa1190172c52ddbce05c4a"
   },
   "outputs": [
    {
     "name": "stdout",
     "output_type": "stream",
     "text": [
      "Headline before vectorization: Blockchain-as-a-service and SMEs: great opportunities\n",
      "Headline after vectorization: \n",
      "  (0, 108)\t1\n",
      "  (0, 591)\t1\n",
      "  (0, 761)\t1\n",
      "  (0, 781)\t1\n",
      "  (0, 396)\t1\n"
     ]
    }
   ],
   "source": [
    "small_count_vectorizer = CountVectorizer(stop_words=stop_words, max_features=40000)\n",
    "#small_text_sample = reindexed_data.sample(n=10000, random_state=0).values\n",
    "small_text_sample = reindexed_data.sample(n=200, random_state=0).values\n",
    "\n",
    "print('Headline before vectorization: {}'.format(small_text_sample[123]))\n",
    "\n",
    "small_document_term_matrix = small_count_vectorizer.fit_transform(small_text_sample)\n",
    "\n",
    "print('Headline after vectorization: \\n{}'.format(small_document_term_matrix[123]))"
   ]
  },
  {
   "cell_type": "markdown",
   "metadata": {
    "_cell_guid": "dc19ca30-8586-4a29-a0be-cd46e39ae4b3",
    "_uuid": "66eeb9d4c023e095911313862580f90d28f0d87f"
   },
   "source": [
    "Thus we have our (very high-rank and sparse) training data,  ```small_document_term_matrix```, and can now actually implement a clustering algorithm. Our choice will be either Latent Semantic Analysis or Latent Dirichilet Allocation. Both will take our document-term matrix as input and yield an $n \\times N$ topic matrix as output, where $N$ is the number of topic categories (which we supply as a parameter). For the moment, we shall take this to be 8."
   ]
  },
  {
   "cell_type": "code",
   "execution_count": 24,
   "metadata": {
    "_cell_guid": "12f50c7e-c8d4-473d-9918-d476faeed788",
    "_uuid": "009f7a3aa962a4e3a74f8bc78c4e14b845acf51f"
   },
   "outputs": [],
   "source": [
    "n_topics = 5"
   ]
  },
  {
   "cell_type": "markdown",
   "metadata": {
    "_cell_guid": "0f3bc959-5f94-497b-afc2-6799ddd2a689",
    "_uuid": "2392087f63ed8827e3fb30ffea17d7c95e31c92f"
   },
   "source": [
    "### Latent Semantic Analysis\n",
    "Let's start by experimenting with LSA. This is effectively just a truncated singular value decomposition of a (very high-rank and sparse) document-term matrix, with only the $r=$```n_topics``` largest singular values preserved."
   ]
  },
  {
   "cell_type": "code",
   "execution_count": 25,
   "metadata": {
    "_cell_guid": "5edba11f-1c8c-45ee-a833-f39a6eed0ffe",
    "_uuid": "403f67711d38b3acba59c3725cdf3be86536969a"
   },
   "outputs": [],
   "source": [
    "lsa_model = TruncatedSVD(n_components=n_topics)\n",
    "lsa_topic_matrix = lsa_model.fit_transform(small_document_term_matrix)"
   ]
  },
  {
   "cell_type": "markdown",
   "metadata": {
    "_cell_guid": "b4db9892-57a7-48e7-87e3-df1e8f47e948",
    "_uuid": "c90ceacbaa7085d28244b6d66b2ce57dcf9007bd"
   },
   "source": [
    "Taking the $\\arg \\max$ of each headline in this topic matrix will give the predicted topics of each headline in the sample. We can then sort these into counts of each topic."
   ]
  },
  {
   "cell_type": "code",
   "execution_count": 26,
   "metadata": {
    "_cell_guid": "48e9a37b-f6a3-4f8c-87ea-4bbe0026fa10",
    "_kg_hide-input": true,
    "_uuid": "56ea2060287a4efc2ee17ecd3b2f2caf57d5812e"
   },
   "outputs": [],
   "source": [
    "# Define helper functions\n",
    "def get_keys(topic_matrix):\n",
    "    '''\n",
    "    returns an integer list of predicted topic \n",
    "    categories for a given topic matrix\n",
    "    '''\n",
    "    keys = topic_matrix.argmax(axis=1).tolist()\n",
    "    return keys\n",
    "\n",
    "def keys_to_counts(keys):\n",
    "    '''\n",
    "    returns a tuple of topic categories and their \n",
    "    accompanying magnitudes for a given list of keys\n",
    "    '''\n",
    "    count_pairs = Counter(keys).items()\n",
    "    categories = [pair[0] for pair in count_pairs]\n",
    "    counts = [pair[1] for pair in count_pairs]\n",
    "    return (categories, counts)"
   ]
  },
  {
   "cell_type": "code",
   "execution_count": 27,
   "metadata": {
    "_cell_guid": "ba484cae-798f-49eb-b00f-f5ec9770503c",
    "_uuid": "09f4b3b20165658429e084fad81697beb6c54c49"
   },
   "outputs": [],
   "source": [
    "lsa_keys = get_keys(lsa_topic_matrix)\n",
    "lsa_categories, lsa_counts = keys_to_counts(lsa_keys)"
   ]
  },
  {
   "cell_type": "markdown",
   "metadata": {
    "_cell_guid": "c223207c-25e0-47f2-9475-44bb6b8b92fa",
    "_uuid": "f317335665331fa8dbc8aadf3a89750c4c3100db"
   },
   "source": [
    "However, these topic categories are in and of themselves a little meaningless. In order to better characterise them, it will be helpful to find the most frequent words in each."
   ]
  },
  {
   "cell_type": "code",
   "execution_count": 28,
   "metadata": {
    "_cell_guid": "378ec442-fe50-40c1-af07-285c47f06991",
    "_kg_hide-input": true,
    "_uuid": "c260d3062f3039a58b924428b7013629f99c346d"
   },
   "outputs": [],
   "source": [
    "# Define helper functions\n",
    "def get_top_n_words(n, keys, document_term_matrix, count_vectorizer):\n",
    "    '''\n",
    "    returns a list of n_topic strings, where each string contains the n most common \n",
    "    words in a predicted category, in order\n",
    "    '''\n",
    "    top_word_indices = []\n",
    "    for topic in range(n_topics):\n",
    "        temp_vector_sum = 0\n",
    "        for i in range(len(keys)):\n",
    "            if keys[i] == topic:\n",
    "                temp_vector_sum += document_term_matrix[i]\n",
    "                \n",
    "        if isinstance(temp_vector_sum, int):\n",
    "            continue\n",
    "            \n",
    "        temp_vector_sum = temp_vector_sum.toarray()\n",
    "        top_n_word_indices = np.flip(np.argsort(temp_vector_sum)[0][-n:],0)\n",
    "        top_word_indices.append(top_n_word_indices)   \n",
    "    top_words = []\n",
    "    for topic in top_word_indices:\n",
    "        topic_words = []\n",
    "        for index in topic:\n",
    "            temp_word_vector = np.zeros((1,document_term_matrix.shape[1]))\n",
    "            temp_word_vector[:,index] = 1\n",
    "            the_word = count_vectorizer.inverse_transform(temp_word_vector)[0][0]\n",
    "            topic_words.append(the_word.encode('ascii').decode('utf-8'))\n",
    "        top_words.append(\" \".join(topic_words))         \n",
    "    return top_words"
   ]
  },
  {
   "cell_type": "code",
   "execution_count": 29,
   "metadata": {
    "_cell_guid": "61840d6f-a944-4a68-bfe2-ec6607482526",
    "_uuid": "7e857eb053d35108a827118f894faa9172628d36"
   },
   "outputs": [
    {
     "name": "stdout",
     "output_type": "stream",
     "text": [
      "Topic 0:  ai raises delivery\n",
      "Topic 1:  brain human shows\n",
      "Topic 2:  covid 19 innovation\n",
      "Topic 3:  tesla solar robot\n",
      "Topic 4:  robots coronavirus future\n"
     ]
    }
   ],
   "source": [
    "top_n_words_lsa = get_top_n_words(3, lsa_keys, small_document_term_matrix, small_count_vectorizer)\n",
    "\n",
    "for i in range(len(top_n_words_lsa)):\n",
    "    print(\"Topic {}: \".format(i), top_n_words_lsa[i])"
   ]
  },
  {
   "cell_type": "markdown",
   "metadata": {
    "_cell_guid": "c51c0e10-f1f8-4d41-acff-941ecb6af716",
    "_uuid": "44c511893a4403d28df7539caa1b13b32dcc4567"
   },
   "source": [
    "Thus we have converted our initial small sample of headlines into a list of predicted topic categories, where each category is characterised by its most frequent words. The relative magnitudes of each of these categories can then be easily visualised though use of a bar chart."
   ]
  },
  {
   "cell_type": "code",
   "execution_count": 30,
   "metadata": {},
   "outputs": [
    {
     "data": {
      "text/plain": [
       "[2, 3, 4, 0, 1]"
      ]
     },
     "execution_count": 30,
     "metadata": {},
     "output_type": "execute_result"
    }
   ],
   "source": [
    "lsa_categories"
   ]
  },
  {
   "cell_type": "code",
   "execution_count": 31,
   "metadata": {
    "_cell_guid": "5f51277b-37d2-4712-9737-00b50a396e8a",
    "_uuid": "a4f5e96898e844072d57e237d307ed589bb6d8cf"
   },
   "outputs": [
    {
     "name": "stdout",
     "output_type": "stream",
     "text": [
      "['Topic 2: \\ncovid 19', 'Topic 3: \\ntesla solar', 'Topic 4: \\nrobots coronavirus', 'Topic 0: \\nai raises', 'Topic 1: \\nbrain human']\n"
     ]
    },
    {
     "data": {
      "image/png": "[encoded data removed]",
      "text/plain": [
       "<Figure size 1152x576 with 1 Axes>"
      ]
     },
     "metadata": {
      "needs_background": "light"
     },
     "output_type": "display_data"
    }
   ],
   "source": [
    "top_2_words = get_top_n_words(2, lsa_keys, small_document_term_matrix, small_count_vectorizer)\n",
    "labels = ['Topic {}: \\n'.format(i) + top_2_words[i] for i in lsa_categories]\n",
    "print (labels)\n",
    "\n",
    "fig, ax = plt.subplots(figsize=(16,8))\n",
    "\n",
    "ax.bar(lsa_categories, lsa_counts);\n",
    "ax.set_xticks(lsa_categories);\n",
    "plt.xticks(rotation=45)\n",
    "\n",
    "ax.set_xticklabels(labels);\n",
    "ax.set_ylabel('Number of headlines');\n",
    "ax.set_title('LSA topic counts');\n",
    "plt.show()"
   ]
  },
  {
   "cell_type": "markdown",
   "metadata": {
    "_cell_guid": "0ccf8530-c578-4cad-a705-0a707b426d25",
    "_uuid": "26ce1e10578112b422b29c7079c7cd684156abee"
   },
   "source": [
    "However, this does not provide a great point of comparison with other clustering algorithms. In order to properly contrast LSA with LDA we instead use a dimensionality-reduction technique called $t$-SNE, which will also serve to better illuminate the success of the clustering process."
   ]
  },
  {
   "cell_type": "code",
   "execution_count": 32,
   "metadata": {
    "_cell_guid": "336aeb8e-9d20-40b4-8010-ea3562149a28",
    "_uuid": "beef91776468ac12968170069b6c1d527de5f4d5"
   },
   "outputs": [
    {
     "name": "stdout",
     "output_type": "stream",
     "text": [
      "[t-SNE] Computing 151 nearest neighbors...\n",
      "[t-SNE] Indexed 200 samples in 0.000s...\n",
      "[t-SNE] Computed neighbors for 200 samples in 0.016s...\n",
      "[t-SNE] Computed conditional probabilities for sample 200 / 200\n",
      "[t-SNE] Mean sigma: 0.073861\n",
      "[t-SNE] KL divergence after 250 iterations with early exaggeration: 51.293186\n",
      "[t-SNE] KL divergence after 1700 iterations: 0.164779\n"
     ]
    }
   ],
   "source": [
    "tsne_lsa_model = TSNE(n_components=2, perplexity=50, learning_rate=100, \n",
    "                        n_iter=2000, verbose=1, random_state=0, angle=0.75)\n",
    "tsne_lsa_vectors = tsne_lsa_model.fit_transform(lsa_topic_matrix)"
   ]
  },
  {
   "cell_type": "markdown",
   "metadata": {
    "_cell_guid": "b8435c0e-5c00-4c8e-8650-db70106f67e3",
    "_uuid": "615effdf063641b3f6f1da9576f9ea1de11a27e7"
   },
   "source": [
    "Now that we have reduced these ```n_topics```-dimensional vectors to two-dimensional representations, we can then plot the clusters using Bokeh. Before doing so however, it will be useful to derive the centroid location of each topic, so as to better contextualise our visualisation."
   ]
  },
  {
   "cell_type": "code",
   "execution_count": 33,
   "metadata": {
    "_cell_guid": "91916c42-685c-4c3b-bc68-2248ac8efcd0",
    "_kg_hide-input": true,
    "_uuid": "d37e004a79a6d264ca40c43e9dc847597402e318"
   },
   "outputs": [],
   "source": [
    "# Define helper functions\n",
    "def get_mean_topic_vectors(keys, two_dim_vectors):\n",
    "    '''\n",
    "    returns a list of centroid vectors from each predicted topic category\n",
    "    '''\n",
    "    mean_topic_vectors = []\n",
    "    for t in range(n_topics):\n",
    "        articles_in_that_topic = []\n",
    "        for i in range(len(keys)):\n",
    "            if keys[i] == t:\n",
    "                articles_in_that_topic.append(two_dim_vectors[i])    \n",
    "        \n",
    "        articles_in_that_topic = np.vstack(articles_in_that_topic)\n",
    "        mean_article_in_that_topic = np.mean(articles_in_that_topic, axis=0)\n",
    "        mean_topic_vectors.append(mean_article_in_that_topic)\n",
    "    return mean_topic_vectors"
   ]
  },
  {
   "cell_type": "code",
   "execution_count": 34,
   "metadata": {
    "_cell_guid": "27432c7b-4ffc-4a53-9a90-24b566c4a7bc",
    "_uuid": "2f40f800865d9ab2db71d49195e7dc74ff71ef72"
   },
   "outputs": [],
   "source": [
    "colormap = np.array([\n",
    "    \"#1f77b4\", \"#aec7e8\", \"#ff7f0e\", \"#ffbb78\", \"#2ca02c\",\n",
    "    \"#98df8a\", \"#d62728\", \"#ff9896\", \"#9467bd\", \"#c5b0d5\",\n",
    "    \"#8c564b\", \"#c49c94\", \"#e377c2\", \"#f7b6d2\", \"#7f7f7f\",\n",
    "    \"#c7c7c7\", \"#bcbd22\", \"#dbdb8d\", \"#17becf\", \"#9edae5\" ])\n",
    "colormap = colormap[:n_topics]"
   ]
  },
  {
   "cell_type": "markdown",
   "metadata": {
    "_cell_guid": "5e600401-a789-422b-a11c-82442c4eb50c",
    "_uuid": "98c59c1fbb011e3157212da64ac05d86200c829c"
   },
   "source": [
    "All that remains is to plot the clustered headlines. Also included are the top three words in each cluster, which are placed at the centroid for that topic."
   ]
  },
  {
   "cell_type": "code",
   "execution_count": 35,
   "metadata": {
    "_cell_guid": "01a73ad6-6dcb-461e-bdcf-998f014140c4",
    "_uuid": "47c964059f8ad383ed836d5e6c9d7dfbbd2a4eaa",
    "scrolled": false
   },
   "outputs": [
    {
     "data": {
      "text/html": [
       "\n",
       "\n",
       "\n",
       "\n",
       "\n",
       "\n",
       "  <div class=\"bk-root\" id=\"2e998c92-cdc5-49cf-b5f2-d3efa89abcac\" data-root-id=\"1003\"></div>\n"
      ]
     },
     "metadata": {},
     "output_type": "display_data"
    },
    {
     "data": {
      "application/javascript": [
       "(function(root) {\n",
       "  function embed_document(root) {\n",
       "    \n",
       "  var docs_json = {\"c67249be-1c81-4b6e-9de1-3ee88fff7b52\":{\"roots\":{\"references\":[{\"attributes\":{\"below\":[{\"id\":\"1014\"}],\"center\":[{\"id\":\"1017\"},{\"id\":\"1021\"},{\"id\":\"1041\"},{\"id\":\"1042\"},{\"id\":\"1043\"},{\"id\":\"1044\"},{\"id\":\"1045\"}],\"left\":[{\"id\":\"1018\"}],\"plot_height\":700,\"plot_width\":700,\"renderers\":[{\"id\":\"1039\"}],\"title\":{\"id\":\"1004\"},\"toolbar\":{\"id\":\"1029\"},\"x_range\":{\"id\":\"1006\"},\"x_scale\":{\"id\":\"1010\"},\"y_range\":{\"id\":\"1008\"},\"y_scale\":{\"id\":\"1012\"}},\"id\":\"1003\",\"subtype\":\"Figure\",\"type\":\"Plot\"},{\"attributes\":{\"bottom_units\":\"screen\",\"fill_alpha\":0.5,\"fill_color\":\"lightgrey\",\"left_units\":\"screen\",\"level\":\"overlay\",\"line_alpha\":1.0,\"line_color\":\"black\",\"line_dash\":[4,4],\"line_width\":2,\"render_mode\":\"css\",\"right_units\":\"screen\",\"top_units\":\"screen\"},\"id\":\"1028\",\"type\":\"BoxAnnotation\"},{\"attributes\":{\"text\":\"tesla solar\",\"text_color\":\"#ffbb78\",\"x\":-0.5409294962882996,\"y\":-0.9309211373329163},\"id\":\"1044\",\"type\":\"Label\"},{\"attributes\":{},\"id\":\"1027\",\"type\":\"HelpTool\"},{\"attributes\":{\"data\":{\"fill_color\":[\"#ff7f0e\",\"#ffbb78\",\"#ffbb78\",\"#2ca02c\",\"#2ca02c\",\"#1f77b4\",\"#1f77b4\",\"#1f77b4\",\"#2ca02c\",\"#aec7e8\",\"#ff7f0e\",\"#ff7f0e\",\"#2ca02c\",\"#2ca02c\",\"#ffbb78\",\"#aec7e8\",\"#2ca02c\",\"#1f77b4\",\"#ffbb78\",\"#2ca02c\",\"#ff7f0e\",\"#2ca02c\",\"#aec7e8\",\"#ff7f0e\",\"#aec7e8\",\"#ff7f0e\",\"#aec7e8\",\"#aec7e8\",\"#1f77b4\",\"#2ca02c\",\"#2ca02c\",\"#ffbb78\",\"#1f77b4\",\"#2ca02c\",\"#2ca02c\",\"#1f77b4\",\"#2ca02c\",\"#ff7f0e\",\"#1f77b4\",\"#1f77b4\",\"#1f77b4\",\"#ffbb78\",\"#2ca02c\",\"#1f77b4\",\"#1f77b4\",\"#2ca02c\",\"#2ca02c\",\"#ff7f0e\",\"#ffbb78\",\"#1f77b4\",\"#aec7e8\",\"#2ca02c\",\"#aec7e8\",\"#ffbb78\",\"#1f77b4\",\"#2ca02c\",\"#aec7e8\",\"#aec7e8\",\"#1f77b4\",\"#ff7f0e\",\"#2ca02c\",\"#aec7e8\",\"#ff7f0e\",\"#1f77b4\",\"#aec7e8\",\"#1f77b4\",\"#2ca02c\",\"#ffbb78\",\"#ff7f0e\",\"#aec7e8\",\"#ffbb78\",\"#ffbb78\",\"#1f77b4\",\"#2ca02c\",\"#2ca02c\",\"#ff7f0e\",\"#2ca02c\",\"#2ca02c\",\"#ff7f0e\",\"#ffbb78\",\"#1f77b4\",\"#ffbb78\",\"#ffbb78\",\"#ff7f0e\",\"#ff7f0e\",\"#ffbb78\",\"#2ca02c\",\"#1f77b4\",\"#2ca02c\",\"#2ca02c\",\"#2ca02c\",\"#1f77b4\",\"#ff7f0e\",\"#1f77b4\",\"#2ca02c\",\"#ff7f0e\",\"#ffbb78\",\"#aec7e8\",\"#1f77b4\",\"#1f77b4\",\"#2ca02c\",\"#1f77b4\",\"#aec7e8\",\"#aec7e8\",\"#ffbb78\",\"#2ca02c\",\"#1f77b4\",\"#ffbb78\",\"#1f77b4\",\"#aec7e8\",\"#1f77b4\",\"#2ca02c\",\"#1f77b4\",\"#aec7e8\",\"#2ca02c\",\"#ffbb78\",\"#1f77b4\",\"#1f77b4\",\"#aec7e8\",\"#1f77b4\",\"#1f77b4\",\"#ffbb78\",\"#1f77b4\",\"#ffbb78\",\"#2ca02c\",\"#ffbb78\",\"#aec7e8\",\"#1f77b4\",\"#ffbb78\",\"#2ca02c\",\"#1f77b4\",\"#ffbb78\",\"#ffbb78\",\"#2ca02c\",\"#2ca02c\",\"#aec7e8\",\"#2ca02c\",\"#ffbb78\",\"#2ca02c\",\"#2ca02c\",\"#ffbb78\",\"#1f77b4\",\"#2ca02c\",\"#ff7f0e\",\"#ff7f0e\",\"#aec7e8\",\"#2ca02c\",\"#1f77b4\",\"#aec7e8\",\"#1f77b4\",\"#ffbb78\",\"#2ca02c\",\"#ffbb78\",\"#1f77b4\",\"#1f77b4\",\"#1f77b4\",\"#ff7f0e\",\"#aec7e8\",\"#1f77b4\",\"#1f77b4\",\"#1f77b4\",\"#ff7f0e\",\"#1f77b4\",\"#ff7f0e\",\"#2ca02c\",\"#aec7e8\",\"#2ca02c\",\"#1f77b4\",\"#2ca02c\",\"#ff7f0e\",\"#2ca02c\",\"#ffbb78\",\"#ffbb78\",\"#2ca02c\",\"#ff7f0e\",\"#1f77b4\",\"#1f77b4\",\"#ffbb78\",\"#1f77b4\",\"#aec7e8\",\"#2ca02c\",\"#1f77b4\",\"#ffbb78\",\"#aec7e8\",\"#ffbb78\",\"#1f77b4\",\"#2ca02c\",\"#2ca02c\",\"#1f77b4\",\"#2ca02c\",\"#2ca02c\",\"#ffbb78\",\"#1f77b4\",\"#ffbb78\",\"#ff7f0e\",\"#ff7f0e\",\"#ffbb78\",\"#ffbb78\",\"#ffbb78\",\"#aec7e8\"],\"line_color\":[\"#ff7f0e\",\"#ffbb78\",\"#ffbb78\",\"#2ca02c\",\"#2ca02c\",\"#1f77b4\",\"#1f77b4\",\"#1f77b4\",\"#2ca02c\",\"#aec7e8\",\"#ff7f0e\",\"#ff7f0e\",\"#2ca02c\",\"#2ca02c\",\"#ffbb78\",\"#aec7e8\",\"#2ca02c\",\"#1f77b4\",\"#ffbb78\",\"#2ca02c\",\"#ff7f0e\",\"#2ca02c\",\"#aec7e8\",\"#ff7f0e\",\"#aec7e8\",\"#ff7f0e\",\"#aec7e8\",\"#aec7e8\",\"#1f77b4\",\"#2ca02c\",\"#2ca02c\",\"#ffbb78\",\"#1f77b4\",\"#2ca02c\",\"#2ca02c\",\"#1f77b4\",\"#2ca02c\",\"#ff7f0e\",\"#1f77b4\",\"#1f77b4\",\"#1f77b4\",\"#ffbb78\",\"#2ca02c\",\"#1f77b4\",\"#1f77b4\",\"#2ca02c\",\"#2ca02c\",\"#ff7f0e\",\"#ffbb78\",\"#1f77b4\",\"#aec7e8\",\"#2ca02c\",\"#aec7e8\",\"#ffbb78\",\"#1f77b4\",\"#2ca02c\",\"#aec7e8\",\"#aec7e8\",\"#1f77b4\",\"#ff7f0e\",\"#2ca02c\",\"#aec7e8\",\"#ff7f0e\",\"#1f77b4\",\"#aec7e8\",\"#1f77b4\",\"#2ca02c\",\"#ffbb78\",\"#ff7f0e\",\"#aec7e8\",\"#ffbb78\",\"#ffbb78\",\"#1f77b4\",\"#2ca02c\",\"#2ca02c\",\"#ff7f0e\",\"#2ca02c\",\"#2ca02c\",\"#ff7f0e\",\"#ffbb78\",\"#1f77b4\",\"#ffbb78\",\"#ffbb78\",\"#ff7f0e\",\"#ff7f0e\",\"#ffbb78\",\"#2ca02c\",\"#1f77b4\",\"#2ca02c\",\"#2ca02c\",\"#2ca02c\",\"#1f77b4\",\"#ff7f0e\",\"#1f77b4\",\"#2ca02c\",\"#ff7f0e\",\"#ffbb78\",\"#aec7e8\",\"#1f77b4\",\"#1f77b4\",\"#2ca02c\",\"#1f77b4\",\"#aec7e8\",\"#aec7e8\",\"#ffbb78\",\"#2ca02c\",\"#1f77b4\",\"#ffbb78\",\"#1f77b4\",\"#aec7e8\",\"#1f77b4\",\"#2ca02c\",\"#1f77b4\",\"#aec7e8\",\"#2ca02c\",\"#ffbb78\",\"#1f77b4\",\"#1f77b4\",\"#aec7e8\",\"#1f77b4\",\"#1f77b4\",\"#ffbb78\",\"#1f77b4\",\"#ffbb78\",\"#2ca02c\",\"#ffbb78\",\"#aec7e8\",\"#1f77b4\",\"#ffbb78\",\"#2ca02c\",\"#1f77b4\",\"#ffbb78\",\"#ffbb78\",\"#2ca02c\",\"#2ca02c\",\"#aec7e8\",\"#2ca02c\",\"#ffbb78\",\"#2ca02c\",\"#2ca02c\",\"#ffbb78\",\"#1f77b4\",\"#2ca02c\",\"#ff7f0e\",\"#ff7f0e\",\"#aec7e8\",\"#2ca02c\",\"#1f77b4\",\"#aec7e8\",\"#1f77b4\",\"#ffbb78\",\"#2ca02c\",\"#ffbb78\",\"#1f77b4\",\"#1f77b4\",\"#1f77b4\",\"#ff7f0e\",\"#aec7e8\",\"#1f77b4\",\"#1f77b4\",\"#1f77b4\",\"#ff7f0e\",\"#1f77b4\",\"#ff7f0e\",\"#2ca02c\",\"#aec7e8\",\"#2ca02c\",\"#1f77b4\",\"#2ca02c\",\"#ff7f0e\",\"#2ca02c\",\"#ffbb78\",\"#ffbb78\",\"#2ca02c\",\"#ff7f0e\",\"#1f77b4\",\"#1f77b4\",\"#ffbb78\",\"#1f77b4\",\"#aec7e8\",\"#2ca02c\",\"#1f77b4\",\"#ffbb78\",\"#aec7e8\",\"#ffbb78\",\"#1f77b4\",\"#2ca02c\",\"#2ca02c\",\"#1f77b4\",\"#2ca02c\",\"#2ca02c\",\"#ffbb78\",\"#1f77b4\",\"#ffbb78\",\"#ff7f0e\",\"#ff7f0e\",\"#ffbb78\",\"#ffbb78\",\"#ffbb78\",\"#aec7e8\"],\"x\":{\"__ndarray__\":\"GBeDv6F8iMDAjcK/3J7Svh3Y5ECmerG/oLELwdbXTL+J0IdAw/5CwOBmCMD5PoTAC9jiQC3i6D/b40DAoVS1v6UsCEATBw7BRsODwOOGO0C9mKe/2XygQAp1TcDmOCnA9vwcwP9VSsBHCtQ/lKeyvyYIK7+b4fQ/neEyv07HMz9+E4Q/SEvfQG2gnUDl3W6/Ri5wQNHhlEB4xlzA6k4HwWxnBMGuAvk/PqxWQObqoL+y4wLBUnegQB8Kzr8f7oPA4MngP9XdB8F66HpA4xCCvw2tPsC7y8G/GGELwS8T4EA4VwlAzSDMP+D7xL9NOKhACZXtP3hWCkDqnbzA/XgIwM3qDcBGeQXB5naSQNBA0b1w3atAdQfEP8KRYD/YShLAlqkBwbNX2r+WuI5A72eawFOzcT9vBnJA/EarQL29gj/BADbAMQNjwBJYTMBUR6NAK7OjwGb96D+GCEdApJYFwRVoNr+NJYJANlzXP3ouMkBefmzA/U0DweVw3kA3JKDATccJPhpNor+IZlXA4H4PwTUkhkDejw/At1ViwDBlF8COmum+XwafQEa4K0ACNO49+8sMwD5znr/pcwHBEaJNQDiH8L++Tfu/TGyBP/codT+BG9c+BkonwJ7Uxz/AHaK/XymQvyUo27+QVHjAG4lSwMlElEABMSW/auwFwD4CCsG0QIM+SG2bQEsEH8DcDt+9DcSNP99dRUCxAe5AmagjwHhvjL9xgg8/ICTKv8Rp3z81SLG/3Wf9wBNU6kCrg7JA2Z6jQJdX8D+9VJFAlKFTwEZvAcAmDwzBV6FJwK0DmL9ncYM/mfMCwRTFAMDKLlG/v06qQPA+yD/z2xHAwLgMv+AHJ79YqPq/ukJtwFeLu8BqmVU/Pk5XwL2x9r/JJIDAQekKQK9FcL9OKetA742Vv44maz8RfOFAVlc/wML3ZMCf9ujAh2iLP/ZUAcC7+zfA3kSNQDMxQUCFO6i/Vm7BP9MYnr9d+Q3BQhpMQEcWzb6GWFjA/OWLQFRCyT4LXwLA+pECwaU5ij+N0YfAcC2LwAbQYL74IzhARetvPx77ScA=\",\"dtype\":\"float32\",\"shape\":[200]},\"y\":{\"__ndarray__\":\"IVOMwKVVQEACRrE/yscMQDiNNkBrqFO+hSB2wNiU4b8YfCI+uyWoQP2jIkC1CUw/wPkwQJLKHEBmEBtA2WbRQDaJJz8u5oXAcVExQAVLsTsylAxA0gx0Pxg1mEAY9EdAeT68QHrxC0DNgOBAg2ZvQNvIFMBF7i5Ar9BJQGqRrD+xTtI9NVkmQO+IAEBBbqG/zw4dP/ddjcC2NhXAlSiYwBD2bcCz/7m+iPeKOm0c/L/h9GzA0t50P330PUBt6tM/YcVPPfKJkMCttX5Afw4jQBbgtUAGb8k/ykF9wJ4wKUDnIPZA6AnfQK3qS79LHY/AUdXxP6Ke9kCdx4Y/1enJvSRnWkA3P4DA8ff1P8FZvz9QMZLAhTXdQBrGbsC/Q+M/IeSIwB/RSUBBJ9s/axejP06+CEBQXIU+W0mQwFcSu8AS7TZAGhorQAmpTT8PYI7ABM2wP4ooL7/vMEI/PgWJwOOrP0DHr6w+8+ImP2CBvb/2QkNAMixvwEzbJUAdLhW/ZLqlwBsA00AYwxe/yq0TwJ8+j7+Xc6G/uz9hQGFGJ0CQRtw/5xuKP/h0y78hl6bAOgQSQF1J00B8Ro3A5N8TPylvIr70WzxA61v6Pw3OtcAiFY0+oYIKv4Fi3kCklDS+4kWdvpM8uz+V+SDAsyMyQCW5Iz+fj8E/RNFrQMXMX8C7eAPAe1vUP8pbxz+yqAjA8tjAwNQ/KbzDi1RABnGsQBhUJkCc1QLAUL9CQBxaPUB43UXAGh+PwDw/SEDCrITA9VmOwCeU6EAJq6A+wWn1v/+5w0CBD1jAEfcaQPIgPUDrPLrAdCxowHeytr+Fh5877o+OwPdU3kBJd1FAJTK/v+ZXvr8Ogi5ATKsZwH1XjT89ew1AZythQPPZIUAVwSTAu2DFP6Udj8D3qE5ADHSHP4BAsMC1RS1ASWdRQPTnqEAE3ZfAuxrUwHGLJr8uH59Ax3xMQH5Vtb/fixRACILcQMhPgT/2oITAogN4PyDyJUB2DwHAhaJLQGic4j7ICxxAswRtwMo4xcBZJgY+ZvbuPp7ECsA3SZK+0jRuwGFVy0A=\",\"dtype\":\"float32\",\"shape\":[200]}},\"selected\":{\"id\":\"1052\"},\"selection_policy\":{\"id\":\"1053\"}},\"id\":\"1036\",\"type\":\"ColumnDataSource\"},{\"attributes\":{\"data_source\":{\"id\":\"1036\"},\"glyph\":{\"id\":\"1037\"},\"hover_glyph\":null,\"muted_glyph\":null,\"nonselection_glyph\":{\"id\":\"1038\"},\"selection_glyph\":null,\"view\":{\"id\":\"1040\"}},\"id\":\"1039\",\"type\":\"GlyphRenderer\"},{\"attributes\":{},\"id\":\"1006\",\"type\":\"DataRange1d\"},{\"attributes\":{\"overlay\":{\"id\":\"1028\"}},\"id\":\"1024\",\"type\":\"BoxZoomTool\"},{\"attributes\":{\"text\":\"robots coronavirus\",\"text_color\":\"#2ca02c\",\"x\":3.003349781036377,\"y\":1.8183324337005615},\"id\":\"1045\",\"type\":\"Label\"},{\"attributes\":{\"formatter\":{\"id\":\"1048\"},\"ticker\":{\"id\":\"1015\"}},\"id\":\"1014\",\"type\":\"LinearAxis\"},{\"attributes\":{},\"id\":\"1026\",\"type\":\"ResetTool\"},{\"attributes\":{},\"id\":\"1019\",\"type\":\"BasicTicker\"},{\"attributes\":{},\"id\":\"1050\",\"type\":\"BasicTickFormatter\"},{\"attributes\":{\"text\":\"covid 19\",\"text_color\":\"#ff7f0e\",\"x\":-0.8327919244766235,\"y\":-0.6902081966400146},\"id\":\"1043\",\"type\":\"Label\"},{\"attributes\":{\"source\":{\"id\":\"1036\"}},\"id\":\"1040\",\"type\":\"CDSView\"},{\"attributes\":{},\"id\":\"1022\",\"type\":\"PanTool\"},{\"attributes\":{},\"id\":\"1023\",\"type\":\"WheelZoomTool\"},{\"attributes\":{},\"id\":\"1025\",\"type\":\"SaveTool\"},{\"attributes\":{\"axis\":{\"id\":\"1018\"},\"dimension\":1,\"ticker\":null},\"id\":\"1021\",\"type\":\"Grid\"},{\"attributes\":{\"text\":\"t-SNE Clustering of 5 LSA Topics\"},\"id\":\"1004\",\"type\":\"Title\"},{\"attributes\":{\"fill_color\":{\"field\":\"fill_color\"},\"line_color\":{\"field\":\"line_color\"},\"x\":{\"field\":\"x\"},\"y\":{\"field\":\"y\"}},\"id\":\"1037\",\"type\":\"Scatter\"},{\"attributes\":{\"formatter\":{\"id\":\"1050\"},\"ticker\":{\"id\":\"1019\"}},\"id\":\"1018\",\"type\":\"LinearAxis\"},{\"attributes\":{\"axis\":{\"id\":\"1014\"},\"ticker\":null},\"id\":\"1017\",\"type\":\"Grid\"},{\"attributes\":{},\"id\":\"1048\",\"type\":\"BasicTickFormatter\"},{\"attributes\":{},\"id\":\"1008\",\"type\":\"DataRange1d\"},{\"attributes\":{},\"id\":\"1053\",\"type\":\"UnionRenderers\"},{\"attributes\":{\"text\":\"ai raises\",\"text_color\":\"#1f77b4\",\"x\":-4.073863506317139,\"y\":-1.8222259283065796},\"id\":\"1041\",\"type\":\"Label\"},{\"attributes\":{},\"id\":\"1052\",\"type\":\"Selection\"},{\"attributes\":{\"active_drag\":\"auto\",\"active_inspect\":\"auto\",\"active_multi\":null,\"active_scroll\":\"auto\",\"active_tap\":\"auto\",\"tools\":[{\"id\":\"1022\"},{\"id\":\"1023\"},{\"id\":\"1024\"},{\"id\":\"1025\"},{\"id\":\"1026\"},{\"id\":\"1027\"}]},\"id\":\"1029\",\"type\":\"Toolbar\"},{\"attributes\":{},\"id\":\"1010\",\"type\":\"LinearScale\"},{\"attributes\":{\"fill_alpha\":{\"value\":0.1},\"fill_color\":{\"field\":\"fill_color\"},\"line_alpha\":{\"value\":0.1},\"line_color\":{\"field\":\"line_color\"},\"x\":{\"field\":\"x\"},\"y\":{\"field\":\"y\"}},\"id\":\"1038\",\"type\":\"Scatter\"},{\"attributes\":{\"text\":\"brain human\",\"text_color\":\"#aec7e8\",\"x\":-0.8440069556236267,\"y\":5.568392753601074},\"id\":\"1042\",\"type\":\"Label\"},{\"attributes\":{},\"id\":\"1012\",\"type\":\"LinearScale\"},{\"attributes\":{},\"id\":\"1015\",\"type\":\"BasicTicker\"}],\"root_ids\":[\"1003\"]},\"title\":\"Bokeh Application\",\"version\":\"2.0.2\"}};\n",
       "  var render_items = [{\"docid\":\"c67249be-1c81-4b6e-9de1-3ee88fff7b52\",\"root_ids\":[\"1003\"],\"roots\":{\"1003\":\"2e998c92-cdc5-49cf-b5f2-d3efa89abcac\"}}];\n",
       "  root.Bokeh.embed.embed_items_notebook(docs_json, render_items);\n",
       "\n",
       "  }\n",
       "  if (root.Bokeh !== undefined) {\n",
       "    embed_document(root);\n",
       "  } else {\n",
       "    var attempts = 0;\n",
       "    var timer = setInterval(function(root) {\n",
       "      if (root.Bokeh !== undefined) {\n",
       "        clearInterval(timer);\n",
       "        embed_document(root);\n",
       "      } else {\n",
       "        attempts++;\n",
       "        if (attempts > 100) {\n",
       "          clearInterval(timer);\n",
       "          console.log(\"Bokeh: ERROR: Unable to run BokehJS code because BokehJS library is missing\");\n",
       "        }\n",
       "      }\n",
       "    }, 10, root)\n",
       "  }\n",
       "})(window);"
      ],
      "application/vnd.bokehjs_exec.v0+json": ""
     },
     "metadata": {
      "application/vnd.bokehjs_exec.v0+json": {
       "id": "1003"
      }
     },
     "output_type": "display_data"
    }
   ],
   "source": [
    "top_2_words_lsa = get_top_n_words(2, lsa_keys, small_document_term_matrix, small_count_vectorizer)\n",
    "lsa_mean_topic_vectors = get_mean_topic_vectors(lsa_keys, tsne_lsa_vectors)\n",
    "\n",
    "plot = figure(title=\"t-SNE Clustering of {} LSA Topics\".format(n_topics), plot_width=700, plot_height=700)\n",
    "plot.scatter(x=tsne_lsa_vectors[:,0], y=tsne_lsa_vectors[:,1], color=colormap[lsa_keys])\n",
    "\n",
    "for t in range(n_topics):\n",
    "    label = Label(x=lsa_mean_topic_vectors[t][0], y=lsa_mean_topic_vectors[t][1], \n",
    "                  text=top_2_words_lsa[t], text_color=colormap[t])\n",
    "    plot.add_layout(label)\n",
    "    \n",
    "show(plot)"
   ]
  },
  {
   "cell_type": "markdown",
   "metadata": {
    "_cell_guid": "429413f9-eb68-479a-aba3-85f064e0bfdd",
    "_uuid": "7b6f6a17923fe6c0c9fca58db945696688a83b02"
   },
   "source": [
    "Evidently, this is a bit a of a failed result. We have failed to reach any great degree of separation across the topic categories, and it is difficult to tell whether this can be attributed to the LSA decomposition or instead the $t$-SNE dimensionality reduction process. Let's move forward and try another clustering technique."
   ]
  },
  {
   "cell_type": "markdown",
   "metadata": {
    "_cell_guid": "297d53ca-9738-4bfe-825a-68d44af2fa1d",
    "_uuid": "8a5b831010134d1a88350a7a2257d6c15d19b9fe"
   },
   "source": [
    "### Latent Dirichilet Allocation\n",
    "We now repeat this process using LDA instead of LSA. LDA is instead a generative probabilistic process, designed with the specific goal of uncovering latent topic structure in text corpora."
   ]
  },
  {
   "cell_type": "code",
   "execution_count": 36,
   "metadata": {
    "_cell_guid": "c19bf4af-f399-4493-8fa5-d55e54e4f681",
    "_uuid": "0671476e00f484368beb747eb1529bfd680aa7fa"
   },
   "outputs": [],
   "source": [
    "lda_model = LatentDirichletAllocation(n_components=n_topics, learning_method='online', \n",
    "                                          random_state=0, verbose=0)\n",
    "lda_topic_matrix = lda_model.fit_transform(small_document_term_matrix)"
   ]
  },
  {
   "cell_type": "markdown",
   "metadata": {
    "_cell_guid": "efef4bb1-e9c5-48db-bd16-1c08baeba814",
    "_uuid": "acec5dac6fac1dee4bf6e214c412a8435bcc6252"
   },
   "source": [
    "Once again, we take the $\\arg \\max$ of each entry in the topic matrix to obtain the predicted topic category for each headline. These topic categories can then be characterised by their most frequent words.\n"
   ]
  },
  {
   "cell_type": "code",
   "execution_count": 37,
   "metadata": {
    "_cell_guid": "47111084-176f-449b-b756-b17c7404ce5c",
    "_uuid": "bb8244a14ca8c442449475aa0c9d484c15472d4a"
   },
   "outputs": [],
   "source": [
    "lda_keys = get_keys(lda_topic_matrix)\n",
    "lda_categories, lda_counts = keys_to_counts(lda_keys)"
   ]
  },
  {
   "cell_type": "code",
   "execution_count": 38,
   "metadata": {
    "_cell_guid": "9a43b1cb-9723-4a42-b13e-473eeb75c46b",
    "_uuid": "5f96953b1f371fa7a90b7fd22ff8af2e5249f15b"
   },
   "outputs": [
    {
     "name": "stdout",
     "output_type": "stream",
     "text": [
      "Topic 1:  innovation 100 eternal next meat printed market big open raises\n",
      "Topic 2:  brain quantum tesla future shows computing ai predicts welcome costs\n",
      "Topic 3:  robots waste free rise america 20 water future solar cells\n",
      "Topic 4:  learning ai medicine study cloud human exponential wave power delivery\n",
      "Topic 5:  ai coronavirus 19 autonomous covid scientists raises delivery health china\n"
     ]
    }
   ],
   "source": [
    "top_n_words_lda = get_top_n_words(10, lda_keys, small_document_term_matrix, small_count_vectorizer)\n",
    "\n",
    "for i in range(len(top_n_words_lda)):\n",
    "    print(\"Topic {}: \".format(i+1), top_n_words_lda[i])"
   ]
  },
  {
   "cell_type": "markdown",
   "metadata": {
    "_cell_guid": "4ecefeb7-f2eb-4cb5-aa2f-12fed8f2fdf6",
    "_uuid": "72ebe5380e7e18e169f5f5ebb1b54614b392cb12"
   },
   "source": [
    "The relative topic compositions of the sample are then illustated with a barchart."
   ]
  },
  {
   "cell_type": "code",
   "execution_count": 39,
   "metadata": {
    "_cell_guid": "5842f40a-f0d5-496e-bfcd-6a2cc37b36ba",
    "_uuid": "0776b66c217ba13392ecb2fc0067e13a4f42c7ce"
   },
   "outputs": [
    {
     "data": {
      "image/png": "[encoded data removed]",
      "text/plain": [
       "<Figure size 1152x576 with 1 Axes>"
      ]
     },
     "metadata": {
      "needs_background": "light"
     },
     "output_type": "display_data"
    }
   ],
   "source": [
    "top_2_words = get_top_n_words(2, lda_keys, small_document_term_matrix, small_count_vectorizer)\n",
    "labels = ['Topic {}: \\n'.format(i) + top_2_words[i] for i in lda_categories]\n",
    "\n",
    "fig, ax = plt.subplots(figsize=(16,8))\n",
    "ax.bar(lda_categories, lda_counts);\n",
    "ax.set_xticks(lda_categories);\n",
    "ax.set_xticklabels(labels);\n",
    "plt.xticks(rotation=45)\n",
    "ax.set_title('LDA topic counts');\n",
    "ax.set_ylabel('Number of headlines');"
   ]
  },
  {
   "cell_type": "markdown",
   "metadata": {
    "_cell_guid": "a0fd6128-ba34-40e2-818c-afbb3427183a",
    "_uuid": "5df728e018a2710127d0ee426753341120d5ad2a"
   },
   "source": [
    "However, in order to properly compare LDA with LSA, we again take this topic matrix and project it into two dimensions with $t$-SNE.\n"
   ]
  },
  {
   "cell_type": "code",
   "execution_count": 40,
   "metadata": {
    "_cell_guid": "e4eb0aab-5559-414a-9355-db900af00334",
    "_uuid": "c2a0b485587e8efc66b3277f2b3a5e8271b6ee7c"
   },
   "outputs": [
    {
     "name": "stdout",
     "output_type": "stream",
     "text": [
      "[t-SNE] Computing 151 nearest neighbors...\n",
      "[t-SNE] Indexed 200 samples in 0.000s...\n",
      "[t-SNE] Computed neighbors for 200 samples in 0.033s...\n",
      "[t-SNE] Computed conditional probabilities for sample 200 / 200\n",
      "[t-SNE] Mean sigma: 0.591666\n",
      "[t-SNE] KL divergence after 250 iterations with early exaggeration: 75.945320\n",
      "[t-SNE] KL divergence after 2000 iterations: 1.100837\n"
     ]
    }
   ],
   "source": [
    "tsne_lda_model = TSNE(n_components=3, perplexity=50, learning_rate=100, \n",
    "                        n_iter=2000, verbose=1, random_state=0, angle=0.75)\n",
    "tsne_lda_vectors = tsne_lda_model.fit_transform(lda_topic_matrix)"
   ]
  },
  {
   "cell_type": "code",
   "execution_count": 41,
   "metadata": {
    "_cell_guid": "58efe6bb-5a22-4377-bc3d-9238472f1b6b",
    "_uuid": "ddd57511e2525587e7da1e3dd1bcbc5341c553c6"
   },
   "outputs": [
    {
     "data": {
      "text/html": [
       "\n",
       "\n",
       "\n",
       "\n",
       "\n",
       "\n",
       "  <div class=\"bk-root\" id=\"e9ec2f16-4f6c-4d77-b165-068c3bb90a18\" data-root-id=\"1102\"></div>\n"
      ]
     },
     "metadata": {},
     "output_type": "display_data"
    },
    {
     "data": {
      "application/javascript": [
       "(function(root) {\n",
       "  function embed_document(root) {\n",
       "    \n",
       "  var docs_json = {\"5e4c9d9a-87cb-4692-86cf-d95a76ddf25c\":{\"roots\":{\"references\":[{\"attributes\":{\"below\":[{\"id\":\"1113\"}],\"center\":[{\"id\":\"1116\"},{\"id\":\"1120\"},{\"id\":\"1140\"},{\"id\":\"1141\"},{\"id\":\"1142\"},{\"id\":\"1143\"},{\"id\":\"1144\"}],\"left\":[{\"id\":\"1117\"}],\"plot_height\":700,\"plot_width\":700,\"renderers\":[{\"id\":\"1138\"}],\"title\":{\"id\":\"1103\"},\"toolbar\":{\"id\":\"1128\"},\"x_range\":{\"id\":\"1105\"},\"x_scale\":{\"id\":\"1109\"},\"y_range\":{\"id\":\"1107\"},\"y_scale\":{\"id\":\"1111\"}},\"id\":\"1102\",\"subtype\":\"Figure\",\"type\":\"Plot\"},{\"attributes\":{\"axis\":{\"id\":\"1117\"},\"dimension\":1,\"ticker\":null},\"id\":\"1120\",\"type\":\"Grid\"},{\"attributes\":{},\"id\":\"1114\",\"type\":\"BasicTicker\"},{\"attributes\":{},\"id\":\"1122\",\"type\":\"WheelZoomTool\"},{\"attributes\":{\"overlay\":{\"id\":\"1127\"}},\"id\":\"1123\",\"type\":\"BoxZoomTool\"},{\"attributes\":{},\"id\":\"1160\",\"type\":\"UnionRenderers\"},{\"attributes\":{\"axis\":{\"id\":\"1113\"},\"ticker\":null},\"id\":\"1116\",\"type\":\"Grid\"},{\"attributes\":{},\"id\":\"1155\",\"type\":\"BasicTickFormatter\"},{\"attributes\":{\"fill_color\":{\"field\":\"fill_color\"},\"line_color\":{\"field\":\"line_color\"},\"x\":{\"field\":\"x\"},\"y\":{\"field\":\"y\"}},\"id\":\"1136\",\"type\":\"Scatter\"},{\"attributes\":{},\"id\":\"1157\",\"type\":\"BasicTickFormatter\"},{\"attributes\":{\"active_drag\":\"auto\",\"active_inspect\":\"auto\",\"active_multi\":null,\"active_scroll\":\"auto\",\"active_tap\":\"auto\",\"tools\":[{\"id\":\"1121\"},{\"id\":\"1122\"},{\"id\":\"1123\"},{\"id\":\"1124\"},{\"id\":\"1125\"},{\"id\":\"1126\"}]},\"id\":\"1128\",\"type\":\"Toolbar\"},{\"attributes\":{\"text\":\"t-SNE Clustering of 5 LDA Topics\"},\"id\":\"1103\",\"type\":\"Title\"},{\"attributes\":{\"data\":{\"fill_color\":[\"#aec7e8\",\"#ff7f0e\",\"#1f77b4\",\"#1f77b4\",\"#ff7f0e\",\"#2ca02c\",\"#ffbb78\",\"#2ca02c\",\"#ffbb78\",\"#aec7e8\",\"#ffbb78\",\"#ffbb78\",\"#ff7f0e\",\"#2ca02c\",\"#ffbb78\",\"#ffbb78\",\"#aec7e8\",\"#2ca02c\",\"#ff7f0e\",\"#aec7e8\",\"#ff7f0e\",\"#2ca02c\",\"#2ca02c\",\"#1f77b4\",\"#aec7e8\",\"#ffbb78\",\"#ff7f0e\",\"#aec7e8\",\"#ff7f0e\",\"#aec7e8\",\"#aec7e8\",\"#ff7f0e\",\"#ffbb78\",\"#ff7f0e\",\"#ffbb78\",\"#ff7f0e\",\"#2ca02c\",\"#1f77b4\",\"#1f77b4\",\"#aec7e8\",\"#aec7e8\",\"#aec7e8\",\"#aec7e8\",\"#ffbb78\",\"#ff7f0e\",\"#2ca02c\",\"#ff7f0e\",\"#aec7e8\",\"#ff7f0e\",\"#2ca02c\",\"#ffbb78\",\"#ff7f0e\",\"#aec7e8\",\"#2ca02c\",\"#2ca02c\",\"#aec7e8\",\"#aec7e8\",\"#1f77b4\",\"#ffbb78\",\"#2ca02c\",\"#2ca02c\",\"#aec7e8\",\"#1f77b4\",\"#ffbb78\",\"#aec7e8\",\"#aec7e8\",\"#ffbb78\",\"#1f77b4\",\"#ff7f0e\",\"#2ca02c\",\"#aec7e8\",\"#1f77b4\",\"#2ca02c\",\"#ff7f0e\",\"#2ca02c\",\"#1f77b4\",\"#1f77b4\",\"#ff7f0e\",\"#2ca02c\",\"#ffbb78\",\"#1f77b4\",\"#ff7f0e\",\"#1f77b4\",\"#2ca02c\",\"#1f77b4\",\"#1f77b4\",\"#ffbb78\",\"#ffbb78\",\"#ffbb78\",\"#2ca02c\",\"#1f77b4\",\"#ff7f0e\",\"#ff7f0e\",\"#ffbb78\",\"#aec7e8\",\"#2ca02c\",\"#1f77b4\",\"#2ca02c\",\"#ff7f0e\",\"#2ca02c\",\"#ffbb78\",\"#2ca02c\",\"#1f77b4\",\"#ff7f0e\",\"#ffbb78\",\"#2ca02c\",\"#1f77b4\",\"#ff7f0e\",\"#aec7e8\",\"#ffbb78\",\"#2ca02c\",\"#1f77b4\",\"#ff7f0e\",\"#1f77b4\",\"#aec7e8\",\"#aec7e8\",\"#aec7e8\",\"#2ca02c\",\"#aec7e8\",\"#aec7e8\",\"#ff7f0e\",\"#aec7e8\",\"#ffbb78\",\"#2ca02c\",\"#2ca02c\",\"#aec7e8\",\"#1f77b4\",\"#1f77b4\",\"#ffbb78\",\"#ff7f0e\",\"#ffbb78\",\"#2ca02c\",\"#ff7f0e\",\"#ff7f0e\",\"#ff7f0e\",\"#aec7e8\",\"#2ca02c\",\"#ff7f0e\",\"#ff7f0e\",\"#aec7e8\",\"#2ca02c\",\"#2ca02c\",\"#ff7f0e\",\"#ff7f0e\",\"#2ca02c\",\"#aec7e8\",\"#2ca02c\",\"#ffbb78\",\"#aec7e8\",\"#ffbb78\",\"#1f77b4\",\"#ff7f0e\",\"#aec7e8\",\"#2ca02c\",\"#aec7e8\",\"#ffbb78\",\"#2ca02c\",\"#aec7e8\",\"#1f77b4\",\"#ffbb78\",\"#2ca02c\",\"#ffbb78\",\"#1f77b4\",\"#1f77b4\",\"#1f77b4\",\"#1f77b4\",\"#ff7f0e\",\"#ffbb78\",\"#2ca02c\",\"#2ca02c\",\"#ff7f0e\",\"#1f77b4\",\"#1f77b4\",\"#2ca02c\",\"#1f77b4\",\"#ffbb78\",\"#2ca02c\",\"#aec7e8\",\"#ffbb78\",\"#aec7e8\",\"#ffbb78\",\"#aec7e8\",\"#1f77b4\",\"#aec7e8\",\"#1f77b4\",\"#2ca02c\",\"#ffbb78\",\"#ff7f0e\",\"#2ca02c\",\"#ffbb78\",\"#aec7e8\",\"#ffbb78\",\"#2ca02c\",\"#ffbb78\",\"#1f77b4\",\"#ff7f0e\",\"#2ca02c\",\"#1f77b4\",\"#ffbb78\",\"#ffbb78\"],\"line_color\":[\"#aec7e8\",\"#ff7f0e\",\"#1f77b4\",\"#1f77b4\",\"#ff7f0e\",\"#2ca02c\",\"#ffbb78\",\"#2ca02c\",\"#ffbb78\",\"#aec7e8\",\"#ffbb78\",\"#ffbb78\",\"#ff7f0e\",\"#2ca02c\",\"#ffbb78\",\"#ffbb78\",\"#aec7e8\",\"#2ca02c\",\"#ff7f0e\",\"#aec7e8\",\"#ff7f0e\",\"#2ca02c\",\"#2ca02c\",\"#1f77b4\",\"#aec7e8\",\"#ffbb78\",\"#ff7f0e\",\"#aec7e8\",\"#ff7f0e\",\"#aec7e8\",\"#aec7e8\",\"#ff7f0e\",\"#ffbb78\",\"#ff7f0e\",\"#ffbb78\",\"#ff7f0e\",\"#2ca02c\",\"#1f77b4\",\"#1f77b4\",\"#aec7e8\",\"#aec7e8\",\"#aec7e8\",\"#aec7e8\",\"#ffbb78\",\"#ff7f0e\",\"#2ca02c\",\"#ff7f0e\",\"#aec7e8\",\"#ff7f0e\",\"#2ca02c\",\"#ffbb78\",\"#ff7f0e\",\"#aec7e8\",\"#2ca02c\",\"#2ca02c\",\"#aec7e8\",\"#aec7e8\",\"#1f77b4\",\"#ffbb78\",\"#2ca02c\",\"#2ca02c\",\"#aec7e8\",\"#1f77b4\",\"#ffbb78\",\"#aec7e8\",\"#aec7e8\",\"#ffbb78\",\"#1f77b4\",\"#ff7f0e\",\"#2ca02c\",\"#aec7e8\",\"#1f77b4\",\"#2ca02c\",\"#ff7f0e\",\"#2ca02c\",\"#1f77b4\",\"#1f77b4\",\"#ff7f0e\",\"#2ca02c\",\"#ffbb78\",\"#1f77b4\",\"#ff7f0e\",\"#1f77b4\",\"#2ca02c\",\"#1f77b4\",\"#1f77b4\",\"#ffbb78\",\"#ffbb78\",\"#ffbb78\",\"#2ca02c\",\"#1f77b4\",\"#ff7f0e\",\"#ff7f0e\",\"#ffbb78\",\"#aec7e8\",\"#2ca02c\",\"#1f77b4\",\"#2ca02c\",\"#ff7f0e\",\"#2ca02c\",\"#ffbb78\",\"#2ca02c\",\"#1f77b4\",\"#ff7f0e\",\"#ffbb78\",\"#2ca02c\",\"#1f77b4\",\"#ff7f0e\",\"#aec7e8\",\"#ffbb78\",\"#2ca02c\",\"#1f77b4\",\"#ff7f0e\",\"#1f77b4\",\"#aec7e8\",\"#aec7e8\",\"#aec7e8\",\"#2ca02c\",\"#aec7e8\",\"#aec7e8\",\"#ff7f0e\",\"#aec7e8\",\"#ffbb78\",\"#2ca02c\",\"#2ca02c\",\"#aec7e8\",\"#1f77b4\",\"#1f77b4\",\"#ffbb78\",\"#ff7f0e\",\"#ffbb78\",\"#2ca02c\",\"#ff7f0e\",\"#ff7f0e\",\"#ff7f0e\",\"#aec7e8\",\"#2ca02c\",\"#ff7f0e\",\"#ff7f0e\",\"#aec7e8\",\"#2ca02c\",\"#2ca02c\",\"#ff7f0e\",\"#ff7f0e\",\"#2ca02c\",\"#aec7e8\",\"#2ca02c\",\"#ffbb78\",\"#aec7e8\",\"#ffbb78\",\"#1f77b4\",\"#ff7f0e\",\"#aec7e8\",\"#2ca02c\",\"#aec7e8\",\"#ffbb78\",\"#2ca02c\",\"#aec7e8\",\"#1f77b4\",\"#ffbb78\",\"#2ca02c\",\"#ffbb78\",\"#1f77b4\",\"#1f77b4\",\"#1f77b4\",\"#1f77b4\",\"#ff7f0e\",\"#ffbb78\",\"#2ca02c\",\"#2ca02c\",\"#ff7f0e\",\"#1f77b4\",\"#1f77b4\",\"#2ca02c\",\"#1f77b4\",\"#ffbb78\",\"#2ca02c\",\"#aec7e8\",\"#ffbb78\",\"#aec7e8\",\"#ffbb78\",\"#aec7e8\",\"#1f77b4\",\"#aec7e8\",\"#1f77b4\",\"#2ca02c\",\"#ffbb78\",\"#ff7f0e\",\"#2ca02c\",\"#ffbb78\",\"#aec7e8\",\"#ffbb78\",\"#2ca02c\",\"#ffbb78\",\"#1f77b4\",\"#ff7f0e\",\"#2ca02c\",\"#1f77b4\",\"#ffbb78\",\"#ffbb78\"],\"x\":{\"__ndarray__\":\"FqIGwhEezkJmnyNCtF3UwV9Rc8JZyFFC0DP3wjNLtELNlw7DrZwKwW7tOsKzT7PC0EVawSINDUMfF5nCL+fAwrMxjMJDSu1C9NO/Ql5J+8LgCdBBMfewQg1p90KLvBdC4MzIwdpKucGzHbrBGBSqwkgbSUJQqfvBdj7ywWk2LEKcA+7CFZ9OQoo6TcJDJrJCcc73Qvixj0JIyhxDaW3OQSc8g8J4rJPCog/Nwkx9tsKrvy5CLRdvQVnDIUNAH/dAjxRWQi8UJEKSPoPCnC2FQq22NsIBeKfAlXCBQkcxEMJjGLfC45uZQsNcAcMc4dpBj6rJQn7GjsGVi9dCObb1wnL81cJuPoLCAlIywgAYukHV1wxCDxPeQtiqosEreKpCK/eHQhf3MUFqOaTCJWVuQMFoxUINi/1BCooyQgI6q8J4lz3DZu8OQguc1UIbx1xCOTDdQR4ohUJdJvnC4UTOwhvOI8KbbHNCMhmVQjt3r0Km+4pBKX1ZwlUcwcId/hJBpPnFwb87LEKJ9qZCltO1v6K/bcLApqRA5I+3QS+L2cFHRWzCcg5IQvH+CEEeC5dCDyw0QSWBAMP+qhZDMsTPwcvJlcALjlFCgYp3wqt9IEEjUtDC6b3CQuCql8FKgG5BO0miQqI7N8KC1dPCMlkFQ0AsY0Ap8G3CTG+7Qa4+m0I9Bz1DUgZZQuf+y8LVz51CJAHRQDACNEEYXetC9XvLwrV/gcHb/SjBYWsTQdpgE8LXUx9COSKcQtqGWUJXocTAMP0RwMsf6UHf+pFCDklBwnnShcKmqyXDtVS4QDCk4UEQrrZAeFvLQnIgysGwQvLCASjCQk2Vo8K2ZVRCFA9fwmuTxULmIK3CV7qOQJLXT0IAH8RCrNE5wQErHsLG7gnDf/PjQQgi/kGHIonBy+k7wweLyUGWmmdBvIPwQhdsJsMfdwrDRq8xwTo/10JACMbBSoohwyybRkK+7HhCnSuPwvP3SkLYJwHDd8UPw7U8kELYOE5CzEqtwvqwY8LaTAPDh1wCQya6h8KzXphBMqroQmVKqEKNUm9CR3yTwvlKycI=\",\"dtype\":\"float32\",\"shape\":[200]},\"y\":{\"__ndarray__\":\"WZwTQ1A7AcN/AupCW3S+Qq1+sUL975HBd0NwQI5+EMED1CHAPqxRQqI8FUJ5tt2/8Zkiwz3G+8G6L0/ActsVwoHMCUBRJUfCljgxwtuXykEAZ+3CE13RwhTF+kCusutCe3gfQmCsCL+2isTCxyO6wuG64cLIzQlB3gc9QhAxh8JGwIzBQOqhwvZOND+p2ObCB3soQVoh4kJx1h3Cz4aMQkLNmUK3UQfC3H6PwWHRlcA5MbjBpJEQwsGqh0L8l7vBwendwSWbxcLZE0pCvuMJw+UKM745PnNBL49PQTn9IcKs12BB/qsdQ6YtbMLkwTrCDl5ywqvXGUGvz6dCe0igwQMoOMIPSYLC04zYwQwQn0JZAWzCSImFwe2zMcKBdelCxm3IwTE6tsID7vZC/KUhQ7Mzi0IgqPLCMLAhQr8nL8Ioom9Cu1Ivw5bR3kJamAHCN+MjQ27ycUJjazbCz5DTQUd2IMKR6q7BBHoIQ6fgYsLsTwTD5sTRwjjXf0JQyy7CVv0MQ7jmkMJblW3CyMU3wW2siMKk0J/CfFUfQmtmn8JWkoTCvH6OwrV3+kL2DQDDWhsBQWR5fkJ3u7xBEiQYQ1vJv8L3fVxCPdc5QkLbSMHMuOJAJe2XwYkmikECBUlCTR2uwgl5QsCmxvtB1V6JQeqaJUKmNKlCHIv2QnHcAEJxNGzBNmzAwoRwn8KWCHVB7AoxwqaebcJp1cPCauJvQo/5B8JzHKpCvdbNwp1lrkLwF7xBMTt+QRC2sMLpeRnDF22fwj+IokE9PXLCrM6ZQXni4cHYQN3BHLbKQtuxFsM5gc1BCwJuQnndiEKFmh9CS5DEwtYLFcPNZyBDla2fQUvPJUIPgRxCW8BvQqqP4kI9AhlD1GTZQswm9cIc+2vCokqywUgSCkGJawnD85SVwZEUFEMKhCJBLwmRwTTJzMGWfdpCF4S9QkGtVULjRvHBiGqXQZnehUHB6pxCSiDxQXYiO0OdRgJD1G5sQSeTJcOAblBCOeiYQhdNGUKDklFCumukQH3028HJTqhCrl+ywoTiVMItuqhCrFg/wjpjrcI=\",\"dtype\":\"float32\",\"shape\":[200]}},\"selected\":{\"id\":\"1159\"},\"selection_policy\":{\"id\":\"1160\"}},\"id\":\"1135\",\"type\":\"ColumnDataSource\"},{\"attributes\":{},\"id\":\"1159\",\"type\":\"Selection\"},{\"attributes\":{},\"id\":\"1105\",\"type\":\"DataRange1d\"},{\"attributes\":{\"bottom_units\":\"screen\",\"fill_alpha\":0.5,\"fill_color\":\"lightgrey\",\"left_units\":\"screen\",\"level\":\"overlay\",\"line_alpha\":1.0,\"line_color\":\"black\",\"line_dash\":[4,4],\"line_width\":2,\"render_mode\":\"css\",\"right_units\":\"screen\",\"top_units\":\"screen\"},\"id\":\"1127\",\"type\":\"BoxAnnotation\"},{\"attributes\":{},\"id\":\"1121\",\"type\":\"PanTool\"},{\"attributes\":{},\"id\":\"1125\",\"type\":\"ResetTool\"},{\"attributes\":{},\"id\":\"1118\",\"type\":\"BasicTicker\"},{\"attributes\":{\"data_source\":{\"id\":\"1135\"},\"glyph\":{\"id\":\"1136\"},\"hover_glyph\":null,\"muted_glyph\":null,\"nonselection_glyph\":{\"id\":\"1137\"},\"selection_glyph\":null,\"view\":{\"id\":\"1139\"}},\"id\":\"1138\",\"type\":\"GlyphRenderer\"},{\"attributes\":{\"text\":\"ai coronavirus\",\"text_color\":\"#2ca02c\",\"x\":52.27965545654297,\"y\":-9.632630348205566},\"id\":\"1144\",\"type\":\"Label\"},{\"attributes\":{},\"id\":\"1126\",\"type\":\"HelpTool\"},{\"attributes\":{\"text\":\"innovation 100\",\"text_color\":\"#1f77b4\",\"x\":34.660240173339844,\"y\":97.66110229492188},\"id\":\"1140\",\"type\":\"Label\"},{\"attributes\":{\"text\":\"robots waste\",\"text_color\":\"#ff7f0e\",\"x\":39.752105712890625,\"y\":-86.07537841796875},\"id\":\"1142\",\"type\":\"Label\"},{\"attributes\":{},\"id\":\"1124\",\"type\":\"SaveTool\"},{\"attributes\":{\"text\":\"brain quantum\",\"text_color\":\"#aec7e8\",\"x\":-42.56204605102539,\"y\":15.262018203735352},\"id\":\"1141\",\"type\":\"Label\"},{\"attributes\":{\"formatter\":{\"id\":\"1157\"},\"ticker\":{\"id\":\"1118\"}},\"id\":\"1117\",\"type\":\"LinearAxis\"},{\"attributes\":{},\"id\":\"1107\",\"type\":\"DataRange1d\"},{\"attributes\":{\"fill_alpha\":{\"value\":0.1},\"fill_color\":{\"field\":\"fill_color\"},\"line_alpha\":{\"value\":0.1},\"line_color\":{\"field\":\"line_color\"},\"x\":{\"field\":\"x\"},\"y\":{\"field\":\"y\"}},\"id\":\"1137\",\"type\":\"Scatter\"},{\"attributes\":{\"source\":{\"id\":\"1135\"}},\"id\":\"1139\",\"type\":\"CDSView\"},{\"attributes\":{\"formatter\":{\"id\":\"1155\"},\"ticker\":{\"id\":\"1114\"}},\"id\":\"1113\",\"type\":\"LinearAxis\"},{\"attributes\":{},\"id\":\"1109\",\"type\":\"LinearScale\"},{\"attributes\":{\"text\":\"learning ai\",\"text_color\":\"#ffbb78\",\"x\":-83.42384338378906,\"y\":-9.092214584350586},\"id\":\"1143\",\"type\":\"Label\"},{\"attributes\":{},\"id\":\"1111\",\"type\":\"LinearScale\"}],\"root_ids\":[\"1102\"]},\"title\":\"Bokeh Application\",\"version\":\"2.0.2\"}};\n",
       "  var render_items = [{\"docid\":\"5e4c9d9a-87cb-4692-86cf-d95a76ddf25c\",\"root_ids\":[\"1102\"],\"roots\":{\"1102\":\"e9ec2f16-4f6c-4d77-b165-068c3bb90a18\"}}];\n",
       "  root.Bokeh.embed.embed_items_notebook(docs_json, render_items);\n",
       "\n",
       "  }\n",
       "  if (root.Bokeh !== undefined) {\n",
       "    embed_document(root);\n",
       "  } else {\n",
       "    var attempts = 0;\n",
       "    var timer = setInterval(function(root) {\n",
       "      if (root.Bokeh !== undefined) {\n",
       "        clearInterval(timer);\n",
       "        embed_document(root);\n",
       "      } else {\n",
       "        attempts++;\n",
       "        if (attempts > 100) {\n",
       "          clearInterval(timer);\n",
       "          console.log(\"Bokeh: ERROR: Unable to run BokehJS code because BokehJS library is missing\");\n",
       "        }\n",
       "      }\n",
       "    }, 10, root)\n",
       "  }\n",
       "})(window);"
      ],
      "application/vnd.bokehjs_exec.v0+json": ""
     },
     "metadata": {
      "application/vnd.bokehjs_exec.v0+json": {
       "id": "1102"
      }
     },
     "output_type": "display_data"
    }
   ],
   "source": [
    "top_5_words_lda = get_top_n_words(2, lda_keys, small_document_term_matrix, small_count_vectorizer)\n",
    "lda_mean_topic_vectors = get_mean_topic_vectors(lda_keys, tsne_lda_vectors)\n",
    "\n",
    "plot = figure(title=\"t-SNE Clustering of {} LDA Topics\".format(n_topics), plot_width=700, plot_height=700)\n",
    "plot.scatter(x=tsne_lda_vectors[:,0], y=tsne_lda_vectors[:,1], color=colormap[lda_keys])\n",
    "\n",
    "for t in range(n_topics):\n",
    "    label = Label(x=lda_mean_topic_vectors[t][0], y=lda_mean_topic_vectors[t][1], \n",
    "                  text=top_5_words_lda[t], text_color=colormap[t])\n",
    "    plot.add_layout(label)\n",
    "\n",
    "show(plot)"
   ]
  },
  {
   "cell_type": "markdown",
   "metadata": {
    "_cell_guid": "f942c81d-0b4c-4641-9a6e-2d3bbfa821be",
    "_uuid": "6a1b7d7adea1ffc919641e07f2f7dae33c56247d",
    "collapsed": true
   },
   "source": [
    "This is a much better result! Controlling for $t$-SNE, it would seem that LDA has had much more succcess than LSA in separating out the topic categories. For this reason, LDA appears the more appropriate algorithm when we scale up the clustering process in the next section."
   ]
  },
  {
   "cell_type": "code",
   "execution_count": null,
   "metadata": {},
   "outputs": [],
   "source": []
  },
  {
   "cell_type": "code",
   "execution_count": null,
   "metadata": {},
   "outputs": [],
   "source": []
  }
 ],
 "metadata": {
  "kernelspec": {
   "display_name": "Python 3",
   "language": "python",
   "name": "python3"
  },
  "language_info": {
   "codemirror_mode": {
    "name": "ipython",
    "version": 3
   },
   "file_extension": ".py",
   "mimetype": "text/x-python",
   "name": "python",
   "nbconvert_exporter": "python",
   "pygments_lexer": "ipython3",
   "version": "3.7.7"
  }
 },
 "nbformat": 4,
 "nbformat_minor": 1
}
