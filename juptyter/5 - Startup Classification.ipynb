{
 "cells": [
  {
   "cell_type": "code",
   "execution_count": 1,
   "metadata": {},
   "outputs": [],
   "source": [
    "import pickle\n",
    "import pandas as pd\n",
    "from sklearn.feature_extraction.text import TfidfVectorizer\n",
    "import numpy as np"
   ]
  },
  {
   "cell_type": "code",
   "execution_count": 2,
   "metadata": {},
   "outputs": [],
   "source": [
    "with open('trend_classifier', 'rb') as training_model:\n",
    "    model = pickle.load(training_model)"
   ]
  },
  {
   "cell_type": "code",
   "execution_count": 3,
   "metadata": {},
   "outputs": [],
   "source": [
    "with open('trend_tfidfconverter', 'rb') as training_model:\n",
    "    tfidfconverter = pickle.load(training_model)"
   ]
  },
  {
   "cell_type": "markdown",
   "metadata": {
    "colab_type": "text",
    "id": "-27LekL_lqVR"
   },
   "source": [
    "## Load and clean data"
   ]
  },
  {
   "cell_type": "code",
   "execution_count": 4,
   "metadata": {},
   "outputs": [
    {
     "data": {
      "text/html": [
       "<div>\n",
       "<style scoped>\n",
       "    .dataframe tbody tr th:only-of-type {\n",
       "        vertical-align: middle;\n",
       "    }\n",
       "\n",
       "    .dataframe tbody tr th {\n",
       "        vertical-align: top;\n",
       "    }\n",
       "\n",
       "    .dataframe thead th {\n",
       "        text-align: right;\n",
       "    }\n",
       "</style>\n",
       "<table border=\"1\" class=\"dataframe\">\n",
       "  <thead>\n",
       "    <tr style=\"text-align: right;\">\n",
       "      <th></th>\n",
       "      <th>Nome</th>\n",
       "      <th>Text</th>\n",
       "    </tr>\n",
       "  </thead>\n",
       "  <tbody>\n",
       "    <tr>\n",
       "      <th>0</th>\n",
       "      <td>CERCAOFFICINA</td>\n",
       "      <td>cercaofficina a portal to compare quotes for r...</td>\n",
       "    </tr>\n",
       "    <tr>\n",
       "      <th>1</th>\n",
       "      <td>CAREPY</td>\n",
       "      <td>carepy created digital lassistente for medicat...</td>\n",
       "    </tr>\n",
       "    <tr>\n",
       "      <th>2</th>\n",
       "      <td>AMBIENSVR</td>\n",
       "      <td>ambiensvr a startup that develops projects or ...</td>\n",
       "    </tr>\n",
       "    <tr>\n",
       "      <th>3</th>\n",
       "      <td>COCOAPP</td>\n",
       "      <td>A software for handling reservations for beach</td>\n",
       "    </tr>\n",
       "    <tr>\n",
       "      <th>4</th>\n",
       "      <td>FLYFREE AIRWAYS</td>\n",
       "      <td>Enable to share private flights for small busi...</td>\n",
       "    </tr>\n",
       "  </tbody>\n",
       "</table>\n",
       "</div>"
      ],
      "text/plain": [
       "              Nome                                               Text\n",
       "0    CERCAOFFICINA  cercaofficina a portal to compare quotes for r...\n",
       "1           CAREPY  carepy created digital lassistente for medicat...\n",
       "2        AMBIENSVR  ambiensvr a startup that develops projects or ...\n",
       "3          COCOAPP     A software for handling reservations for beach\n",
       "4  FLYFREE AIRWAYS  Enable to share private flights for small busi..."
      ]
     },
     "execution_count": 4,
     "metadata": {},
     "output_type": "execute_result"
    }
   ],
   "source": [
    "startup = pd.read_csv('DB Startups v2.csv', sep=\";\")\n",
    "del(startup['Unnamed: 0'])\n",
    "startup.head()"
   ]
  },
  {
   "cell_type": "code",
   "execution_count": 5,
   "metadata": {},
   "outputs": [
    {
     "name": "stdout",
     "output_type": "stream",
     "text": [
      "Numero totale di startup: 91\n"
     ]
    }
   ],
   "source": [
    "print (\"Numero totale di startup: %d\" % startup['Nome'].count())"
   ]
  },
  {
   "cell_type": "markdown",
   "metadata": {
    "colab_type": "text",
    "id": "-27LekL_lqVR"
   },
   "source": [
    "## Apply Tags"
   ]
  },
  {
   "cell_type": "code",
   "execution_count": 6,
   "metadata": {},
   "outputs": [],
   "source": [
    "with open('stop_words', 'rb') as stopwords_dump:## Load and clean data\n",
    "    stop_words = pickle.load(stopwords_dump)"
   ]
  },
  {
   "cell_type": "code",
   "execution_count": 7,
   "metadata": {},
   "outputs": [],
   "source": [
    "def remove_stopwords(text):\n",
    "    no_stopword_text = [w for w in text.split() if not w in stop_words]\n",
    "    return ' '.join(no_stopword_text)"
   ]
  },
  {
   "cell_type": "code",
   "execution_count": 8,
   "metadata": {},
   "outputs": [],
   "source": [
    "startup['Txt'] = startup['Text'].apply(lambda x: remove_stopwords(x))"
   ]
  },
  {
   "cell_type": "code",
   "execution_count": 9,
   "metadata": {},
   "outputs": [],
   "source": [
    "from sklearn.feature_extraction.text import CountVectorizer\n",
    "import re\n",
    "\n",
    "corpus = startup['Txt']\n",
    "cv=CountVectorizer(max_df=0.8,stop_words=stop_words, max_features=10000, ngram_range=(1,3))\n",
    "X=cv.fit_transform(corpus)"
   ]
  },
  {
   "cell_type": "code",
   "execution_count": 10,
   "metadata": {},
   "outputs": [],
   "source": [
    "from sklearn.feature_extraction.text import TfidfTransformer\n",
    " \n",
    "tfidf_transformer=TfidfTransformer(smooth_idf=True,use_idf=True)\n",
    "tfidf_transformer.fit(X)\n",
    "feature_names=cv.get_feature_names()"
   ]
  },
  {
   "cell_type": "code",
   "execution_count": 11,
   "metadata": {},
   "outputs": [],
   "source": [
    "from scipy.sparse import coo_matrix\n",
    "def sort_coo(coo_matrix):\n",
    "    tuples = zip(coo_matrix.col, coo_matrix.data)\n",
    "    return sorted(tuples, key=lambda x: (x[1], x[0]), reverse=True)\n",
    " \n",
    "def extract_topn_from_vector(feature_names, sorted_items, topn=10):\n",
    "    \"\"\"get the feature names and tf-idf score of top n items\"\"\"\n",
    "    \n",
    "    #use only topn items from vector\n",
    "    sorted_items = sorted_items[:topn]\n",
    " \n",
    "    score_vals = []\n",
    "    feature_vals = []\n",
    "    \n",
    "    # word index and corresponding tf-idf score\n",
    "    for idx, score in sorted_items:\n",
    "        \n",
    "        #keep track of feature name and its corresponding score\n",
    "        score_vals.append(round(score, 1))\n",
    "        feature_vals.append(feature_names[idx])\n",
    "\n",
    "    #create a tuples of feature,score\n",
    "    #results = zip(feature_vals,score_vals)\n",
    "    results= {}\n",
    "    for idx in range(len(feature_vals)):\n",
    "        results[feature_vals[idx]]=score_vals[idx]\n",
    "    \n",
    "    return results\n",
    "\n",
    "def extract_keys_for_row(doc, n):  \n",
    "    #generate tf-idf for the given document\n",
    "    tf_idf_vector = tfidf_transformer.transform(cv.transform([doc]))\n",
    "\n",
    "    #sort the tf-idf vectors by descending order of scores\n",
    "    sorted_items = sort_coo(tf_idf_vector.tocoo())\n",
    "    \n",
    "    #extract only the top n\n",
    "    keywords = extract_topn_from_vector(feature_names,sorted_items, n)\n",
    "    \n",
    "    kw = []\n",
    "    for k in keywords:\n",
    "        kw.append(k)\n",
    "        \n",
    "    kw2 = []\n",
    "    for k in kw:\n",
    "        if len(k.split()) == 2:\n",
    "            kw2.append (k.split()[0].strip())\n",
    "            kw2.append (k.split()[1].strip())\n",
    "            \n",
    "        if len(k.split()) == 3:\n",
    "            kw2.append (k.split()[0].strip() + ' ' + k.split()[1].strip())\n",
    "            kw2.append (k.split()[1].strip() + ' ' + k.split()[2].strip())\n",
    "            kw2.append (k.split()[0].strip())\n",
    "            kw2.append (k.split()[1].strip())\n",
    "            kw2.append (k.split()[2].strip())\n",
    "    \n",
    "    kw = kw+kw2\n",
    "        \n",
    "    return \", \".join(kw)\n",
    "\n",
    "#extract_keys_for_row(startup['Txt'][4],10)"
   ]
  },
  {
   "cell_type": "code",
   "execution_count": 12,
   "metadata": {},
   "outputs": [],
   "source": [
    "startup['Keywords'] = startup['Txt'].apply(lambda x: extract_keys_for_row(x,10))"
   ]
  },
  {
   "cell_type": "code",
   "execution_count": 13,
   "metadata": {},
   "outputs": [],
   "source": [
    "tags = pd.read_excel(\"Keywords to Tags V5.xlsx\", encoding=\"utf8\", error_bad_lines=False)\n",
    "tags = tags.replace(np.nan, '', regex=True)\n",
    "tags = tags[~(tags['Tags'].str.len() == 0)]\n",
    "del(tags['Tag 1'])\n",
    "del(tags['Tag 2'])\n",
    "del(tags['Tag 3'])"
   ]
  },
  {
   "cell_type": "code",
   "execution_count": 14,
   "metadata": {},
   "outputs": [],
   "source": [
    "keywords = startup[['Nome','Keywords']]\n",
    "#keywords.head()"
   ]
  },
  {
   "cell_type": "code",
   "execution_count": 15,
   "metadata": {},
   "outputs": [],
   "source": [
    "words = pd.concat([pd.Series(row['Nome'], row['Keywords'].split(', ')) \n",
    "           for _, row in keywords.iterrows()]).reset_index().rename(columns={\"index\": \"Words\", 0: \"Nome\"})\n",
    "words.sort_values(by=['Words'], inplace=True)"
   ]
  },
  {
   "cell_type": "code",
   "execution_count": null,
   "metadata": {},
   "outputs": [],
   "source": []
  },
  {
   "cell_type": "code",
   "execution_count": 16,
   "metadata": {},
   "outputs": [],
   "source": [
    "def list_to_csv(text):\n",
    "    str_list = \", \" . join(text)\n",
    "\n",
    "    str_list = str_list.split(\", \")\n",
    "    str_list = list(map(str.strip, str_list))\n",
    "    str_list = list(filter(None, str_list))\n",
    "    str_list = list(set(str_list))\n",
    "    str_list = \", \" . join(str_list)\n",
    "    \n",
    "    return str_list\n",
    "    \n",
    "#list_to_csv(res['ComputedTags'][8])"
   ]
  },
  {
   "cell_type": "code",
   "execution_count": 17,
   "metadata": {
    "scrolled": true
   },
   "outputs": [],
   "source": [
    "res = tags.merge(words, on=\"Words\", how='left')\n",
    "res = res.groupby('Nome').agg(lambda x: x.tolist()).rename({'Tags': 'ComputedTags'}, axis=1)\n",
    "res['ComputedTags'] = res['ComputedTags'].apply(lambda x: list_to_csv(x))"
   ]
  },
  {
   "cell_type": "code",
   "execution_count": null,
   "metadata": {},
   "outputs": [],
   "source": []
  },
  {
   "cell_type": "code",
   "execution_count": 18,
   "metadata": {},
   "outputs": [],
   "source": [
    "startup = startup.merge(res, on=\"Nome\", how='left')\n",
    "startup = startup.replace(np.nan, '', regex=True)"
   ]
  },
  {
   "cell_type": "code",
   "execution_count": 19,
   "metadata": {},
   "outputs": [],
   "source": [
    "del(startup['Keywords'])\n",
    "del(startup['Words'])"
   ]
  },
  {
   "cell_type": "code",
   "execution_count": 29,
   "metadata": {
    "scrolled": false
   },
   "outputs": [
    {
     "data": {
      "text/html": [
       "<div>\n",
       "<style scoped>\n",
       "    .dataframe tbody tr th:only-of-type {\n",
       "        vertical-align: middle;\n",
       "    }\n",
       "\n",
       "    .dataframe tbody tr th {\n",
       "        vertical-align: top;\n",
       "    }\n",
       "\n",
       "    .dataframe thead th {\n",
       "        text-align: right;\n",
       "    }\n",
       "</style>\n",
       "<table border=\"1\" class=\"dataframe\">\n",
       "  <thead>\n",
       "    <tr style=\"text-align: right;\">\n",
       "      <th></th>\n",
       "      <th>Nome</th>\n",
       "      <th>Text</th>\n",
       "      <th>ComputedTags</th>\n",
       "      <th>Predicted Trend</th>\n",
       "    </tr>\n",
       "  </thead>\n",
       "  <tbody>\n",
       "    <tr>\n",
       "      <th>0</th>\n",
       "      <td>CERCAOFFICINA</td>\n",
       "      <td>cercaofficina a portal to compare quotes for r...</td>\n",
       "      <td>Vertical: Automotive, Application: Maintenance...</td>\n",
       "      <td>Future of Mobility</td>\n",
       "    </tr>\n",
       "    <tr>\n",
       "      <th>1</th>\n",
       "      <td>CAREPY</td>\n",
       "      <td>carepy created digital lassistente for medicat...</td>\n",
       "      <td>Vertical: Pharmacy, Vertical: Health &amp; Medicine</td>\n",
       "      <td>Exponential Medicine &amp; Digital Health</td>\n",
       "    </tr>\n",
       "    <tr>\n",
       "      <th>2</th>\n",
       "      <td>AMBIENSVR</td>\n",
       "      <td>ambiensvr a startup that develops projects or ...</td>\n",
       "      <td>Tag: Startup, Tech: Virtual Reality, Vertical:...</td>\n",
       "      <td>Restaurants and Future of Food and Beverage</td>\n",
       "    </tr>\n",
       "    <tr>\n",
       "      <th>3</th>\n",
       "      <td>COCOAPP</td>\n",
       "      <td>A software for handling reservations for beach</td>\n",
       "      <td>Tag: Software</td>\n",
       "      <td>Restaurants and Future of Food and Beverage</td>\n",
       "    </tr>\n",
       "    <tr>\n",
       "      <th>4</th>\n",
       "      <td>FLYFREE AIRWAYS</td>\n",
       "      <td>Enable to share private flights for small busi...</td>\n",
       "      <td>Tag: Venture Capital, Vertical: Travel and Tou...</td>\n",
       "      <td>Restaurants and Future of Food and Beverage</td>\n",
       "    </tr>\n",
       "    <tr>\n",
       "      <th>...</th>\n",
       "      <td>...</td>\n",
       "      <td>...</td>\n",
       "      <td>...</td>\n",
       "      <td>...</td>\n",
       "    </tr>\n",
       "    <tr>\n",
       "      <th>86</th>\n",
       "      <td>FINDMYLOST</td>\n",
       "      <td>platform that allows you to regain your lost i...</td>\n",
       "      <td>Tag: Platform, Vertical: Travel and Tourism, V...</td>\n",
       "      <td>Restaurants and Future of Food and Beverage</td>\n",
       "    </tr>\n",
       "    <tr>\n",
       "      <th>87</th>\n",
       "      <td>GLASS TO POWER</td>\n",
       "      <td>glass to power a spin off of the university of...</td>\n",
       "      <td>Tag: Technology, Tag: University, Vertical: En...</td>\n",
       "      <td>Decarbonization &amp; Transition to Renewable &amp; Ne...</td>\n",
       "    </tr>\n",
       "    <tr>\n",
       "      <th>88</th>\n",
       "      <td>SKOUTY</td>\n",
       "      <td>platform to organize outdoor activities accomp...</td>\n",
       "      <td>Tag: Platform, Vertical: Sports</td>\n",
       "      <td>Restaurants and Future of Food and Beverage</td>\n",
       "    </tr>\n",
       "    <tr>\n",
       "      <th>89</th>\n",
       "      <td>EMERGE</td>\n",
       "      <td>platform that allows buyers from all over the ...</td>\n",
       "      <td>Tag: Platform, Vertical: Food &amp; Beverage, Loca...</td>\n",
       "      <td>Restaurants and Future of Food and Beverage</td>\n",
       "    </tr>\n",
       "    <tr>\n",
       "      <th>90</th>\n",
       "      <td>DELIVERART</td>\n",
       "      <td>startup that has developed a management platfo...</td>\n",
       "      <td>Application: Goods Delivery, Vertical: Food &amp; ...</td>\n",
       "      <td>Ecommerce and Digitalization of shops</td>\n",
       "    </tr>\n",
       "  </tbody>\n",
       "</table>\n",
       "<p>91 rows × 4 columns</p>\n",
       "</div>"
      ],
      "text/plain": [
       "               Nome                                               Text  \\\n",
       "0     CERCAOFFICINA  cercaofficina a portal to compare quotes for r...   \n",
       "1            CAREPY  carepy created digital lassistente for medicat...   \n",
       "2         AMBIENSVR  ambiensvr a startup that develops projects or ...   \n",
       "3           COCOAPP     A software for handling reservations for beach   \n",
       "4   FLYFREE AIRWAYS  Enable to share private flights for small busi...   \n",
       "..              ...                                                ...   \n",
       "86       FINDMYLOST  platform that allows you to regain your lost i...   \n",
       "87   GLASS TO POWER  glass to power a spin off of the university of...   \n",
       "88           SKOUTY  platform to organize outdoor activities accomp...   \n",
       "89           EMERGE  platform that allows buyers from all over the ...   \n",
       "90       DELIVERART  startup that has developed a management platfo...   \n",
       "\n",
       "                                         ComputedTags  \\\n",
       "0   Vertical: Automotive, Application: Maintenance...   \n",
       "1     Vertical: Pharmacy, Vertical: Health & Medicine   \n",
       "2   Tag: Startup, Tech: Virtual Reality, Vertical:...   \n",
       "3                                       Tag: Software   \n",
       "4   Tag: Venture Capital, Vertical: Travel and Tou...   \n",
       "..                                                ...   \n",
       "86  Tag: Platform, Vertical: Travel and Tourism, V...   \n",
       "87  Tag: Technology, Tag: University, Vertical: En...   \n",
       "88                    Tag: Platform, Vertical: Sports   \n",
       "89  Tag: Platform, Vertical: Food & Beverage, Loca...   \n",
       "90  Application: Goods Delivery, Vertical: Food & ...   \n",
       "\n",
       "                                      Predicted Trend  \n",
       "0                                  Future of Mobility  \n",
       "1               Exponential Medicine & Digital Health  \n",
       "2         Restaurants and Future of Food and Beverage  \n",
       "3         Restaurants and Future of Food and Beverage  \n",
       "4         Restaurants and Future of Food and Beverage  \n",
       "..                                                ...  \n",
       "86        Restaurants and Future of Food and Beverage  \n",
       "87  Decarbonization & Transition to Renewable & Ne...  \n",
       "88        Restaurants and Future of Food and Beverage  \n",
       "89        Restaurants and Future of Food and Beverage  \n",
       "90              Ecommerce and Digitalization of shops  \n",
       "\n",
       "[91 rows x 4 columns]"
      ]
     },
     "execution_count": 29,
     "metadata": {},
     "output_type": "execute_result"
    }
   ],
   "source": [
    "startup"
   ]
  },
  {
   "cell_type": "markdown",
   "metadata": {
    "colab_type": "text",
    "id": "-27LekL_lqVR"
   },
   "source": [
    "## Find Tech Trend"
   ]
  },
  {
   "cell_type": "code",
   "execution_count": 21,
   "metadata": {},
   "outputs": [],
   "source": [
    "X = tfidfconverter.transform(startup['Txt']).toarray()\n",
    "predicted_trends = model.predict(X)"
   ]
  },
  {
   "cell_type": "code",
   "execution_count": 22,
   "metadata": {},
   "outputs": [],
   "source": [
    "p_series = pd.Series(predicted_trends)\n",
    "startup = pd.concat([startup,p_series], axis=1).rename(columns={0: \"Predicted Trend\"})"
   ]
  },
  {
   "cell_type": "code",
   "execution_count": 23,
   "metadata": {},
   "outputs": [],
   "source": [
    "del(startup['Txt'])"
   ]
  },
  {
   "cell_type": "code",
   "execution_count": 24,
   "metadata": {},
   "outputs": [],
   "source": [
    "startup = startup[~(startup['ComputedTags'].str.len() == 0)]"
   ]
  },
  {
   "cell_type": "code",
   "execution_count": 25,
   "metadata": {},
   "outputs": [
    {
     "data": {
      "text/html": [
       "<div>\n",
       "<style scoped>\n",
       "    .dataframe tbody tr th:only-of-type {\n",
       "        vertical-align: middle;\n",
       "    }\n",
       "\n",
       "    .dataframe tbody tr th {\n",
       "        vertical-align: top;\n",
       "    }\n",
       "\n",
       "    .dataframe thead th {\n",
       "        text-align: right;\n",
       "    }\n",
       "</style>\n",
       "<table border=\"1\" class=\"dataframe\">\n",
       "  <thead>\n",
       "    <tr style=\"text-align: right;\">\n",
       "      <th></th>\n",
       "      <th>Nome</th>\n",
       "      <th>Text</th>\n",
       "      <th>ComputedTags</th>\n",
       "      <th>Predicted Trend</th>\n",
       "    </tr>\n",
       "  </thead>\n",
       "  <tbody>\n",
       "    <tr>\n",
       "      <th>0</th>\n",
       "      <td>CERCAOFFICINA</td>\n",
       "      <td>cercaofficina a portal to compare quotes for r...</td>\n",
       "      <td>Vertical: Automotive, Application: Maintenance...</td>\n",
       "      <td>Future of Mobility</td>\n",
       "    </tr>\n",
       "    <tr>\n",
       "      <th>1</th>\n",
       "      <td>CAREPY</td>\n",
       "      <td>carepy created digital lassistente for medicat...</td>\n",
       "      <td>Vertical: Pharmacy, Vertical: Health &amp; Medicine</td>\n",
       "      <td>Exponential Medicine &amp; Digital Health</td>\n",
       "    </tr>\n",
       "    <tr>\n",
       "      <th>2</th>\n",
       "      <td>AMBIENSVR</td>\n",
       "      <td>ambiensvr a startup that develops projects or ...</td>\n",
       "      <td>Tag: Startup, Tech: Virtual Reality, Vertical:...</td>\n",
       "      <td>Restaurants and Future of Food and Beverage</td>\n",
       "    </tr>\n",
       "    <tr>\n",
       "      <th>3</th>\n",
       "      <td>COCOAPP</td>\n",
       "      <td>A software for handling reservations for beach</td>\n",
       "      <td>Tag: Software</td>\n",
       "      <td>Restaurants and Future of Food and Beverage</td>\n",
       "    </tr>\n",
       "    <tr>\n",
       "      <th>4</th>\n",
       "      <td>FLYFREE AIRWAYS</td>\n",
       "      <td>Enable to share private flights for small busi...</td>\n",
       "      <td>Tag: Venture Capital, Vertical: Travel and Tou...</td>\n",
       "      <td>Restaurants and Future of Food and Beverage</td>\n",
       "    </tr>\n",
       "    <tr>\n",
       "      <th>5</th>\n",
       "      <td>FINDMYLOST</td>\n",
       "      <td>Innovative platform that aims to improving the...</td>\n",
       "      <td>Tag: Platform, Vertical: Travel and Tourism, V...</td>\n",
       "      <td>Restaurants and Future of Food and Beverage</td>\n",
       "    </tr>\n",
       "    <tr>\n",
       "      <th>6</th>\n",
       "      <td>GOVOLT</td>\n",
       "      <td>Scooter sharing conceived and designed to be f...</td>\n",
       "      <td>Tag: Sustainability, Application: Sharing Econ...</td>\n",
       "      <td>Restaurants and Future of Food and Beverage</td>\n",
       "    </tr>\n",
       "    <tr>\n",
       "      <th>7</th>\n",
       "      <td>EVJA</td>\n",
       "      <td>IoT irrigation system based on artificial inte...</td>\n",
       "      <td>Tech: Artificial Intelligence, Vertical: Agric...</td>\n",
       "      <td>Restaurants and Future of Food and Beverage</td>\n",
       "    </tr>\n",
       "    <tr>\n",
       "      <th>8</th>\n",
       "      <td>BIOVECBLOCK</td>\n",
       "      <td>biovecblock the start-up that develops natural...</td>\n",
       "      <td>Vertical: Health &amp; Medicine, Tag: Disease</td>\n",
       "      <td>Restaurants and Future of Food and Beverage</td>\n",
       "    </tr>\n",
       "    <tr>\n",
       "      <th>9</th>\n",
       "      <td>EDILMAG</td>\n",
       "      <td>edilmag  the platform for the sharing of machi...</td>\n",
       "      <td>Tag: Platform, Application: Sharing Economy, T...</td>\n",
       "      <td>Restaurants and Future of Food and Beverage</td>\n",
       "    </tr>\n",
       "  </tbody>\n",
       "</table>\n",
       "</div>"
      ],
      "text/plain": [
       "              Nome                                               Text  \\\n",
       "0    CERCAOFFICINA  cercaofficina a portal to compare quotes for r...   \n",
       "1           CAREPY  carepy created digital lassistente for medicat...   \n",
       "2        AMBIENSVR  ambiensvr a startup that develops projects or ...   \n",
       "3          COCOAPP     A software for handling reservations for beach   \n",
       "4  FLYFREE AIRWAYS  Enable to share private flights for small busi...   \n",
       "5       FINDMYLOST  Innovative platform that aims to improving the...   \n",
       "6           GOVOLT  Scooter sharing conceived and designed to be f...   \n",
       "7             EVJA  IoT irrigation system based on artificial inte...   \n",
       "8      BIOVECBLOCK  biovecblock the start-up that develops natural...   \n",
       "9          EDILMAG  edilmag  the platform for the sharing of machi...   \n",
       "\n",
       "                                        ComputedTags  \\\n",
       "0  Vertical: Automotive, Application: Maintenance...   \n",
       "1    Vertical: Pharmacy, Vertical: Health & Medicine   \n",
       "2  Tag: Startup, Tech: Virtual Reality, Vertical:...   \n",
       "3                                      Tag: Software   \n",
       "4  Tag: Venture Capital, Vertical: Travel and Tou...   \n",
       "5  Tag: Platform, Vertical: Travel and Tourism, V...   \n",
       "6  Tag: Sustainability, Application: Sharing Econ...   \n",
       "7  Tech: Artificial Intelligence, Vertical: Agric...   \n",
       "8          Vertical: Health & Medicine, Tag: Disease   \n",
       "9  Tag: Platform, Application: Sharing Economy, T...   \n",
       "\n",
       "                               Predicted Trend  \n",
       "0                           Future of Mobility  \n",
       "1        Exponential Medicine & Digital Health  \n",
       "2  Restaurants and Future of Food and Beverage  \n",
       "3  Restaurants and Future of Food and Beverage  \n",
       "4  Restaurants and Future of Food and Beverage  \n",
       "5  Restaurants and Future of Food and Beverage  \n",
       "6  Restaurants and Future of Food and Beverage  \n",
       "7  Restaurants and Future of Food and Beverage  \n",
       "8  Restaurants and Future of Food and Beverage  \n",
       "9  Restaurants and Future of Food and Beverage  "
      ]
     },
     "execution_count": 25,
     "metadata": {},
     "output_type": "execute_result"
    }
   ],
   "source": [
    "startup.head(10)"
   ]
  },
  {
   "cell_type": "code",
   "execution_count": null,
   "metadata": {},
   "outputs": [],
   "source": []
  }
 ],
 "metadata": {
  "kernelspec": {
   "display_name": "Python 3",
   "language": "python",
   "name": "python3"
  },
  "language_info": {
   "codemirror_mode": {
    "name": "ipython",
    "version": 3
   },
   "file_extension": ".py",
   "mimetype": "text/x-python",
   "name": "python",
   "nbconvert_exporter": "python",
   "pygments_lexer": "ipython3",
   "version": "3.7.7"
  }
 },
 "nbformat": 4,
 "nbformat_minor": 4
}
