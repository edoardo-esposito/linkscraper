{
 "cells": [
  {
   "cell_type": "code",
   "execution_count": 1,
   "metadata": {},
   "outputs": [],
   "source": [
    "import pandas as pd\n",
    "import numpy as np\n",
    "import json\n",
    "import nltk\n",
    "import re\n",
    "import csv\n",
    "import matplotlib.pyplot as plt\n",
    "import seaborn as sns\n",
    "from tqdm import tqdm\n",
    "from datetime import datetime\n",
    "from sklearn.feature_extraction.text import TfidfVectorizer\n",
    "from sklearn.model_selection import train_test_split"
   ]
  },
  {
   "cell_type": "code",
   "execution_count": 2,
   "metadata": {},
   "outputs": [],
   "source": [
    "%matplotlib inline\n",
    "pd.set_option('display.max_colwidth', 300)"
   ]
  },
  {
   "cell_type": "code",
   "execution_count": 3,
   "metadata": {},
   "outputs": [],
   "source": [
    "meta = pd.read_csv('Articoli Taggati v7.csv', sep=\";\", skipinitialspace = True, quotechar='\"')"
   ]
  },
  {
   "cell_type": "code",
   "execution_count": 4,
   "metadata": {},
   "outputs": [],
   "source": [
    "#meta.head()"
   ]
  },
  {
   "cell_type": "code",
   "execution_count": 5,
   "metadata": {},
   "outputs": [
    {
     "data": {
      "text/plain": [
       "Index(['Unnamed: 0', 'ID', 'Titolo', 'Data', 'Trend', 'Anno', 'Mese', 'Txt',\n",
       "       'Keywords', 'Tags', 'Tag', 'Tech', 'Location', 'Company', 'People',\n",
       "       'Application', 'Vertical'],\n",
       "      dtype='object')"
      ]
     },
     "execution_count": 5,
     "metadata": {},
     "output_type": "execute_result"
    }
   ],
   "source": [
    "meta.columns"
   ]
  },
  {
   "cell_type": "code",
   "execution_count": 6,
   "metadata": {},
   "outputs": [],
   "source": [
    "articoli_data = meta.groupby([\"Trend\", \"Mese\"]).size().reset_index(name=\"Count\")"
   ]
  },
  {
   "cell_type": "code",
   "execution_count": 7,
   "metadata": {},
   "outputs": [
    {
     "data": {
      "text/html": [
       "<div>\n",
       "<style scoped>\n",
       "    .dataframe tbody tr th:only-of-type {\n",
       "        vertical-align: middle;\n",
       "    }\n",
       "\n",
       "    .dataframe tbody tr th {\n",
       "        vertical-align: top;\n",
       "    }\n",
       "\n",
       "    .dataframe thead th {\n",
       "        text-align: right;\n",
       "    }\n",
       "</style>\n",
       "<table border=\"1\" class=\"dataframe\">\n",
       "  <thead>\n",
       "    <tr style=\"text-align: right;\">\n",
       "      <th></th>\n",
       "      <th>Trend</th>\n",
       "      <th>Mese</th>\n",
       "      <th>Count</th>\n",
       "    </tr>\n",
       "  </thead>\n",
       "  <tbody>\n",
       "    <tr>\n",
       "      <th>0</th>\n",
       "      <td>3D Printing and New Materials</td>\n",
       "      <td>3.0</td>\n",
       "      <td>1</td>\n",
       "    </tr>\n",
       "    <tr>\n",
       "      <th>1</th>\n",
       "      <td>3D Printing and New Materials</td>\n",
       "      <td>4.0</td>\n",
       "      <td>3</td>\n",
       "    </tr>\n",
       "    <tr>\n",
       "      <th>2</th>\n",
       "      <td>3D Printing and New Materials</td>\n",
       "      <td>5.0</td>\n",
       "      <td>3</td>\n",
       "    </tr>\n",
       "    <tr>\n",
       "      <th>3</th>\n",
       "      <td>AI Ethics and Unbiasing</td>\n",
       "      <td>3.0</td>\n",
       "      <td>2</td>\n",
       "    </tr>\n",
       "    <tr>\n",
       "      <th>4</th>\n",
       "      <td>AI Ethics and Unbiasing</td>\n",
       "      <td>4.0</td>\n",
       "      <td>14</td>\n",
       "    </tr>\n",
       "  </tbody>\n",
       "</table>\n",
       "</div>"
      ],
      "text/plain": [
       "                           Trend  Mese  Count\n",
       "0  3D Printing and New Materials   3.0      1\n",
       "1  3D Printing and New Materials   4.0      3\n",
       "2  3D Printing and New Materials   5.0      3\n",
       "3        AI Ethics and Unbiasing   3.0      2\n",
       "4        AI Ethics and Unbiasing   4.0     14"
      ]
     },
     "execution_count": 7,
     "metadata": {},
     "output_type": "execute_result"
    }
   ],
   "source": [
    "articoli_data.head()"
   ]
  },
  {
   "cell_type": "code",
   "execution_count": 8,
   "metadata": {},
   "outputs": [
    {
     "data": {
      "image/png": "[encoded data removed]",
      "text/plain": [
       "<Figure size 432x288 with 1 Axes>"
      ]
     },
     "metadata": {
      "needs_background": "light"
     },
     "output_type": "display_data"
    }
   ],
   "source": [
    "plt.scatter(range(articoli_data.shape[0]), np.sort(articoli_data['Count'].values))\n",
    "plt.xlabel('index')\n",
    "plt.ylabel('Sales')\n",
    "plt.title(\"XXX\")\n",
    "sns.despine()"
   ]
  },
  {
   "cell_type": "code",
   "execution_count": 9,
   "metadata": {},
   "outputs": [
    {
     "data": {
      "image/png": "[encoded data removed]",
      "text/plain": [
       "<Figure size 432x288 with 1 Axes>"
      ]
     },
     "metadata": {
      "needs_background": "light"
     },
     "output_type": "display_data"
    }
   ],
   "source": [
    "# Generate a Boxplot\n",
    "articoli_data['Count'].plot(kind='box')\n",
    "plt.show()"
   ]
  },
  {
   "cell_type": "code",
   "execution_count": 10,
   "metadata": {},
   "outputs": [
    {
     "data": {
      "image/png": "[encoded data removed]",
      "text/plain": [
       "<Figure size 432x288 with 1 Axes>"
      ]
     },
     "metadata": {
      "needs_background": "light"
     },
     "output_type": "display_data"
    }
   ],
   "source": [
    "sns.distplot(articoli_data['Count'])\n",
    "plt.title(\"Distribution of Sales\")\n",
    "sns.despine()"
   ]
  },
  {
   "cell_type": "code",
   "execution_count": 11,
   "metadata": {},
   "outputs": [
    {
     "data": {
      "image/png": "[encoded data removed]",
      "text/plain": [
       "<Figure size 432x288 with 1 Axes>"
      ]
     },
     "metadata": {
      "needs_background": "light"
     },
     "output_type": "display_data"
    }
   ],
   "source": [
    "sns.regplot(x=\"Mese\", y=\"Count\", data=articoli_data)\n",
    "sns.despine();"
   ]
  },
  {
   "cell_type": "code",
   "execution_count": 12,
   "metadata": {},
   "outputs": [
    {
     "data": {
      "text/html": [
       "<div>\n",
       "<style scoped>\n",
       "    .dataframe tbody tr th:only-of-type {\n",
       "        vertical-align: middle;\n",
       "    }\n",
       "\n",
       "    .dataframe tbody tr th {\n",
       "        vertical-align: top;\n",
       "    }\n",
       "\n",
       "    .dataframe thead th {\n",
       "        text-align: right;\n",
       "    }\n",
       "</style>\n",
       "<table border=\"1\" class=\"dataframe\">\n",
       "  <thead>\n",
       "    <tr style=\"text-align: right;\">\n",
       "      <th></th>\n",
       "      <th>ID</th>\n",
       "      <th>Trend</th>\n",
       "      <th>Tags</th>\n",
       "      <th>Anno</th>\n",
       "      <th>Mese</th>\n",
       "    </tr>\n",
       "  </thead>\n",
       "  <tbody>\n",
       "    <tr>\n",
       "      <th>0</th>\n",
       "      <td>c812e0a3418d624ae60df3ec9e19d184</td>\n",
       "      <td>Robotics and Human/Machine Hybridization</td>\n",
       "      <td>Tech: Drones</td>\n",
       "      <td>2020.0</td>\n",
       "      <td>4.0</td>\n",
       "    </tr>\n",
       "    <tr>\n",
       "      <th>1</th>\n",
       "      <td>0e2ef6bd7619374e0531d1551ab2141e</td>\n",
       "      <td>Privacy and Security by design</td>\n",
       "      <td>Vertical: Advertising, Company: Adobe</td>\n",
       "      <td>2020.0</td>\n",
       "      <td>4.0</td>\n",
       "    </tr>\n",
       "    <tr>\n",
       "      <th>2</th>\n",
       "      <td>8602d8791a1754506303dcfd9a7b79e3</td>\n",
       "      <td>Cyber Defense and Fight against Fakes</td>\n",
       "      <td>NaN</td>\n",
       "      <td>2020.0</td>\n",
       "      <td>5.0</td>\n",
       "    </tr>\n",
       "    <tr>\n",
       "      <th>3</th>\n",
       "      <td>2157ac6d12e063b6a38c5c0491e0b322</td>\n",
       "      <td>Workforce Transformation</td>\n",
       "      <td>Tag: Future</td>\n",
       "      <td>2020.0</td>\n",
       "      <td>5.0</td>\n",
       "    </tr>\n",
       "    <tr>\n",
       "      <th>4</th>\n",
       "      <td>89390733d3f9e1f30bae53de5e2d8a04</td>\n",
       "      <td>New Normal after COVID-19</td>\n",
       "      <td>NaN</td>\n",
       "      <td>2020.0</td>\n",
       "      <td>5.0</td>\n",
       "    </tr>\n",
       "  </tbody>\n",
       "</table>\n",
       "</div>"
      ],
      "text/plain": [
       "                                 ID                                     Trend  \\\n",
       "0  c812e0a3418d624ae60df3ec9e19d184  Robotics and Human/Machine Hybridization   \n",
       "1  0e2ef6bd7619374e0531d1551ab2141e            Privacy and Security by design   \n",
       "2  8602d8791a1754506303dcfd9a7b79e3     Cyber Defense and Fight against Fakes   \n",
       "3  2157ac6d12e063b6a38c5c0491e0b322                  Workforce Transformation   \n",
       "4  89390733d3f9e1f30bae53de5e2d8a04                 New Normal after COVID-19   \n",
       "\n",
       "                                    Tags    Anno  Mese  \n",
       "0                           Tech: Drones  2020.0   4.0  \n",
       "1  Vertical: Advertising, Company: Adobe  2020.0   4.0  \n",
       "2                                    NaN  2020.0   5.0  \n",
       "3                            Tag: Future  2020.0   5.0  \n",
       "4                                    NaN  2020.0   5.0  "
      ]
     },
     "execution_count": 12,
     "metadata": {},
     "output_type": "execute_result"
    }
   ],
   "source": [
    "articoli = meta[['ID','Trend', 'Tags', 'Anno', 'Mese']]\n",
    "articoli.head()"
   ]
  },
  {
   "cell_type": "code",
   "execution_count": 13,
   "metadata": {},
   "outputs": [
    {
     "data": {
      "text/html": [
       "<div>\n",
       "<style scoped>\n",
       "    .dataframe tbody tr th:only-of-type {\n",
       "        vertical-align: middle;\n",
       "    }\n",
       "\n",
       "    .dataframe tbody tr th {\n",
       "        vertical-align: top;\n",
       "    }\n",
       "\n",
       "    .dataframe thead th {\n",
       "        text-align: right;\n",
       "    }\n",
       "</style>\n",
       "<table border=\"1\" class=\"dataframe\">\n",
       "  <thead>\n",
       "    <tr style=\"text-align: right;\">\n",
       "      <th></th>\n",
       "      <th>Trend</th>\n",
       "      <th>Anno</th>\n",
       "      <th>Mese</th>\n",
       "      <th>Tag</th>\n",
       "    </tr>\n",
       "  </thead>\n",
       "  <tbody>\n",
       "    <tr>\n",
       "      <th>0</th>\n",
       "      <td>Robotics and Human/Machine Hybridization</td>\n",
       "      <td>2020.0</td>\n",
       "      <td>4.0</td>\n",
       "      <td>Tech: Drones</td>\n",
       "    </tr>\n",
       "    <tr>\n",
       "      <th>1</th>\n",
       "      <td>Privacy and Security by design</td>\n",
       "      <td>2020.0</td>\n",
       "      <td>4.0</td>\n",
       "      <td>Vertical: Advertising</td>\n",
       "    </tr>\n",
       "    <tr>\n",
       "      <th>2</th>\n",
       "      <td>Privacy and Security by design</td>\n",
       "      <td>2020.0</td>\n",
       "      <td>4.0</td>\n",
       "      <td>Company: Adobe</td>\n",
       "    </tr>\n",
       "    <tr>\n",
       "      <th>3</th>\n",
       "      <td>Workforce Transformation</td>\n",
       "      <td>2020.0</td>\n",
       "      <td>5.0</td>\n",
       "      <td>Tag: Future</td>\n",
       "    </tr>\n",
       "    <tr>\n",
       "      <th>4</th>\n",
       "      <td>Health Tech</td>\n",
       "      <td>2020.0</td>\n",
       "      <td>4.0</td>\n",
       "      <td>Company: Apple</td>\n",
       "    </tr>\n",
       "  </tbody>\n",
       "</table>\n",
       "</div>"
      ],
      "text/plain": [
       "                                      Trend    Anno  Mese  \\\n",
       "0  Robotics and Human/Machine Hybridization  2020.0   4.0   \n",
       "1            Privacy and Security by design  2020.0   4.0   \n",
       "2            Privacy and Security by design  2020.0   4.0   \n",
       "3                  Workforce Transformation  2020.0   5.0   \n",
       "4                               Health Tech  2020.0   4.0   \n",
       "\n",
       "                     Tag  \n",
       "0           Tech: Drones  \n",
       "1  Vertical: Advertising  \n",
       "2         Company: Adobe  \n",
       "3            Tag: Future  \n",
       "4         Company: Apple  "
      ]
     },
     "execution_count": 13,
     "metadata": {},
     "output_type": "execute_result"
    }
   ],
   "source": [
    "ds = articoli.set_index(['Trend', 'Mese', 'Anno']).Tags.str.split(',',expand=True).stack().reset_index().loc[:, ['Trend','Anno', 'Mese', 0]].rename({0: 'Tag'}, axis='columns')\n",
    "ds.head()"
   ]
  },
  {
   "cell_type": "code",
   "execution_count": 14,
   "metadata": {},
   "outputs": [],
   "source": [
    "tags_for_trend = ds.groupby([\"Trend\", \"Tag\"]).size().reset_index(name=\"Count\").groupby(['Trend'])['Tag'].apply(', '.join).reset_index()"
   ]
  },
  {
   "cell_type": "code",
   "execution_count": 15,
   "metadata": {},
   "outputs": [],
   "source": [
    "def deduplica(text):\n",
    "    str_list = text.split(\",\")\n",
    "    str_list = list(map(str.strip, str_list))\n",
    "    str_list = list(filter(None, str_list))\n",
    "    str_list = list(set(str_list))\n",
    "   \n",
    "    str_list = \", \" . join(str_list)\n",
    "    return str_list\n",
    "    \n",
    "deduplica(tags_for_trend['Tag'][3])\n",
    "\n",
    "tags_for_trend['Tag'] = tags_for_trend['Tag'].apply(lambda x: deduplica(x))"
   ]
  },
  {
   "cell_type": "code",
   "execution_count": 16,
   "metadata": {},
   "outputs": [
    {
     "data": {
      "text/html": [
       "<div>\n",
       "<style scoped>\n",
       "    .dataframe tbody tr th:only-of-type {\n",
       "        vertical-align: middle;\n",
       "    }\n",
       "\n",
       "    .dataframe tbody tr th {\n",
       "        vertical-align: top;\n",
       "    }\n",
       "\n",
       "    .dataframe thead th {\n",
       "        text-align: right;\n",
       "    }\n",
       "</style>\n",
       "<table border=\"1\" class=\"dataframe\">\n",
       "  <thead>\n",
       "    <tr style=\"text-align: right;\">\n",
       "      <th></th>\n",
       "      <th>Trend</th>\n",
       "      <th>Tag</th>\n",
       "    </tr>\n",
       "  </thead>\n",
       "  <tbody>\n",
       "    <tr>\n",
       "      <th>0</th>\n",
       "      <td>3D Printing and New Materials</td>\n",
       "      <td>Vertical: Energy, Vertical: Food, Tech: Artificial Intelligence</td>\n",
       "    </tr>\n",
       "    <tr>\n",
       "      <th>1</th>\n",
       "      <td>AI Ethics and Unbiasing</td>\n",
       "      <td>Company: Amazon, Company: Bayer, Location: China, Application: Data Science, Vertical: Sports, Tech: Artificial Intelligence, Vertical: Advertising, Application: Personal Assistant</td>\n",
       "    </tr>\n",
       "    <tr>\n",
       "      <th>2</th>\n",
       "      <td>Augmented Intelligence through ML and DL</td>\n",
       "      <td>Vertical: Automotive, Tech: Augmented Reality, Tech: Mobile app, Application: Driverless Vehicles, Application: Deep Fakes, Application: Personal Assistant, Application: Contact Center, Vertical: Finance, Application: E-Commerce, Company: Amazon, Location: Boston, Tech: Cloud, Application: Cyber...</td>\n",
       "    </tr>\n",
       "    <tr>\n",
       "      <th>3</th>\n",
       "      <td>Blockchain and Cryptocurrencies</td>\n",
       "      <td>Company: Amazon, Application: Renewables, Company: Microsoft, Tech: Blockchain, Vertical: Banking, Tech: Cloud, Vertical: Finance, Application: Cryptocurrencies, Vertical: Energy, Application: Digitalization</td>\n",
       "    </tr>\n",
       "    <tr>\n",
       "      <th>4</th>\n",
       "      <td>Circular Economy Sustainability and Zero Impact Economy</td>\n",
       "      <td>Application: Renewables, Application: Advanced Analytics, Vertical: Agricolture, Vertical: Aviation, Vertical: Biology, Vertical: Food, Vertical: Energy, Location: Africa, Vertical: Fashion</td>\n",
       "    </tr>\n",
       "  </tbody>\n",
       "</table>\n",
       "</div>"
      ],
      "text/plain": [
       "                                                     Trend  \\\n",
       "0                            3D Printing and New Materials   \n",
       "1                                  AI Ethics and Unbiasing   \n",
       "2                 Augmented Intelligence through ML and DL   \n",
       "3                          Blockchain and Cryptocurrencies   \n",
       "4  Circular Economy Sustainability and Zero Impact Economy   \n",
       "\n",
       "                                                                                                                                                                                                                                                                                                           Tag  \n",
       "0                                                                                                                                                                                                                                              Vertical: Energy, Vertical: Food, Tech: Artificial Intelligence  \n",
       "1                                                                                                                         Company: Amazon, Company: Bayer, Location: China, Application: Data Science, Vertical: Sports, Tech: Artificial Intelligence, Vertical: Advertising, Application: Personal Assistant  \n",
       "2  Vertical: Automotive, Tech: Augmented Reality, Tech: Mobile app, Application: Driverless Vehicles, Application: Deep Fakes, Application: Personal Assistant, Application: Contact Center, Vertical: Finance, Application: E-Commerce, Company: Amazon, Location: Boston, Tech: Cloud, Application: Cyber...  \n",
       "3                                                                                              Company: Amazon, Application: Renewables, Company: Microsoft, Tech: Blockchain, Vertical: Banking, Tech: Cloud, Vertical: Finance, Application: Cryptocurrencies, Vertical: Energy, Application: Digitalization  \n",
       "4                                                                                                                Application: Renewables, Application: Advanced Analytics, Vertical: Agricolture, Vertical: Aviation, Vertical: Biology, Vertical: Food, Vertical: Energy, Location: Africa, Vertical: Fashion  "
      ]
     },
     "execution_count": 16,
     "metadata": {},
     "output_type": "execute_result"
    }
   ],
   "source": [
    "tags_for_trend.head()"
   ]
  },
  {
   "cell_type": "code",
   "execution_count": 17,
   "metadata": {},
   "outputs": [
    {
     "data": {
      "text/html": [
       "<div>\n",
       "<style scoped>\n",
       "    .dataframe tbody tr th:only-of-type {\n",
       "        vertical-align: middle;\n",
       "    }\n",
       "\n",
       "    .dataframe tbody tr th {\n",
       "        vertical-align: top;\n",
       "    }\n",
       "\n",
       "    .dataframe thead th {\n",
       "        text-align: right;\n",
       "    }\n",
       "</style>\n",
       "<table border=\"1\" class=\"dataframe\">\n",
       "  <thead>\n",
       "    <tr style=\"text-align: right;\">\n",
       "      <th></th>\n",
       "      <th>Trend</th>\n",
       "      <th>Count</th>\n",
       "      <th>Data</th>\n",
       "    </tr>\n",
       "  </thead>\n",
       "  <tbody>\n",
       "    <tr>\n",
       "      <th>0</th>\n",
       "      <td>Future of Mobility</td>\n",
       "      <td>2</td>\n",
       "      <td>201912.0</td>\n",
       "    </tr>\n",
       "    <tr>\n",
       "      <th>1</th>\n",
       "      <td>Future of Mobility</td>\n",
       "      <td>2</td>\n",
       "      <td>20201.0</td>\n",
       "    </tr>\n",
       "    <tr>\n",
       "      <th>2</th>\n",
       "      <td>Sensors and Smart Things</td>\n",
       "      <td>3</td>\n",
       "      <td>20201.0</td>\n",
       "    </tr>\n",
       "    <tr>\n",
       "      <th>3</th>\n",
       "      <td>Customer Experience and Human-centered Design</td>\n",
       "      <td>3</td>\n",
       "      <td>20202.0</td>\n",
       "    </tr>\n",
       "    <tr>\n",
       "      <th>4</th>\n",
       "      <td>Fintech and future of economy</td>\n",
       "      <td>2</td>\n",
       "      <td>20202.0</td>\n",
       "    </tr>\n",
       "  </tbody>\n",
       "</table>\n",
       "</div>"
      ],
      "text/plain": [
       "                                           Trend  Count      Data\n",
       "0                             Future of Mobility      2  201912.0\n",
       "1                             Future of Mobility      2   20201.0\n",
       "2                       Sensors and Smart Things      3   20201.0\n",
       "3  Customer Experience and Human-centered Design      3   20202.0\n",
       "4                  Fintech and future of economy      2   20202.0"
      ]
     },
     "execution_count": 17,
     "metadata": {},
     "output_type": "execute_result"
    }
   ],
   "source": [
    "df = ds.groupby([\"Anno\", \"Mese\", \"Trend\"]).size().reset_index(name=\"Count\")\n",
    "df[\"Data\"] = df[\"Anno\"].astype(int).astype(str) + df[\"Mese\"].astype(str)\n",
    "del(df['Anno'])\n",
    "del(df['Mese'])\n",
    "df.head()"
   ]
  },
  {
   "cell_type": "code",
   "execution_count": 18,
   "metadata": {},
   "outputs": [
    {
     "data": {
      "text/html": [
       "<div>\n",
       "<style scoped>\n",
       "    .dataframe tbody tr th:only-of-type {\n",
       "        vertical-align: middle;\n",
       "    }\n",
       "\n",
       "    .dataframe tbody tr th {\n",
       "        vertical-align: top;\n",
       "    }\n",
       "\n",
       "    .dataframe thead th {\n",
       "        text-align: right;\n",
       "    }\n",
       "</style>\n",
       "<table border=\"1\" class=\"dataframe\">\n",
       "  <thead>\n",
       "    <tr style=\"text-align: right;\">\n",
       "      <th></th>\n",
       "      <th>Trend</th>\n",
       "      <th>Count</th>\n",
       "      <th>Data</th>\n",
       "    </tr>\n",
       "  </thead>\n",
       "  <tbody>\n",
       "    <tr>\n",
       "      <th>2</th>\n",
       "      <td>Sensors and Smart Things</td>\n",
       "      <td>3</td>\n",
       "      <td>20201.0</td>\n",
       "    </tr>\n",
       "    <tr>\n",
       "      <th>6</th>\n",
       "      <td>Sensors and Smart Things</td>\n",
       "      <td>1</td>\n",
       "      <td>20202.0</td>\n",
       "    </tr>\n",
       "    <tr>\n",
       "      <th>37</th>\n",
       "      <td>Sensors and Smart Things</td>\n",
       "      <td>2</td>\n",
       "      <td>20204.0</td>\n",
       "    </tr>\n",
       "    <tr>\n",
       "      <th>66</th>\n",
       "      <td>Sensors and Smart Things</td>\n",
       "      <td>1</td>\n",
       "      <td>20205.0</td>\n",
       "    </tr>\n",
       "  </tbody>\n",
       "</table>\n",
       "</div>"
      ],
      "text/plain": [
       "                       Trend  Count     Data\n",
       "2   Sensors and Smart Things      3  20201.0\n",
       "6   Sensors and Smart Things      1  20202.0\n",
       "37  Sensors and Smart Things      2  20204.0\n",
       "66  Sensors and Smart Things      1  20205.0"
      ]
     },
     "execution_count": 18,
     "metadata": {},
     "output_type": "execute_result"
    }
   ],
   "source": [
    "df.loc[df['Trend'] == \"Sensors and Smart Things\"]"
   ]
  },
  {
   "cell_type": "code",
   "execution_count": 19,
   "metadata": {},
   "outputs": [
    {
     "data": {
      "text/plain": [
       "<matplotlib.axes._subplots.AxesSubplot at 0x166e4948>"
      ]
     },
     "execution_count": 19,
     "metadata": {},
     "output_type": "execute_result"
    },
    {
     "data": {
      "image/png": "[encoded data removed]",
      "text/plain": [
       "<Figure size 432x288 with 1 Axes>"
      ]
     },
     "metadata": {
      "needs_background": "light"
     },
     "output_type": "display_data"
    }
   ],
   "source": [
    "plt.title(\"Future of Mobility\")\n",
    "\n",
    "sns.set(rc={'figure.figsize':(13,8)})\n",
    "sns.barplot(x=\"Data\", y=\"Count\", data=df.loc[df['Trend'] == \"Sensors and Smart Things\"])"
   ]
  },
  {
   "cell_type": "code",
   "execution_count": 20,
   "metadata": {},
   "outputs": [
    {
     "data": {
      "text/html": [
       "<div>\n",
       "<style scoped>\n",
       "    .dataframe tbody tr th:only-of-type {\n",
       "        vertical-align: middle;\n",
       "    }\n",
       "\n",
       "    .dataframe tbody tr th {\n",
       "        vertical-align: top;\n",
       "    }\n",
       "\n",
       "    .dataframe thead th {\n",
       "        text-align: right;\n",
       "    }\n",
       "</style>\n",
       "<table border=\"1\" class=\"dataframe\">\n",
       "  <thead>\n",
       "    <tr style=\"text-align: right;\">\n",
       "      <th></th>\n",
       "      <th>Trend</th>\n",
       "      <th>Count</th>\n",
       "    </tr>\n",
       "  </thead>\n",
       "  <tbody>\n",
       "    <tr>\n",
       "      <th>21</th>\n",
       "      <td>New Normal after COVID-19</td>\n",
       "      <td>46</td>\n",
       "    </tr>\n",
       "    <tr>\n",
       "      <th>16</th>\n",
       "      <td>Future of Mobility</td>\n",
       "      <td>43</td>\n",
       "    </tr>\n",
       "    <tr>\n",
       "      <th>6</th>\n",
       "      <td>Cyber Defense and Fight against Fakes</td>\n",
       "      <td>30</td>\n",
       "    </tr>\n",
       "    <tr>\n",
       "      <th>13</th>\n",
       "      <td>Fintech and future of economy</td>\n",
       "      <td>27</td>\n",
       "    </tr>\n",
       "    <tr>\n",
       "      <th>2</th>\n",
       "      <td>Augmented Intelligence through ML and DL</td>\n",
       "      <td>26</td>\n",
       "    </tr>\n",
       "  </tbody>\n",
       "</table>\n",
       "</div>"
      ],
      "text/plain": [
       "                                       Trend  Count\n",
       "21                 New Normal after COVID-19     46\n",
       "16                        Future of Mobility     43\n",
       "6      Cyber Defense and Fight against Fakes     30\n",
       "13             Fintech and future of economy     27\n",
       "2   Augmented Intelligence through ML and DL     26"
      ]
     },
     "execution_count": 20,
     "metadata": {},
     "output_type": "execute_result"
    }
   ],
   "source": [
    "articles_per_trend = meta.groupby(\"Trend\").size().reset_index(name=\"Count\")\n",
    "articles_per_trend = articles_per_trend.sort_values(\"Count\", ascending=False)\n",
    "articles_per_trend.head()"
   ]
  },
  {
   "cell_type": "code",
   "execution_count": 21,
   "metadata": {},
   "outputs": [
    {
     "data": {
      "image/png": "[encoded data removed]",
      "text/plain": [
       "<Figure size 936x576 with 9 Axes>"
      ]
     },
     "metadata": {},
     "output_type": "display_data"
    }
   ],
   "source": [
    "# https://python-graph-gallery.com/125-small-multiples-for-line-chart/\n",
    "\n",
    "# Initialize the figure\n",
    "plt.style.use('seaborn-darkgrid')\n",
    "\n",
    "# create a color palette\n",
    "palette = plt.get_cmap('Set1')\n",
    "\n",
    "n = 0\n",
    "trends = articles_per_trend[\"Trend\"].unique()\n",
    "for i in trends:\n",
    "    n+=1\n",
    "\n",
    "    d = df.loc[df['Trend'] == i]\n",
    "    plt.subplot(3,3, n)\n",
    "    plt.ylim(0,50)\n",
    "    plt.plot(d['Data'], d['Count'], marker='o', color=palette(n), linewidth=2.4, \\\n",
    "             alpha=0.9, label=i)\n",
    "    plt.xticks(rotation=30)\n",
    "    plt.title(i, loc='left', fontsize=12, fontweight=0, color=\"black\" )\n",
    "    \n",
    "    if n == 9:\n",
    "        break\n",
    "\n",
    "# general title\n",
    "plt.suptitle(\"Occurrencies of trends in articles\", fontsize=16, fontweight=0, color='black')\n",
    "plt.subplots_adjust(hspace=0.55)"
   ]
  },
  {
   "cell_type": "code",
   "execution_count": 22,
   "metadata": {},
   "outputs": [],
   "source": [
    "articles_per_vertical = meta.groupby(\"Vertical\").size().reset_index(name=\"Count\")\n",
    "articles_per_vertical = articles_per_vertical.sort_values(\"Count\", ascending=False)"
   ]
  },
  {
   "cell_type": "code",
   "execution_count": 23,
   "metadata": {},
   "outputs": [
    {
     "data": {
      "text/html": [
       "<div>\n",
       "<style scoped>\n",
       "    .dataframe tbody tr th:only-of-type {\n",
       "        vertical-align: middle;\n",
       "    }\n",
       "\n",
       "    .dataframe tbody tr th {\n",
       "        vertical-align: top;\n",
       "    }\n",
       "\n",
       "    .dataframe thead th {\n",
       "        text-align: right;\n",
       "    }\n",
       "</style>\n",
       "<table border=\"1\" class=\"dataframe\">\n",
       "  <thead>\n",
       "    <tr style=\"text-align: right;\">\n",
       "      <th></th>\n",
       "      <th>Vertical</th>\n",
       "      <th>Count</th>\n",
       "      <th>Data</th>\n",
       "    </tr>\n",
       "  </thead>\n",
       "  <tbody>\n",
       "    <tr>\n",
       "      <th>0</th>\n",
       "      <td>Automotive</td>\n",
       "      <td>2</td>\n",
       "      <td>201912.0</td>\n",
       "    </tr>\n",
       "    <tr>\n",
       "      <th>1</th>\n",
       "      <td>Banking</td>\n",
       "      <td>1</td>\n",
       "      <td>20202.0</td>\n",
       "    </tr>\n",
       "    <tr>\n",
       "      <th>2</th>\n",
       "      <td>Fintech</td>\n",
       "      <td>1</td>\n",
       "      <td>20202.0</td>\n",
       "    </tr>\n",
       "    <tr>\n",
       "      <th>3</th>\n",
       "      <td>Advertising</td>\n",
       "      <td>1</td>\n",
       "      <td>20203.0</td>\n",
       "    </tr>\n",
       "    <tr>\n",
       "      <th>4</th>\n",
       "      <td>Automotive</td>\n",
       "      <td>1</td>\n",
       "      <td>20203.0</td>\n",
       "    </tr>\n",
       "  </tbody>\n",
       "</table>\n",
       "</div>"
      ],
      "text/plain": [
       "      Vertical  Count      Data\n",
       "0   Automotive      2  201912.0\n",
       "1      Banking      1   20202.0\n",
       "2      Fintech      1   20202.0\n",
       "3  Advertising      1   20203.0\n",
       "4   Automotive      1   20203.0"
      ]
     },
     "execution_count": 23,
     "metadata": {},
     "output_type": "execute_result"
    }
   ],
   "source": [
    "df = meta.groupby([\"Anno\", \"Mese\", \"Vertical\"]).size().reset_index(name=\"Count\")\n",
    "df[\"Data\"] = df[\"Anno\"].astype(int).astype(str) + df[\"Mese\"].astype(str)\n",
    "del(df['Anno'])\n",
    "del(df['Mese'])\n",
    "df.head()"
   ]
  },
  {
   "cell_type": "code",
   "execution_count": 27,
   "metadata": {},
   "outputs": [
    {
     "name": "stdout",
     "output_type": "stream",
     "text": [
      "19\n"
     ]
    },
    {
     "data": {
      "image/png": "[encoded data removed]",
      "text/plain": [
       "<Figure size 936x576 with 9 Axes>"
      ]
     },
     "metadata": {},
     "output_type": "display_data"
    }
   ],
   "source": [
    "# https://python-graph-gallery.com/125-small-multiples-for-line-chart/\n",
    "\n",
    "# Initialize the figure\n",
    "plt.style.use('seaborn-darkgrid')\n",
    "\n",
    "# create a color palette\n",
    "palette = plt.get_cmap('Set1')\n",
    "\n",
    "n = 0\n",
    "vertical = articles_per_vertical[\"Vertical\"].unique()\n",
    "print (len(vertical))\n",
    "for i in vertical:\n",
    "    n+=1\n",
    "\n",
    "    d = df.loc[df['Vertical'] == i]\n",
    "    plt.subplot(3,3, n)\n",
    "    plt.ylim(0,20)\n",
    "    plt.plot(d['Data'], d['Count'], marker='o', color=palette(n), linewidth=2.4, \\\n",
    "             alpha=0.9, label=i)\n",
    "    plt.xticks(rotation=30)\n",
    "    plt.title(i, loc='left', fontsize=12, fontweight=0, color=\"black\" )\n",
    "    \n",
    "    if n == 9:\n",
    "        break\n",
    "\n",
    "# general title\n",
    "plt.suptitle(\"Articles for Top Verticals\", fontsize=16, fontweight=0, color='black')\n",
    "plt.subplots_adjust(hspace=0.55)"
   ]
  },
  {
   "cell_type": "code",
   "execution_count": null,
   "metadata": {},
   "outputs": [],
   "source": []
  }
 ],
 "metadata": {
  "kernelspec": {
   "display_name": "Python 3",
   "language": "python",
   "name": "python3"
  },
  "language_info": {
   "codemirror_mode": {
    "name": "ipython",
    "version": 3
   },
   "file_extension": ".py",
   "mimetype": "text/x-python",
   "name": "python",
   "nbconvert_exporter": "python",
   "pygments_lexer": "ipython3",
   "version": "3.7.7"
  }
 },
 "nbformat": 4,
 "nbformat_minor": 4
}
