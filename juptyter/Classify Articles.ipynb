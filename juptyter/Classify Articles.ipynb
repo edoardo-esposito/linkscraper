{
 "cells": [
  {
   "cell_type": "code",
   "execution_count": 1,
   "metadata": {},
   "outputs": [],
   "source": [
    "import pandas as pd\n",
    "import numpy as np\n",
    "import json\n",
    "import nltk\n",
    "import re\n",
    "import csv\n",
    "import matplotlib.pyplot as plt\n",
    "import seaborn as sns\n",
    "from tqdm import tqdm\n",
    "from sklearn.feature_extraction.text import TfidfVectorizer\n",
    "from sklearn.model_selection import train_test_split"
   ]
  },
  {
   "cell_type": "code",
   "execution_count": 2,
   "metadata": {},
   "outputs": [],
   "source": [
    "%matplotlib inline\n",
    "pd.set_option('display.max_colwidth', 300)"
   ]
  },
  {
   "cell_type": "code",
   "execution_count": 3,
   "metadata": {},
   "outputs": [],
   "source": [
    "meta = pd.read_excel(\"articoli.xlsx\", encoding=\"utf8\", error_bad_lines=False)\n",
    "meta = meta.replace(np.nan, '', regex=True)"
   ]
  },
  {
   "cell_type": "code",
   "execution_count": 4,
   "metadata": {},
   "outputs": [
    {
     "data": {
      "text/html": [
       "<div>\n",
       "<style scoped>\n",
       "    .dataframe tbody tr th:only-of-type {\n",
       "        vertical-align: middle;\n",
       "    }\n",
       "\n",
       "    .dataframe tbody tr th {\n",
       "        vertical-align: top;\n",
       "    }\n",
       "\n",
       "    .dataframe thead th {\n",
       "        text-align: right;\n",
       "    }\n",
       "</style>\n",
       "<table border=\"1\" class=\"dataframe\">\n",
       "  <thead>\n",
       "    <tr style=\"text-align: right;\">\n",
       "      <th></th>\n",
       "      <th>ID</th>\n",
       "      <th>Titolo</th>\n",
       "      <th>Url</th>\n",
       "      <th>Data</th>\n",
       "      <th>Abstract</th>\n",
       "      <th>Fonte</th>\n",
       "      <th>Stato</th>\n",
       "      <th>Tecnologia 1</th>\n",
       "      <th>Tecnologia 2</th>\n",
       "      <th>Tecnologia 3</th>\n",
       "      <th>...</th>\n",
       "      <th>Application 2</th>\n",
       "      <th>Application 3</th>\n",
       "      <th>Trend 1</th>\n",
       "      <th>Trend 2</th>\n",
       "      <th>Trend 3</th>\n",
       "      <th>Unnamed: 22</th>\n",
       "      <th>Trend</th>\n",
       "      <th>Tecnologia</th>\n",
       "      <th>Vertical</th>\n",
       "      <th>Settore</th>\n",
       "    </tr>\n",
       "  </thead>\n",
       "  <tbody>\n",
       "    <tr>\n",
       "      <th>0</th>\n",
       "      <td>655dde2aeba917a7ca29388dbc3d77cb</td>\n",
       "      <td>A Colorado Neighborhood Runs on a Self-Reliant, Clean Energy Grid</td>\n",
       "      <td>https://futurism.com/colorado-neighborhood-built-clean-energy-grid</td>\n",
       "      <td></td>\n",
       "      <td>Local Grid In Basalt , Colorado , a new housing development is testing out a new way to distribute electricity . Instead of relying on a plant somewhere to dole out electricity to their homes , residents of the Basalt Vista development are relying on an experimental virtual power plant.</td>\n",
       "      <td>Futurism</td>\n",
       "      <td>DONE</td>\n",
       "      <td>Renewable Energies</td>\n",
       "      <td>Neural Networks</td>\n",
       "      <td></td>\n",
       "      <td>...</td>\n",
       "      <td>Smart Contracts</td>\n",
       "      <td></td>\n",
       "      <td>Low Emissions</td>\n",
       "      <td>Smart Grids</td>\n",
       "      <td>Electrification</td>\n",
       "      <td></td>\n",
       "      <td></td>\n",
       "      <td></td>\n",
       "      <td></td>\n",
       "      <td></td>\n",
       "    </tr>\n",
       "    <tr>\n",
       "      <th>1</th>\n",
       "      <td>ec86361327808e44cb6ede901b8ae718</td>\n",
       "      <td>A New Hole Is Forming in the Ozone Layer Over the Arctic</td>\n",
       "      <td>https://futurism.com/hole-ozone-layer-arctic</td>\n",
       "      <td></td>\n",
       "      <td>Over the last month , a new hole in the ozone layer has started to form over the Arctic . But this time around , extreme weather and atmospheric conditions have led to a far greater depletion than normal , according to a European Space Agency press release .</td>\n",
       "      <td>Futurism</td>\n",
       "      <td>DONE</td>\n",
       "      <td>Renewable Energies</td>\n",
       "      <td></td>\n",
       "      <td></td>\n",
       "      <td>...</td>\n",
       "      <td></td>\n",
       "      <td></td>\n",
       "      <td>Low Emissions</td>\n",
       "      <td></td>\n",
       "      <td></td>\n",
       "      <td></td>\n",
       "      <td></td>\n",
       "      <td></td>\n",
       "      <td></td>\n",
       "      <td></td>\n",
       "    </tr>\n",
       "    <tr>\n",
       "      <th>2</th>\n",
       "      <td>d0d9e4d9fd83756aea7505900b50b8da</td>\n",
       "      <td>Here's NASA's Plan for a Lunar \"Base Camp\"</td>\n",
       "      <td>https://futurism.com/nasa-artemis-base-camp-moon</td>\n",
       "      <td></td>\n",
       "      <td>NASA has outlined its plans for a lunar station called the Artemis Base Camp in a new 13-page report titled “NASA’ s Plan for Sustained Lunar Exploration and Development” submitted to the National Space Council last week . After 20 years of continuously living in low-Earth orbit , we’re now read...</td>\n",
       "      <td>Futurism</td>\n",
       "      <td>DONE</td>\n",
       "      <td>Low-Earth Satellites</td>\n",
       "      <td></td>\n",
       "      <td></td>\n",
       "      <td>...</td>\n",
       "      <td></td>\n",
       "      <td></td>\n",
       "      <td>Space Economy</td>\n",
       "      <td></td>\n",
       "      <td></td>\n",
       "      <td></td>\n",
       "      <td></td>\n",
       "      <td></td>\n",
       "      <td></td>\n",
       "      <td></td>\n",
       "    </tr>\n",
       "    <tr>\n",
       "      <th>3</th>\n",
       "      <td>6b5272a2204d6dbfb30bddb91642a620</td>\n",
       "      <td>Is Residential Solar Power Worth It? This Free Online Tool Will Tell You.</td>\n",
       "      <td>https://futurism.com/is-residential-solar-power-worth-it</td>\n",
       "      <td></td>\n",
       "      <td>Everybody knows solar power is great in theory . Over the last 10 years the cost of installing solar panels has dropped roughly 70 percent thanks to lower equipment costs , lower installation costs , and various government tax incentives , including the Federal Solar Tax Credit . After that , a ...</td>\n",
       "      <td>Futurism</td>\n",
       "      <td>DONE</td>\n",
       "      <td>Renewable Energies</td>\n",
       "      <td></td>\n",
       "      <td></td>\n",
       "      <td>...</td>\n",
       "      <td></td>\n",
       "      <td></td>\n",
       "      <td>Decarbonization</td>\n",
       "      <td></td>\n",
       "      <td></td>\n",
       "      <td></td>\n",
       "      <td></td>\n",
       "      <td></td>\n",
       "      <td></td>\n",
       "      <td></td>\n",
       "    </tr>\n",
       "    <tr>\n",
       "      <th>4</th>\n",
       "      <td>7e006110e942ff2f17f7ef5ba8191fa4</td>\n",
       "      <td>NASA Funds Giant Radio Telescope Concept on Far Side of Moon</td>\n",
       "      <td>https://futurism.com/nasa-radio-telescope-far-side-moon</td>\n",
       "      <td></td>\n",
       "      <td>NASA is funding research for a giant radio telescope in a crater on the far side of the Moon . According to a description by research lead Saptarshi Bandyopadhyay , robotics technologist at NASA ’ s Jet Propulsion Laboratory in California , the idea is to capture the “ tremendous advantages comp...</td>\n",
       "      <td>Futurism</td>\n",
       "      <td>DONE</td>\n",
       "      <td>Low-Earth Satellites</td>\n",
       "      <td></td>\n",
       "      <td></td>\n",
       "      <td>...</td>\n",
       "      <td></td>\n",
       "      <td></td>\n",
       "      <td></td>\n",
       "      <td></td>\n",
       "      <td></td>\n",
       "      <td></td>\n",
       "      <td></td>\n",
       "      <td></td>\n",
       "      <td></td>\n",
       "      <td></td>\n",
       "    </tr>\n",
       "  </tbody>\n",
       "</table>\n",
       "<p>5 rows × 27 columns</p>\n",
       "</div>"
      ],
      "text/plain": [
       "                                 ID  \\\n",
       "0  655dde2aeba917a7ca29388dbc3d77cb   \n",
       "1  ec86361327808e44cb6ede901b8ae718   \n",
       "2  d0d9e4d9fd83756aea7505900b50b8da   \n",
       "3  6b5272a2204d6dbfb30bddb91642a620   \n",
       "4  7e006110e942ff2f17f7ef5ba8191fa4   \n",
       "\n",
       "                                                                      Titolo  \\\n",
       "0          A Colorado Neighborhood Runs on a Self-Reliant, Clean Energy Grid   \n",
       "1                   A New Hole Is Forming in the Ozone Layer Over the Arctic   \n",
       "2                                Here's NASA's Plan for a Lunar \"Base Camp\"   \n",
       "3  Is Residential Solar Power Worth It? This Free Online Tool Will Tell You.   \n",
       "4               NASA Funds Giant Radio Telescope Concept on Far Side of Moon   \n",
       "\n",
       "                                                                  Url Data  \\\n",
       "0  https://futurism.com/colorado-neighborhood-built-clean-energy-grid        \n",
       "1                        https://futurism.com/hole-ozone-layer-arctic        \n",
       "2                    https://futurism.com/nasa-artemis-base-camp-moon        \n",
       "3            https://futurism.com/is-residential-solar-power-worth-it        \n",
       "4             https://futurism.com/nasa-radio-telescope-far-side-moon        \n",
       "\n",
       "                                                                                                                                                                                                                                                                                                      Abstract  \\\n",
       "0             Local Grid In Basalt , Colorado , a new housing development is testing out a new way to distribute electricity . Instead of relying on a plant somewhere to dole out electricity to their homes , residents of the Basalt Vista development are relying on an experimental virtual power plant.    \n",
       "1                                           Over the last month , a new hole in the ozone layer has started to form over the Arctic . But this time around , extreme weather and atmospheric conditions have led to a far greater depletion than normal , according to a European Space Agency press release .   \n",
       "2  NASA has outlined its plans for a lunar station called the Artemis Base Camp in a new 13-page report titled “NASA’ s Plan for Sustained Lunar Exploration and Development” submitted to the National Space Council last week . After 20 years of continuously living in low-Earth orbit , we’re now read...   \n",
       "3  Everybody knows solar power is great in theory . Over the last 10 years the cost of installing solar panels has dropped roughly 70 percent thanks to lower equipment costs , lower installation costs , and various government tax incentives , including the Federal Solar Tax Credit . After that , a ...   \n",
       "4  NASA is funding research for a giant radio telescope in a crater on the far side of the Moon . According to a description by research lead Saptarshi Bandyopadhyay , robotics technologist at NASA ’ s Jet Propulsion Laboratory in California , the idea is to capture the “ tremendous advantages comp...   \n",
       "\n",
       "      Fonte Stato          Tecnologia 1     Tecnologia 2 Tecnologia 3  ...  \\\n",
       "0  Futurism  DONE    Renewable Energies  Neural Networks               ...   \n",
       "1  Futurism  DONE    Renewable Energies                                ...   \n",
       "2  Futurism  DONE  Low-Earth Satellites                                ...   \n",
       "3  Futurism  DONE    Renewable Energies                                ...   \n",
       "4  Futurism  DONE  Low-Earth Satellites                                ...   \n",
       "\n",
       "     Application 2 Application 3          Trend 1      Trend 2  \\\n",
       "0  Smart Contracts                  Low Emissions  Smart Grids   \n",
       "1                                   Low Emissions                \n",
       "2                                   Space Economy                \n",
       "3                                 Decarbonization                \n",
       "4                                                                \n",
       "\n",
       "           Trend 3 Unnamed: 22 Trend Tecnologia Vertical Settore  \n",
       "0  Electrification                                                \n",
       "1                                                                 \n",
       "2                                                                 \n",
       "3                                                                 \n",
       "4                                                                 \n",
       "\n",
       "[5 rows x 27 columns]"
      ]
     },
     "execution_count": 4,
     "metadata": {},
     "output_type": "execute_result"
    }
   ],
   "source": [
    "meta.head()"
   ]
  },
  {
   "cell_type": "code",
   "execution_count": 5,
   "metadata": {},
   "outputs": [
    {
     "data": {
      "text/plain": [
       "104"
      ]
     },
     "execution_count": 5,
     "metadata": {},
     "output_type": "execute_result"
    }
   ],
   "source": [
    "article_id = meta['ID']\n",
    "len(article_id)"
   ]
  },
  {
   "cell_type": "code",
   "execution_count": 6,
   "metadata": {},
   "outputs": [
    {
     "data": {
      "text/plain": [
       "'Renewable Energies'"
      ]
     },
     "execution_count": 6,
     "metadata": {},
     "output_type": "execute_result"
    }
   ],
   "source": [
    "meta['Tecnologia 1'][0]"
   ]
  },
  {
   "cell_type": "code",
   "execution_count": null,
   "metadata": {},
   "outputs": [],
   "source": [
    "#tech1 = []\n",
    "#for i in meta['Tecnologia 1']:\n",
    "#    tech1.append(i)\n",
    "#\n",
    "#tech2 = []\n",
    "#for i in meta['Tecnologia 2']:\n",
    "#    tech2.append(i)\n",
    "#\n",
    "#tech3 = []\n",
    "#for i in meta['Tecnologia 3']:\n",
    "#    tech3.append(i)"
   ]
  },
  {
   "cell_type": "code",
   "execution_count": 7,
   "metadata": {},
   "outputs": [],
   "source": [
    "#type(tech1)"
   ]
  },
  {
   "cell_type": "code",
   "execution_count": 8,
   "metadata": {},
   "outputs": [],
   "source": [
    "tech1 = []\n",
    "for i in meta['Tecnologia 1']:\n",
    "    tech1.append(i)\n",
    "#   if len(i): tech1.append(i + ', ')\n",
    "#   else: tech1.append('')\n",
    "\n",
    "#tech2 = []\n",
    "#for i in meta['Tecnologia 2']:\n",
    "#    if len(i): tech2.append(i + ', ')  \n",
    "#    else: tech2.append('')\n",
    "#\n",
    "#tech3 = []\n",
    "#for i in meta['Tecnologia 3']:\n",
    "#    if len(i): tech3.append(i + ', ') \n",
    "#    else: tech3.append('')\n",
    "#        \n",
    "#len(tech1)"
   ]
  },
  {
   "cell_type": "code",
   "execution_count": 9,
   "metadata": {},
   "outputs": [
    {
     "data": {
      "text/plain": [
       "['Renewable Energies']"
      ]
     },
     "execution_count": 9,
     "metadata": {},
     "output_type": "execute_result"
    }
   ],
   "source": [
    "Tech = []\n",
    "for i in range(len(tech1)):\n",
    "    l = []\n",
    "    if len(tech1[i]): l.append(tech1[i])\n",
    "#    if len(tech2[i]): l.append(tech2[i])\n",
    "#    if len(tech3[i]): l.append(tech3[i])\n",
    "    Tech.append(list(l))\n",
    "    \n",
    "Tech[0]"
   ]
  },
  {
   "cell_type": "code",
   "execution_count": 10,
   "metadata": {},
   "outputs": [
    {
     "data": {
      "text/html": [
       "<div>\n",
       "<style scoped>\n",
       "    .dataframe tbody tr th:only-of-type {\n",
       "        vertical-align: middle;\n",
       "    }\n",
       "\n",
       "    .dataframe tbody tr th {\n",
       "        vertical-align: top;\n",
       "    }\n",
       "\n",
       "    .dataframe thead th {\n",
       "        text-align: right;\n",
       "    }\n",
       "</style>\n",
       "<table border=\"1\" class=\"dataframe\">\n",
       "  <thead>\n",
       "    <tr style=\"text-align: right;\">\n",
       "      <th></th>\n",
       "      <th>ID</th>\n",
       "      <th>Tech</th>\n",
       "    </tr>\n",
       "  </thead>\n",
       "  <tbody>\n",
       "    <tr>\n",
       "      <th>0</th>\n",
       "      <td>655dde2aeba917a7ca29388dbc3d77cb</td>\n",
       "      <td>[Renewable Energies]</td>\n",
       "    </tr>\n",
       "    <tr>\n",
       "      <th>1</th>\n",
       "      <td>ec86361327808e44cb6ede901b8ae718</td>\n",
       "      <td>[Renewable Energies]</td>\n",
       "    </tr>\n",
       "    <tr>\n",
       "      <th>2</th>\n",
       "      <td>d0d9e4d9fd83756aea7505900b50b8da</td>\n",
       "      <td>[Low-Earth Satellites]</td>\n",
       "    </tr>\n",
       "    <tr>\n",
       "      <th>3</th>\n",
       "      <td>6b5272a2204d6dbfb30bddb91642a620</td>\n",
       "      <td>[Renewable Energies]</td>\n",
       "    </tr>\n",
       "    <tr>\n",
       "      <th>4</th>\n",
       "      <td>7e006110e942ff2f17f7ef5ba8191fa4</td>\n",
       "      <td>[Low-Earth Satellites]</td>\n",
       "    </tr>\n",
       "  </tbody>\n",
       "</table>\n",
       "</div>"
      ],
      "text/plain": [
       "                                 ID                    Tech\n",
       "0  655dde2aeba917a7ca29388dbc3d77cb    [Renewable Energies]\n",
       "1  ec86361327808e44cb6ede901b8ae718    [Renewable Energies]\n",
       "2  d0d9e4d9fd83756aea7505900b50b8da  [Low-Earth Satellites]\n",
       "3  6b5272a2204d6dbfb30bddb91642a620    [Renewable Energies]\n",
       "4  7e006110e942ff2f17f7ef5ba8191fa4  [Low-Earth Satellites]"
      ]
     },
     "execution_count": 10,
     "metadata": {},
     "output_type": "execute_result"
    }
   ],
   "source": [
    "# Create Tech Dataframe\n",
    "tech = pd.DataFrame({'ID': article_id, 'Tech': Tech})\n",
    "tech.head()"
   ]
  },
  {
   "cell_type": "code",
   "execution_count": null,
   "metadata": {},
   "outputs": [],
   "source": [
    "## create dataframe\n",
    "#tech = pd.DataFrame({'ID': article_id, 'tech1': tech1, 'tech2': tech2,'tech3': tech3})\n",
    "##tech = pd.DataFrame({'tech1': tech1, 'tech2': tech2,'tech3': tech3})\n",
    "#tech.head()"
   ]
  },
  {
   "cell_type": "code",
   "execution_count": null,
   "metadata": {},
   "outputs": [],
   "source": [
    "#cols = ['tech1', 'tech2', 'tech3']\n",
    "#tech['Tech'] = tech[cols].apply(lambda row: ' '.join(row.values.astype(str)), axis=1)\n",
    "#tech = tech.drop(cols, axis=1)\n",
    "#tech.head()"
   ]
  },
  {
   "cell_type": "code",
   "execution_count": 11,
   "metadata": {},
   "outputs": [],
   "source": [
    "articoli = meta[['ID','Titolo','Abstract']]\n",
    "articoli = pd.merge(articoli, tech, on = 'ID')"
   ]
  },
  {
   "cell_type": "code",
   "execution_count": 12,
   "metadata": {},
   "outputs": [
    {
     "data": {
      "text/html": [
       "<div>\n",
       "<style scoped>\n",
       "    .dataframe tbody tr th:only-of-type {\n",
       "        vertical-align: middle;\n",
       "    }\n",
       "\n",
       "    .dataframe tbody tr th {\n",
       "        vertical-align: top;\n",
       "    }\n",
       "\n",
       "    .dataframe thead th {\n",
       "        text-align: right;\n",
       "    }\n",
       "</style>\n",
       "<table border=\"1\" class=\"dataframe\">\n",
       "  <thead>\n",
       "    <tr style=\"text-align: right;\">\n",
       "      <th></th>\n",
       "      <th>ID</th>\n",
       "      <th>Titolo</th>\n",
       "      <th>Abstract</th>\n",
       "      <th>Tech</th>\n",
       "    </tr>\n",
       "  </thead>\n",
       "  <tbody>\n",
       "    <tr>\n",
       "      <th>0</th>\n",
       "      <td>655dde2aeba917a7ca29388dbc3d77cb</td>\n",
       "      <td>A Colorado Neighborhood Runs on a Self-Reliant, Clean Energy Grid</td>\n",
       "      <td>Local Grid In Basalt , Colorado , a new housing development is testing out a new way to distribute electricity . Instead of relying on a plant somewhere to dole out electricity to their homes , residents of the Basalt Vista development are relying on an experimental virtual power plant.</td>\n",
       "      <td>[Renewable Energies]</td>\n",
       "    </tr>\n",
       "    <tr>\n",
       "      <th>1</th>\n",
       "      <td>ec86361327808e44cb6ede901b8ae718</td>\n",
       "      <td>A New Hole Is Forming in the Ozone Layer Over the Arctic</td>\n",
       "      <td>Over the last month , a new hole in the ozone layer has started to form over the Arctic . But this time around , extreme weather and atmospheric conditions have led to a far greater depletion than normal , according to a European Space Agency press release .</td>\n",
       "      <td>[Renewable Energies]</td>\n",
       "    </tr>\n",
       "    <tr>\n",
       "      <th>2</th>\n",
       "      <td>d0d9e4d9fd83756aea7505900b50b8da</td>\n",
       "      <td>Here's NASA's Plan for a Lunar \"Base Camp\"</td>\n",
       "      <td>NASA has outlined its plans for a lunar station called the Artemis Base Camp in a new 13-page report titled “NASA’ s Plan for Sustained Lunar Exploration and Development” submitted to the National Space Council last week . After 20 years of continuously living in low-Earth orbit , we’re now read...</td>\n",
       "      <td>[Low-Earth Satellites]</td>\n",
       "    </tr>\n",
       "    <tr>\n",
       "      <th>3</th>\n",
       "      <td>6b5272a2204d6dbfb30bddb91642a620</td>\n",
       "      <td>Is Residential Solar Power Worth It? This Free Online Tool Will Tell You.</td>\n",
       "      <td>Everybody knows solar power is great in theory . Over the last 10 years the cost of installing solar panels has dropped roughly 70 percent thanks to lower equipment costs , lower installation costs , and various government tax incentives , including the Federal Solar Tax Credit . After that , a ...</td>\n",
       "      <td>[Renewable Energies]</td>\n",
       "    </tr>\n",
       "    <tr>\n",
       "      <th>4</th>\n",
       "      <td>7e006110e942ff2f17f7ef5ba8191fa4</td>\n",
       "      <td>NASA Funds Giant Radio Telescope Concept on Far Side of Moon</td>\n",
       "      <td>NASA is funding research for a giant radio telescope in a crater on the far side of the Moon . According to a description by research lead Saptarshi Bandyopadhyay , robotics technologist at NASA ’ s Jet Propulsion Laboratory in California , the idea is to capture the “ tremendous advantages comp...</td>\n",
       "      <td>[Low-Earth Satellites]</td>\n",
       "    </tr>\n",
       "  </tbody>\n",
       "</table>\n",
       "</div>"
      ],
      "text/plain": [
       "                                 ID  \\\n",
       "0  655dde2aeba917a7ca29388dbc3d77cb   \n",
       "1  ec86361327808e44cb6ede901b8ae718   \n",
       "2  d0d9e4d9fd83756aea7505900b50b8da   \n",
       "3  6b5272a2204d6dbfb30bddb91642a620   \n",
       "4  7e006110e942ff2f17f7ef5ba8191fa4   \n",
       "\n",
       "                                                                      Titolo  \\\n",
       "0          A Colorado Neighborhood Runs on a Self-Reliant, Clean Energy Grid   \n",
       "1                   A New Hole Is Forming in the Ozone Layer Over the Arctic   \n",
       "2                                Here's NASA's Plan for a Lunar \"Base Camp\"   \n",
       "3  Is Residential Solar Power Worth It? This Free Online Tool Will Tell You.   \n",
       "4               NASA Funds Giant Radio Telescope Concept on Far Side of Moon   \n",
       "\n",
       "                                                                                                                                                                                                                                                                                                      Abstract  \\\n",
       "0             Local Grid In Basalt , Colorado , a new housing development is testing out a new way to distribute electricity . Instead of relying on a plant somewhere to dole out electricity to their homes , residents of the Basalt Vista development are relying on an experimental virtual power plant.    \n",
       "1                                           Over the last month , a new hole in the ozone layer has started to form over the Arctic . But this time around , extreme weather and atmospheric conditions have led to a far greater depletion than normal , according to a European Space Agency press release .   \n",
       "2  NASA has outlined its plans for a lunar station called the Artemis Base Camp in a new 13-page report titled “NASA’ s Plan for Sustained Lunar Exploration and Development” submitted to the National Space Council last week . After 20 years of continuously living in low-Earth orbit , we’re now read...   \n",
       "3  Everybody knows solar power is great in theory . Over the last 10 years the cost of installing solar panels has dropped roughly 70 percent thanks to lower equipment costs , lower installation costs , and various government tax incentives , including the Federal Solar Tax Credit . After that , a ...   \n",
       "4  NASA is funding research for a giant radio telescope in a crater on the far side of the Moon . According to a description by research lead Saptarshi Bandyopadhyay , robotics technologist at NASA ’ s Jet Propulsion Laboratory in California , the idea is to capture the “ tremendous advantages comp...   \n",
       "\n",
       "                     Tech  \n",
       "0    [Renewable Energies]  \n",
       "1    [Renewable Energies]  \n",
       "2  [Low-Earth Satellites]  \n",
       "3    [Renewable Energies]  \n",
       "4  [Low-Earth Satellites]  "
      ]
     },
     "execution_count": 12,
     "metadata": {},
     "output_type": "execute_result"
    }
   ],
   "source": [
    "articoli.head()"
   ]
  },
  {
   "cell_type": "code",
   "execution_count": 13,
   "metadata": {},
   "outputs": [],
   "source": [
    "# remove samples with no tags\n",
    "articoli['Tech'] = articoli['Tech'].apply(lambda y: '' if len(y)==0 else y)\n",
    "articoli = articoli[~(articoli['Tech'].str.len() == 0)]\n",
    "articoli = articoli[~(articoli['Abstract'].str.len() == 0)]"
   ]
  },
  {
   "cell_type": "code",
   "execution_count": 14,
   "metadata": {},
   "outputs": [
    {
     "data": {
      "text/html": [
       "<div>\n",
       "<style scoped>\n",
       "    .dataframe tbody tr th:only-of-type {\n",
       "        vertical-align: middle;\n",
       "    }\n",
       "\n",
       "    .dataframe tbody tr th {\n",
       "        vertical-align: top;\n",
       "    }\n",
       "\n",
       "    .dataframe thead th {\n",
       "        text-align: right;\n",
       "    }\n",
       "</style>\n",
       "<table border=\"1\" class=\"dataframe\">\n",
       "  <thead>\n",
       "    <tr style=\"text-align: right;\">\n",
       "      <th></th>\n",
       "      <th>ID</th>\n",
       "      <th>Titolo</th>\n",
       "      <th>Abstract</th>\n",
       "      <th>Tech</th>\n",
       "    </tr>\n",
       "  </thead>\n",
       "  <tbody>\n",
       "    <tr>\n",
       "      <th>0</th>\n",
       "      <td>655dde2aeba917a7ca29388dbc3d77cb</td>\n",
       "      <td>A Colorado Neighborhood Runs on a Self-Reliant, Clean Energy Grid</td>\n",
       "      <td>Local Grid In Basalt , Colorado , a new housing development is testing out a new way to distribute electricity . Instead of relying on a plant somewhere to dole out electricity to their homes , residents of the Basalt Vista development are relying on an experimental virtual power plant.</td>\n",
       "      <td>[Renewable Energies]</td>\n",
       "    </tr>\n",
       "    <tr>\n",
       "      <th>1</th>\n",
       "      <td>ec86361327808e44cb6ede901b8ae718</td>\n",
       "      <td>A New Hole Is Forming in the Ozone Layer Over the Arctic</td>\n",
       "      <td>Over the last month , a new hole in the ozone layer has started to form over the Arctic . But this time around , extreme weather and atmospheric conditions have led to a far greater depletion than normal , according to a European Space Agency press release .</td>\n",
       "      <td>[Renewable Energies]</td>\n",
       "    </tr>\n",
       "    <tr>\n",
       "      <th>2</th>\n",
       "      <td>d0d9e4d9fd83756aea7505900b50b8da</td>\n",
       "      <td>Here's NASA's Plan for a Lunar \"Base Camp\"</td>\n",
       "      <td>NASA has outlined its plans for a lunar station called the Artemis Base Camp in a new 13-page report titled “NASA’ s Plan for Sustained Lunar Exploration and Development” submitted to the National Space Council last week . After 20 years of continuously living in low-Earth orbit , we’re now read...</td>\n",
       "      <td>[Low-Earth Satellites]</td>\n",
       "    </tr>\n",
       "    <tr>\n",
       "      <th>3</th>\n",
       "      <td>6b5272a2204d6dbfb30bddb91642a620</td>\n",
       "      <td>Is Residential Solar Power Worth It? This Free Online Tool Will Tell You.</td>\n",
       "      <td>Everybody knows solar power is great in theory . Over the last 10 years the cost of installing solar panels has dropped roughly 70 percent thanks to lower equipment costs , lower installation costs , and various government tax incentives , including the Federal Solar Tax Credit . After that , a ...</td>\n",
       "      <td>[Renewable Energies]</td>\n",
       "    </tr>\n",
       "    <tr>\n",
       "      <th>4</th>\n",
       "      <td>7e006110e942ff2f17f7ef5ba8191fa4</td>\n",
       "      <td>NASA Funds Giant Radio Telescope Concept on Far Side of Moon</td>\n",
       "      <td>NASA is funding research for a giant radio telescope in a crater on the far side of the Moon . According to a description by research lead Saptarshi Bandyopadhyay , robotics technologist at NASA ’ s Jet Propulsion Laboratory in California , the idea is to capture the “ tremendous advantages comp...</td>\n",
       "      <td>[Low-Earth Satellites]</td>\n",
       "    </tr>\n",
       "  </tbody>\n",
       "</table>\n",
       "</div>"
      ],
      "text/plain": [
       "                                 ID  \\\n",
       "0  655dde2aeba917a7ca29388dbc3d77cb   \n",
       "1  ec86361327808e44cb6ede901b8ae718   \n",
       "2  d0d9e4d9fd83756aea7505900b50b8da   \n",
       "3  6b5272a2204d6dbfb30bddb91642a620   \n",
       "4  7e006110e942ff2f17f7ef5ba8191fa4   \n",
       "\n",
       "                                                                      Titolo  \\\n",
       "0          A Colorado Neighborhood Runs on a Self-Reliant, Clean Energy Grid   \n",
       "1                   A New Hole Is Forming in the Ozone Layer Over the Arctic   \n",
       "2                                Here's NASA's Plan for a Lunar \"Base Camp\"   \n",
       "3  Is Residential Solar Power Worth It? This Free Online Tool Will Tell You.   \n",
       "4               NASA Funds Giant Radio Telescope Concept on Far Side of Moon   \n",
       "\n",
       "                                                                                                                                                                                                                                                                                                      Abstract  \\\n",
       "0             Local Grid In Basalt , Colorado , a new housing development is testing out a new way to distribute electricity . Instead of relying on a plant somewhere to dole out electricity to their homes , residents of the Basalt Vista development are relying on an experimental virtual power plant.    \n",
       "1                                           Over the last month , a new hole in the ozone layer has started to form over the Arctic . But this time around , extreme weather and atmospheric conditions have led to a far greater depletion than normal , according to a European Space Agency press release .   \n",
       "2  NASA has outlined its plans for a lunar station called the Artemis Base Camp in a new 13-page report titled “NASA’ s Plan for Sustained Lunar Exploration and Development” submitted to the National Space Council last week . After 20 years of continuously living in low-Earth orbit , we’re now read...   \n",
       "3  Everybody knows solar power is great in theory . Over the last 10 years the cost of installing solar panels has dropped roughly 70 percent thanks to lower equipment costs , lower installation costs , and various government tax incentives , including the Federal Solar Tax Credit . After that , a ...   \n",
       "4  NASA is funding research for a giant radio telescope in a crater on the far side of the Moon . According to a description by research lead Saptarshi Bandyopadhyay , robotics technologist at NASA ’ s Jet Propulsion Laboratory in California , the idea is to capture the “ tremendous advantages comp...   \n",
       "\n",
       "                     Tech  \n",
       "0    [Renewable Energies]  \n",
       "1    [Renewable Energies]  \n",
       "2  [Low-Earth Satellites]  \n",
       "3    [Renewable Energies]  \n",
       "4  [Low-Earth Satellites]  "
      ]
     },
     "execution_count": 14,
     "metadata": {},
     "output_type": "execute_result"
    }
   ],
   "source": [
    "articoli.head()"
   ]
  },
  {
   "cell_type": "code",
   "execution_count": 18,
   "metadata": {},
   "outputs": [
    {
     "data": {
      "text/plain": [
       "['ID', 'Titolo', 'Abstract', 'Tech']"
      ]
     },
     "execution_count": 18,
     "metadata": {},
     "output_type": "execute_result"
    }
   ],
   "source": [
    "categories = list(articoli.columns.values)\n",
    "categories"
   ]
  },
  {
   "cell_type": "code",
   "execution_count": null,
   "metadata": {},
   "outputs": [],
   "source": []
  },
  {
   "cell_type": "code",
   "execution_count": null,
   "metadata": {},
   "outputs": [],
   "source": []
  },
  {
   "cell_type": "code",
   "execution_count": null,
   "metadata": {},
   "outputs": [],
   "source": [
    "# function for text cleaning \n",
    "def clean_text(text):\n",
    "    # remove backslash-apostrophe \n",
    "    text = re.sub(\"\\'\", \"\", text) \n",
    "    # remove everything except alphabets \n",
    "    text = re.sub(\"[^a-zA-Z]\",\" \",text) \n",
    "    # remove whitespaces \n",
    "    text = ' '.join(text.split()) \n",
    "    # convert text to lowercase \n",
    "    text = text.lower() \n",
    "    \n",
    "    return text"
   ]
  },
  {
   "cell_type": "code",
   "execution_count": null,
   "metadata": {},
   "outputs": [],
   "source": [
    "articoli['Abstract'] = articoli['Abstract'].apply(lambda x: clean_text(x))\n",
    "articoli.head()"
   ]
  },
  {
   "cell_type": "code",
   "execution_count": null,
   "metadata": {},
   "outputs": [],
   "source": [
    "articoli['Tech'][2]"
   ]
  },
  {
   "cell_type": "code",
   "execution_count": null,
   "metadata": {},
   "outputs": [],
   "source": [
    "def freq_words(x, terms = 30): \n",
    "  all_words = ' '.join([text for text in x]) \n",
    "  all_words = all_words.split() \n",
    "  fdist = nltk.FreqDist(all_words) \n",
    "  words_df = pd.DataFrame({'word':list(fdist.keys()), 'count':list(fdist.values())}) \n",
    "  \n",
    "  # selecting top 20 most frequent words \n",
    "  d = words_df.nlargest(columns=\"count\", n = terms) \n",
    "  \n",
    "  # visualize words and frequencies\n",
    "  plt.figure(figsize=(12,15)) \n",
    "  ax = sns.barplot(data=d, x= \"count\", y = \"word\") \n",
    "  ax.set(ylabel = 'Word') \n",
    "  plt.show()\n",
    "  \n",
    "# print 100 most frequent words \n",
    "freq_words(articoli['Abstract'], 30)"
   ]
  },
  {
   "cell_type": "code",
   "execution_count": null,
   "metadata": {},
   "outputs": [],
   "source": [
    "nltk.download('stopwords')"
   ]
  },
  {
   "cell_type": "code",
   "execution_count": null,
   "metadata": {},
   "outputs": [],
   "source": [
    "from nltk.corpus import stopwords\n",
    "stop_words = set(stopwords.words('english'))\n",
    "\n",
    "# function to remove stopwords\n",
    "def remove_stopwords(text):\n",
    "    no_stopword_text = [w for w in text.split() if not w in stop_words]\n",
    "    return ' '.join(no_stopword_text)\n",
    "\n",
    "articoli['Abstract'] = articoli['Abstract'].apply(lambda x: remove_stopwords(x))"
   ]
  },
  {
   "cell_type": "code",
   "execution_count": null,
   "metadata": {},
   "outputs": [],
   "source": [
    "articoli['Abstract'][2]"
   ]
  },
  {
   "cell_type": "code",
   "execution_count": null,
   "metadata": {},
   "outputs": [],
   "source": [
    "freq_words(articoli['Abstract'], 30)"
   ]
  },
  {
   "cell_type": "code",
   "execution_count": null,
   "metadata": {},
   "outputs": [],
   "source": [
    "articoli['Tech'].head()"
   ]
  },
  {
   "cell_type": "code",
   "execution_count": null,
   "metadata": {},
   "outputs": [],
   "source": [
    "articoli['Tech'][2]"
   ]
  },
  {
   "cell_type": "code",
   "execution_count": null,
   "metadata": {},
   "outputs": [],
   "source": [
    "# convert text to features\n",
    "from sklearn.preprocessing import MultiLabelBinarizer\n",
    "\n",
    "multilabel_binarizer = MultiLabelBinarizer()\n",
    "multilabel_binarizer.fit(articoli['Tech'])"
   ]
  },
  {
   "cell_type": "code",
   "execution_count": null,
   "metadata": {},
   "outputs": [],
   "source": [
    "# transform target variable\n",
    "y = multilabel_binarizer.transform(articoli['Tech'])"
   ]
  },
  {
   "cell_type": "code",
   "execution_count": null,
   "metadata": {},
   "outputs": [],
   "source": [
    "tfidf_vectorizer = TfidfVectorizer(max_df=0.8, max_features=10000)"
   ]
  },
  {
   "cell_type": "code",
   "execution_count": null,
   "metadata": {},
   "outputs": [],
   "source": [
    "# split dataset into training and validation set\n",
    "xtrain, xval, ytrain, yval = train_test_split(articoli['Abstract'], y, test_size=0.2, random_state=9)"
   ]
  },
  {
   "cell_type": "code",
   "execution_count": null,
   "metadata": {},
   "outputs": [],
   "source": [
    "xtrain.head()"
   ]
  },
  {
   "cell_type": "code",
   "execution_count": null,
   "metadata": {},
   "outputs": [],
   "source": [
    "ytrain"
   ]
  },
  {
   "cell_type": "code",
   "execution_count": null,
   "metadata": {},
   "outputs": [],
   "source": []
  },
  {
   "cell_type": "code",
   "execution_count": null,
   "metadata": {},
   "outputs": [],
   "source": [
    "#build prediction model\n",
    "from sklearn.linear_model import LogisticRegression\n",
    "\n",
    "# Binary Relevance\n",
    "from sklearn.multiclass import OneVsRestClassifier\n",
    "\n",
    "# Performance metric\n",
    "from sklearn.metrics import f1_score"
   ]
  },
  {
   "cell_type": "code",
   "execution_count": null,
   "metadata": {},
   "outputs": [],
   "source": [
    "# create TF-IDF features\n",
    "xtrain_tfidf = tfidf_vectorizer.fit_transform(xtrain)\n",
    "xval_tfidf = tfidf_vectorizer.transform(xval)"
   ]
  },
  {
   "cell_type": "code",
   "execution_count": null,
   "metadata": {},
   "outputs": [],
   "source": [
    "def CLF_prediction(xtrain_tfidf, ytrain):\n",
    "    lr = LogisticRegression()\n",
    "    clf = OneVsRestClassifier(lr)\n",
    "    \n",
    "    # fit model on train data\n",
    "    clf.fit(xtrain_tfidf, ytrain)\n",
    "    \n",
    "    # make predictions for validation set\n",
    "    y_pred = clf.predict(xval_tfidf)\n",
    "    \n",
    "    return y_pred"
   ]
  },
  {
   "cell_type": "code",
   "execution_count": null,
   "metadata": {},
   "outputs": [],
   "source": [
    "#lr = LogisticRegression()\n",
    "#clf = OneVsRestClassifier(lr)"
   ]
  },
  {
   "cell_type": "code",
   "execution_count": null,
   "metadata": {},
   "outputs": [],
   "source": [
    "# fit model on train data\n",
    "#clf.fit(xtrain_tfidf, ytrain)"
   ]
  },
  {
   "cell_type": "code",
   "execution_count": null,
   "metadata": {},
   "outputs": [],
   "source": [
    "# make predictions for validation set\n",
    "#y_pred = clf.predict(xval_tfidf)"
   ]
  },
  {
   "cell_type": "code",
   "execution_count": null,
   "metadata": {},
   "outputs": [],
   "source": [
    "y_pred = CLF_prediction(xtrain_tfidf, ytrain)"
   ]
  },
  {
   "cell_type": "code",
   "execution_count": null,
   "metadata": {},
   "outputs": [],
   "source": [
    "# it is the one-hot encoded form of the unique genre tags. We will have to find a way to convert it into tech tags.\n",
    "y_pred[3]"
   ]
  },
  {
   "cell_type": "code",
   "execution_count": null,
   "metadata": {},
   "outputs": [],
   "source": [
    "#convert the predicted arrays into movie genre tags\n",
    "multilabel_binarizer.inverse_transform(y_pred)[3]"
   ]
  },
  {
   "cell_type": "code",
   "execution_count": null,
   "metadata": {},
   "outputs": [],
   "source": [
    "# evaluate performance\n",
    "f1_score(yval, y_pred, average=\"micro\")"
   ]
  },
  {
   "cell_type": "code",
   "execution_count": null,
   "metadata": {},
   "outputs": [],
   "source": [
    "# predict probabilities\n",
    "#y_pred_prob = clf.predict_proba(xval_tfidf)"
   ]
  },
  {
   "cell_type": "code",
   "execution_count": null,
   "metadata": {},
   "outputs": [],
   "source": [
    "#t = 0.3 # threshold value\n",
    "#y_pred_new = (y_pred_prob >= t).astype(int)"
   ]
  },
  {
   "cell_type": "code",
   "execution_count": null,
   "metadata": {},
   "outputs": [],
   "source": [
    "# evaluate performance\n",
    "#f1_score(yval, y_pred_new, average=\"micro\")"
   ]
  },
  {
   "cell_type": "code",
   "execution_count": null,
   "metadata": {},
   "outputs": [],
   "source": [
    "def infer_tags(q):\n",
    "    q = clean_text(q)\n",
    "    q = remove_stopwords(q)\n",
    "    q_vec = tfidf_vectorizer.transform([q])\n",
    "    q_pred = clf.predict(q_vec)\n",
    "    return multilabel_binarizer.inverse_transform(q_pred)"
   ]
  },
  {
   "cell_type": "code",
   "execution_count": null,
   "metadata": {},
   "outputs": [],
   "source": [
    "for i in range(5): \n",
    "    k = xval.sample(1).index[0]\n",
    "    print(\"Article: \", articoli['Abstract'][k], \\\n",
    "        \"\\nPredicted tech: \", infer_tags(xval[k])),\n",
    "    print(\"Actual tech: \",articoli['Tech'][k], \"\\n\")"
   ]
  },
  {
   "cell_type": "code",
   "execution_count": null,
   "metadata": {},
   "outputs": [],
   "source": []
  }
 ],
 "metadata": {
  "kernelspec": {
   "display_name": "Python 3",
   "language": "python",
   "name": "python3"
  },
  "language_info": {
   "codemirror_mode": {
    "name": "ipython",
    "version": 3
   },
   "file_extension": ".py",
   "mimetype": "text/x-python",
   "name": "python",
   "nbconvert_exporter": "python",
   "pygments_lexer": "ipython3",
   "version": "3.7.7"
  }
 },
 "nbformat": 4,
 "nbformat_minor": 4
}
