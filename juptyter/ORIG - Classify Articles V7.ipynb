{
 "cells": [
  {
   "cell_type": "markdown",
   "metadata": {
    "colab_type": "text",
    "id": "7EIr7v7MlqVK"
   },
   "source": [
    "# SUPERVISED CLASSIFICATION OF ARTICLES"
   ]
  },
  {
   "cell_type": "code",
   "execution_count": 1,
   "metadata": {},
   "outputs": [],
   "source": [
    "import pandas as pd\n",
    "import numpy as np\n",
    "import json\n",
    "import nltk\n",
    "import re\n",
    "import csv\n",
    "import matplotlib.pyplot as plt\n",
    "import seaborn as sns\n",
    "from tqdm import tqdm\n",
    "from datetime import datetime\n",
    "from sklearn.feature_extraction.text import TfidfVectorizer\n",
    "from sklearn.model_selection import train_test_split"
   ]
  },
  {
   "cell_type": "code",
   "execution_count": 2,
   "metadata": {},
   "outputs": [],
   "source": [
    "%matplotlib inline\n",
    "pd.set_option('display.max_colwidth', 300)"
   ]
  },
  {
   "cell_type": "markdown",
   "metadata": {
    "colab_type": "text",
    "id": "-27LekL_lqVR"
   },
   "source": [
    "## 1. Load and clean data"
   ]
  },
  {
   "cell_type": "code",
   "execution_count": 3,
   "metadata": {},
   "outputs": [],
   "source": [
    "meta = pd.read_excel(\"../articoli_testo_new_9.xlsx\", encoding=\"utf8\", \n",
    "                     error_bad_lines=False, dtype={'Data': datetime})\n",
    "meta = meta.replace(np.nan, '', regex=True)"
   ]
  },
  {
   "cell_type": "code",
   "execution_count": 4,
   "metadata": {},
   "outputs": [
    {
     "name": "stdout",
     "output_type": "stream",
     "text": [
      "Numero totale di articoli: 814\n"
     ]
    }
   ],
   "source": [
    "article_id = meta['ID']\n",
    "print (\"Numero totale di articoli: %d\" % len(article_id))"
   ]
  },
  {
   "cell_type": "code",
   "execution_count": 5,
   "metadata": {},
   "outputs": [],
   "source": [
    "meta['Data'] = pd.to_datetime(meta['Data'])"
   ]
  },
  {
   "cell_type": "code",
   "execution_count": 6,
   "metadata": {},
   "outputs": [],
   "source": [
    "trend1 = []\n",
    "for i in meta['Trend 1']:\n",
    "    trend1.append(i)\n",
    "\n",
    "#trend2 = []\n",
    "#for i in meta['Trend 2']:\n",
    "#    trend2.append(i)\n",
    "#    \n",
    "#trend3 = []\n",
    "#for i in meta['Trend 3']:\n",
    "#    trend3.append(i)"
   ]
  },
  {
   "cell_type": "code",
   "execution_count": 7,
   "metadata": {},
   "outputs": [
    {
     "data": {
      "text/plain": [
       "'Circular Economy Sustainability and Zero Impact Economy'"
      ]
     },
     "execution_count": 7,
     "metadata": {},
     "output_type": "execute_result"
    }
   ],
   "source": [
    "Trend = []\n",
    "for i in range(len(article_id)):\n",
    "    l = []\n",
    "    if len(trend1[i]): l.append(trend1[i])\n",
    "    #if len(trend2[i]): l.append(trend2[i])\n",
    "    #if len(trend3[i]): l.append(trend3[i])\n",
    "        \n",
    "    #Trend.append(list(l))\n",
    "    Trend.append(', '.join(map(str, list(l)))) \n",
    "    \n",
    "Trend[0]"
   ]
  },
  {
   "cell_type": "code",
   "execution_count": 8,
   "metadata": {
    "scrolled": true
   },
   "outputs": [
    {
     "data": {
      "text/html": [
       "<div>\n",
       "<style scoped>\n",
       "    .dataframe tbody tr th:only-of-type {\n",
       "        vertical-align: middle;\n",
       "    }\n",
       "\n",
       "    .dataframe tbody tr th {\n",
       "        vertical-align: top;\n",
       "    }\n",
       "\n",
       "    .dataframe thead th {\n",
       "        text-align: right;\n",
       "    }\n",
       "</style>\n",
       "<table border=\"1\" class=\"dataframe\">\n",
       "  <thead>\n",
       "    <tr style=\"text-align: right;\">\n",
       "      <th></th>\n",
       "      <th>ID</th>\n",
       "      <th>Trend</th>\n",
       "    </tr>\n",
       "  </thead>\n",
       "  <tbody>\n",
       "    <tr>\n",
       "      <th>0</th>\n",
       "      <td>7f9f2aea41caf2f034af9b5423abb95f</td>\n",
       "      <td>Circular Economy Sustainability and Zero Impact Economy</td>\n",
       "    </tr>\n",
       "    <tr>\n",
       "      <th>1</th>\n",
       "      <td>c812e0a3418d624ae60df3ec9e19d184</td>\n",
       "      <td>Robotics and Human/Machine Hybridization</td>\n",
       "    </tr>\n",
       "    <tr>\n",
       "      <th>2</th>\n",
       "      <td>61268fb46585bba4ac828cc277b69ecb</td>\n",
       "      <td>High Tech Farming</td>\n",
       "    </tr>\n",
       "    <tr>\n",
       "      <th>3</th>\n",
       "      <td>d3e4f8a85f1c96d9839de642e856645f</td>\n",
       "      <td>Digital Politics and Smart Citizenship</td>\n",
       "    </tr>\n",
       "    <tr>\n",
       "      <th>4</th>\n",
       "      <td>879f738c66345cf45682fc3e2117e743</td>\n",
       "      <td>Smart &amp; Digital Water</td>\n",
       "    </tr>\n",
       "  </tbody>\n",
       "</table>\n",
       "</div>"
      ],
      "text/plain": [
       "                                 ID  \\\n",
       "0  7f9f2aea41caf2f034af9b5423abb95f   \n",
       "1  c812e0a3418d624ae60df3ec9e19d184   \n",
       "2  61268fb46585bba4ac828cc277b69ecb   \n",
       "3  d3e4f8a85f1c96d9839de642e856645f   \n",
       "4  879f738c66345cf45682fc3e2117e743   \n",
       "\n",
       "                                                     Trend  \n",
       "0  Circular Economy Sustainability and Zero Impact Economy  \n",
       "1                 Robotics and Human/Machine Hybridization  \n",
       "2                                        High Tech Farming  \n",
       "3                   Digital Politics and Smart Citizenship  \n",
       "4                                    Smart & Digital Water  "
      ]
     },
     "execution_count": 8,
     "metadata": {},
     "output_type": "execute_result"
    }
   ],
   "source": [
    "# Create Tech Dataframe\n",
    "trend = pd.DataFrame({'ID': article_id, 'Trend': Trend})\n",
    "trend.head()"
   ]
  },
  {
   "cell_type": "code",
   "execution_count": 9,
   "metadata": {},
   "outputs": [],
   "source": [
    "articoli = meta[['ID','Titolo','Abstract', 'Data', 'Testo']]\n",
    "articoli = pd.merge(articoli, trend, on = 'ID')"
   ]
  },
  {
   "cell_type": "code",
   "execution_count": 10,
   "metadata": {},
   "outputs": [],
   "source": [
    "# remove samples with no tags\n",
    "articoli['Trend'] = articoli['Trend'].apply(lambda y: '' if len(y)==0 else y)\n",
    "articoli = articoli[~(articoli['Trend'].str.len() == 0)]\n",
    "articoli = articoli[~(articoli['Testo'].str.len() == 0)]\n",
    "articoli = articoli.dropna(subset=['Data'])"
   ]
  },
  {
   "cell_type": "code",
   "execution_count": 11,
   "metadata": {},
   "outputs": [
    {
     "name": "stdout",
     "output_type": "stream",
     "text": [
      "Numero totale di articoli: 717\n"
     ]
    }
   ],
   "source": [
    "len(articoli)\n",
    "print (\"Numero totale di articoli: %d\" % len(articoli))"
   ]
  },
  {
   "cell_type": "code",
   "execution_count": 12,
   "metadata": {},
   "outputs": [],
   "source": [
    "# function for text cleaning \n",
    "def clean_text(text):\n",
    "    # remove backslash-apostrophe \n",
    "    text = re.sub(\"\\'\", \"\", text)\n",
    "    text = re.sub(r'[?|!|\\'|\"|#]',r'',text)\n",
    "    text = re.sub(r'[.|,|)|(|\\|/]',r' ',text)\n",
    "    # remove everything except alphabets \n",
    "    text = re.sub(\"[^a-zA-Z]\",\" \",text) \n",
    "    \n",
    "    text = text.replace(\"\\n\",\" \")\n",
    "    \n",
    "    # remove whitespaces \n",
    "    text = ' '.join(text.split()) \n",
    "    # convert text to lowercase \n",
    "    text = text.lower() \n",
    "    \n",
    "    return text"
   ]
  },
  {
   "cell_type": "code",
   "execution_count": 13,
   "metadata": {},
   "outputs": [],
   "source": [
    "def extract_date(df,column):\n",
    "    df[\"Anno\"] = df[column].apply(lambda x: x.year)\n",
    "    df[\"Mese\"] = df[column].apply(lambda x: x.month)\n",
    "    df[\"Day\"] = df[column].apply(lambda x: x.day)"
   ]
  },
  {
   "cell_type": "code",
   "execution_count": 14,
   "metadata": {},
   "outputs": [],
   "source": [
    "articoli['Titolo'] = articoli['Titolo'].apply(lambda x: clean_text(x))\n",
    "articoli['Abstract'] = articoli['Abstract'].apply(lambda x: clean_text(x))\n",
    "articoli['Testo'] = articoli['Testo'].apply(lambda x: clean_text(x))\n",
    "extract_date(articoli, \"Data\")"
   ]
  },
  {
   "cell_type": "code",
   "execution_count": 15,
   "metadata": {},
   "outputs": [
    {
     "name": "stdout",
     "output_type": "stream",
     "text": [
      "Numero totale di articoli: 717\n"
     ]
    }
   ],
   "source": [
    "print (\"Numero totale di articoli: %d\" % len(articoli))"
   ]
  },
  {
   "cell_type": "code",
   "execution_count": 16,
   "metadata": {},
   "outputs": [],
   "source": [
    "import datetime\n",
    "\n",
    "def extract_week_number(df, column):\n",
    "    df[\"Week\"] = df[column].apply(lambda x: datetime.date(int(x.year), int(x.month), int(x.day)).strftime(\"%V\"))\n",
    "    #datetime.date(articoli['Data'][0].year, articoli['Data'][0].month , articoli['Data'][0].day).strftime(\"%V\")\n",
    "    \n",
    "extract_week_number(articoli, \"Data\")"
   ]
  },
  {
   "cell_type": "code",
   "execution_count": 17,
   "metadata": {},
   "outputs": [
    {
     "data": {
      "text/html": [
       "<div>\n",
       "<style scoped>\n",
       "    .dataframe tbody tr th:only-of-type {\n",
       "        vertical-align: middle;\n",
       "    }\n",
       "\n",
       "    .dataframe tbody tr th {\n",
       "        vertical-align: top;\n",
       "    }\n",
       "\n",
       "    .dataframe thead th {\n",
       "        text-align: right;\n",
       "    }\n",
       "</style>\n",
       "<table border=\"1\" class=\"dataframe\">\n",
       "  <thead>\n",
       "    <tr style=\"text-align: right;\">\n",
       "      <th></th>\n",
       "      <th>ID</th>\n",
       "      <th>Titolo</th>\n",
       "      <th>Abstract</th>\n",
       "      <th>Data</th>\n",
       "      <th>Testo</th>\n",
       "      <th>Trend</th>\n",
       "      <th>Anno</th>\n",
       "      <th>Mese</th>\n",
       "      <th>Day</th>\n",
       "      <th>Week</th>\n",
       "    </tr>\n",
       "  </thead>\n",
       "  <tbody>\n",
       "    <tr>\n",
       "      <th>0</th>\n",
       "      <td>7f9f2aea41caf2f034af9b5423abb95f</td>\n",
       "      <td>investor group no european oil and gas major has a credible net zero plan</td>\n",
       "      <td></td>\n",
       "      <td>2020-05-14</td>\n",
       "      <td>none of europes leading oil and gas majors has released a credible plan for achieving netzero emissions by the middle of the century despite recent declarations from bp shell total and others that they are committed to achieveing netzero status by that is the conclusion of a new analysis from th...</td>\n",
       "      <td>Circular Economy Sustainability and Zero Impact Economy</td>\n",
       "      <td>2020</td>\n",
       "      <td>5</td>\n",
       "      <td>14</td>\n",
       "      <td>20</td>\n",
       "    </tr>\n",
       "    <tr>\n",
       "      <th>1</th>\n",
       "      <td>c812e0a3418d624ae60df3ec9e19d184</td>\n",
       "      <td>pandemic drone could spot those who are infected</td>\n",
       "      <td></td>\n",
       "      <td>2020-04-03</td>\n",
       "      <td>spotted in the current climate one of the major problems in controlling a pandemic such as covid is not knowing who is infected and how widespread the disease is in your area the university of south australia and canada based drone technology specialist draganfly inc have teamed up to develop a ...</td>\n",
       "      <td>Robotics and Human/Machine Hybridization</td>\n",
       "      <td>2020</td>\n",
       "      <td>4</td>\n",
       "      <td>3</td>\n",
       "      <td>14</td>\n",
       "    </tr>\n",
       "    <tr>\n",
       "      <th>2</th>\n",
       "      <td>61268fb46585bba4ac828cc277b69ecb</td>\n",
       "      <td>europe s green deal eu commission president ursula von der leyen announces europe s man on the moon moment videos</td>\n",
       "      <td></td>\n",
       "      <td>2019-12-15</td>\n",
       "      <td>agriculture published on december th by cynthia shahan europe s green deal eu commission president ursula von der leyen announces europe s man on the moon moment videos twitter linkedin facebook december th by cynthia shahan</td>\n",
       "      <td>High Tech Farming</td>\n",
       "      <td>2019</td>\n",
       "      <td>12</td>\n",
       "      <td>15</td>\n",
       "      <td>50</td>\n",
       "    </tr>\n",
       "    <tr>\n",
       "      <th>3</th>\n",
       "      <td>d3e4f8a85f1c96d9839de642e856645f</td>\n",
       "      <td>green swans and the exponential decade a conversation with john elkington</td>\n",
       "      <td></td>\n",
       "      <td>2020-05-19</td>\n",
       "      <td>optimism and excitement despite the ongoing global covid pandemic those two words were at the center of last weeks greenbiz webcast which featured an interview between greenbiz executive editor joel makower and john elkington who in addition to being executive chairman and cofounder of volans ve...</td>\n",
       "      <td>Digital Politics and Smart Citizenship</td>\n",
       "      <td>2020</td>\n",
       "      <td>5</td>\n",
       "      <td>19</td>\n",
       "      <td>21</td>\n",
       "    </tr>\n",
       "    <tr>\n",
       "      <th>4</th>\n",
       "      <td>879f738c66345cf45682fc3e2117e743</td>\n",
       "      <td>sustainable nation film showcases israeli water tech</td>\n",
       "      <td></td>\n",
       "      <td>2020-04-26</td>\n",
       "      <td>sustainable nation a documentary that follows three israeli innovators applying israeli water technology solutions to help waterstressed countries will premier live online on april at pm edt am pst pm idt it will be available on youtube until may and then on amazon prime by the summer the hourlo...</td>\n",
       "      <td>Smart &amp; Digital Water</td>\n",
       "      <td>2020</td>\n",
       "      <td>4</td>\n",
       "      <td>26</td>\n",
       "      <td>17</td>\n",
       "    </tr>\n",
       "  </tbody>\n",
       "</table>\n",
       "</div>"
      ],
      "text/plain": [
       "                                 ID  \\\n",
       "0  7f9f2aea41caf2f034af9b5423abb95f   \n",
       "1  c812e0a3418d624ae60df3ec9e19d184   \n",
       "2  61268fb46585bba4ac828cc277b69ecb   \n",
       "3  d3e4f8a85f1c96d9839de642e856645f   \n",
       "4  879f738c66345cf45682fc3e2117e743   \n",
       "\n",
       "                                                                                                              Titolo  \\\n",
       "0                                          investor group no european oil and gas major has a credible net zero plan   \n",
       "1                                                                   pandemic drone could spot those who are infected   \n",
       "2  europe s green deal eu commission president ursula von der leyen announces europe s man on the moon moment videos   \n",
       "3                                          green swans and the exponential decade a conversation with john elkington   \n",
       "4                                                               sustainable nation film showcases israeli water tech   \n",
       "\n",
       "  Abstract       Data  \\\n",
       "0          2020-05-14   \n",
       "1          2020-04-03   \n",
       "2          2019-12-15   \n",
       "3          2020-05-19   \n",
       "4          2020-04-26   \n",
       "\n",
       "                                                                                                                                                                                                                                                                                                         Testo  \\\n",
       "0  none of europes leading oil and gas majors has released a credible plan for achieving netzero emissions by the middle of the century despite recent declarations from bp shell total and others that they are committed to achieveing netzero status by that is the conclusion of a new analysis from th...   \n",
       "1  spotted in the current climate one of the major problems in controlling a pandemic such as covid is not knowing who is infected and how widespread the disease is in your area the university of south australia and canada based drone technology specialist draganfly inc have teamed up to develop a ...   \n",
       "2                                                                             agriculture published on december th by cynthia shahan europe s green deal eu commission president ursula von der leyen announces europe s man on the moon moment videos twitter linkedin facebook december th by cynthia shahan   \n",
       "3  optimism and excitement despite the ongoing global covid pandemic those two words were at the center of last weeks greenbiz webcast which featured an interview between greenbiz executive editor joel makower and john elkington who in addition to being executive chairman and cofounder of volans ve...   \n",
       "4  sustainable nation a documentary that follows three israeli innovators applying israeli water technology solutions to help waterstressed countries will premier live online on april at pm edt am pst pm idt it will be available on youtube until may and then on amazon prime by the summer the hourlo...   \n",
       "\n",
       "                                                     Trend  Anno  Mese  Day  \\\n",
       "0  Circular Economy Sustainability and Zero Impact Economy  2020     5   14   \n",
       "1                 Robotics and Human/Machine Hybridization  2020     4    3   \n",
       "2                                        High Tech Farming  2019    12   15   \n",
       "3                   Digital Politics and Smart Citizenship  2020     5   19   \n",
       "4                                    Smart & Digital Water  2020     4   26   \n",
       "\n",
       "  Week  \n",
       "0   20  \n",
       "1   14  \n",
       "2   50  \n",
       "3   21  \n",
       "4   17  "
      ]
     },
     "execution_count": 17,
     "metadata": {},
     "output_type": "execute_result"
    }
   ],
   "source": [
    "articoli.head()"
   ]
  },
  {
   "cell_type": "code",
   "execution_count": 18,
   "metadata": {},
   "outputs": [
    {
     "name": "stdout",
     "output_type": "stream",
     "text": [
      "Numero totale di articoli: 717\n"
     ]
    }
   ],
   "source": [
    "print (\"Numero totale di articoli: %d\" % len(articoli))"
   ]
  },
  {
   "cell_type": "markdown",
   "metadata": {
    "colab_type": "text",
    "id": "-27LekL_lqVR"
   },
   "source": [
    "## 2. Remove stopwords from data"
   ]
  },
  {
   "cell_type": "code",
   "execution_count": 19,
   "metadata": {},
   "outputs": [
    {
     "name": "stderr",
     "output_type": "stream",
     "text": [
      "[nltk_data] Downloading package stopwords to\n",
      "[nltk_data]     C:\\Users\\edoardo.esposito\\AppData\\Roaming\\nltk_data...\n",
      "[nltk_data]   Package stopwords is already up-to-date!\n"
     ]
    },
    {
     "data": {
      "text/plain": [
       "True"
      ]
     },
     "execution_count": 19,
     "metadata": {},
     "output_type": "execute_result"
    }
   ],
   "source": [
    "nltk.download('stopwords')"
   ]
  },
  {
   "cell_type": "code",
   "execution_count": 20,
   "metadata": {},
   "outputs": [],
   "source": [
    "from nltk.corpus import stopwords\n",
    "#stop_words = set(stopwords.words('english'))\n",
    "stop_words = nltk.corpus.stopwords.words('english')\n",
    "my_stopwords = ['also','said', 'one', 'may', 'polls', 'sorry', 'like', 'use', 'many', 'make', 'could', \n",
    "                'even', 'says', 'new', 'us', 'would', 'time', 'companies', 'moment', 'way', 'using', 'two',\n",
    "               'across', 'well', 'world', 'first', 'system', 'million', 'systems', 'including', 'example', 'year', \n",
    "                'based', 'googletagcmdpushfunction']\n",
    "stop_words.extend(my_stopwords)\n",
    "\n",
    "# function to remove stopwords\n",
    "def remove_stopwords(text):\n",
    "    no_stopword_text = [w for w in text.split() if not w in stop_words]\n",
    "    return ' '.join(no_stopword_text)\n",
    "\n",
    "articoli['Abstract'] = articoli['Abstract'].apply(lambda x: remove_stopwords(x))\n",
    "articoli['Titolo'] = articoli['Titolo'].apply(lambda x: remove_stopwords(x))\n",
    "articoli['Testo'] = articoli['Testo'].apply(lambda x: remove_stopwords(x))"
   ]
  },
  {
   "cell_type": "code",
   "execution_count": 21,
   "metadata": {},
   "outputs": [],
   "source": [
    "articoli['Txt'] = articoli['Titolo'] + articoli['Testo'] + articoli['Abstract']\n",
    "del(articoli['Abstract'])\n",
    "#del(articoli['Titolo'])\n",
    "del(articoli['Testo'])"
   ]
  },
  {
   "cell_type": "code",
   "execution_count": 22,
   "metadata": {},
   "outputs": [
    {
     "data": {
      "text/html": [
       "<div>\n",
       "<style scoped>\n",
       "    .dataframe tbody tr th:only-of-type {\n",
       "        vertical-align: middle;\n",
       "    }\n",
       "\n",
       "    .dataframe tbody tr th {\n",
       "        vertical-align: top;\n",
       "    }\n",
       "\n",
       "    .dataframe thead th {\n",
       "        text-align: right;\n",
       "    }\n",
       "</style>\n",
       "<table border=\"1\" class=\"dataframe\">\n",
       "  <thead>\n",
       "    <tr style=\"text-align: right;\">\n",
       "      <th></th>\n",
       "      <th>ID</th>\n",
       "      <th>Titolo</th>\n",
       "      <th>Data</th>\n",
       "      <th>Trend</th>\n",
       "      <th>Anno</th>\n",
       "      <th>Mese</th>\n",
       "      <th>Day</th>\n",
       "      <th>Week</th>\n",
       "      <th>Txt</th>\n",
       "    </tr>\n",
       "  </thead>\n",
       "  <tbody>\n",
       "    <tr>\n",
       "      <th>0</th>\n",
       "      <td>7f9f2aea41caf2f034af9b5423abb95f</td>\n",
       "      <td>investor group european oil gas major credible net zero plan</td>\n",
       "      <td>2020-05-14</td>\n",
       "      <td>Circular Economy Sustainability and Zero Impact Economy</td>\n",
       "      <td>2020</td>\n",
       "      <td>5</td>\n",
       "      <td>14</td>\n",
       "      <td>20</td>\n",
       "      <td>investor group european oil gas major credible net zero plannone europes leading oil gas majors released credible plan achieving netzero emissions middle century despite recent declarations bp shell total others committed achieveing netzero status conclusion analysis influential transition pathw...</td>\n",
       "    </tr>\n",
       "    <tr>\n",
       "      <th>1</th>\n",
       "      <td>c812e0a3418d624ae60df3ec9e19d184</td>\n",
       "      <td>pandemic drone spot infected</td>\n",
       "      <td>2020-04-03</td>\n",
       "      <td>Robotics and Human/Machine Hybridization</td>\n",
       "      <td>2020</td>\n",
       "      <td>4</td>\n",
       "      <td>3</td>\n",
       "      <td>14</td>\n",
       "      <td>pandemic drone spot infectedspotted current climate major problems controlling pandemic covid knowing infected widespread disease area university south australia canada drone technology specialist draganfly inc teamed develop pandemic drone technology uses special sensors computer vision detect ...</td>\n",
       "    </tr>\n",
       "    <tr>\n",
       "      <th>2</th>\n",
       "      <td>61268fb46585bba4ac828cc277b69ecb</td>\n",
       "      <td>europe green deal eu commission president ursula von der leyen announces europe man moon videos</td>\n",
       "      <td>2019-12-15</td>\n",
       "      <td>High Tech Farming</td>\n",
       "      <td>2019</td>\n",
       "      <td>12</td>\n",
       "      <td>15</td>\n",
       "      <td>50</td>\n",
       "      <td>europe green deal eu commission president ursula von der leyen announces europe man moon videosagriculture published december th cynthia shahan europe green deal eu commission president ursula von der leyen announces europe man moon videos twitter linkedin facebook december th cynthia shahan</td>\n",
       "    </tr>\n",
       "    <tr>\n",
       "      <th>3</th>\n",
       "      <td>d3e4f8a85f1c96d9839de642e856645f</td>\n",
       "      <td>green swans exponential decade conversation john elkington</td>\n",
       "      <td>2020-05-19</td>\n",
       "      <td>Digital Politics and Smart Citizenship</td>\n",
       "      <td>2020</td>\n",
       "      <td>5</td>\n",
       "      <td>19</td>\n",
       "      <td>21</td>\n",
       "      <td>green swans exponential decade conversation john elkingtonoptimism excitement despite ongoing global covid pandemic words center last weeks greenbiz webcast featured interview greenbiz executive editor joel makower john elkington addition executive chairman cofounder volans ventures authority co...</td>\n",
       "    </tr>\n",
       "    <tr>\n",
       "      <th>4</th>\n",
       "      <td>879f738c66345cf45682fc3e2117e743</td>\n",
       "      <td>sustainable nation film showcases israeli water tech</td>\n",
       "      <td>2020-04-26</td>\n",
       "      <td>Smart &amp; Digital Water</td>\n",
       "      <td>2020</td>\n",
       "      <td>4</td>\n",
       "      <td>26</td>\n",
       "      <td>17</td>\n",
       "      <td>sustainable nation film showcases israeli water techsustainable nation documentary follows three israeli innovators applying israeli water technology solutions help waterstressed countries premier live online april pm edt pst pm idt available youtube amazon prime summer hourlong documentary imag...</td>\n",
       "    </tr>\n",
       "  </tbody>\n",
       "</table>\n",
       "</div>"
      ],
      "text/plain": [
       "                                 ID  \\\n",
       "0  7f9f2aea41caf2f034af9b5423abb95f   \n",
       "1  c812e0a3418d624ae60df3ec9e19d184   \n",
       "2  61268fb46585bba4ac828cc277b69ecb   \n",
       "3  d3e4f8a85f1c96d9839de642e856645f   \n",
       "4  879f738c66345cf45682fc3e2117e743   \n",
       "\n",
       "                                                                                            Titolo  \\\n",
       "0                                     investor group european oil gas major credible net zero plan   \n",
       "1                                                                     pandemic drone spot infected   \n",
       "2  europe green deal eu commission president ursula von der leyen announces europe man moon videos   \n",
       "3                                       green swans exponential decade conversation john elkington   \n",
       "4                                             sustainable nation film showcases israeli water tech   \n",
       "\n",
       "        Data                                                    Trend  Anno  \\\n",
       "0 2020-05-14  Circular Economy Sustainability and Zero Impact Economy  2020   \n",
       "1 2020-04-03                 Robotics and Human/Machine Hybridization  2020   \n",
       "2 2019-12-15                                        High Tech Farming  2019   \n",
       "3 2020-05-19                   Digital Politics and Smart Citizenship  2020   \n",
       "4 2020-04-26                                    Smart & Digital Water  2020   \n",
       "\n",
       "   Mese  Day Week  \\\n",
       "0     5   14   20   \n",
       "1     4    3   14   \n",
       "2    12   15   50   \n",
       "3     5   19   21   \n",
       "4     4   26   17   \n",
       "\n",
       "                                                                                                                                                                                                                                                                                                           Txt  \n",
       "0  investor group european oil gas major credible net zero plannone europes leading oil gas majors released credible plan achieving netzero emissions middle century despite recent declarations bp shell total others committed achieveing netzero status conclusion analysis influential transition pathw...  \n",
       "1  pandemic drone spot infectedspotted current climate major problems controlling pandemic covid knowing infected widespread disease area university south australia canada drone technology specialist draganfly inc teamed develop pandemic drone technology uses special sensors computer vision detect ...  \n",
       "2         europe green deal eu commission president ursula von der leyen announces europe man moon videosagriculture published december th cynthia shahan europe green deal eu commission president ursula von der leyen announces europe man moon videos twitter linkedin facebook december th cynthia shahan  \n",
       "3  green swans exponential decade conversation john elkingtonoptimism excitement despite ongoing global covid pandemic words center last weeks greenbiz webcast featured interview greenbiz executive editor joel makower john elkington addition executive chairman cofounder volans ventures authority co...  \n",
       "4  sustainable nation film showcases israeli water techsustainable nation documentary follows three israeli innovators applying israeli water technology solutions help waterstressed countries premier live online april pm edt pst pm idt available youtube amazon prime summer hourlong documentary imag...  "
      ]
     },
     "execution_count": 22,
     "metadata": {},
     "output_type": "execute_result"
    }
   ],
   "source": [
    "articoli.head()"
   ]
  },
  {
   "cell_type": "code",
   "execution_count": 23,
   "metadata": {},
   "outputs": [
    {
     "name": "stdout",
     "output_type": "stream",
     "text": [
      "Numero totale di articoli: 717\n"
     ]
    }
   ],
   "source": [
    "print (\"Numero totale di articoli: %d\" % len(articoli))"
   ]
  },
  {
   "cell_type": "markdown",
   "metadata": {
    "colab_type": "text",
    "id": "-27LekL_lqVR"
   },
   "source": [
    "## 3. Exploratory Analysis"
   ]
  },
  {
   "cell_type": "code",
   "execution_count": 24,
   "metadata": {},
   "outputs": [
    {
     "name": "stdout",
     "output_type": "stream",
     "text": [
      "Numero totale di trend: 34\n"
     ]
    },
    {
     "data": {
      "image/png": "[encoded data removed]",
      "text/plain": [
       "<Figure size 864x1080 with 1 Axes>"
      ]
     },
     "metadata": {
      "needs_background": "light"
     },
     "output_type": "display_data"
    }
   ],
   "source": [
    "print (\"Numero totale di trend: %d\" % len(articoli['Trend'].unique()))\n",
    "\n",
    "plt.figure(figsize=(12,15))\n",
    "ax=sns.countplot(articoli[\"Trend\"])\n",
    "ax.set_xticklabels(ax.get_xticklabels(), rotation=45, horizontalalignment='right')\n",
    "plt.show()"
   ]
  },
  {
   "cell_type": "code",
   "execution_count": 25,
   "metadata": {},
   "outputs": [
    {
     "data": {
      "text/plain": [
       "<Figure size 432x288 with 0 Axes>"
      ]
     },
     "metadata": {},
     "output_type": "display_data"
    },
    {
     "data": {
      "image/png": "[encoded data removed]",
      "text/plain": [
       "<Figure size 1440x1440 with 1 Axes>"
      ]
     },
     "metadata": {
      "needs_background": "light"
     },
     "output_type": "display_data"
    }
   ],
   "source": [
    "from wordcloud import WordCloud\n",
    "import matplotlib.pyplot as plt\n",
    "\n",
    "wordcloud = WordCloud(\n",
    "                          background_color='white',\n",
    "                          stopwords=stop_words,\n",
    "                          max_words=100,\n",
    "                          max_font_size=50, \n",
    "                          random_state=42\n",
    "                         ).generate(str(articoli['Txt']))\n",
    "\n",
    "fig = plt.figure(1)\n",
    "plt.figure(figsize=(20,20)) \n",
    "plt.imshow(wordcloud)\n",
    "plt.axis('off')\n",
    "plt.show()"
   ]
  },
  {
   "cell_type": "code",
   "execution_count": 26,
   "metadata": {},
   "outputs": [],
   "source": [
    "from sklearn.feature_extraction.text import CountVectorizer\n",
    "import re\n",
    "\n",
    "corpus = articoli['Txt']\n",
    "cv=CountVectorizer(max_df=0.8,stop_words=stop_words, max_features=10000, ngram_range=(1,3))\n",
    "X=cv.fit_transform(corpus)"
   ]
  },
  {
   "cell_type": "code",
   "execution_count": 27,
   "metadata": {},
   "outputs": [
    {
     "data": {
      "text/plain": [
       "['investor', 'group', 'european', 'oil', 'gas']"
      ]
     },
     "execution_count": 27,
     "metadata": {},
     "output_type": "execute_result"
    }
   ],
   "source": [
    "# TODO - List all and remove stopwords\n",
    "list(cv.vocabulary_.keys())[:5]"
   ]
  },
  {
   "cell_type": "code",
   "execution_count": 28,
   "metadata": {},
   "outputs": [],
   "source": [
    "#Most frequently occuring words\n",
    "def get_top_n_words(corpus, n=None):\n",
    "    vec = CountVectorizer().fit(corpus)\n",
    "    bag_of_words = vec.transform(corpus)\n",
    "    sum_words = bag_of_words.sum(axis=0) \n",
    "    words_freq = [(word, sum_words[0, idx]) for word, idx in      \n",
    "                   vec.vocabulary_.items()]\n",
    "    words_freq =sorted(words_freq, key = lambda x: x[1], \n",
    "                       reverse=True)\n",
    "    return words_freq[:n]"
   ]
  },
  {
   "cell_type": "code",
   "execution_count": 29,
   "metadata": {},
   "outputs": [],
   "source": [
    "#Most frequently occuring Bi-grams\n",
    "def get_top_n2_words(corpus, n=None):\n",
    "    vec1 = CountVectorizer(ngram_range=(2,2),  \n",
    "            max_features=2000).fit(corpus)\n",
    "    bag_of_words = vec1.transform(corpus)\n",
    "    sum_words = bag_of_words.sum(axis=0) \n",
    "    words_freq = [(word, sum_words[0, idx]) for word, idx in     \n",
    "                  vec1.vocabulary_.items()]\n",
    "    words_freq =sorted(words_freq, key = lambda x: x[1], \n",
    "                reverse=True)\n",
    "    return words_freq[:n]"
   ]
  },
  {
   "cell_type": "code",
   "execution_count": 30,
   "metadata": {},
   "outputs": [
    {
     "data": {
      "text/plain": [
       "[Text(0, 0, 'data'),\n",
       " Text(0, 0, 'people'),\n",
       " Text(0, 0, 'company'),\n",
       " Text(0, 0, 'energy'),\n",
       " Text(0, 0, 'technology'),\n",
       " Text(0, 0, 'covid'),\n",
       " Text(0, 0, 'work'),\n",
       " Text(0, 0, 'business'),\n",
       " Text(0, 0, 'need'),\n",
       " Text(0, 0, 'ai'),\n",
       " Text(0, 0, 'digital'),\n",
       " Text(0, 0, 'help'),\n",
       " Text(0, 0, 'customers'),\n",
       " Text(0, 0, 'water'),\n",
       " Text(0, 0, 'industry'),\n",
       " Text(0, 0, 'years'),\n",
       " Text(0, 0, 'percent'),\n",
       " Text(0, 0, 'global'),\n",
       " Text(0, 0, 'solar'),\n",
       " Text(0, 0, 'pandemic')]"
      ]
     },
     "execution_count": 30,
     "metadata": {},
     "output_type": "execute_result"
    },
    {
     "data": {
      "image/png": "[encoded data removed]",
      "text/plain": [
       "<Figure size 936x576 with 1 Axes>"
      ]
     },
     "metadata": {},
     "output_type": "display_data"
    }
   ],
   "source": [
    "#Convert most freq words to dataframe for plotting bar plot\n",
    "top_words = get_top_n_words(corpus, n=20)\n",
    "top_df = pd.DataFrame(top_words)\n",
    "top_df.columns=[\"Word\", \"Freq\"]\n",
    "\n",
    "#Barplot of most freq words\n",
    "import seaborn as sns\n",
    "sns.set(rc={'figure.figsize':(13,8)})\n",
    "g = sns.barplot(x=\"Word\", y=\"Freq\", data=top_df)\n",
    "g.set_xticklabels(g.get_xticklabels(), rotation=30)"
   ]
  },
  {
   "cell_type": "code",
   "execution_count": 31,
   "metadata": {
    "scrolled": true
   },
   "outputs": [
    {
     "data": {
      "text/plain": [
       "[Text(0, 0, 'renewable energy'),\n",
       " Text(0, 0, 'machine learning'),\n",
       " Text(0, 0, 'climate change'),\n",
       " Text(0, 0, 'united states'),\n",
       " Text(0, 0, 'supply chain'),\n",
       " Text(0, 0, 'twitter linkedin'),\n",
       " Text(0, 0, 'linkedin facebook'),\n",
       " Text(0, 0, 'open innovation'),\n",
       " Text(0, 0, 'artificial intelligence'),\n",
       " Text(0, 0, 'covid pandemic'),\n",
       " Text(0, 0, 'supply chains'),\n",
       " Text(0, 0, 'clean energy'),\n",
       " Text(0, 0, 'long term'),\n",
       " Text(0, 0, 'tesla model'),\n",
       " Text(0, 0, 'decision making'),\n",
       " Text(0, 0, 'vice president'),\n",
       " Text(0, 0, 'covid crisis'),\n",
       " Text(0, 0, 'public health'),\n",
       " Text(0, 0, 'social distancing'),\n",
       " Text(0, 0, 'deep learning')]"
      ]
     },
     "execution_count": 31,
     "metadata": {},
     "output_type": "execute_result"
    },
    {
     "data": {
      "image/png": "[encoded data removed]",
      "text/plain": [
       "<Figure size 936x576 with 1 Axes>"
      ]
     },
     "metadata": {},
     "output_type": "display_data"
    }
   ],
   "source": [
    "top2_words = get_top_n2_words(corpus, n=20)\n",
    "top2_df = pd.DataFrame(top2_words)\n",
    "top2_df.columns=[\"Bi-gram\", \"Freq\"]\n",
    "#print(top2_df)\n",
    "\n",
    "#Barplot of most freq Bi-grams\n",
    "import seaborn as sns\n",
    "sns.set(rc={'figure.figsize':(13,8)})\n",
    "h = sns.barplot(x=\"Bi-gram\", y=\"Freq\", data=top2_df)\n",
    "h.set_xticklabels(h.get_xticklabels(), rotation=45)"
   ]
  },
  {
   "cell_type": "markdown",
   "metadata": {
    "colab_type": "text",
    "id": "-27LekL_lqVR"
   },
   "source": [
    "## 5. Extract keywords for each row"
   ]
  },
  {
   "cell_type": "code",
   "execution_count": 32,
   "metadata": {},
   "outputs": [],
   "source": [
    "#https://medium.com/analytics-vidhya/automated-keyword-extraction-from-articles-using-nlp-bfd864f41b34\n",
    "from sklearn.feature_extraction.text import TfidfTransformer\n",
    " \n",
    "tfidf_transformer=TfidfTransformer(smooth_idf=True,use_idf=True)\n",
    "tfidf_transformer.fit(X)\n",
    "\n",
    "# get feature names\n",
    "feature_names=cv.get_feature_names()"
   ]
  },
  {
   "cell_type": "code",
   "execution_count": 33,
   "metadata": {},
   "outputs": [],
   "source": [
    "#Function for sorting tf_idf in descending order\n",
    "from scipy.sparse import coo_matrix\n",
    "def sort_coo(coo_matrix):\n",
    "    tuples = zip(coo_matrix.col, coo_matrix.data)\n",
    "    return sorted(tuples, key=lambda x: (x[1], x[0]), reverse=True)\n",
    " \n",
    "def extract_topn_from_vector(feature_names, sorted_items, topn=10):\n",
    "    \"\"\"get the feature names and tf-idf score of top n items\"\"\"\n",
    "    \n",
    "    #use only topn items from vector\n",
    "    sorted_items = sorted_items[:topn]\n",
    " \n",
    "    score_vals = []\n",
    "    feature_vals = []\n",
    "    \n",
    "    # word index and corresponding tf-idf score\n",
    "    for idx, score in sorted_items:\n",
    "        \n",
    "        #keep track of feature name and its corresponding score\n",
    "        score_vals.append(round(score, 3))\n",
    "        feature_vals.append(feature_names[idx])\n",
    " \n",
    "    #create a tuples of feature,score\n",
    "    #results = zip(feature_vals,score_vals)\n",
    "    results= {}\n",
    "    for idx in range(len(feature_vals)):\n",
    "        results[feature_vals[idx]]=score_vals[idx]\n",
    "    \n",
    "    return results"
   ]
  },
  {
   "cell_type": "code",
   "execution_count": 34,
   "metadata": {},
   "outputs": [
    {
     "data": {
      "text/plain": [
       "'drone,detect,respiratory,infected,heart,pandemic,innovations,computer,rate,technology,teamed,airports,breathing,inc,detecting,controlling,wellbeing,specialist,persons,unveiled,movements,knowing,sensing,cruise,computer vision'"
      ]
     },
     "execution_count": 34,
     "metadata": {},
     "output_type": "execute_result"
    }
   ],
   "source": [
    "def extract_keys_for_row(doc, n):  \n",
    "    #generate tf-idf for the given document\n",
    "    tf_idf_vector=tfidf_transformer.transform(cv.transform([doc]))\n",
    "\n",
    "    #sort the tf-idf vectors by descending order of scores\n",
    "    sorted_items=sort_coo(tf_idf_vector.tocoo())\n",
    "    \n",
    "    #extract only the top n\n",
    "    keywords=extract_topn_from_vector(feature_names,sorted_items, n)\n",
    "    \n",
    "    kw = []\n",
    "    for k in keywords:\n",
    "        kw.append(k)\n",
    "        \n",
    "    return \",\".join(kw)\n",
    "        \n",
    "extract_keys_for_row(articoli['Txt'][1], 25)"
   ]
  },
  {
   "cell_type": "code",
   "execution_count": 35,
   "metadata": {},
   "outputs": [
    {
     "data": {
      "text/html": [
       "<div>\n",
       "<style scoped>\n",
       "    .dataframe tbody tr th:only-of-type {\n",
       "        vertical-align: middle;\n",
       "    }\n",
       "\n",
       "    .dataframe tbody tr th {\n",
       "        vertical-align: top;\n",
       "    }\n",
       "\n",
       "    .dataframe thead th {\n",
       "        text-align: right;\n",
       "    }\n",
       "</style>\n",
       "<table border=\"1\" class=\"dataframe\">\n",
       "  <thead>\n",
       "    <tr style=\"text-align: right;\">\n",
       "      <th></th>\n",
       "      <th>ID</th>\n",
       "      <th>Titolo</th>\n",
       "      <th>Data</th>\n",
       "      <th>Trend</th>\n",
       "      <th>Anno</th>\n",
       "      <th>Mese</th>\n",
       "      <th>Day</th>\n",
       "      <th>Week</th>\n",
       "      <th>Txt</th>\n",
       "      <th>Keywords</th>\n",
       "    </tr>\n",
       "  </thead>\n",
       "  <tbody>\n",
       "    <tr>\n",
       "      <th>0</th>\n",
       "      <td>7f9f2aea41caf2f034af9b5423abb95f</td>\n",
       "      <td>investor group european oil gas major credible net zero plan</td>\n",
       "      <td>2020-05-14</td>\n",
       "      <td>Circular Economy Sustainability and Zero Impact Economy</td>\n",
       "      <td>2020</td>\n",
       "      <td>5</td>\n",
       "      <td>14</td>\n",
       "      <td>20</td>\n",
       "      <td>investor group european oil gas major credible net zero plannone europes leading oil gas majors released credible plan achieving netzero emissions middle century despite recent declarations bp shell total others committed achieveing netzero status conclusion analysis influential transition pathw...</td>\n",
       "      <td>netzero,oil,tpi,oil gas,emissions</td>\n",
       "    </tr>\n",
       "    <tr>\n",
       "      <th>1</th>\n",
       "      <td>c812e0a3418d624ae60df3ec9e19d184</td>\n",
       "      <td>pandemic drone spot infected</td>\n",
       "      <td>2020-04-03</td>\n",
       "      <td>Robotics and Human/Machine Hybridization</td>\n",
       "      <td>2020</td>\n",
       "      <td>4</td>\n",
       "      <td>3</td>\n",
       "      <td>14</td>\n",
       "      <td>pandemic drone spot infectedspotted current climate major problems controlling pandemic covid knowing infected widespread disease area university south australia canada drone technology specialist draganfly inc teamed develop pandemic drone technology uses special sensors computer vision detect ...</td>\n",
       "      <td>drone,detect,respiratory,infected,heart</td>\n",
       "    </tr>\n",
       "    <tr>\n",
       "      <th>2</th>\n",
       "      <td>61268fb46585bba4ac828cc277b69ecb</td>\n",
       "      <td>europe green deal eu commission president ursula von der leyen announces europe man moon videos</td>\n",
       "      <td>2019-12-15</td>\n",
       "      <td>High Tech Farming</td>\n",
       "      <td>2019</td>\n",
       "      <td>12</td>\n",
       "      <td>15</td>\n",
       "      <td>50</td>\n",
       "      <td>europe green deal eu commission president ursula von der leyen announces europe man moon videosagriculture published december th cynthia shahan europe green deal eu commission president ursula von der leyen announces europe man moon videos twitter linkedin facebook december th cynthia shahan</td>\n",
       "      <td>europe,von,december th cynthia,man,announces</td>\n",
       "    </tr>\n",
       "    <tr>\n",
       "      <th>3</th>\n",
       "      <td>d3e4f8a85f1c96d9839de642e856645f</td>\n",
       "      <td>green swans exponential decade conversation john elkington</td>\n",
       "      <td>2020-05-19</td>\n",
       "      <td>Digital Politics and Smart Citizenship</td>\n",
       "      <td>2020</td>\n",
       "      <td>5</td>\n",
       "      <td>19</td>\n",
       "      <td>21</td>\n",
       "      <td>green swans exponential decade conversation john elkingtonoptimism excitement despite ongoing global covid pandemic words center last weeks greenbiz webcast featured interview greenbiz executive editor joel makower john elkington addition executive chairman cofounder volans ventures authority co...</td>\n",
       "      <td>elkington,swans,green swans,green,swan</td>\n",
       "    </tr>\n",
       "    <tr>\n",
       "      <th>4</th>\n",
       "      <td>879f738c66345cf45682fc3e2117e743</td>\n",
       "      <td>sustainable nation film showcases israeli water tech</td>\n",
       "      <td>2020-04-26</td>\n",
       "      <td>Smart &amp; Digital Water</td>\n",
       "      <td>2020</td>\n",
       "      <td>4</td>\n",
       "      <td>26</td>\n",
       "      <td>17</td>\n",
       "      <td>sustainable nation film showcases israeli water techsustainable nation documentary follows three israeli innovators applying israeli water technology solutions help waterstressed countries premier live online april pm edt pst pm idt available youtube amazon prime summer hourlong documentary imag...</td>\n",
       "      <td>film,nation,israel,water,sustainable</td>\n",
       "    </tr>\n",
       "  </tbody>\n",
       "</table>\n",
       "</div>"
      ],
      "text/plain": [
       "                                 ID  \\\n",
       "0  7f9f2aea41caf2f034af9b5423abb95f   \n",
       "1  c812e0a3418d624ae60df3ec9e19d184   \n",
       "2  61268fb46585bba4ac828cc277b69ecb   \n",
       "3  d3e4f8a85f1c96d9839de642e856645f   \n",
       "4  879f738c66345cf45682fc3e2117e743   \n",
       "\n",
       "                                                                                            Titolo  \\\n",
       "0                                     investor group european oil gas major credible net zero plan   \n",
       "1                                                                     pandemic drone spot infected   \n",
       "2  europe green deal eu commission president ursula von der leyen announces europe man moon videos   \n",
       "3                                       green swans exponential decade conversation john elkington   \n",
       "4                                             sustainable nation film showcases israeli water tech   \n",
       "\n",
       "        Data                                                    Trend  Anno  \\\n",
       "0 2020-05-14  Circular Economy Sustainability and Zero Impact Economy  2020   \n",
       "1 2020-04-03                 Robotics and Human/Machine Hybridization  2020   \n",
       "2 2019-12-15                                        High Tech Farming  2019   \n",
       "3 2020-05-19                   Digital Politics and Smart Citizenship  2020   \n",
       "4 2020-04-26                                    Smart & Digital Water  2020   \n",
       "\n",
       "   Mese  Day Week  \\\n",
       "0     5   14   20   \n",
       "1     4    3   14   \n",
       "2    12   15   50   \n",
       "3     5   19   21   \n",
       "4     4   26   17   \n",
       "\n",
       "                                                                                                                                                                                                                                                                                                           Txt  \\\n",
       "0  investor group european oil gas major credible net zero plannone europes leading oil gas majors released credible plan achieving netzero emissions middle century despite recent declarations bp shell total others committed achieveing netzero status conclusion analysis influential transition pathw...   \n",
       "1  pandemic drone spot infectedspotted current climate major problems controlling pandemic covid knowing infected widespread disease area university south australia canada drone technology specialist draganfly inc teamed develop pandemic drone technology uses special sensors computer vision detect ...   \n",
       "2         europe green deal eu commission president ursula von der leyen announces europe man moon videosagriculture published december th cynthia shahan europe green deal eu commission president ursula von der leyen announces europe man moon videos twitter linkedin facebook december th cynthia shahan   \n",
       "3  green swans exponential decade conversation john elkingtonoptimism excitement despite ongoing global covid pandemic words center last weeks greenbiz webcast featured interview greenbiz executive editor joel makower john elkington addition executive chairman cofounder volans ventures authority co...   \n",
       "4  sustainable nation film showcases israeli water techsustainable nation documentary follows three israeli innovators applying israeli water technology solutions help waterstressed countries premier live online april pm edt pst pm idt available youtube amazon prime summer hourlong documentary imag...   \n",
       "\n",
       "                                       Keywords  \n",
       "0             netzero,oil,tpi,oil gas,emissions  \n",
       "1       drone,detect,respiratory,infected,heart  \n",
       "2  europe,von,december th cynthia,man,announces  \n",
       "3        elkington,swans,green swans,green,swan  \n",
       "4          film,nation,israel,water,sustainable  "
      ]
     },
     "execution_count": 35,
     "metadata": {},
     "output_type": "execute_result"
    }
   ],
   "source": [
    "# TODO whitelisting for useful words?\n",
    "# original -> 25 words\n",
    "articoli['Keywords'] = articoli['Txt'].apply(lambda x: extract_keys_for_row(x,5))\n",
    "articoli.head()"
   ]
  },
  {
   "cell_type": "code",
   "execution_count": 36,
   "metadata": {},
   "outputs": [
    {
     "name": "stdout",
     "output_type": "stream",
     "text": [
      "Numero totale di articoli: 717\n"
     ]
    }
   ],
   "source": [
    "print (\"Numero totale di articoli: %d\" % len(articoli))"
   ]
  },
  {
   "cell_type": "code",
   "execution_count": 37,
   "metadata": {},
   "outputs": [],
   "source": [
    "# per Art Tags\n",
    "#articoli.to_csv('articoli-keyword.csv', sep=\";\") "
   ]
  },
  {
   "cell_type": "markdown",
   "metadata": {
    "colab_type": "text",
    "id": "-27LekL_lqVR"
   },
   "source": [
    "## 5. Merge with manual tags"
   ]
  },
  {
   "cell_type": "code",
   "execution_count": 38,
   "metadata": {},
   "outputs": [
    {
     "data": {
      "text/html": [
       "<div>\n",
       "<style scoped>\n",
       "    .dataframe tbody tr th:only-of-type {\n",
       "        vertical-align: middle;\n",
       "    }\n",
       "\n",
       "    .dataframe tbody tr th {\n",
       "        vertical-align: top;\n",
       "    }\n",
       "\n",
       "    .dataframe thead th {\n",
       "        text-align: right;\n",
       "    }\n",
       "</style>\n",
       "<table border=\"1\" class=\"dataframe\">\n",
       "  <thead>\n",
       "    <tr style=\"text-align: right;\">\n",
       "      <th></th>\n",
       "      <th>ID</th>\n",
       "      <th>Tags</th>\n",
       "      <th>Tech</th>\n",
       "      <th>Company</th>\n",
       "      <th>Vertical</th>\n",
       "      <th>Application</th>\n",
       "      <th>Location</th>\n",
       "      <th>Tag</th>\n",
       "    </tr>\n",
       "  </thead>\n",
       "  <tbody>\n",
       "    <tr>\n",
       "      <th>0</th>\n",
       "      <td>c812e0a3418d624ae60df3ec9e19d184</td>\n",
       "      <td>Tech: Drones</td>\n",
       "      <td>Drones</td>\n",
       "      <td></td>\n",
       "      <td></td>\n",
       "      <td></td>\n",
       "      <td></td>\n",
       "      <td></td>\n",
       "    </tr>\n",
       "    <tr>\n",
       "      <th>1</th>\n",
       "      <td>0e2ef6bd7619374e0531d1551ab2141e</td>\n",
       "      <td>Company: Adobe, Vertical: Advertising</td>\n",
       "      <td></td>\n",
       "      <td>Adobe</td>\n",
       "      <td>Advertising</td>\n",
       "      <td></td>\n",
       "      <td></td>\n",
       "      <td></td>\n",
       "    </tr>\n",
       "    <tr>\n",
       "      <th>2</th>\n",
       "      <td>8602d8791a1754506303dcfd9a7b79e3</td>\n",
       "      <td></td>\n",
       "      <td></td>\n",
       "      <td></td>\n",
       "      <td></td>\n",
       "      <td></td>\n",
       "      <td></td>\n",
       "      <td></td>\n",
       "    </tr>\n",
       "    <tr>\n",
       "      <th>3</th>\n",
       "      <td>2157ac6d12e063b6a38c5c0491e0b322</td>\n",
       "      <td>Tag: Future</td>\n",
       "      <td></td>\n",
       "      <td></td>\n",
       "      <td></td>\n",
       "      <td></td>\n",
       "      <td></td>\n",
       "      <td>Future</td>\n",
       "    </tr>\n",
       "    <tr>\n",
       "      <th>4</th>\n",
       "      <td>89390733d3f9e1f30bae53de5e2d8a04</td>\n",
       "      <td></td>\n",
       "      <td></td>\n",
       "      <td></td>\n",
       "      <td></td>\n",
       "      <td></td>\n",
       "      <td></td>\n",
       "      <td></td>\n",
       "    </tr>\n",
       "  </tbody>\n",
       "</table>\n",
       "</div>"
      ],
      "text/plain": [
       "                                 ID                                   Tags  \\\n",
       "0  c812e0a3418d624ae60df3ec9e19d184                           Tech: Drones   \n",
       "1  0e2ef6bd7619374e0531d1551ab2141e  Company: Adobe, Vertical: Advertising   \n",
       "2  8602d8791a1754506303dcfd9a7b79e3                                          \n",
       "3  2157ac6d12e063b6a38c5c0491e0b322                            Tag: Future   \n",
       "4  89390733d3f9e1f30bae53de5e2d8a04                                          \n",
       "\n",
       "     Tech Company     Vertical Application Location     Tag  \n",
       "0  Drones                                                    \n",
       "1           Adobe  Advertising                               \n",
       "2                                                            \n",
       "3                                                    Future  \n",
       "4                                                            "
      ]
     },
     "execution_count": 38,
     "metadata": {},
     "output_type": "execute_result"
    }
   ],
   "source": [
    "tags = pd.read_csv('2 - Articles With Tags V2.csv', sep=\";\")\n",
    "tags = tags.replace(np.nan, '', regex=True)\n",
    "del (tags[\"Unnamed: 0\"])\n",
    "del (tags[\"Titolo\"])\n",
    "del (tags[\"Trend\"])\n",
    "#del (tags[\"Tags\"])\n",
    "tags.head()"
   ]
  },
  {
   "cell_type": "code",
   "execution_count": 39,
   "metadata": {},
   "outputs": [],
   "source": [
    "articolitaggati = pd.merge(articoli, tags, on = 'ID', how='left')"
   ]
  },
  {
   "cell_type": "code",
   "execution_count": 40,
   "metadata": {},
   "outputs": [
    {
     "data": {
      "text/html": [
       "<div>\n",
       "<style scoped>\n",
       "    .dataframe tbody tr th:only-of-type {\n",
       "        vertical-align: middle;\n",
       "    }\n",
       "\n",
       "    .dataframe tbody tr th {\n",
       "        vertical-align: top;\n",
       "    }\n",
       "\n",
       "    .dataframe thead th {\n",
       "        text-align: right;\n",
       "    }\n",
       "</style>\n",
       "<table border=\"1\" class=\"dataframe\">\n",
       "  <thead>\n",
       "    <tr style=\"text-align: right;\">\n",
       "      <th></th>\n",
       "      <th>ID</th>\n",
       "      <th>Titolo</th>\n",
       "      <th>Data</th>\n",
       "      <th>Trend</th>\n",
       "      <th>Anno</th>\n",
       "      <th>Mese</th>\n",
       "      <th>Day</th>\n",
       "      <th>Week</th>\n",
       "      <th>Txt</th>\n",
       "      <th>Keywords</th>\n",
       "      <th>Tags</th>\n",
       "      <th>Tech</th>\n",
       "      <th>Company</th>\n",
       "      <th>Vertical</th>\n",
       "      <th>Application</th>\n",
       "      <th>Location</th>\n",
       "      <th>Tag</th>\n",
       "    </tr>\n",
       "  </thead>\n",
       "  <tbody>\n",
       "    <tr>\n",
       "      <th>0</th>\n",
       "      <td>7f9f2aea41caf2f034af9b5423abb95f</td>\n",
       "      <td>investor group european oil gas major credible net zero plan</td>\n",
       "      <td>2020-05-14</td>\n",
       "      <td>Circular Economy Sustainability and Zero Impact Economy</td>\n",
       "      <td>2020</td>\n",
       "      <td>5</td>\n",
       "      <td>14</td>\n",
       "      <td>20</td>\n",
       "      <td>investor group european oil gas major credible net zero plannone europes leading oil gas majors released credible plan achieving netzero emissions middle century despite recent declarations bp shell total others committed achieveing netzero status conclusion analysis influential transition pathw...</td>\n",
       "      <td>netzero,oil,tpi,oil gas,emissions</td>\n",
       "      <td>NaN</td>\n",
       "      <td>NaN</td>\n",
       "      <td>NaN</td>\n",
       "      <td>NaN</td>\n",
       "      <td>NaN</td>\n",
       "      <td>NaN</td>\n",
       "      <td>NaN</td>\n",
       "    </tr>\n",
       "    <tr>\n",
       "      <th>1</th>\n",
       "      <td>c812e0a3418d624ae60df3ec9e19d184</td>\n",
       "      <td>pandemic drone spot infected</td>\n",
       "      <td>2020-04-03</td>\n",
       "      <td>Robotics and Human/Machine Hybridization</td>\n",
       "      <td>2020</td>\n",
       "      <td>4</td>\n",
       "      <td>3</td>\n",
       "      <td>14</td>\n",
       "      <td>pandemic drone spot infectedspotted current climate major problems controlling pandemic covid knowing infected widespread disease area university south australia canada drone technology specialist draganfly inc teamed develop pandemic drone technology uses special sensors computer vision detect ...</td>\n",
       "      <td>drone,detect,respiratory,infected,heart</td>\n",
       "      <td>Tech: Drones</td>\n",
       "      <td>Drones</td>\n",
       "      <td></td>\n",
       "      <td></td>\n",
       "      <td></td>\n",
       "      <td></td>\n",
       "      <td></td>\n",
       "    </tr>\n",
       "    <tr>\n",
       "      <th>2</th>\n",
       "      <td>61268fb46585bba4ac828cc277b69ecb</td>\n",
       "      <td>europe green deal eu commission president ursula von der leyen announces europe man moon videos</td>\n",
       "      <td>2019-12-15</td>\n",
       "      <td>High Tech Farming</td>\n",
       "      <td>2019</td>\n",
       "      <td>12</td>\n",
       "      <td>15</td>\n",
       "      <td>50</td>\n",
       "      <td>europe green deal eu commission president ursula von der leyen announces europe man moon videosagriculture published december th cynthia shahan europe green deal eu commission president ursula von der leyen announces europe man moon videos twitter linkedin facebook december th cynthia shahan</td>\n",
       "      <td>europe,von,december th cynthia,man,announces</td>\n",
       "      <td>NaN</td>\n",
       "      <td>NaN</td>\n",
       "      <td>NaN</td>\n",
       "      <td>NaN</td>\n",
       "      <td>NaN</td>\n",
       "      <td>NaN</td>\n",
       "      <td>NaN</td>\n",
       "    </tr>\n",
       "    <tr>\n",
       "      <th>3</th>\n",
       "      <td>d3e4f8a85f1c96d9839de642e856645f</td>\n",
       "      <td>green swans exponential decade conversation john elkington</td>\n",
       "      <td>2020-05-19</td>\n",
       "      <td>Digital Politics and Smart Citizenship</td>\n",
       "      <td>2020</td>\n",
       "      <td>5</td>\n",
       "      <td>19</td>\n",
       "      <td>21</td>\n",
       "      <td>green swans exponential decade conversation john elkingtonoptimism excitement despite ongoing global covid pandemic words center last weeks greenbiz webcast featured interview greenbiz executive editor joel makower john elkington addition executive chairman cofounder volans ventures authority co...</td>\n",
       "      <td>elkington,swans,green swans,green,swan</td>\n",
       "      <td>NaN</td>\n",
       "      <td>NaN</td>\n",
       "      <td>NaN</td>\n",
       "      <td>NaN</td>\n",
       "      <td>NaN</td>\n",
       "      <td>NaN</td>\n",
       "      <td>NaN</td>\n",
       "    </tr>\n",
       "    <tr>\n",
       "      <th>4</th>\n",
       "      <td>879f738c66345cf45682fc3e2117e743</td>\n",
       "      <td>sustainable nation film showcases israeli water tech</td>\n",
       "      <td>2020-04-26</td>\n",
       "      <td>Smart &amp; Digital Water</td>\n",
       "      <td>2020</td>\n",
       "      <td>4</td>\n",
       "      <td>26</td>\n",
       "      <td>17</td>\n",
       "      <td>sustainable nation film showcases israeli water techsustainable nation documentary follows three israeli innovators applying israeli water technology solutions help waterstressed countries premier live online april pm edt pst pm idt available youtube amazon prime summer hourlong documentary imag...</td>\n",
       "      <td>film,nation,israel,water,sustainable</td>\n",
       "      <td>NaN</td>\n",
       "      <td>NaN</td>\n",
       "      <td>NaN</td>\n",
       "      <td>NaN</td>\n",
       "      <td>NaN</td>\n",
       "      <td>NaN</td>\n",
       "      <td>NaN</td>\n",
       "    </tr>\n",
       "  </tbody>\n",
       "</table>\n",
       "</div>"
      ],
      "text/plain": [
       "                                 ID  \\\n",
       "0  7f9f2aea41caf2f034af9b5423abb95f   \n",
       "1  c812e0a3418d624ae60df3ec9e19d184   \n",
       "2  61268fb46585bba4ac828cc277b69ecb   \n",
       "3  d3e4f8a85f1c96d9839de642e856645f   \n",
       "4  879f738c66345cf45682fc3e2117e743   \n",
       "\n",
       "                                                                                            Titolo  \\\n",
       "0                                     investor group european oil gas major credible net zero plan   \n",
       "1                                                                     pandemic drone spot infected   \n",
       "2  europe green deal eu commission president ursula von der leyen announces europe man moon videos   \n",
       "3                                       green swans exponential decade conversation john elkington   \n",
       "4                                             sustainable nation film showcases israeli water tech   \n",
       "\n",
       "        Data                                                    Trend  Anno  \\\n",
       "0 2020-05-14  Circular Economy Sustainability and Zero Impact Economy  2020   \n",
       "1 2020-04-03                 Robotics and Human/Machine Hybridization  2020   \n",
       "2 2019-12-15                                        High Tech Farming  2019   \n",
       "3 2020-05-19                   Digital Politics and Smart Citizenship  2020   \n",
       "4 2020-04-26                                    Smart & Digital Water  2020   \n",
       "\n",
       "   Mese  Day Week  \\\n",
       "0     5   14   20   \n",
       "1     4    3   14   \n",
       "2    12   15   50   \n",
       "3     5   19   21   \n",
       "4     4   26   17   \n",
       "\n",
       "                                                                                                                                                                                                                                                                                                           Txt  \\\n",
       "0  investor group european oil gas major credible net zero plannone europes leading oil gas majors released credible plan achieving netzero emissions middle century despite recent declarations bp shell total others committed achieveing netzero status conclusion analysis influential transition pathw...   \n",
       "1  pandemic drone spot infectedspotted current climate major problems controlling pandemic covid knowing infected widespread disease area university south australia canada drone technology specialist draganfly inc teamed develop pandemic drone technology uses special sensors computer vision detect ...   \n",
       "2         europe green deal eu commission president ursula von der leyen announces europe man moon videosagriculture published december th cynthia shahan europe green deal eu commission president ursula von der leyen announces europe man moon videos twitter linkedin facebook december th cynthia shahan   \n",
       "3  green swans exponential decade conversation john elkingtonoptimism excitement despite ongoing global covid pandemic words center last weeks greenbiz webcast featured interview greenbiz executive editor joel makower john elkington addition executive chairman cofounder volans ventures authority co...   \n",
       "4  sustainable nation film showcases israeli water techsustainable nation documentary follows three israeli innovators applying israeli water technology solutions help waterstressed countries premier live online april pm edt pst pm idt available youtube amazon prime summer hourlong documentary imag...   \n",
       "\n",
       "                                       Keywords          Tags    Tech Company  \\\n",
       "0             netzero,oil,tpi,oil gas,emissions           NaN     NaN     NaN   \n",
       "1       drone,detect,respiratory,infected,heart  Tech: Drones  Drones           \n",
       "2  europe,von,december th cynthia,man,announces           NaN     NaN     NaN   \n",
       "3        elkington,swans,green swans,green,swan           NaN     NaN     NaN   \n",
       "4          film,nation,israel,water,sustainable           NaN     NaN     NaN   \n",
       "\n",
       "  Vertical Application Location  Tag  \n",
       "0      NaN         NaN      NaN  NaN  \n",
       "1                                     \n",
       "2      NaN         NaN      NaN  NaN  \n",
       "3      NaN         NaN      NaN  NaN  \n",
       "4      NaN         NaN      NaN  NaN  "
      ]
     },
     "execution_count": 40,
     "metadata": {},
     "output_type": "execute_result"
    }
   ],
   "source": [
    "articolitaggati.head()"
   ]
  },
  {
   "cell_type": "code",
   "execution_count": 41,
   "metadata": {},
   "outputs": [
    {
     "name": "stdout",
     "output_type": "stream",
     "text": [
      "Numero totale di articoli: 741\n"
     ]
    }
   ],
   "source": [
    "print (\"Numero totale di articoli: %d\" % len(articolitaggati))"
   ]
  },
  {
   "cell_type": "code",
   "execution_count": 42,
   "metadata": {},
   "outputs": [],
   "source": [
    "#TODO CI SONO DUPLICATI\n",
    "articolitaggati.to_csv('Articoli Taggati v8.csv', sep=\";\")"
   ]
  },
  {
   "cell_type": "markdown",
   "metadata": {
    "colab_type": "text",
    "id": "-27LekL_lqVR"
   },
   "source": [
    "## 6. Train classification model"
   ]
  },
  {
   "cell_type": "code",
   "execution_count": 43,
   "metadata": {},
   "outputs": [
    {
     "data": {
      "text/plain": [
       "MultiLabelBinarizer(classes=None, sparse_output=False)"
      ]
     },
     "execution_count": 43,
     "metadata": {},
     "output_type": "execute_result"
    }
   ],
   "source": [
    "# convert text to features\n",
    "from sklearn.preprocessing import MultiLabelBinarizer\n",
    "\n",
    "multilabel_binarizer = MultiLabelBinarizer()\n",
    "multilabel_binarizer.fit(articoli['Trend'])"
   ]
  },
  {
   "cell_type": "code",
   "execution_count": 44,
   "metadata": {},
   "outputs": [],
   "source": [
    "from sklearn.feature_extraction.text import TfidfVectorizer\n",
    "tfidfconverter = TfidfVectorizer(min_df=5, max_df=0.7, stop_words=stop_words)\n",
    "X = tfidfconverter.fit_transform(articoli['Txt']).toarray()"
   ]
  },
  {
   "cell_type": "code",
   "execution_count": 45,
   "metadata": {},
   "outputs": [],
   "source": [
    "# https://stackabuse.com/text-classification-with-python-and-scikit-learn/\n",
    "# INTERESTING FOR SAVING MODEL\n",
    "from pandas import Series\n",
    "y = Series(articoli['Trend']).values"
   ]
  },
  {
   "cell_type": "code",
   "execution_count": 46,
   "metadata": {},
   "outputs": [],
   "source": [
    "from sklearn.model_selection import train_test_split\n",
    "X_train, X_test, y_train, y_test = train_test_split(X, y, test_size=0.2, random_state=0)"
   ]
  },
  {
   "cell_type": "code",
   "execution_count": 47,
   "metadata": {},
   "outputs": [
    {
     "data": {
      "text/plain": [
       "RandomForestClassifier(bootstrap=True, ccp_alpha=0.0, class_weight=None,\n",
       "                       criterion='gini', max_depth=None, max_features='auto',\n",
       "                       max_leaf_nodes=None, max_samples=None,\n",
       "                       min_impurity_decrease=0.0, min_impurity_split=None,\n",
       "                       min_samples_leaf=1, min_samples_split=2,\n",
       "                       min_weight_fraction_leaf=0.0, n_estimators=1000,\n",
       "                       n_jobs=None, oob_score=False, random_state=0, verbose=0,\n",
       "                       warm_start=False)"
      ]
     },
     "execution_count": 47,
     "metadata": {},
     "output_type": "execute_result"
    }
   ],
   "source": [
    "from sklearn.ensemble import RandomForestClassifier\n",
    "classifier = RandomForestClassifier(n_estimators=1000, random_state=0)\n",
    "classifier.fit(X_train, y_train) "
   ]
  },
  {
   "cell_type": "code",
   "execution_count": 48,
   "metadata": {},
   "outputs": [],
   "source": [
    "y_pred = classifier.predict(X_test)"
   ]
  },
  {
   "cell_type": "code",
   "execution_count": 49,
   "metadata": {},
   "outputs": [],
   "source": [
    "from sklearn.metrics import classification_report, confusion_matrix, accuracy_score\n",
    "#print(confusion_matrix(y_test,y_pred))"
   ]
  },
  {
   "cell_type": "code",
   "execution_count": 50,
   "metadata": {
    "scrolled": true
   },
   "outputs": [],
   "source": [
    "#print(classification_report(y_test,y_pred))"
   ]
  },
  {
   "cell_type": "code",
   "execution_count": 51,
   "metadata": {},
   "outputs": [
    {
     "name": "stdout",
     "output_type": "stream",
     "text": [
      "Accuracy of model: 0.500000\n"
     ]
    }
   ],
   "source": [
    "print(\"Accuracy of model: %f\" % accuracy_score(y_test, y_pred))"
   ]
  },
  {
   "cell_type": "code",
   "execution_count": null,
   "metadata": {},
   "outputs": [],
   "source": []
  },
  {
   "cell_type": "markdown",
   "metadata": {
    "colab_type": "text",
    "id": "-27LekL_lqVR"
   },
   "source": [
    "## 7. Test classification model with completely different dataset"
   ]
  },
  {
   "cell_type": "code",
   "execution_count": 52,
   "metadata": {},
   "outputs": [
    {
     "data": {
      "text/html": [
       "<div>\n",
       "<style scoped>\n",
       "    .dataframe tbody tr th:only-of-type {\n",
       "        vertical-align: middle;\n",
       "    }\n",
       "\n",
       "    .dataframe tbody tr th {\n",
       "        vertical-align: top;\n",
       "    }\n",
       "\n",
       "    .dataframe thead th {\n",
       "        text-align: right;\n",
       "    }\n",
       "</style>\n",
       "<table border=\"1\" class=\"dataframe\">\n",
       "  <thead>\n",
       "    <tr style=\"text-align: right;\">\n",
       "      <th></th>\n",
       "      <th>Nome</th>\n",
       "      <th>Text</th>\n",
       "    </tr>\n",
       "  </thead>\n",
       "  <tbody>\n",
       "    <tr>\n",
       "      <th>0</th>\n",
       "      <td>1CONTROL</td>\n",
       "      <td>control a startup born from idea to revolutionize and simplify the world of iot products for the smart home has created a wireless device that allows you to replace easily the remote controls for gates and garage through an app on your smartphone</td>\n",
       "    </tr>\n",
       "    <tr>\n",
       "      <th>1</th>\n",
       "      <td>200CROWD</td>\n",
       "      <td>two hundred crowd an equity portal crowdfunding authorized by Consob that allows you to easily invest in private companies not listed and the only in Italy to use a syndication model based on co investment by retail investors and a network of qualified investors such as business angels, venture ...</td>\n",
       "    </tr>\n",
       "    <tr>\n",
       "      <th>2</th>\n",
       "      <td>2MANYAPPS</td>\n",
       "      <td>manyapps manyapps a web marketing agency focused on influencers and brand the startup is to create and develop campaigns to influencer marketing to create app-specific influencers manage social Shopster https socialshopster with an e commerce dedicated to the influencer world manyapps weather co...</td>\n",
       "    </tr>\n",
       "    <tr>\n",
       "      <th>3</th>\n",
       "      <td>4 GIFTERS</td>\n",
       "      <td>gifters gifters a and gifting that allows you to make real-time gifts can choose their own gift from proposals for top brand just enter the e mail address or phone number of the birthday you will receive a gift code can also take advantage of the gift team service platform that joins friends to ...</td>\n",
       "    </tr>\n",
       "    <tr>\n",
       "      <th>4</th>\n",
       "      <td>ABIBY</td>\n",
       "      <td>abiby abiby a startup that select the best products to make up and cosmetics by sending monthly home beauty box all this is done in a very simple and need to select the most suitable plan months months abiby comporr the beauty box specially the beauty box will come and you will be able to test n...</td>\n",
       "    </tr>\n",
       "  </tbody>\n",
       "</table>\n",
       "</div>"
      ],
      "text/plain": [
       "        Nome  \\\n",
       "0   1CONTROL   \n",
       "1   200CROWD   \n",
       "2  2MANYAPPS   \n",
       "3  4 GIFTERS   \n",
       "4      ABIBY   \n",
       "\n",
       "                                                                                                                                                                                                                                                                                                          Text  \n",
       "0                                                       control a startup born from idea to revolutionize and simplify the world of iot products for the smart home has created a wireless device that allows you to replace easily the remote controls for gates and garage through an app on your smartphone  \n",
       "1  two hundred crowd an equity portal crowdfunding authorized by Consob that allows you to easily invest in private companies not listed and the only in Italy to use a syndication model based on co investment by retail investors and a network of qualified investors such as business angels, venture ...  \n",
       "2  manyapps manyapps a web marketing agency focused on influencers and brand the startup is to create and develop campaigns to influencer marketing to create app-specific influencers manage social Shopster https socialshopster with an e commerce dedicated to the influencer world manyapps weather co...  \n",
       "3  gifters gifters a and gifting that allows you to make real-time gifts can choose their own gift from proposals for top brand just enter the e mail address or phone number of the birthday you will receive a gift code can also take advantage of the gift team service platform that joins friends to ...  \n",
       "4  abiby abiby a startup that select the best products to make up and cosmetics by sending monthly home beauty box all this is done in a very simple and need to select the most suitable plan months months abiby comporr the beauty box specially the beauty box will come and you will be able to test n...  "
      ]
     },
     "execution_count": 52,
     "metadata": {},
     "output_type": "execute_result"
    }
   ],
   "source": [
    "startup = pd.read_csv('DB Startups.csv', sep=\",\")\n",
    "del(startup['Unnamed: 0'])\n",
    "startup.head()"
   ]
  },
  {
   "cell_type": "code",
   "execution_count": 53,
   "metadata": {},
   "outputs": [],
   "source": [
    "p_trends = []\n",
    "for row in startup.itertuples():\n",
    "    test_data = np.array([row[2]])\n",
    "    testVectorizerArray = tfidfconverter.transform(test_data).toarray()\n",
    "    p_trends.append(classifier.predict(testVectorizerArray)[0])"
   ]
  },
  {
   "cell_type": "code",
   "execution_count": 54,
   "metadata": {
    "scrolled": true
   },
   "outputs": [
    {
     "data": {
      "text/html": [
       "<div>\n",
       "<style scoped>\n",
       "    .dataframe tbody tr th:only-of-type {\n",
       "        vertical-align: middle;\n",
       "    }\n",
       "\n",
       "    .dataframe tbody tr th {\n",
       "        vertical-align: top;\n",
       "    }\n",
       "\n",
       "    .dataframe thead th {\n",
       "        text-align: right;\n",
       "    }\n",
       "</style>\n",
       "<table border=\"1\" class=\"dataframe\">\n",
       "  <thead>\n",
       "    <tr style=\"text-align: right;\">\n",
       "      <th></th>\n",
       "      <th>Nome</th>\n",
       "      <th>Text</th>\n",
       "      <th>0</th>\n",
       "    </tr>\n",
       "  </thead>\n",
       "  <tbody>\n",
       "    <tr>\n",
       "      <th>0</th>\n",
       "      <td>1CONTROL</td>\n",
       "      <td>control a startup born from idea to revolutionize and simplify the world of iot products for the smart home has created a wireless device that allows you to replace easily the remote controls for gates and garage through an app on your smartphone</td>\n",
       "      <td>Health Tech</td>\n",
       "    </tr>\n",
       "    <tr>\n",
       "      <th>1</th>\n",
       "      <td>200CROWD</td>\n",
       "      <td>two hundred crowd an equity portal crowdfunding authorized by Consob that allows you to easily invest in private companies not listed and the only in Italy to use a syndication model based on co investment by retail investors and a network of qualified investors such as business angels, venture ...</td>\n",
       "      <td>Fintech and future of economy</td>\n",
       "    </tr>\n",
       "    <tr>\n",
       "      <th>2</th>\n",
       "      <td>2MANYAPPS</td>\n",
       "      <td>manyapps manyapps a web marketing agency focused on influencers and brand the startup is to create and develop campaigns to influencer marketing to create app-specific influencers manage social Shopster https socialshopster with an e commerce dedicated to the influencer world manyapps weather co...</td>\n",
       "      <td>Transition to Renewable and New Sources of Energy</td>\n",
       "    </tr>\n",
       "    <tr>\n",
       "      <th>3</th>\n",
       "      <td>4 GIFTERS</td>\n",
       "      <td>gifters gifters a and gifting that allows you to make real-time gifts can choose their own gift from proposals for top brand just enter the e mail address or phone number of the birthday you will receive a gift code can also take advantage of the gift team service platform that joins friends to ...</td>\n",
       "      <td>Transition to Renewable and New Sources of Energy</td>\n",
       "    </tr>\n",
       "    <tr>\n",
       "      <th>4</th>\n",
       "      <td>ABIBY</td>\n",
       "      <td>abiby abiby a startup that select the best products to make up and cosmetics by sending monthly home beauty box all this is done in a very simple and need to select the most suitable plan months months abiby comporr the beauty box specially the beauty box will come and you will be able to test n...</td>\n",
       "      <td>Transition to Renewable and New Sources of Energy</td>\n",
       "    </tr>\n",
       "  </tbody>\n",
       "</table>\n",
       "</div>"
      ],
      "text/plain": [
       "        Nome  \\\n",
       "0   1CONTROL   \n",
       "1   200CROWD   \n",
       "2  2MANYAPPS   \n",
       "3  4 GIFTERS   \n",
       "4      ABIBY   \n",
       "\n",
       "                                                                                                                                                                                                                                                                                                          Text  \\\n",
       "0                                                       control a startup born from idea to revolutionize and simplify the world of iot products for the smart home has created a wireless device that allows you to replace easily the remote controls for gates and garage through an app on your smartphone   \n",
       "1  two hundred crowd an equity portal crowdfunding authorized by Consob that allows you to easily invest in private companies not listed and the only in Italy to use a syndication model based on co investment by retail investors and a network of qualified investors such as business angels, venture ...   \n",
       "2  manyapps manyapps a web marketing agency focused on influencers and brand the startup is to create and develop campaigns to influencer marketing to create app-specific influencers manage social Shopster https socialshopster with an e commerce dedicated to the influencer world manyapps weather co...   \n",
       "3  gifters gifters a and gifting that allows you to make real-time gifts can choose their own gift from proposals for top brand just enter the e mail address or phone number of the birthday you will receive a gift code can also take advantage of the gift team service platform that joins friends to ...   \n",
       "4  abiby abiby a startup that select the best products to make up and cosmetics by sending monthly home beauty box all this is done in a very simple and need to select the most suitable plan months months abiby comporr the beauty box specially the beauty box will come and you will be able to test n...   \n",
       "\n",
       "                                                   0  \n",
       "0                                        Health Tech  \n",
       "1                      Fintech and future of economy  \n",
       "2  Transition to Renewable and New Sources of Energy  \n",
       "3  Transition to Renewable and New Sources of Energy  \n",
       "4  Transition to Renewable and New Sources of Energy  "
      ]
     },
     "execution_count": 54,
     "metadata": {},
     "output_type": "execute_result"
    }
   ],
   "source": [
    "p_series = pd.Series(p_trends)\n",
    "\n",
    "startup = pd.concat([startup,p_series], axis=1)\n",
    "startup.head()"
   ]
  },
  {
   "cell_type": "code",
   "execution_count": null,
   "metadata": {},
   "outputs": [],
   "source": []
  },
  {
   "cell_type": "code",
   "execution_count": 55,
   "metadata": {},
   "outputs": [
    {
     "data": {
      "text/html": [
       "<div>\n",
       "<style scoped>\n",
       "    .dataframe tbody tr th:only-of-type {\n",
       "        vertical-align: middle;\n",
       "    }\n",
       "\n",
       "    .dataframe tbody tr th {\n",
       "        vertical-align: top;\n",
       "    }\n",
       "\n",
       "    .dataframe thead th {\n",
       "        text-align: right;\n",
       "    }\n",
       "</style>\n",
       "<table border=\"1\" class=\"dataframe\">\n",
       "  <thead>\n",
       "    <tr style=\"text-align: right;\">\n",
       "      <th></th>\n",
       "      <th>ID</th>\n",
       "      <th>Titolo</th>\n",
       "      <th>Data</th>\n",
       "      <th>Trend</th>\n",
       "      <th>Anno</th>\n",
       "      <th>Mese</th>\n",
       "      <th>Day</th>\n",
       "      <th>Week</th>\n",
       "      <th>Txt</th>\n",
       "      <th>Keywords</th>\n",
       "    </tr>\n",
       "  </thead>\n",
       "  <tbody>\n",
       "    <tr>\n",
       "      <th>0</th>\n",
       "      <td>7f9f2aea41caf2f034af9b5423abb95f</td>\n",
       "      <td>investor group european oil gas major credible net zero plan</td>\n",
       "      <td>2020-05-14</td>\n",
       "      <td>Circular Economy Sustainability and Zero Impact Economy</td>\n",
       "      <td>2020</td>\n",
       "      <td>5</td>\n",
       "      <td>14</td>\n",
       "      <td>20</td>\n",
       "      <td>investor group european oil gas major credible net zero plannone europes leading oil gas majors released credible plan achieving netzero emissions middle century despite recent declarations bp shell total others committed achieveing netzero status conclusion analysis influential transition pathw...</td>\n",
       "      <td>netzero,oil,tpi,oil gas,emissions</td>\n",
       "    </tr>\n",
       "    <tr>\n",
       "      <th>1</th>\n",
       "      <td>c812e0a3418d624ae60df3ec9e19d184</td>\n",
       "      <td>pandemic drone spot infected</td>\n",
       "      <td>2020-04-03</td>\n",
       "      <td>Robotics and Human/Machine Hybridization</td>\n",
       "      <td>2020</td>\n",
       "      <td>4</td>\n",
       "      <td>3</td>\n",
       "      <td>14</td>\n",
       "      <td>pandemic drone spot infectedspotted current climate major problems controlling pandemic covid knowing infected widespread disease area university south australia canada drone technology specialist draganfly inc teamed develop pandemic drone technology uses special sensors computer vision detect ...</td>\n",
       "      <td>drone,detect,respiratory,infected,heart</td>\n",
       "    </tr>\n",
       "    <tr>\n",
       "      <th>2</th>\n",
       "      <td>61268fb46585bba4ac828cc277b69ecb</td>\n",
       "      <td>europe green deal eu commission president ursula von der leyen announces europe man moon videos</td>\n",
       "      <td>2019-12-15</td>\n",
       "      <td>High Tech Farming</td>\n",
       "      <td>2019</td>\n",
       "      <td>12</td>\n",
       "      <td>15</td>\n",
       "      <td>50</td>\n",
       "      <td>europe green deal eu commission president ursula von der leyen announces europe man moon videosagriculture published december th cynthia shahan europe green deal eu commission president ursula von der leyen announces europe man moon videos twitter linkedin facebook december th cynthia shahan</td>\n",
       "      <td>europe,von,december th cynthia,man,announces</td>\n",
       "    </tr>\n",
       "    <tr>\n",
       "      <th>3</th>\n",
       "      <td>d3e4f8a85f1c96d9839de642e856645f</td>\n",
       "      <td>green swans exponential decade conversation john elkington</td>\n",
       "      <td>2020-05-19</td>\n",
       "      <td>Digital Politics and Smart Citizenship</td>\n",
       "      <td>2020</td>\n",
       "      <td>5</td>\n",
       "      <td>19</td>\n",
       "      <td>21</td>\n",
       "      <td>green swans exponential decade conversation john elkingtonoptimism excitement despite ongoing global covid pandemic words center last weeks greenbiz webcast featured interview greenbiz executive editor joel makower john elkington addition executive chairman cofounder volans ventures authority co...</td>\n",
       "      <td>elkington,swans,green swans,green,swan</td>\n",
       "    </tr>\n",
       "    <tr>\n",
       "      <th>4</th>\n",
       "      <td>879f738c66345cf45682fc3e2117e743</td>\n",
       "      <td>sustainable nation film showcases israeli water tech</td>\n",
       "      <td>2020-04-26</td>\n",
       "      <td>Smart &amp; Digital Water</td>\n",
       "      <td>2020</td>\n",
       "      <td>4</td>\n",
       "      <td>26</td>\n",
       "      <td>17</td>\n",
       "      <td>sustainable nation film showcases israeli water techsustainable nation documentary follows three israeli innovators applying israeli water technology solutions help waterstressed countries premier live online april pm edt pst pm idt available youtube amazon prime summer hourlong documentary imag...</td>\n",
       "      <td>film,nation,israel,water,sustainable</td>\n",
       "    </tr>\n",
       "  </tbody>\n",
       "</table>\n",
       "</div>"
      ],
      "text/plain": [
       "                                 ID  \\\n",
       "0  7f9f2aea41caf2f034af9b5423abb95f   \n",
       "1  c812e0a3418d624ae60df3ec9e19d184   \n",
       "2  61268fb46585bba4ac828cc277b69ecb   \n",
       "3  d3e4f8a85f1c96d9839de642e856645f   \n",
       "4  879f738c66345cf45682fc3e2117e743   \n",
       "\n",
       "                                                                                            Titolo  \\\n",
       "0                                     investor group european oil gas major credible net zero plan   \n",
       "1                                                                     pandemic drone spot infected   \n",
       "2  europe green deal eu commission president ursula von der leyen announces europe man moon videos   \n",
       "3                                       green swans exponential decade conversation john elkington   \n",
       "4                                             sustainable nation film showcases israeli water tech   \n",
       "\n",
       "        Data                                                    Trend  Anno  \\\n",
       "0 2020-05-14  Circular Economy Sustainability and Zero Impact Economy  2020   \n",
       "1 2020-04-03                 Robotics and Human/Machine Hybridization  2020   \n",
       "2 2019-12-15                                        High Tech Farming  2019   \n",
       "3 2020-05-19                   Digital Politics and Smart Citizenship  2020   \n",
       "4 2020-04-26                                    Smart & Digital Water  2020   \n",
       "\n",
       "   Mese  Day Week  \\\n",
       "0     5   14   20   \n",
       "1     4    3   14   \n",
       "2    12   15   50   \n",
       "3     5   19   21   \n",
       "4     4   26   17   \n",
       "\n",
       "                                                                                                                                                                                                                                                                                                           Txt  \\\n",
       "0  investor group european oil gas major credible net zero plannone europes leading oil gas majors released credible plan achieving netzero emissions middle century despite recent declarations bp shell total others committed achieveing netzero status conclusion analysis influential transition pathw...   \n",
       "1  pandemic drone spot infectedspotted current climate major problems controlling pandemic covid knowing infected widespread disease area university south australia canada drone technology specialist draganfly inc teamed develop pandemic drone technology uses special sensors computer vision detect ...   \n",
       "2         europe green deal eu commission president ursula von der leyen announces europe man moon videosagriculture published december th cynthia shahan europe green deal eu commission president ursula von der leyen announces europe man moon videos twitter linkedin facebook december th cynthia shahan   \n",
       "3  green swans exponential decade conversation john elkingtonoptimism excitement despite ongoing global covid pandemic words center last weeks greenbiz webcast featured interview greenbiz executive editor joel makower john elkington addition executive chairman cofounder volans ventures authority co...   \n",
       "4  sustainable nation film showcases israeli water techsustainable nation documentary follows three israeli innovators applying israeli water technology solutions help waterstressed countries premier live online april pm edt pst pm idt available youtube amazon prime summer hourlong documentary imag...   \n",
       "\n",
       "                                       Keywords  \n",
       "0             netzero,oil,tpi,oil gas,emissions  \n",
       "1       drone,detect,respiratory,infected,heart  \n",
       "2  europe,von,december th cynthia,man,announces  \n",
       "3        elkington,swans,green swans,green,swan  \n",
       "4          film,nation,israel,water,sustainable  "
      ]
     },
     "execution_count": 55,
     "metadata": {},
     "output_type": "execute_result"
    }
   ],
   "source": [
    "articoli.head()"
   ]
  },
  {
   "cell_type": "code",
   "execution_count": 56,
   "metadata": {},
   "outputs": [
    {
     "ename": "FileNotFoundError",
     "evalue": "[Errno 2] File art-tags v2.csv does not exist: 'art-tags v2.csv'",
     "output_type": "error",
     "traceback": [
      "\u001b[1;31m---------------------------------------------------------------------------\u001b[0m",
      "\u001b[1;31mFileNotFoundError\u001b[0m                         Traceback (most recent call last)",
      "\u001b[1;32m<ipython-input-56-e5241b455256>\u001b[0m in \u001b[0;36m<module>\u001b[1;34m\u001b[0m\n\u001b[1;32m----> 1\u001b[1;33m \u001b[0mtags\u001b[0m \u001b[1;33m=\u001b[0m \u001b[0mpd\u001b[0m\u001b[1;33m.\u001b[0m\u001b[0mread_csv\u001b[0m\u001b[1;33m(\u001b[0m\u001b[1;34m'art-tags v2.csv'\u001b[0m\u001b[1;33m,\u001b[0m \u001b[0msep\u001b[0m\u001b[1;33m=\u001b[0m\u001b[1;34m\";\"\u001b[0m\u001b[1;33m)\u001b[0m\u001b[1;33m\u001b[0m\u001b[1;33m\u001b[0m\u001b[0m\n\u001b[0m\u001b[0;32m      2\u001b[0m \u001b[0mtags\u001b[0m \u001b[1;33m=\u001b[0m \u001b[0mtags\u001b[0m\u001b[1;33m.\u001b[0m\u001b[0mreplace\u001b[0m\u001b[1;33m(\u001b[0m\u001b[0mnp\u001b[0m\u001b[1;33m.\u001b[0m\u001b[0mnan\u001b[0m\u001b[1;33m,\u001b[0m \u001b[1;34m''\u001b[0m\u001b[1;33m,\u001b[0m \u001b[0mregex\u001b[0m\u001b[1;33m=\u001b[0m\u001b[1;32mTrue\u001b[0m\u001b[1;33m)\u001b[0m\u001b[1;33m\u001b[0m\u001b[1;33m\u001b[0m\u001b[0m\n\u001b[0;32m      3\u001b[0m \u001b[1;32mdel\u001b[0m \u001b[1;33m(\u001b[0m\u001b[0mtags\u001b[0m\u001b[1;33m[\u001b[0m\u001b[1;34m\"Unnamed: 0\"\u001b[0m\u001b[1;33m]\u001b[0m\u001b[1;33m)\u001b[0m\u001b[1;33m\u001b[0m\u001b[1;33m\u001b[0m\u001b[0m\n\u001b[0;32m      4\u001b[0m \u001b[1;32mdel\u001b[0m \u001b[1;33m(\u001b[0m\u001b[0mtags\u001b[0m\u001b[1;33m[\u001b[0m\u001b[1;34m\"Titolo\"\u001b[0m\u001b[1;33m]\u001b[0m\u001b[1;33m)\u001b[0m\u001b[1;33m\u001b[0m\u001b[1;33m\u001b[0m\u001b[0m\n\u001b[0;32m      5\u001b[0m \u001b[1;32mdel\u001b[0m \u001b[1;33m(\u001b[0m\u001b[0mtags\u001b[0m\u001b[1;33m[\u001b[0m\u001b[1;34m\"Trend\"\u001b[0m\u001b[1;33m]\u001b[0m\u001b[1;33m)\u001b[0m\u001b[1;33m\u001b[0m\u001b[1;33m\u001b[0m\u001b[0m\n",
      "\u001b[1;32m~\\AppData\\Local\\Continuum\\anaconda3\\envs\\techadv\\lib\\site-packages\\pandas\\io\\parsers.py\u001b[0m in \u001b[0;36mparser_f\u001b[1;34m(filepath_or_buffer, sep, delimiter, header, names, index_col, usecols, squeeze, prefix, mangle_dupe_cols, dtype, engine, converters, true_values, false_values, skipinitialspace, skiprows, skipfooter, nrows, na_values, keep_default_na, na_filter, verbose, skip_blank_lines, parse_dates, infer_datetime_format, keep_date_col, date_parser, dayfirst, cache_dates, iterator, chunksize, compression, thousands, decimal, lineterminator, quotechar, quoting, doublequote, escapechar, comment, encoding, dialect, error_bad_lines, warn_bad_lines, delim_whitespace, low_memory, memory_map, float_precision)\u001b[0m\n\u001b[0;32m    674\u001b[0m         )\n\u001b[0;32m    675\u001b[0m \u001b[1;33m\u001b[0m\u001b[0m\n\u001b[1;32m--> 676\u001b[1;33m         \u001b[1;32mreturn\u001b[0m \u001b[0m_read\u001b[0m\u001b[1;33m(\u001b[0m\u001b[0mfilepath_or_buffer\u001b[0m\u001b[1;33m,\u001b[0m \u001b[0mkwds\u001b[0m\u001b[1;33m)\u001b[0m\u001b[1;33m\u001b[0m\u001b[1;33m\u001b[0m\u001b[0m\n\u001b[0m\u001b[0;32m    677\u001b[0m \u001b[1;33m\u001b[0m\u001b[0m\n\u001b[0;32m    678\u001b[0m     \u001b[0mparser_f\u001b[0m\u001b[1;33m.\u001b[0m\u001b[0m__name__\u001b[0m \u001b[1;33m=\u001b[0m \u001b[0mname\u001b[0m\u001b[1;33m\u001b[0m\u001b[1;33m\u001b[0m\u001b[0m\n",
      "\u001b[1;32m~\\AppData\\Local\\Continuum\\anaconda3\\envs\\techadv\\lib\\site-packages\\pandas\\io\\parsers.py\u001b[0m in \u001b[0;36m_read\u001b[1;34m(filepath_or_buffer, kwds)\u001b[0m\n\u001b[0;32m    446\u001b[0m \u001b[1;33m\u001b[0m\u001b[0m\n\u001b[0;32m    447\u001b[0m     \u001b[1;31m# Create the parser.\u001b[0m\u001b[1;33m\u001b[0m\u001b[1;33m\u001b[0m\u001b[1;33m\u001b[0m\u001b[0m\n\u001b[1;32m--> 448\u001b[1;33m     \u001b[0mparser\u001b[0m \u001b[1;33m=\u001b[0m \u001b[0mTextFileReader\u001b[0m\u001b[1;33m(\u001b[0m\u001b[0mfp_or_buf\u001b[0m\u001b[1;33m,\u001b[0m \u001b[1;33m**\u001b[0m\u001b[0mkwds\u001b[0m\u001b[1;33m)\u001b[0m\u001b[1;33m\u001b[0m\u001b[1;33m\u001b[0m\u001b[0m\n\u001b[0m\u001b[0;32m    449\u001b[0m \u001b[1;33m\u001b[0m\u001b[0m\n\u001b[0;32m    450\u001b[0m     \u001b[1;32mif\u001b[0m \u001b[0mchunksize\u001b[0m \u001b[1;32mor\u001b[0m \u001b[0miterator\u001b[0m\u001b[1;33m:\u001b[0m\u001b[1;33m\u001b[0m\u001b[1;33m\u001b[0m\u001b[0m\n",
      "\u001b[1;32m~\\AppData\\Local\\Continuum\\anaconda3\\envs\\techadv\\lib\\site-packages\\pandas\\io\\parsers.py\u001b[0m in \u001b[0;36m__init__\u001b[1;34m(self, f, engine, **kwds)\u001b[0m\n\u001b[0;32m    878\u001b[0m             \u001b[0mself\u001b[0m\u001b[1;33m.\u001b[0m\u001b[0moptions\u001b[0m\u001b[1;33m[\u001b[0m\u001b[1;34m\"has_index_names\"\u001b[0m\u001b[1;33m]\u001b[0m \u001b[1;33m=\u001b[0m \u001b[0mkwds\u001b[0m\u001b[1;33m[\u001b[0m\u001b[1;34m\"has_index_names\"\u001b[0m\u001b[1;33m]\u001b[0m\u001b[1;33m\u001b[0m\u001b[1;33m\u001b[0m\u001b[0m\n\u001b[0;32m    879\u001b[0m \u001b[1;33m\u001b[0m\u001b[0m\n\u001b[1;32m--> 880\u001b[1;33m         \u001b[0mself\u001b[0m\u001b[1;33m.\u001b[0m\u001b[0m_make_engine\u001b[0m\u001b[1;33m(\u001b[0m\u001b[0mself\u001b[0m\u001b[1;33m.\u001b[0m\u001b[0mengine\u001b[0m\u001b[1;33m)\u001b[0m\u001b[1;33m\u001b[0m\u001b[1;33m\u001b[0m\u001b[0m\n\u001b[0m\u001b[0;32m    881\u001b[0m \u001b[1;33m\u001b[0m\u001b[0m\n\u001b[0;32m    882\u001b[0m     \u001b[1;32mdef\u001b[0m \u001b[0mclose\u001b[0m\u001b[1;33m(\u001b[0m\u001b[0mself\u001b[0m\u001b[1;33m)\u001b[0m\u001b[1;33m:\u001b[0m\u001b[1;33m\u001b[0m\u001b[1;33m\u001b[0m\u001b[0m\n",
      "\u001b[1;32m~\\AppData\\Local\\Continuum\\anaconda3\\envs\\techadv\\lib\\site-packages\\pandas\\io\\parsers.py\u001b[0m in \u001b[0;36m_make_engine\u001b[1;34m(self, engine)\u001b[0m\n\u001b[0;32m   1112\u001b[0m     \u001b[1;32mdef\u001b[0m \u001b[0m_make_engine\u001b[0m\u001b[1;33m(\u001b[0m\u001b[0mself\u001b[0m\u001b[1;33m,\u001b[0m \u001b[0mengine\u001b[0m\u001b[1;33m=\u001b[0m\u001b[1;34m\"c\"\u001b[0m\u001b[1;33m)\u001b[0m\u001b[1;33m:\u001b[0m\u001b[1;33m\u001b[0m\u001b[1;33m\u001b[0m\u001b[0m\n\u001b[0;32m   1113\u001b[0m         \u001b[1;32mif\u001b[0m \u001b[0mengine\u001b[0m \u001b[1;33m==\u001b[0m \u001b[1;34m\"c\"\u001b[0m\u001b[1;33m:\u001b[0m\u001b[1;33m\u001b[0m\u001b[1;33m\u001b[0m\u001b[0m\n\u001b[1;32m-> 1114\u001b[1;33m             \u001b[0mself\u001b[0m\u001b[1;33m.\u001b[0m\u001b[0m_engine\u001b[0m \u001b[1;33m=\u001b[0m \u001b[0mCParserWrapper\u001b[0m\u001b[1;33m(\u001b[0m\u001b[0mself\u001b[0m\u001b[1;33m.\u001b[0m\u001b[0mf\u001b[0m\u001b[1;33m,\u001b[0m \u001b[1;33m**\u001b[0m\u001b[0mself\u001b[0m\u001b[1;33m.\u001b[0m\u001b[0moptions\u001b[0m\u001b[1;33m)\u001b[0m\u001b[1;33m\u001b[0m\u001b[1;33m\u001b[0m\u001b[0m\n\u001b[0m\u001b[0;32m   1115\u001b[0m         \u001b[1;32melse\u001b[0m\u001b[1;33m:\u001b[0m\u001b[1;33m\u001b[0m\u001b[1;33m\u001b[0m\u001b[0m\n\u001b[0;32m   1116\u001b[0m             \u001b[1;32mif\u001b[0m \u001b[0mengine\u001b[0m \u001b[1;33m==\u001b[0m \u001b[1;34m\"python\"\u001b[0m\u001b[1;33m:\u001b[0m\u001b[1;33m\u001b[0m\u001b[1;33m\u001b[0m\u001b[0m\n",
      "\u001b[1;32m~\\AppData\\Local\\Continuum\\anaconda3\\envs\\techadv\\lib\\site-packages\\pandas\\io\\parsers.py\u001b[0m in \u001b[0;36m__init__\u001b[1;34m(self, src, **kwds)\u001b[0m\n\u001b[0;32m   1889\u001b[0m         \u001b[0mkwds\u001b[0m\u001b[1;33m[\u001b[0m\u001b[1;34m\"usecols\"\u001b[0m\u001b[1;33m]\u001b[0m \u001b[1;33m=\u001b[0m \u001b[0mself\u001b[0m\u001b[1;33m.\u001b[0m\u001b[0musecols\u001b[0m\u001b[1;33m\u001b[0m\u001b[1;33m\u001b[0m\u001b[0m\n\u001b[0;32m   1890\u001b[0m \u001b[1;33m\u001b[0m\u001b[0m\n\u001b[1;32m-> 1891\u001b[1;33m         \u001b[0mself\u001b[0m\u001b[1;33m.\u001b[0m\u001b[0m_reader\u001b[0m \u001b[1;33m=\u001b[0m \u001b[0mparsers\u001b[0m\u001b[1;33m.\u001b[0m\u001b[0mTextReader\u001b[0m\u001b[1;33m(\u001b[0m\u001b[0msrc\u001b[0m\u001b[1;33m,\u001b[0m \u001b[1;33m**\u001b[0m\u001b[0mkwds\u001b[0m\u001b[1;33m)\u001b[0m\u001b[1;33m\u001b[0m\u001b[1;33m\u001b[0m\u001b[0m\n\u001b[0m\u001b[0;32m   1892\u001b[0m         \u001b[0mself\u001b[0m\u001b[1;33m.\u001b[0m\u001b[0munnamed_cols\u001b[0m \u001b[1;33m=\u001b[0m \u001b[0mself\u001b[0m\u001b[1;33m.\u001b[0m\u001b[0m_reader\u001b[0m\u001b[1;33m.\u001b[0m\u001b[0munnamed_cols\u001b[0m\u001b[1;33m\u001b[0m\u001b[1;33m\u001b[0m\u001b[0m\n\u001b[0;32m   1893\u001b[0m \u001b[1;33m\u001b[0m\u001b[0m\n",
      "\u001b[1;32mpandas\\_libs\\parsers.pyx\u001b[0m in \u001b[0;36mpandas._libs.parsers.TextReader.__cinit__\u001b[1;34m()\u001b[0m\n",
      "\u001b[1;32mpandas\\_libs\\parsers.pyx\u001b[0m in \u001b[0;36mpandas._libs.parsers.TextReader._setup_parser_source\u001b[1;34m()\u001b[0m\n",
      "\u001b[1;31mFileNotFoundError\u001b[0m: [Errno 2] File art-tags v2.csv does not exist: 'art-tags v2.csv'"
     ]
    }
   ],
   "source": [
    "tags = pd.read_csv('art-tags v2.csv', sep=\";\")\n",
    "tags = tags.replace(np.nan, '', regex=True)\n",
    "del (tags[\"Unnamed: 0\"])\n",
    "del (tags[\"Titolo\"])\n",
    "del (tags[\"Trend\"])\n",
    "#del (tags[\"Tags\"])\n",
    "tags.head()"
   ]
  },
  {
   "cell_type": "code",
   "execution_count": null,
   "metadata": {},
   "outputs": [],
   "source": [
    "tags = pd.merge(articoli, tags, on = 'ID')"
   ]
  },
  {
   "cell_type": "code",
   "execution_count": null,
   "metadata": {},
   "outputs": [],
   "source": [
    "tags.head()"
   ]
  },
  {
   "cell_type": "code",
   "execution_count": null,
   "metadata": {},
   "outputs": [],
   "source": [
    "# Per Anomaly Detection\n",
    "tags.to_csv('Articoli Taggati v8.csv', sep=\";\")"
   ]
  },
  {
   "cell_type": "code",
   "execution_count": null,
   "metadata": {},
   "outputs": [],
   "source": []
  }
 ],
 "metadata": {
  "kernelspec": {
   "display_name": "Python 3",
   "language": "python",
   "name": "python3"
  },
  "language_info": {
   "codemirror_mode": {
    "name": "ipython",
    "version": 3
   },
   "file_extension": ".py",
   "mimetype": "text/x-python",
   "name": "python",
   "nbconvert_exporter": "python",
   "pygments_lexer": "ipython3",
   "version": "3.7.7"
  }
 },
 "nbformat": 4,
 "nbformat_minor": 4
}
