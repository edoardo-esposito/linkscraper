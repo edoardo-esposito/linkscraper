{
 "cells": [
  {
   "cell_type": "code",
   "execution_count": 2,
   "metadata": {},
   "outputs": [],
   "source": [
    "import pandas as pd\n",
    "import numpy as np\n",
    "import json\n",
    "import nltk\n",
    "import re\n",
    "import csv\n",
    "import matplotlib.pyplot as plt\n",
    "import seaborn as sns\n",
    "from tqdm import tqdm\n",
    "from datetime import datetime\n",
    "from sklearn.feature_extraction.text import TfidfVectorizer\n",
    "from sklearn.model_selection import train_test_split"
   ]
  },
  {
   "cell_type": "code",
   "execution_count": 19,
   "metadata": {},
   "outputs": [],
   "source": [
    "meta = pd.read_excel(\"__Articles With Raw Tags V2.xlsx\", encoding=\"utf8\", \n",
    "                     error_bad_lines=False)\n",
    "meta = meta.replace(np.nan, '', regex=True)"
   ]
  },
  {
   "cell_type": "code",
   "execution_count": 20,
   "metadata": {},
   "outputs": [],
   "source": [
    "meta = meta[~(meta['Tags'].str.len() == 0)]"
   ]
  },
  {
   "cell_type": "code",
   "execution_count": 21,
   "metadata": {},
   "outputs": [
    {
     "data": {
      "text/html": [
       "<div>\n",
       "<style scoped>\n",
       "    .dataframe tbody tr th:only-of-type {\n",
       "        vertical-align: middle;\n",
       "    }\n",
       "\n",
       "    .dataframe tbody tr th {\n",
       "        vertical-align: top;\n",
       "    }\n",
       "\n",
       "    .dataframe thead th {\n",
       "        text-align: right;\n",
       "    }\n",
       "</style>\n",
       "<table border=\"1\" class=\"dataframe\">\n",
       "  <thead>\n",
       "    <tr style=\"text-align: right;\">\n",
       "      <th></th>\n",
       "      <th>ID</th>\n",
       "      <th>Titolo</th>\n",
       "      <th>Trend</th>\n",
       "      <th>Tags</th>\n",
       "    </tr>\n",
       "  </thead>\n",
       "  <tbody>\n",
       "    <tr>\n",
       "      <th>0</th>\n",
       "      <td>c812e0a3418d624ae60df3ec9e19d184</td>\n",
       "      <td>pandemic drone spot infected</td>\n",
       "      <td>Robotics and Human/Machine Hybridization</td>\n",
       "      <td>Tech: Drones|||||||||||||||||||||</td>\n",
       "    </tr>\n",
       "    <tr>\n",
       "      <th>1</th>\n",
       "      <td>0e2ef6bd7619374e0531d1551ab2141e</td>\n",
       "      <td>census data anonymous expected</td>\n",
       "      <td>Privacy and Security by design</td>\n",
       "      <td>||Vertical: Advertising|Vertical: Advertising|...</td>\n",
       "    </tr>\n",
       "    <tr>\n",
       "      <th>2</th>\n",
       "      <td>8602d8791a1754506303dcfd9a7b79e3</td>\n",
       "      <td>common pandemic scams highlighted domain name ...</td>\n",
       "      <td>Cyber Defense and Fight against Fakes</td>\n",
       "      <td>|||||||||||||||||||||</td>\n",
       "    </tr>\n",
       "    <tr>\n",
       "      <th>3</th>\n",
       "      <td>2157ac6d12e063b6a38c5c0491e0b322</td>\n",
       "      <td>questions rapidly unfolding future smart fabrics</td>\n",
       "      <td>Workforce Transformation</td>\n",
       "      <td>|||||||||||Tag: Future||||||||||</td>\n",
       "    </tr>\n",
       "    <tr>\n",
       "      <th>4</th>\n",
       "      <td>89390733d3f9e1f30bae53de5e2d8a04</td>\n",
       "      <td>types robots playing vital roles covid</td>\n",
       "      <td>New Normal after COVID-19</td>\n",
       "      <td>|||||||||||||||||||||</td>\n",
       "    </tr>\n",
       "  </tbody>\n",
       "</table>\n",
       "</div>"
      ],
      "text/plain": [
       "                                 ID  \\\n",
       "0  c812e0a3418d624ae60df3ec9e19d184   \n",
       "1  0e2ef6bd7619374e0531d1551ab2141e   \n",
       "2  8602d8791a1754506303dcfd9a7b79e3   \n",
       "3  2157ac6d12e063b6a38c5c0491e0b322   \n",
       "4  89390733d3f9e1f30bae53de5e2d8a04   \n",
       "\n",
       "                                              Titolo  \\\n",
       "0                       pandemic drone spot infected   \n",
       "1                     census data anonymous expected   \n",
       "2  common pandemic scams highlighted domain name ...   \n",
       "3   questions rapidly unfolding future smart fabrics   \n",
       "4             types robots playing vital roles covid   \n",
       "\n",
       "                                      Trend  \\\n",
       "0  Robotics and Human/Machine Hybridization   \n",
       "1            Privacy and Security by design   \n",
       "2     Cyber Defense and Fight against Fakes   \n",
       "3                  Workforce Transformation   \n",
       "4                 New Normal after COVID-19   \n",
       "\n",
       "                                                Tags  \n",
       "0                  Tech: Drones|||||||||||||||||||||  \n",
       "1  ||Vertical: Advertising|Vertical: Advertising|...  \n",
       "2                              |||||||||||||||||||||  \n",
       "3                   |||||||||||Tag: Future||||||||||  \n",
       "4                              |||||||||||||||||||||  "
      ]
     },
     "execution_count": 21,
     "metadata": {},
     "output_type": "execute_result"
    }
   ],
   "source": [
    "meta.head()"
   ]
  },
  {
   "cell_type": "code",
   "execution_count": 22,
   "metadata": {},
   "outputs": [
    {
     "data": {
      "text/plain": [
       "'||Vertical: Advertising|Vertical: Advertising||Company: Adobe||Vertical: Advertising||||||||||||||'"
      ]
     },
     "execution_count": 22,
     "metadata": {},
     "output_type": "execute_result"
    }
   ],
   "source": [
    "meta['Tags'][1]"
   ]
  },
  {
   "cell_type": "code",
   "execution_count": 23,
   "metadata": {},
   "outputs": [
    {
     "data": {
      "text/plain": [
       "'Company: Adobe, Vertical: Advertising'"
      ]
     },
     "execution_count": 23,
     "metadata": {},
     "output_type": "execute_result"
    }
   ],
   "source": [
    "def string_to_commaseparated(text):\n",
    "    str_list = text.split(\"|\")\n",
    "    str_list = list(filter(None, str_list))\n",
    "    str_list = list(set(str_list))\n",
    "    \n",
    "    str_list = \", \" . join(str_list)\n",
    "    \n",
    "    return str_list\n",
    "    \n",
    "string_to_commaseparated(meta['Tags'][1])"
   ]
  },
  {
   "cell_type": "code",
   "execution_count": 24,
   "metadata": {},
   "outputs": [],
   "source": [
    "meta['Tags'] = meta['Tags'].apply(lambda x: string_to_commaseparated(x))"
   ]
  },
  {
   "cell_type": "code",
   "execution_count": 25,
   "metadata": {},
   "outputs": [
    {
     "data": {
      "text/html": [
       "<div>\n",
       "<style scoped>\n",
       "    .dataframe tbody tr th:only-of-type {\n",
       "        vertical-align: middle;\n",
       "    }\n",
       "\n",
       "    .dataframe tbody tr th {\n",
       "        vertical-align: top;\n",
       "    }\n",
       "\n",
       "    .dataframe thead th {\n",
       "        text-align: right;\n",
       "    }\n",
       "</style>\n",
       "<table border=\"1\" class=\"dataframe\">\n",
       "  <thead>\n",
       "    <tr style=\"text-align: right;\">\n",
       "      <th></th>\n",
       "      <th>ID</th>\n",
       "      <th>Titolo</th>\n",
       "      <th>Trend</th>\n",
       "      <th>Tags</th>\n",
       "    </tr>\n",
       "  </thead>\n",
       "  <tbody>\n",
       "    <tr>\n",
       "      <th>0</th>\n",
       "      <td>c812e0a3418d624ae60df3ec9e19d184</td>\n",
       "      <td>pandemic drone spot infected</td>\n",
       "      <td>Robotics and Human/Machine Hybridization</td>\n",
       "      <td>Tech: Drones</td>\n",
       "    </tr>\n",
       "    <tr>\n",
       "      <th>1</th>\n",
       "      <td>0e2ef6bd7619374e0531d1551ab2141e</td>\n",
       "      <td>census data anonymous expected</td>\n",
       "      <td>Privacy and Security by design</td>\n",
       "      <td>Company: Adobe, Vertical: Advertising</td>\n",
       "    </tr>\n",
       "    <tr>\n",
       "      <th>2</th>\n",
       "      <td>8602d8791a1754506303dcfd9a7b79e3</td>\n",
       "      <td>common pandemic scams highlighted domain name ...</td>\n",
       "      <td>Cyber Defense and Fight against Fakes</td>\n",
       "      <td></td>\n",
       "    </tr>\n",
       "    <tr>\n",
       "      <th>3</th>\n",
       "      <td>2157ac6d12e063b6a38c5c0491e0b322</td>\n",
       "      <td>questions rapidly unfolding future smart fabrics</td>\n",
       "      <td>Workforce Transformation</td>\n",
       "      <td>Tag: Future</td>\n",
       "    </tr>\n",
       "    <tr>\n",
       "      <th>4</th>\n",
       "      <td>89390733d3f9e1f30bae53de5e2d8a04</td>\n",
       "      <td>types robots playing vital roles covid</td>\n",
       "      <td>New Normal after COVID-19</td>\n",
       "      <td></td>\n",
       "    </tr>\n",
       "  </tbody>\n",
       "</table>\n",
       "</div>"
      ],
      "text/plain": [
       "                                 ID  \\\n",
       "0  c812e0a3418d624ae60df3ec9e19d184   \n",
       "1  0e2ef6bd7619374e0531d1551ab2141e   \n",
       "2  8602d8791a1754506303dcfd9a7b79e3   \n",
       "3  2157ac6d12e063b6a38c5c0491e0b322   \n",
       "4  89390733d3f9e1f30bae53de5e2d8a04   \n",
       "\n",
       "                                              Titolo  \\\n",
       "0                       pandemic drone spot infected   \n",
       "1                     census data anonymous expected   \n",
       "2  common pandemic scams highlighted domain name ...   \n",
       "3   questions rapidly unfolding future smart fabrics   \n",
       "4             types robots playing vital roles covid   \n",
       "\n",
       "                                      Trend  \\\n",
       "0  Robotics and Human/Machine Hybridization   \n",
       "1            Privacy and Security by design   \n",
       "2     Cyber Defense and Fight against Fakes   \n",
       "3                  Workforce Transformation   \n",
       "4                 New Normal after COVID-19   \n",
       "\n",
       "                                    Tags  \n",
       "0                           Tech: Drones  \n",
       "1  Company: Adobe, Vertical: Advertising  \n",
       "2                                         \n",
       "3                            Tag: Future  \n",
       "4                                         "
      ]
     },
     "execution_count": 25,
     "metadata": {},
     "output_type": "execute_result"
    }
   ],
   "source": [
    "meta.head()"
   ]
  },
  {
   "cell_type": "code",
   "execution_count": 26,
   "metadata": {},
   "outputs": [
    {
     "data": {
      "text/plain": [
       "['Tech', 'Company', 'Vertical', 'Application', 'Location', 'Tag']"
      ]
     },
     "execution_count": 26,
     "metadata": {},
     "output_type": "execute_result"
    }
   ],
   "source": [
    "def get_tags_types(tags):\n",
    "    tag_types = []\n",
    "    for tag in tags:\n",
    "        t1 = tag.split(\",\")[0]\n",
    "        if len(t1):\n",
    "            t2 = t1.split(\":\")[0]\n",
    "            tag_types.append(t2)\n",
    "            \n",
    "    tag_types = list(map(str.strip, tag_types))\n",
    "    tag_types = list(filter(None, tag_types))\n",
    "    tag_types = list(set(tag_types))\n",
    "    \n",
    "    return tag_types\n",
    "    \n",
    "get_tags_types(meta['Tags'])"
   ]
  },
  {
   "cell_type": "code",
   "execution_count": 27,
   "metadata": {},
   "outputs": [
    {
     "data": {
      "text/plain": [
       "'Advertising'"
      ]
     },
     "execution_count": 27,
     "metadata": {},
     "output_type": "execute_result"
    }
   ],
   "source": [
    "def split_tags_in_columns(tags, column):\n",
    "    tag_list = tags.split(\",\")\n",
    "    for t in tag_list:\n",
    "        if t.split(\":\")[0].strip() == column:\n",
    "            return t.split(\":\")[1].strip()\n",
    "        \n",
    "    return ''\n",
    "    \n",
    "split_tags_in_columns(meta['Tags'][1], 'Vertical')"
   ]
  },
  {
   "cell_type": "code",
   "execution_count": 28,
   "metadata": {},
   "outputs": [],
   "source": [
    "for tt in get_tags_types(meta['Tags']):\n",
    "    meta[tt] = meta['Tags'].apply(lambda x: split_tags_in_columns(x, tt))"
   ]
  },
  {
   "cell_type": "code",
   "execution_count": 29,
   "metadata": {},
   "outputs": [
    {
     "data": {
      "text/html": [
       "<div>\n",
       "<style scoped>\n",
       "    .dataframe tbody tr th:only-of-type {\n",
       "        vertical-align: middle;\n",
       "    }\n",
       "\n",
       "    .dataframe tbody tr th {\n",
       "        vertical-align: top;\n",
       "    }\n",
       "\n",
       "    .dataframe thead th {\n",
       "        text-align: right;\n",
       "    }\n",
       "</style>\n",
       "<table border=\"1\" class=\"dataframe\">\n",
       "  <thead>\n",
       "    <tr style=\"text-align: right;\">\n",
       "      <th></th>\n",
       "      <th>ID</th>\n",
       "      <th>Titolo</th>\n",
       "      <th>Trend</th>\n",
       "      <th>Tags</th>\n",
       "      <th>Tech</th>\n",
       "      <th>Company</th>\n",
       "      <th>Vertical</th>\n",
       "      <th>Application</th>\n",
       "      <th>Location</th>\n",
       "      <th>Tag</th>\n",
       "    </tr>\n",
       "  </thead>\n",
       "  <tbody>\n",
       "    <tr>\n",
       "      <th>0</th>\n",
       "      <td>c812e0a3418d624ae60df3ec9e19d184</td>\n",
       "      <td>pandemic drone spot infected</td>\n",
       "      <td>Robotics and Human/Machine Hybridization</td>\n",
       "      <td>Tech: Drones</td>\n",
       "      <td>Drones</td>\n",
       "      <td></td>\n",
       "      <td></td>\n",
       "      <td></td>\n",
       "      <td></td>\n",
       "      <td></td>\n",
       "    </tr>\n",
       "    <tr>\n",
       "      <th>1</th>\n",
       "      <td>0e2ef6bd7619374e0531d1551ab2141e</td>\n",
       "      <td>census data anonymous expected</td>\n",
       "      <td>Privacy and Security by design</td>\n",
       "      <td>Company: Adobe, Vertical: Advertising</td>\n",
       "      <td></td>\n",
       "      <td>Adobe</td>\n",
       "      <td>Advertising</td>\n",
       "      <td></td>\n",
       "      <td></td>\n",
       "      <td></td>\n",
       "    </tr>\n",
       "    <tr>\n",
       "      <th>2</th>\n",
       "      <td>8602d8791a1754506303dcfd9a7b79e3</td>\n",
       "      <td>common pandemic scams highlighted domain name ...</td>\n",
       "      <td>Cyber Defense and Fight against Fakes</td>\n",
       "      <td></td>\n",
       "      <td></td>\n",
       "      <td></td>\n",
       "      <td></td>\n",
       "      <td></td>\n",
       "      <td></td>\n",
       "      <td></td>\n",
       "    </tr>\n",
       "    <tr>\n",
       "      <th>3</th>\n",
       "      <td>2157ac6d12e063b6a38c5c0491e0b322</td>\n",
       "      <td>questions rapidly unfolding future smart fabrics</td>\n",
       "      <td>Workforce Transformation</td>\n",
       "      <td>Tag: Future</td>\n",
       "      <td></td>\n",
       "      <td></td>\n",
       "      <td></td>\n",
       "      <td></td>\n",
       "      <td></td>\n",
       "      <td>Future</td>\n",
       "    </tr>\n",
       "    <tr>\n",
       "      <th>4</th>\n",
       "      <td>89390733d3f9e1f30bae53de5e2d8a04</td>\n",
       "      <td>types robots playing vital roles covid</td>\n",
       "      <td>New Normal after COVID-19</td>\n",
       "      <td></td>\n",
       "      <td></td>\n",
       "      <td></td>\n",
       "      <td></td>\n",
       "      <td></td>\n",
       "      <td></td>\n",
       "      <td></td>\n",
       "    </tr>\n",
       "  </tbody>\n",
       "</table>\n",
       "</div>"
      ],
      "text/plain": [
       "                                 ID  \\\n",
       "0  c812e0a3418d624ae60df3ec9e19d184   \n",
       "1  0e2ef6bd7619374e0531d1551ab2141e   \n",
       "2  8602d8791a1754506303dcfd9a7b79e3   \n",
       "3  2157ac6d12e063b6a38c5c0491e0b322   \n",
       "4  89390733d3f9e1f30bae53de5e2d8a04   \n",
       "\n",
       "                                              Titolo  \\\n",
       "0                       pandemic drone spot infected   \n",
       "1                     census data anonymous expected   \n",
       "2  common pandemic scams highlighted domain name ...   \n",
       "3   questions rapidly unfolding future smart fabrics   \n",
       "4             types robots playing vital roles covid   \n",
       "\n",
       "                                      Trend  \\\n",
       "0  Robotics and Human/Machine Hybridization   \n",
       "1            Privacy and Security by design   \n",
       "2     Cyber Defense and Fight against Fakes   \n",
       "3                  Workforce Transformation   \n",
       "4                 New Normal after COVID-19   \n",
       "\n",
       "                                    Tags    Tech Company     Vertical  \\\n",
       "0                           Tech: Drones  Drones                        \n",
       "1  Company: Adobe, Vertical: Advertising           Adobe  Advertising   \n",
       "2                                                                       \n",
       "3                            Tag: Future                                \n",
       "4                                                                       \n",
       "\n",
       "  Application Location     Tag  \n",
       "0                               \n",
       "1                               \n",
       "2                               \n",
       "3                       Future  \n",
       "4                               "
      ]
     },
     "execution_count": 29,
     "metadata": {},
     "output_type": "execute_result"
    }
   ],
   "source": [
    "meta.head()"
   ]
  },
  {
   "cell_type": "code",
   "execution_count": 31,
   "metadata": {},
   "outputs": [],
   "source": [
    "meta.to_csv('2 - Articles With Tags V2.csv', sep=\";\")"
   ]
  },
  {
   "cell_type": "code",
   "execution_count": null,
   "metadata": {},
   "outputs": [],
   "source": []
  },
  {
   "cell_type": "code",
   "execution_count": null,
   "metadata": {},
   "outputs": [],
   "source": []
  }
 ],
 "metadata": {
  "kernelspec": {
   "display_name": "Python 3",
   "language": "python",
   "name": "python3"
  },
  "language_info": {
   "codemirror_mode": {
    "name": "ipython",
    "version": 3
   },
   "file_extension": ".py",
   "mimetype": "text/x-python",
   "name": "python",
   "nbconvert_exporter": "python",
   "pygments_lexer": "ipython3",
   "version": "3.7.7"
  }
 },
 "nbformat": 4,
 "nbformat_minor": 4
}
